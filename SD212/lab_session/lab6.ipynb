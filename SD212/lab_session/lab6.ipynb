{
 "cells": [
  {
   "cell_type": "markdown",
   "metadata": {},
   "source": [
    "# SD212: Graph mining\n",
    "## Lab 6: Clustering\n",
    "\n",
    "You will learn how to cluster the nodes of a graph and to estimate the quality of the clustering. "
   ]
  },
  {
   "cell_type": "markdown",
   "metadata": {},
   "source": [
    "You **must** be connected to Telecom ParisTech network!"
   ]
  },
  {
   "cell_type": "markdown",
   "metadata": {},
   "source": [
    "## Getting started"
   ]
  },
  {
   "cell_type": "code",
   "execution_count": 21,
   "metadata": {
    "ExecuteTime": {
     "end_time": "2018-06-15T13:15:20.700167Z",
     "start_time": "2018-06-15T13:15:20.696179Z"
    }
   },
   "outputs": [],
   "source": [
    "from connector import Connector"
   ]
  },
  {
   "cell_type": "code",
   "execution_count": 22,
   "metadata": {
    "ExecuteTime": {
     "end_time": "2018-06-15T13:15:20.949502Z",
     "start_time": "2018-06-15T13:15:20.946510Z"
    }
   },
   "outputs": [],
   "source": [
    "import warnings\n",
    "warnings.filterwarnings('ignore')"
   ]
  },
  {
   "cell_type": "code",
   "execution_count": 23,
   "metadata": {
    "ExecuteTime": {
     "end_time": "2018-06-15T13:15:21.172903Z",
     "start_time": "2018-06-15T13:15:21.168928Z"
    }
   },
   "outputs": [],
   "source": [
    "base_url = 'http://137.194.192.13:8234'\n",
    "lab_id = 'lab6'"
   ]
  },
  {
   "cell_type": "markdown",
   "metadata": {},
   "source": [
    "## To do\n",
    "\n",
    "* Enter your login and test it using question #0"
   ]
  },
  {
   "cell_type": "code",
   "execution_count": 24,
   "metadata": {
    "ExecuteTime": {
     "end_time": "2018-06-15T13:15:21.639682Z",
     "start_time": "2018-06-15T13:15:21.635668Z"
    }
   },
   "outputs": [],
   "source": [
    "# Enter your login (last name followed by first letter of first name)\n",
    "login = 'zhuf'"
   ]
  },
  {
   "cell_type": "code",
   "execution_count": 25,
   "metadata": {
    "ExecuteTime": {
     "end_time": "2018-06-15T13:15:21.870047Z",
     "start_time": "2018-06-15T13:15:21.865067Z"
    }
   },
   "outputs": [],
   "source": [
    "connector = Connector(base_url, lab_id, login)\n",
    "get_question = connector.get_question\n",
    "post_answer = connector.post_answer\n",
    "post_text = connector.post_text"
   ]
  },
  {
   "cell_type": "code",
   "execution_count": 26,
   "metadata": {
    "ExecuteTime": {
     "end_time": "2018-06-15T13:15:22.146303Z",
     "start_time": "2018-06-15T13:15:22.130344Z"
    }
   },
   "outputs": [
    {
     "name": "stdout",
     "output_type": "stream",
     "text": [
      "Welcome!\n"
     ]
    }
   ],
   "source": [
    "get_question(0)"
   ]
  },
  {
   "cell_type": "markdown",
   "metadata": {},
   "source": [
    "## Import"
   ]
  },
  {
   "cell_type": "code",
   "execution_count": 27,
   "metadata": {
    "ExecuteTime": {
     "end_time": "2018-06-15T13:15:22.648977Z",
     "start_time": "2018-06-15T13:15:22.644996Z"
    }
   },
   "outputs": [],
   "source": [
    "import networkx as nx"
   ]
  },
  {
   "cell_type": "markdown",
   "metadata": {},
   "source": [
    "The documentation is available [here](https://networkx.readthedocs.io/en/stable/)."
   ]
  },
  {
   "cell_type": "code",
   "execution_count": 28,
   "metadata": {
    "ExecuteTime": {
     "end_time": "2018-06-15T13:15:23.155626Z",
     "start_time": "2018-06-15T13:15:23.143655Z"
    }
   },
   "outputs": [
    {
     "name": "stdout",
     "output_type": "stream",
     "text": [
      "Populating the interactive namespace from numpy and matplotlib\n"
     ]
    }
   ],
   "source": [
    "%pylab notebook"
   ]
  },
  {
   "cell_type": "code",
   "execution_count": 29,
   "metadata": {
    "ExecuteTime": {
     "end_time": "2018-06-15T13:15:23.406986Z",
     "start_time": "2018-06-15T13:15:23.403958Z"
    }
   },
   "outputs": [],
   "source": [
    "import numpy as np"
   ]
  },
  {
   "cell_type": "code",
   "execution_count": 30,
   "metadata": {
    "ExecuteTime": {
     "end_time": "2018-06-15T13:15:23.647307Z",
     "start_time": "2018-06-15T13:15:23.644316Z"
    }
   },
   "outputs": [],
   "source": [
    "colors = ['b','g','r','c','m','gold','orange','gray','k','w']"
   ]
  },
  {
   "cell_type": "markdown",
   "metadata": {},
   "source": [
    "## 1. Modularity\n",
    "\n",
    "Consider an undirected, unweighted graph of $n$ nodes and $m$ edges with adjacency matrix $A$, without self-loops.\n",
    "\n",
    "The modularity of clustering $C$ is defined by:\n",
    "$$\n",
    "Q(C) = \\frac 1 {2m} \\sum_{i,j\\in V} \\left(A_{ij} - \\frac {d_id_j}{2m}\\right) \\delta_{C(i),C(j)}\n",
    "$$\n",
    "where $d_i = \\sum_j A_{ij}$ is the degree of node $i$."
   ]
  },
  {
   "cell_type": "markdown",
   "metadata": {},
   "source": [
    "## Toy graph\n",
    "\n",
    "Consider the following graph:"
   ]
  },
  {
   "cell_type": "code",
   "execution_count": 125,
   "metadata": {
    "ExecuteTime": {
     "end_time": "2018-06-15T14:04:18.751737Z",
     "start_time": "2018-06-15T14:04:18.743760Z"
    }
   },
   "outputs": [],
   "source": [
    "edgelist = [(7,5),(5,3),(3,7),(4,5),(8,6),(7,4),(1,6),(9,8),(7,8),(6,1),(2,9),(8,2),(1,9)]\n",
    "G = nx.Graph()\n",
    "G.add_edges_from(edgelist)"
   ]
  },
  {
   "cell_type": "markdown",
   "metadata": {},
   "source": [
    "Consider the following clustering:"
   ]
  },
  {
   "cell_type": "code",
   "execution_count": 126,
   "metadata": {
    "ExecuteTime": {
     "end_time": "2018-06-15T14:04:20.560466Z",
     "start_time": "2018-06-15T14:04:20.556480Z"
    }
   },
   "outputs": [],
   "source": [
    "C = {1: 0, 2: 0, 6: 0, 8: 0, 9: 0, 3: 1, 4: 1, 5: 1, 7: 1}"
   ]
  },
  {
   "cell_type": "code",
   "execution_count": 127,
   "metadata": {
    "ExecuteTime": {
     "end_time": "2018-06-15T14:04:20.919551Z",
     "start_time": "2018-06-15T14:04:20.849695Z"
    },
    "scrolled": false
   },
   "outputs": [
    {
     "data": {
      "application/javascript": [
       "/* Put everything inside the global mpl namespace */\n",
       "window.mpl = {};\n",
       "\n",
       "\n",
       "mpl.get_websocket_type = function() {\n",
       "    if (typeof(WebSocket) !== 'undefined') {\n",
       "        return WebSocket;\n",
       "    } else if (typeof(MozWebSocket) !== 'undefined') {\n",
       "        return MozWebSocket;\n",
       "    } else {\n",
       "        alert('Your browser does not have WebSocket support.' +\n",
       "              'Please try Chrome, Safari or Firefox ≥ 6. ' +\n",
       "              'Firefox 4 and 5 are also supported but you ' +\n",
       "              'have to enable WebSockets in about:config.');\n",
       "    };\n",
       "}\n",
       "\n",
       "mpl.figure = function(figure_id, websocket, ondownload, parent_element) {\n",
       "    this.id = figure_id;\n",
       "\n",
       "    this.ws = websocket;\n",
       "\n",
       "    this.supports_binary = (this.ws.binaryType != undefined);\n",
       "\n",
       "    if (!this.supports_binary) {\n",
       "        var warnings = document.getElementById(\"mpl-warnings\");\n",
       "        if (warnings) {\n",
       "            warnings.style.display = 'block';\n",
       "            warnings.textContent = (\n",
       "                \"This browser does not support binary websocket messages. \" +\n",
       "                    \"Performance may be slow.\");\n",
       "        }\n",
       "    }\n",
       "\n",
       "    this.imageObj = new Image();\n",
       "\n",
       "    this.context = undefined;\n",
       "    this.message = undefined;\n",
       "    this.canvas = undefined;\n",
       "    this.rubberband_canvas = undefined;\n",
       "    this.rubberband_context = undefined;\n",
       "    this.format_dropdown = undefined;\n",
       "\n",
       "    this.image_mode = 'full';\n",
       "\n",
       "    this.root = $('<div/>');\n",
       "    this._root_extra_style(this.root)\n",
       "    this.root.attr('style', 'display: inline-block');\n",
       "\n",
       "    $(parent_element).append(this.root);\n",
       "\n",
       "    this._init_header(this);\n",
       "    this._init_canvas(this);\n",
       "    this._init_toolbar(this);\n",
       "\n",
       "    var fig = this;\n",
       "\n",
       "    this.waiting = false;\n",
       "\n",
       "    this.ws.onopen =  function () {\n",
       "            fig.send_message(\"supports_binary\", {value: fig.supports_binary});\n",
       "            fig.send_message(\"send_image_mode\", {});\n",
       "            if (mpl.ratio != 1) {\n",
       "                fig.send_message(\"set_dpi_ratio\", {'dpi_ratio': mpl.ratio});\n",
       "            }\n",
       "            fig.send_message(\"refresh\", {});\n",
       "        }\n",
       "\n",
       "    this.imageObj.onload = function() {\n",
       "            if (fig.image_mode == 'full') {\n",
       "                // Full images could contain transparency (where diff images\n",
       "                // almost always do), so we need to clear the canvas so that\n",
       "                // there is no ghosting.\n",
       "                fig.context.clearRect(0, 0, fig.canvas.width, fig.canvas.height);\n",
       "            }\n",
       "            fig.context.drawImage(fig.imageObj, 0, 0);\n",
       "        };\n",
       "\n",
       "    this.imageObj.onunload = function() {\n",
       "        fig.ws.close();\n",
       "    }\n",
       "\n",
       "    this.ws.onmessage = this._make_on_message_function(this);\n",
       "\n",
       "    this.ondownload = ondownload;\n",
       "}\n",
       "\n",
       "mpl.figure.prototype._init_header = function() {\n",
       "    var titlebar = $(\n",
       "        '<div class=\"ui-dialog-titlebar ui-widget-header ui-corner-all ' +\n",
       "        'ui-helper-clearfix\"/>');\n",
       "    var titletext = $(\n",
       "        '<div class=\"ui-dialog-title\" style=\"width: 100%; ' +\n",
       "        'text-align: center; padding: 3px;\"/>');\n",
       "    titlebar.append(titletext)\n",
       "    this.root.append(titlebar);\n",
       "    this.header = titletext[0];\n",
       "}\n",
       "\n",
       "\n",
       "\n",
       "mpl.figure.prototype._canvas_extra_style = function(canvas_div) {\n",
       "\n",
       "}\n",
       "\n",
       "\n",
       "mpl.figure.prototype._root_extra_style = function(canvas_div) {\n",
       "\n",
       "}\n",
       "\n",
       "mpl.figure.prototype._init_canvas = function() {\n",
       "    var fig = this;\n",
       "\n",
       "    var canvas_div = $('<div/>');\n",
       "\n",
       "    canvas_div.attr('style', 'position: relative; clear: both; outline: 0');\n",
       "\n",
       "    function canvas_keyboard_event(event) {\n",
       "        return fig.key_event(event, event['data']);\n",
       "    }\n",
       "\n",
       "    canvas_div.keydown('key_press', canvas_keyboard_event);\n",
       "    canvas_div.keyup('key_release', canvas_keyboard_event);\n",
       "    this.canvas_div = canvas_div\n",
       "    this._canvas_extra_style(canvas_div)\n",
       "    this.root.append(canvas_div);\n",
       "\n",
       "    var canvas = $('<canvas/>');\n",
       "    canvas.addClass('mpl-canvas');\n",
       "    canvas.attr('style', \"left: 0; top: 0; z-index: 0; outline: 0\")\n",
       "\n",
       "    this.canvas = canvas[0];\n",
       "    this.context = canvas[0].getContext(\"2d\");\n",
       "\n",
       "    var backingStore = this.context.backingStorePixelRatio ||\n",
       "\tthis.context.webkitBackingStorePixelRatio ||\n",
       "\tthis.context.mozBackingStorePixelRatio ||\n",
       "\tthis.context.msBackingStorePixelRatio ||\n",
       "\tthis.context.oBackingStorePixelRatio ||\n",
       "\tthis.context.backingStorePixelRatio || 1;\n",
       "\n",
       "    mpl.ratio = (window.devicePixelRatio || 1) / backingStore;\n",
       "\n",
       "    var rubberband = $('<canvas/>');\n",
       "    rubberband.attr('style', \"position: absolute; left: 0; top: 0; z-index: 1;\")\n",
       "\n",
       "    var pass_mouse_events = true;\n",
       "\n",
       "    canvas_div.resizable({\n",
       "        start: function(event, ui) {\n",
       "            pass_mouse_events = false;\n",
       "        },\n",
       "        resize: function(event, ui) {\n",
       "            fig.request_resize(ui.size.width, ui.size.height);\n",
       "        },\n",
       "        stop: function(event, ui) {\n",
       "            pass_mouse_events = true;\n",
       "            fig.request_resize(ui.size.width, ui.size.height);\n",
       "        },\n",
       "    });\n",
       "\n",
       "    function mouse_event_fn(event) {\n",
       "        if (pass_mouse_events)\n",
       "            return fig.mouse_event(event, event['data']);\n",
       "    }\n",
       "\n",
       "    rubberband.mousedown('button_press', mouse_event_fn);\n",
       "    rubberband.mouseup('button_release', mouse_event_fn);\n",
       "    // Throttle sequential mouse events to 1 every 20ms.\n",
       "    rubberband.mousemove('motion_notify', mouse_event_fn);\n",
       "\n",
       "    rubberband.mouseenter('figure_enter', mouse_event_fn);\n",
       "    rubberband.mouseleave('figure_leave', mouse_event_fn);\n",
       "\n",
       "    canvas_div.on(\"wheel\", function (event) {\n",
       "        event = event.originalEvent;\n",
       "        event['data'] = 'scroll'\n",
       "        if (event.deltaY < 0) {\n",
       "            event.step = 1;\n",
       "        } else {\n",
       "            event.step = -1;\n",
       "        }\n",
       "        mouse_event_fn(event);\n",
       "    });\n",
       "\n",
       "    canvas_div.append(canvas);\n",
       "    canvas_div.append(rubberband);\n",
       "\n",
       "    this.rubberband = rubberband;\n",
       "    this.rubberband_canvas = rubberband[0];\n",
       "    this.rubberband_context = rubberband[0].getContext(\"2d\");\n",
       "    this.rubberband_context.strokeStyle = \"#000000\";\n",
       "\n",
       "    this._resize_canvas = function(width, height) {\n",
       "        // Keep the size of the canvas, canvas container, and rubber band\n",
       "        // canvas in synch.\n",
       "        canvas_div.css('width', width)\n",
       "        canvas_div.css('height', height)\n",
       "\n",
       "        canvas.attr('width', width * mpl.ratio);\n",
       "        canvas.attr('height', height * mpl.ratio);\n",
       "        canvas.attr('style', 'width: ' + width + 'px; height: ' + height + 'px;');\n",
       "\n",
       "        rubberband.attr('width', width);\n",
       "        rubberband.attr('height', height);\n",
       "    }\n",
       "\n",
       "    // Set the figure to an initial 600x600px, this will subsequently be updated\n",
       "    // upon first draw.\n",
       "    this._resize_canvas(600, 600);\n",
       "\n",
       "    // Disable right mouse context menu.\n",
       "    $(this.rubberband_canvas).bind(\"contextmenu\",function(e){\n",
       "        return false;\n",
       "    });\n",
       "\n",
       "    function set_focus () {\n",
       "        canvas.focus();\n",
       "        canvas_div.focus();\n",
       "    }\n",
       "\n",
       "    window.setTimeout(set_focus, 100);\n",
       "}\n",
       "\n",
       "mpl.figure.prototype._init_toolbar = function() {\n",
       "    var fig = this;\n",
       "\n",
       "    var nav_element = $('<div/>')\n",
       "    nav_element.attr('style', 'width: 100%');\n",
       "    this.root.append(nav_element);\n",
       "\n",
       "    // Define a callback function for later on.\n",
       "    function toolbar_event(event) {\n",
       "        return fig.toolbar_button_onclick(event['data']);\n",
       "    }\n",
       "    function toolbar_mouse_event(event) {\n",
       "        return fig.toolbar_button_onmouseover(event['data']);\n",
       "    }\n",
       "\n",
       "    for(var toolbar_ind in mpl.toolbar_items) {\n",
       "        var name = mpl.toolbar_items[toolbar_ind][0];\n",
       "        var tooltip = mpl.toolbar_items[toolbar_ind][1];\n",
       "        var image = mpl.toolbar_items[toolbar_ind][2];\n",
       "        var method_name = mpl.toolbar_items[toolbar_ind][3];\n",
       "\n",
       "        if (!name) {\n",
       "            // put a spacer in here.\n",
       "            continue;\n",
       "        }\n",
       "        var button = $('<button/>');\n",
       "        button.addClass('ui-button ui-widget ui-state-default ui-corner-all ' +\n",
       "                        'ui-button-icon-only');\n",
       "        button.attr('role', 'button');\n",
       "        button.attr('aria-disabled', 'false');\n",
       "        button.click(method_name, toolbar_event);\n",
       "        button.mouseover(tooltip, toolbar_mouse_event);\n",
       "\n",
       "        var icon_img = $('<span/>');\n",
       "        icon_img.addClass('ui-button-icon-primary ui-icon');\n",
       "        icon_img.addClass(image);\n",
       "        icon_img.addClass('ui-corner-all');\n",
       "\n",
       "        var tooltip_span = $('<span/>');\n",
       "        tooltip_span.addClass('ui-button-text');\n",
       "        tooltip_span.html(tooltip);\n",
       "\n",
       "        button.append(icon_img);\n",
       "        button.append(tooltip_span);\n",
       "\n",
       "        nav_element.append(button);\n",
       "    }\n",
       "\n",
       "    var fmt_picker_span = $('<span/>');\n",
       "\n",
       "    var fmt_picker = $('<select/>');\n",
       "    fmt_picker.addClass('mpl-toolbar-option ui-widget ui-widget-content');\n",
       "    fmt_picker_span.append(fmt_picker);\n",
       "    nav_element.append(fmt_picker_span);\n",
       "    this.format_dropdown = fmt_picker[0];\n",
       "\n",
       "    for (var ind in mpl.extensions) {\n",
       "        var fmt = mpl.extensions[ind];\n",
       "        var option = $(\n",
       "            '<option/>', {selected: fmt === mpl.default_extension}).html(fmt);\n",
       "        fmt_picker.append(option)\n",
       "    }\n",
       "\n",
       "    // Add hover states to the ui-buttons\n",
       "    $( \".ui-button\" ).hover(\n",
       "        function() { $(this).addClass(\"ui-state-hover\");},\n",
       "        function() { $(this).removeClass(\"ui-state-hover\");}\n",
       "    );\n",
       "\n",
       "    var status_bar = $('<span class=\"mpl-message\"/>');\n",
       "    nav_element.append(status_bar);\n",
       "    this.message = status_bar[0];\n",
       "}\n",
       "\n",
       "mpl.figure.prototype.request_resize = function(x_pixels, y_pixels) {\n",
       "    // Request matplotlib to resize the figure. Matplotlib will then trigger a resize in the client,\n",
       "    // which will in turn request a refresh of the image.\n",
       "    this.send_message('resize', {'width': x_pixels, 'height': y_pixels});\n",
       "}\n",
       "\n",
       "mpl.figure.prototype.send_message = function(type, properties) {\n",
       "    properties['type'] = type;\n",
       "    properties['figure_id'] = this.id;\n",
       "    this.ws.send(JSON.stringify(properties));\n",
       "}\n",
       "\n",
       "mpl.figure.prototype.send_draw_message = function() {\n",
       "    if (!this.waiting) {\n",
       "        this.waiting = true;\n",
       "        this.ws.send(JSON.stringify({type: \"draw\", figure_id: this.id}));\n",
       "    }\n",
       "}\n",
       "\n",
       "\n",
       "mpl.figure.prototype.handle_save = function(fig, msg) {\n",
       "    var format_dropdown = fig.format_dropdown;\n",
       "    var format = format_dropdown.options[format_dropdown.selectedIndex].value;\n",
       "    fig.ondownload(fig, format);\n",
       "}\n",
       "\n",
       "\n",
       "mpl.figure.prototype.handle_resize = function(fig, msg) {\n",
       "    var size = msg['size'];\n",
       "    if (size[0] != fig.canvas.width || size[1] != fig.canvas.height) {\n",
       "        fig._resize_canvas(size[0], size[1]);\n",
       "        fig.send_message(\"refresh\", {});\n",
       "    };\n",
       "}\n",
       "\n",
       "mpl.figure.prototype.handle_rubberband = function(fig, msg) {\n",
       "    var x0 = msg['x0'] / mpl.ratio;\n",
       "    var y0 = (fig.canvas.height - msg['y0']) / mpl.ratio;\n",
       "    var x1 = msg['x1'] / mpl.ratio;\n",
       "    var y1 = (fig.canvas.height - msg['y1']) / mpl.ratio;\n",
       "    x0 = Math.floor(x0) + 0.5;\n",
       "    y0 = Math.floor(y0) + 0.5;\n",
       "    x1 = Math.floor(x1) + 0.5;\n",
       "    y1 = Math.floor(y1) + 0.5;\n",
       "    var min_x = Math.min(x0, x1);\n",
       "    var min_y = Math.min(y0, y1);\n",
       "    var width = Math.abs(x1 - x0);\n",
       "    var height = Math.abs(y1 - y0);\n",
       "\n",
       "    fig.rubberband_context.clearRect(\n",
       "        0, 0, fig.canvas.width, fig.canvas.height);\n",
       "\n",
       "    fig.rubberband_context.strokeRect(min_x, min_y, width, height);\n",
       "}\n",
       "\n",
       "mpl.figure.prototype.handle_figure_label = function(fig, msg) {\n",
       "    // Updates the figure title.\n",
       "    fig.header.textContent = msg['label'];\n",
       "}\n",
       "\n",
       "mpl.figure.prototype.handle_cursor = function(fig, msg) {\n",
       "    var cursor = msg['cursor'];\n",
       "    switch(cursor)\n",
       "    {\n",
       "    case 0:\n",
       "        cursor = 'pointer';\n",
       "        break;\n",
       "    case 1:\n",
       "        cursor = 'default';\n",
       "        break;\n",
       "    case 2:\n",
       "        cursor = 'crosshair';\n",
       "        break;\n",
       "    case 3:\n",
       "        cursor = 'move';\n",
       "        break;\n",
       "    }\n",
       "    fig.rubberband_canvas.style.cursor = cursor;\n",
       "}\n",
       "\n",
       "mpl.figure.prototype.handle_message = function(fig, msg) {\n",
       "    fig.message.textContent = msg['message'];\n",
       "}\n",
       "\n",
       "mpl.figure.prototype.handle_draw = function(fig, msg) {\n",
       "    // Request the server to send over a new figure.\n",
       "    fig.send_draw_message();\n",
       "}\n",
       "\n",
       "mpl.figure.prototype.handle_image_mode = function(fig, msg) {\n",
       "    fig.image_mode = msg['mode'];\n",
       "}\n",
       "\n",
       "mpl.figure.prototype.updated_canvas_event = function() {\n",
       "    // Called whenever the canvas gets updated.\n",
       "    this.send_message(\"ack\", {});\n",
       "}\n",
       "\n",
       "// A function to construct a web socket function for onmessage handling.\n",
       "// Called in the figure constructor.\n",
       "mpl.figure.prototype._make_on_message_function = function(fig) {\n",
       "    return function socket_on_message(evt) {\n",
       "        if (evt.data instanceof Blob) {\n",
       "            /* FIXME: We get \"Resource interpreted as Image but\n",
       "             * transferred with MIME type text/plain:\" errors on\n",
       "             * Chrome.  But how to set the MIME type?  It doesn't seem\n",
       "             * to be part of the websocket stream */\n",
       "            evt.data.type = \"image/png\";\n",
       "\n",
       "            /* Free the memory for the previous frames */\n",
       "            if (fig.imageObj.src) {\n",
       "                (window.URL || window.webkitURL).revokeObjectURL(\n",
       "                    fig.imageObj.src);\n",
       "            }\n",
       "\n",
       "            fig.imageObj.src = (window.URL || window.webkitURL).createObjectURL(\n",
       "                evt.data);\n",
       "            fig.updated_canvas_event();\n",
       "            fig.waiting = false;\n",
       "            return;\n",
       "        }\n",
       "        else if (typeof evt.data === 'string' && evt.data.slice(0, 21) == \"data:image/png;base64\") {\n",
       "            fig.imageObj.src = evt.data;\n",
       "            fig.updated_canvas_event();\n",
       "            fig.waiting = false;\n",
       "            return;\n",
       "        }\n",
       "\n",
       "        var msg = JSON.parse(evt.data);\n",
       "        var msg_type = msg['type'];\n",
       "\n",
       "        // Call the  \"handle_{type}\" callback, which takes\n",
       "        // the figure and JSON message as its only arguments.\n",
       "        try {\n",
       "            var callback = fig[\"handle_\" + msg_type];\n",
       "        } catch (e) {\n",
       "            console.log(\"No handler for the '\" + msg_type + \"' message type: \", msg);\n",
       "            return;\n",
       "        }\n",
       "\n",
       "        if (callback) {\n",
       "            try {\n",
       "                // console.log(\"Handling '\" + msg_type + \"' message: \", msg);\n",
       "                callback(fig, msg);\n",
       "            } catch (e) {\n",
       "                console.log(\"Exception inside the 'handler_\" + msg_type + \"' callback:\", e, e.stack, msg);\n",
       "            }\n",
       "        }\n",
       "    };\n",
       "}\n",
       "\n",
       "// from http://stackoverflow.com/questions/1114465/getting-mouse-location-in-canvas\n",
       "mpl.findpos = function(e) {\n",
       "    //this section is from http://www.quirksmode.org/js/events_properties.html\n",
       "    var targ;\n",
       "    if (!e)\n",
       "        e = window.event;\n",
       "    if (e.target)\n",
       "        targ = e.target;\n",
       "    else if (e.srcElement)\n",
       "        targ = e.srcElement;\n",
       "    if (targ.nodeType == 3) // defeat Safari bug\n",
       "        targ = targ.parentNode;\n",
       "\n",
       "    // jQuery normalizes the pageX and pageY\n",
       "    // pageX,Y are the mouse positions relative to the document\n",
       "    // offset() returns the position of the element relative to the document\n",
       "    var x = e.pageX - $(targ).offset().left;\n",
       "    var y = e.pageY - $(targ).offset().top;\n",
       "\n",
       "    return {\"x\": x, \"y\": y};\n",
       "};\n",
       "\n",
       "/*\n",
       " * return a copy of an object with only non-object keys\n",
       " * we need this to avoid circular references\n",
       " * http://stackoverflow.com/a/24161582/3208463\n",
       " */\n",
       "function simpleKeys (original) {\n",
       "  return Object.keys(original).reduce(function (obj, key) {\n",
       "    if (typeof original[key] !== 'object')\n",
       "        obj[key] = original[key]\n",
       "    return obj;\n",
       "  }, {});\n",
       "}\n",
       "\n",
       "mpl.figure.prototype.mouse_event = function(event, name) {\n",
       "    var canvas_pos = mpl.findpos(event)\n",
       "\n",
       "    if (name === 'button_press')\n",
       "    {\n",
       "        this.canvas.focus();\n",
       "        this.canvas_div.focus();\n",
       "    }\n",
       "\n",
       "    var x = canvas_pos.x * mpl.ratio;\n",
       "    var y = canvas_pos.y * mpl.ratio;\n",
       "\n",
       "    this.send_message(name, {x: x, y: y, button: event.button,\n",
       "                             step: event.step,\n",
       "                             guiEvent: simpleKeys(event)});\n",
       "\n",
       "    /* This prevents the web browser from automatically changing to\n",
       "     * the text insertion cursor when the button is pressed.  We want\n",
       "     * to control all of the cursor setting manually through the\n",
       "     * 'cursor' event from matplotlib */\n",
       "    event.preventDefault();\n",
       "    return false;\n",
       "}\n",
       "\n",
       "mpl.figure.prototype._key_event_extra = function(event, name) {\n",
       "    // Handle any extra behaviour associated with a key event\n",
       "}\n",
       "\n",
       "mpl.figure.prototype.key_event = function(event, name) {\n",
       "\n",
       "    // Prevent repeat events\n",
       "    if (name == 'key_press')\n",
       "    {\n",
       "        if (event.which === this._key)\n",
       "            return;\n",
       "        else\n",
       "            this._key = event.which;\n",
       "    }\n",
       "    if (name == 'key_release')\n",
       "        this._key = null;\n",
       "\n",
       "    var value = '';\n",
       "    if (event.ctrlKey && event.which != 17)\n",
       "        value += \"ctrl+\";\n",
       "    if (event.altKey && event.which != 18)\n",
       "        value += \"alt+\";\n",
       "    if (event.shiftKey && event.which != 16)\n",
       "        value += \"shift+\";\n",
       "\n",
       "    value += 'k';\n",
       "    value += event.which.toString();\n",
       "\n",
       "    this._key_event_extra(event, name);\n",
       "\n",
       "    this.send_message(name, {key: value,\n",
       "                             guiEvent: simpleKeys(event)});\n",
       "    return false;\n",
       "}\n",
       "\n",
       "mpl.figure.prototype.toolbar_button_onclick = function(name) {\n",
       "    if (name == 'download') {\n",
       "        this.handle_save(this, null);\n",
       "    } else {\n",
       "        this.send_message(\"toolbar_button\", {name: name});\n",
       "    }\n",
       "};\n",
       "\n",
       "mpl.figure.prototype.toolbar_button_onmouseover = function(tooltip) {\n",
       "    this.message.textContent = tooltip;\n",
       "};\n",
       "mpl.toolbar_items = [[\"Home\", \"Reset original view\", \"fa fa-home icon-home\", \"home\"], [\"Back\", \"Back to  previous view\", \"fa fa-arrow-left icon-arrow-left\", \"back\"], [\"Forward\", \"Forward to next view\", \"fa fa-arrow-right icon-arrow-right\", \"forward\"], [\"\", \"\", \"\", \"\"], [\"Pan\", \"Pan axes with left mouse, zoom with right\", \"fa fa-arrows icon-move\", \"pan\"], [\"Zoom\", \"Zoom to rectangle\", \"fa fa-square-o icon-check-empty\", \"zoom\"], [\"\", \"\", \"\", \"\"], [\"Download\", \"Download plot\", \"fa fa-floppy-o icon-save\", \"download\"]];\n",
       "\n",
       "mpl.extensions = [\"eps\", \"pdf\", \"png\", \"ps\", \"raw\", \"svg\"];\n",
       "\n",
       "mpl.default_extension = \"png\";var comm_websocket_adapter = function(comm) {\n",
       "    // Create a \"websocket\"-like object which calls the given IPython comm\n",
       "    // object with the appropriate methods. Currently this is a non binary\n",
       "    // socket, so there is still some room for performance tuning.\n",
       "    var ws = {};\n",
       "\n",
       "    ws.close = function() {\n",
       "        comm.close()\n",
       "    };\n",
       "    ws.send = function(m) {\n",
       "        //console.log('sending', m);\n",
       "        comm.send(m);\n",
       "    };\n",
       "    // Register the callback with on_msg.\n",
       "    comm.on_msg(function(msg) {\n",
       "        //console.log('receiving', msg['content']['data'], msg);\n",
       "        // Pass the mpl event to the overriden (by mpl) onmessage function.\n",
       "        ws.onmessage(msg['content']['data'])\n",
       "    });\n",
       "    return ws;\n",
       "}\n",
       "\n",
       "mpl.mpl_figure_comm = function(comm, msg) {\n",
       "    // This is the function which gets called when the mpl process\n",
       "    // starts-up an IPython Comm through the \"matplotlib\" channel.\n",
       "\n",
       "    var id = msg.content.data.id;\n",
       "    // Get hold of the div created by the display call when the Comm\n",
       "    // socket was opened in Python.\n",
       "    var element = $(\"#\" + id);\n",
       "    var ws_proxy = comm_websocket_adapter(comm)\n",
       "\n",
       "    function ondownload(figure, format) {\n",
       "        window.open(figure.imageObj.src);\n",
       "    }\n",
       "\n",
       "    var fig = new mpl.figure(id, ws_proxy,\n",
       "                           ondownload,\n",
       "                           element.get(0));\n",
       "\n",
       "    // Call onopen now - mpl needs it, as it is assuming we've passed it a real\n",
       "    // web socket which is closed, not our websocket->open comm proxy.\n",
       "    ws_proxy.onopen();\n",
       "\n",
       "    fig.parent_element = element.get(0);\n",
       "    fig.cell_info = mpl.find_output_cell(\"<div id='\" + id + \"'></div>\");\n",
       "    if (!fig.cell_info) {\n",
       "        console.error(\"Failed to find cell for figure\", id, fig);\n",
       "        return;\n",
       "    }\n",
       "\n",
       "    var output_index = fig.cell_info[2]\n",
       "    var cell = fig.cell_info[0];\n",
       "\n",
       "};\n",
       "\n",
       "mpl.figure.prototype.handle_close = function(fig, msg) {\n",
       "    var width = fig.canvas.width/mpl.ratio\n",
       "    fig.root.unbind('remove')\n",
       "\n",
       "    // Update the output cell to use the data from the current canvas.\n",
       "    fig.push_to_output();\n",
       "    var dataURL = fig.canvas.toDataURL();\n",
       "    // Re-enable the keyboard manager in IPython - without this line, in FF,\n",
       "    // the notebook keyboard shortcuts fail.\n",
       "    IPython.keyboard_manager.enable()\n",
       "    $(fig.parent_element).html('<img src=\"' + dataURL + '\" width=\"' + width + '\">');\n",
       "    fig.close_ws(fig, msg);\n",
       "}\n",
       "\n",
       "mpl.figure.prototype.close_ws = function(fig, msg){\n",
       "    fig.send_message('closing', msg);\n",
       "    // fig.ws.close()\n",
       "}\n",
       "\n",
       "mpl.figure.prototype.push_to_output = function(remove_interactive) {\n",
       "    // Turn the data on the canvas into data in the output cell.\n",
       "    var width = this.canvas.width/mpl.ratio\n",
       "    var dataURL = this.canvas.toDataURL();\n",
       "    this.cell_info[1]['text/html'] = '<img src=\"' + dataURL + '\" width=\"' + width + '\">';\n",
       "}\n",
       "\n",
       "mpl.figure.prototype.updated_canvas_event = function() {\n",
       "    // Tell IPython that the notebook contents must change.\n",
       "    IPython.notebook.set_dirty(true);\n",
       "    this.send_message(\"ack\", {});\n",
       "    var fig = this;\n",
       "    // Wait a second, then push the new image to the DOM so\n",
       "    // that it is saved nicely (might be nice to debounce this).\n",
       "    setTimeout(function () { fig.push_to_output() }, 1000);\n",
       "}\n",
       "\n",
       "mpl.figure.prototype._init_toolbar = function() {\n",
       "    var fig = this;\n",
       "\n",
       "    var nav_element = $('<div/>')\n",
       "    nav_element.attr('style', 'width: 100%');\n",
       "    this.root.append(nav_element);\n",
       "\n",
       "    // Define a callback function for later on.\n",
       "    function toolbar_event(event) {\n",
       "        return fig.toolbar_button_onclick(event['data']);\n",
       "    }\n",
       "    function toolbar_mouse_event(event) {\n",
       "        return fig.toolbar_button_onmouseover(event['data']);\n",
       "    }\n",
       "\n",
       "    for(var toolbar_ind in mpl.toolbar_items){\n",
       "        var name = mpl.toolbar_items[toolbar_ind][0];\n",
       "        var tooltip = mpl.toolbar_items[toolbar_ind][1];\n",
       "        var image = mpl.toolbar_items[toolbar_ind][2];\n",
       "        var method_name = mpl.toolbar_items[toolbar_ind][3];\n",
       "\n",
       "        if (!name) { continue; };\n",
       "\n",
       "        var button = $('<button class=\"btn btn-default\" href=\"#\" title=\"' + name + '\"><i class=\"fa ' + image + ' fa-lg\"></i></button>');\n",
       "        button.click(method_name, toolbar_event);\n",
       "        button.mouseover(tooltip, toolbar_mouse_event);\n",
       "        nav_element.append(button);\n",
       "    }\n",
       "\n",
       "    // Add the status bar.\n",
       "    var status_bar = $('<span class=\"mpl-message\" style=\"text-align:right; float: right;\"/>');\n",
       "    nav_element.append(status_bar);\n",
       "    this.message = status_bar[0];\n",
       "\n",
       "    // Add the close button to the window.\n",
       "    var buttongrp = $('<div class=\"btn-group inline pull-right\"></div>');\n",
       "    var button = $('<button class=\"btn btn-mini btn-primary\" href=\"#\" title=\"Stop Interaction\"><i class=\"fa fa-power-off icon-remove icon-large\"></i></button>');\n",
       "    button.click(function (evt) { fig.handle_close(fig, {}); } );\n",
       "    button.mouseover('Stop Interaction', toolbar_mouse_event);\n",
       "    buttongrp.append(button);\n",
       "    var titlebar = this.root.find($('.ui-dialog-titlebar'));\n",
       "    titlebar.prepend(buttongrp);\n",
       "}\n",
       "\n",
       "mpl.figure.prototype._root_extra_style = function(el){\n",
       "    var fig = this\n",
       "    el.on(\"remove\", function(){\n",
       "\tfig.close_ws(fig, {});\n",
       "    });\n",
       "}\n",
       "\n",
       "mpl.figure.prototype._canvas_extra_style = function(el){\n",
       "    // this is important to make the div 'focusable\n",
       "    el.attr('tabindex', 0)\n",
       "    // reach out to IPython and tell the keyboard manager to turn it's self\n",
       "    // off when our div gets focus\n",
       "\n",
       "    // location in version 3\n",
       "    if (IPython.notebook.keyboard_manager) {\n",
       "        IPython.notebook.keyboard_manager.register_events(el);\n",
       "    }\n",
       "    else {\n",
       "        // location in version 2\n",
       "        IPython.keyboard_manager.register_events(el);\n",
       "    }\n",
       "\n",
       "}\n",
       "\n",
       "mpl.figure.prototype._key_event_extra = function(event, name) {\n",
       "    var manager = IPython.notebook.keyboard_manager;\n",
       "    if (!manager)\n",
       "        manager = IPython.keyboard_manager;\n",
       "\n",
       "    // Check for shift+enter\n",
       "    if (event.shiftKey && event.which == 13) {\n",
       "        this.canvas_div.blur();\n",
       "        event.shiftKey = false;\n",
       "        // Send a \"J\" for go to next cell\n",
       "        event.which = 74;\n",
       "        event.keyCode = 74;\n",
       "        manager.command_mode();\n",
       "        manager.handle_keydown(event);\n",
       "    }\n",
       "}\n",
       "\n",
       "mpl.figure.prototype.handle_save = function(fig, msg) {\n",
       "    fig.ondownload(fig, null);\n",
       "}\n",
       "\n",
       "\n",
       "mpl.find_output_cell = function(html_output) {\n",
       "    // Return the cell and output element which can be found *uniquely* in the notebook.\n",
       "    // Note - this is a bit hacky, but it is done because the \"notebook_saving.Notebook\"\n",
       "    // IPython event is triggered only after the cells have been serialised, which for\n",
       "    // our purposes (turning an active figure into a static one), is too late.\n",
       "    var cells = IPython.notebook.get_cells();\n",
       "    var ncells = cells.length;\n",
       "    for (var i=0; i<ncells; i++) {\n",
       "        var cell = cells[i];\n",
       "        if (cell.cell_type === 'code'){\n",
       "            for (var j=0; j<cell.output_area.outputs.length; j++) {\n",
       "                var data = cell.output_area.outputs[j];\n",
       "                if (data.data) {\n",
       "                    // IPython >= 3 moved mimebundle to data attribute of output\n",
       "                    data = data.data;\n",
       "                }\n",
       "                if (data['text/html'] == html_output) {\n",
       "                    return [cell, data, j];\n",
       "                }\n",
       "            }\n",
       "        }\n",
       "    }\n",
       "}\n",
       "\n",
       "// Register the function which deals with the matplotlib target/channel.\n",
       "// The kernel may be null if the page has been refreshed.\n",
       "if (IPython.notebook.kernel != null) {\n",
       "    IPython.notebook.kernel.comm_manager.register_target('matplotlib', mpl.mpl_figure_comm);\n",
       "}\n"
      ],
      "text/plain": [
       "<IPython.core.display.Javascript object>"
      ]
     },
     "metadata": {},
     "output_type": "display_data"
    },
    {
     "data": {
      "text/html": [
       "<img src=\"data:image/png;base64,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\" width=\"640\">"
      ],
      "text/plain": [
       "<IPython.core.display.HTML object>"
      ]
     },
     "metadata": {},
     "output_type": "display_data"
    }
   ],
   "source": [
    "figure()\n",
    "node_color = [colors[C[u] % len(colors)] for u in G.nodes()]\n",
    "nx.draw(G,node_color = node_color,edge_color = 'gray')"
   ]
  },
  {
   "cell_type": "markdown",
   "metadata": {},
   "source": [
    "## To do\n",
    "\n",
    "* Answer questions #1, #2, #3 **(0.5 point)**\n",
    "* Answer question #4 **(open answer)**\n",
    "* Complete the function `modularity` below and check it on the above graph"
   ]
  },
  {
   "cell_type": "code",
   "execution_count": 137,
   "metadata": {
    "ExecuteTime": {
     "end_time": "2018-06-15T14:06:14.498466Z",
     "start_time": "2018-06-15T14:06:14.483506Z"
    }
   },
   "outputs": [
    {
     "name": "stdout",
     "output_type": "stream",
     "text": [
      "What is the fraction of edges within clusters?\n",
      "(Enter a float)\n"
     ]
    }
   ],
   "source": [
    "get_question(1)"
   ]
  },
  {
   "cell_type": "code",
   "execution_count": 138,
   "metadata": {
    "ExecuteTime": {
     "end_time": "2018-06-15T14:06:14.708914Z",
     "start_time": "2018-06-15T14:06:14.704920Z"
    }
   },
   "outputs": [
    {
     "name": "stdout",
     "output_type": "stream",
     "text": [
      "0.9166666666666666\n"
     ]
    }
   ],
   "source": [
    "answer = 11/12\n",
    "print(answer)"
   ]
  },
  {
   "cell_type": "code",
   "execution_count": 139,
   "metadata": {
    "ExecuteTime": {
     "end_time": "2018-06-15T14:06:14.920338Z",
     "start_time": "2018-06-15T14:06:14.904425Z"
    }
   },
   "outputs": [
    {
     "name": "stdout",
     "output_type": "stream",
     "text": [
      "This is correct!\n"
     ]
    }
   ],
   "source": [
    "post_answer(1,answer)"
   ]
  },
  {
   "cell_type": "code",
   "execution_count": 140,
   "metadata": {
    "ExecuteTime": {
     "end_time": "2018-06-15T14:06:15.123795Z",
     "start_time": "2018-06-15T14:06:15.108834Z"
    }
   },
   "outputs": [
    {
     "name": "stdout",
     "output_type": "stream",
     "text": [
      "What is the Simpson index associated with this clustering?\n",
      "(Enter a float; remember that nodes are sampled in proportion to their degrees)\n"
     ]
    }
   ],
   "source": [
    "get_question(2)"
   ]
  },
  {
   "cell_type": "code",
   "execution_count": 141,
   "metadata": {
    "ExecuteTime": {
     "end_time": "2018-06-15T14:06:15.325258Z",
     "start_time": "2018-06-15T14:06:15.322265Z"
    }
   },
   "outputs": [
    {
     "name": "stdout",
     "output_type": "stream",
     "text": [
      "0.5034722222222221\n"
     ]
    }
   ],
   "source": [
    "answer = (11/24)**2 + (13/24)**2\n",
    "print(answer)"
   ]
  },
  {
   "cell_type": "code",
   "execution_count": 142,
   "metadata": {
    "ExecuteTime": {
     "end_time": "2018-06-15T14:06:15.543673Z",
     "start_time": "2018-06-15T14:06:15.527752Z"
    }
   },
   "outputs": [
    {
     "name": "stdout",
     "output_type": "stream",
     "text": [
      "This is correct!\n"
     ]
    }
   ],
   "source": [
    "post_answer(2,answer)"
   ]
  },
  {
   "cell_type": "code",
   "execution_count": 143,
   "metadata": {
    "ExecuteTime": {
     "end_time": "2018-06-15T14:06:15.760122Z",
     "start_time": "2018-06-15T14:06:15.744140Z"
    }
   },
   "outputs": [
    {
     "name": "stdout",
     "output_type": "stream",
     "text": [
      "What is the modularity of this clustering?\n",
      "(Enter a float)\n"
     ]
    }
   ],
   "source": [
    "get_question(3)"
   ]
  },
  {
   "cell_type": "code",
   "execution_count": 144,
   "metadata": {
    "ExecuteTime": {
     "end_time": "2018-06-15T14:06:15.985528Z",
     "start_time": "2018-06-15T14:06:15.981502Z"
    }
   },
   "outputs": [
    {
     "data": {
      "text/plain": [
       "0.41319444444444453"
      ]
     },
     "execution_count": 144,
     "metadata": {},
     "output_type": "execute_result"
    }
   ],
   "source": [
    "answer = 0.9166666666666666 - 0.5034722222222221\n",
    "answer"
   ]
  },
  {
   "cell_type": "code",
   "execution_count": 204,
   "metadata": {
    "ExecuteTime": {
     "end_time": "2018-06-15T14:15:04.087400Z",
     "start_time": "2018-06-15T14:15:04.069447Z"
    }
   },
   "outputs": [
    {
     "name": "stdout",
     "output_type": "stream",
     "text": [
      "Wrong answer\n"
     ]
    }
   ],
   "source": [
    "post_answer(3,answer)"
   ]
  },
  {
   "cell_type": "code",
   "execution_count": 146,
   "metadata": {
    "ExecuteTime": {
     "end_time": "2018-06-15T14:06:16.421326Z",
     "start_time": "2018-06-15T14:06:16.404373Z"
    }
   },
   "outputs": [
    {
     "name": "stdout",
     "output_type": "stream",
     "text": [
      "Comment the results.\n"
     ]
    }
   ],
   "source": [
    "get_question(4)"
   ]
  },
  {
   "cell_type": "code",
   "execution_count": 147,
   "metadata": {
    "ExecuteTime": {
     "end_time": "2018-06-15T14:06:16.652709Z",
     "start_time": "2018-06-15T14:06:16.630767Z"
    }
   },
   "outputs": [
    {
     "data": {
      "application/vnd.jupyter.widget-view+json": {
       "model_id": "24ffc4cf89a742699e544de6337e1940",
       "version_major": 2,
       "version_minor": 0
      },
      "text/html": [
       "<p>Failed to display Jupyter Widget of type <code>Textarea</code>.</p>\n",
       "<p>\n",
       "  If you're reading this message in the Jupyter Notebook or JupyterLab Notebook, it may mean\n",
       "  that the widgets JavaScript is still loading. If this message persists, it\n",
       "  likely means that the widgets JavaScript library is either not installed or\n",
       "  not enabled. See the <a href=\"https://ipywidgets.readthedocs.io/en/stable/user_install.html\">Jupyter\n",
       "  Widgets Documentation</a> for setup instructions.\n",
       "</p>\n",
       "<p>\n",
       "  If you're reading this message in another frontend (for example, a static\n",
       "  rendering on GitHub or <a href=\"https://nbviewer.jupyter.org/\">NBViewer</a>),\n",
       "  it may mean that your frontend doesn't currently support widgets.\n",
       "</p>\n"
      ],
      "text/plain": [
       "Textarea(value='...')"
      ]
     },
     "metadata": {},
     "output_type": "display_data"
    },
    {
     "data": {
      "application/vnd.jupyter.widget-view+json": {
       "model_id": "b2e25fa08a2e496494790c1c194129cb",
       "version_major": 2,
       "version_minor": 0
      },
      "text/html": [
       "<p>Failed to display Jupyter Widget of type <code>Button</code>.</p>\n",
       "<p>\n",
       "  If you're reading this message in the Jupyter Notebook or JupyterLab Notebook, it may mean\n",
       "  that the widgets JavaScript is still loading. If this message persists, it\n",
       "  likely means that the widgets JavaScript library is either not installed or\n",
       "  not enabled. See the <a href=\"https://ipywidgets.readthedocs.io/en/stable/user_install.html\">Jupyter\n",
       "  Widgets Documentation</a> for setup instructions.\n",
       "</p>\n",
       "<p>\n",
       "  If you're reading this message in another frontend (for example, a static\n",
       "  rendering on GitHub or <a href=\"https://nbviewer.jupyter.org/\">NBViewer</a>),\n",
       "  it may mean that your frontend doesn't currently support widgets.\n",
       "</p>\n"
      ],
      "text/plain": [
       "Button(description='Send', style=ButtonStyle())"
      ]
     },
     "metadata": {},
     "output_type": "display_data"
    }
   ],
   "source": [
    "post_text(4)"
   ]
  },
  {
   "cell_type": "code",
   "execution_count": 225,
   "metadata": {
    "ExecuteTime": {
     "end_time": "2018-06-15T14:23:00.489203Z",
     "start_time": "2018-06-15T14:23:00.458287Z"
    }
   },
   "outputs": [],
   "source": [
    "def modularity(G,C):\n",
    "    # G: networkx graph\n",
    "    # C: clustering (dictionary)\n",
    "    # Returns: Q, modularity (at resolution 1)\n",
    "    m = G.number_of_edges()\n",
    "    w = sum(list(dict(G.degree()).values()))\n",
    "    Q = 0\n",
    "    cluster = dict()\n",
    "    for _node,_class in C.items():\n",
    "        if(_class not in cluster):\n",
    "            cluster[_class] = set([_node])\n",
    "        else:\n",
    "            cluster[_class].add(_node)\n",
    "    \n",
    "    item1 = 0.0\n",
    "    item2 = 0.0\n",
    "    for _class, _nodes in cluster.items():\n",
    "        subG = nx.subgraph(G,_nodes)\n",
    "        mk = subG.number_of_edges()\n",
    "        wk = np.array(list(dict(G.degree(_nodes)).values()), dtype = float).sum()\n",
    "        item1 = item1 + mk/m\n",
    "        item2 = item2 + (wk/w)**2\n",
    "    Q = item1 - item2\n",
    "    # to be completed\n",
    "    return Q"
   ]
  },
  {
   "cell_type": "code",
   "execution_count": 210,
   "metadata": {
    "ExecuteTime": {
     "end_time": "2018-06-15T14:16:06.736258Z",
     "start_time": "2018-06-15T14:16:06.731306Z"
    }
   },
   "outputs": [
    {
     "data": {
      "text/plain": [
       "0.41319444444444464"
      ]
     },
     "execution_count": 210,
     "metadata": {},
     "output_type": "execute_result"
    }
   ],
   "source": [
    "modularity(G,C)"
   ]
  },
  {
   "cell_type": "markdown",
   "metadata": {},
   "source": [
    "## Stochastic block model"
   ]
  },
  {
   "cell_type": "code",
   "execution_count": 222,
   "metadata": {
    "ExecuteTime": {
     "end_time": "2018-06-15T14:22:46.703569Z",
     "start_time": "2018-06-15T14:22:46.678589Z"
    }
   },
   "outputs": [],
   "source": [
    "block_sizes = [10, 20, 30]\n",
    "G = nx.random_partition_graph(sizes = block_sizes, p_in = 0.3, p_out = 0.03,seed = 0)\n",
    "pos = nx.spring_layout(G)"
   ]
  },
  {
   "cell_type": "code",
   "execution_count": 223,
   "metadata": {
    "ExecuteTime": {
     "end_time": "2018-06-15T14:22:46.991793Z",
     "start_time": "2018-06-15T14:22:46.923933Z"
    }
   },
   "outputs": [
    {
     "data": {
      "application/javascript": [
       "/* Put everything inside the global mpl namespace */\n",
       "window.mpl = {};\n",
       "\n",
       "\n",
       "mpl.get_websocket_type = function() {\n",
       "    if (typeof(WebSocket) !== 'undefined') {\n",
       "        return WebSocket;\n",
       "    } else if (typeof(MozWebSocket) !== 'undefined') {\n",
       "        return MozWebSocket;\n",
       "    } else {\n",
       "        alert('Your browser does not have WebSocket support.' +\n",
       "              'Please try Chrome, Safari or Firefox ≥ 6. ' +\n",
       "              'Firefox 4 and 5 are also supported but you ' +\n",
       "              'have to enable WebSockets in about:config.');\n",
       "    };\n",
       "}\n",
       "\n",
       "mpl.figure = function(figure_id, websocket, ondownload, parent_element) {\n",
       "    this.id = figure_id;\n",
       "\n",
       "    this.ws = websocket;\n",
       "\n",
       "    this.supports_binary = (this.ws.binaryType != undefined);\n",
       "\n",
       "    if (!this.supports_binary) {\n",
       "        var warnings = document.getElementById(\"mpl-warnings\");\n",
       "        if (warnings) {\n",
       "            warnings.style.display = 'block';\n",
       "            warnings.textContent = (\n",
       "                \"This browser does not support binary websocket messages. \" +\n",
       "                    \"Performance may be slow.\");\n",
       "        }\n",
       "    }\n",
       "\n",
       "    this.imageObj = new Image();\n",
       "\n",
       "    this.context = undefined;\n",
       "    this.message = undefined;\n",
       "    this.canvas = undefined;\n",
       "    this.rubberband_canvas = undefined;\n",
       "    this.rubberband_context = undefined;\n",
       "    this.format_dropdown = undefined;\n",
       "\n",
       "    this.image_mode = 'full';\n",
       "\n",
       "    this.root = $('<div/>');\n",
       "    this._root_extra_style(this.root)\n",
       "    this.root.attr('style', 'display: inline-block');\n",
       "\n",
       "    $(parent_element).append(this.root);\n",
       "\n",
       "    this._init_header(this);\n",
       "    this._init_canvas(this);\n",
       "    this._init_toolbar(this);\n",
       "\n",
       "    var fig = this;\n",
       "\n",
       "    this.waiting = false;\n",
       "\n",
       "    this.ws.onopen =  function () {\n",
       "            fig.send_message(\"supports_binary\", {value: fig.supports_binary});\n",
       "            fig.send_message(\"send_image_mode\", {});\n",
       "            if (mpl.ratio != 1) {\n",
       "                fig.send_message(\"set_dpi_ratio\", {'dpi_ratio': mpl.ratio});\n",
       "            }\n",
       "            fig.send_message(\"refresh\", {});\n",
       "        }\n",
       "\n",
       "    this.imageObj.onload = function() {\n",
       "            if (fig.image_mode == 'full') {\n",
       "                // Full images could contain transparency (where diff images\n",
       "                // almost always do), so we need to clear the canvas so that\n",
       "                // there is no ghosting.\n",
       "                fig.context.clearRect(0, 0, fig.canvas.width, fig.canvas.height);\n",
       "            }\n",
       "            fig.context.drawImage(fig.imageObj, 0, 0);\n",
       "        };\n",
       "\n",
       "    this.imageObj.onunload = function() {\n",
       "        fig.ws.close();\n",
       "    }\n",
       "\n",
       "    this.ws.onmessage = this._make_on_message_function(this);\n",
       "\n",
       "    this.ondownload = ondownload;\n",
       "}\n",
       "\n",
       "mpl.figure.prototype._init_header = function() {\n",
       "    var titlebar = $(\n",
       "        '<div class=\"ui-dialog-titlebar ui-widget-header ui-corner-all ' +\n",
       "        'ui-helper-clearfix\"/>');\n",
       "    var titletext = $(\n",
       "        '<div class=\"ui-dialog-title\" style=\"width: 100%; ' +\n",
       "        'text-align: center; padding: 3px;\"/>');\n",
       "    titlebar.append(titletext)\n",
       "    this.root.append(titlebar);\n",
       "    this.header = titletext[0];\n",
       "}\n",
       "\n",
       "\n",
       "\n",
       "mpl.figure.prototype._canvas_extra_style = function(canvas_div) {\n",
       "\n",
       "}\n",
       "\n",
       "\n",
       "mpl.figure.prototype._root_extra_style = function(canvas_div) {\n",
       "\n",
       "}\n",
       "\n",
       "mpl.figure.prototype._init_canvas = function() {\n",
       "    var fig = this;\n",
       "\n",
       "    var canvas_div = $('<div/>');\n",
       "\n",
       "    canvas_div.attr('style', 'position: relative; clear: both; outline: 0');\n",
       "\n",
       "    function canvas_keyboard_event(event) {\n",
       "        return fig.key_event(event, event['data']);\n",
       "    }\n",
       "\n",
       "    canvas_div.keydown('key_press', canvas_keyboard_event);\n",
       "    canvas_div.keyup('key_release', canvas_keyboard_event);\n",
       "    this.canvas_div = canvas_div\n",
       "    this._canvas_extra_style(canvas_div)\n",
       "    this.root.append(canvas_div);\n",
       "\n",
       "    var canvas = $('<canvas/>');\n",
       "    canvas.addClass('mpl-canvas');\n",
       "    canvas.attr('style', \"left: 0; top: 0; z-index: 0; outline: 0\")\n",
       "\n",
       "    this.canvas = canvas[0];\n",
       "    this.context = canvas[0].getContext(\"2d\");\n",
       "\n",
       "    var backingStore = this.context.backingStorePixelRatio ||\n",
       "\tthis.context.webkitBackingStorePixelRatio ||\n",
       "\tthis.context.mozBackingStorePixelRatio ||\n",
       "\tthis.context.msBackingStorePixelRatio ||\n",
       "\tthis.context.oBackingStorePixelRatio ||\n",
       "\tthis.context.backingStorePixelRatio || 1;\n",
       "\n",
       "    mpl.ratio = (window.devicePixelRatio || 1) / backingStore;\n",
       "\n",
       "    var rubberband = $('<canvas/>');\n",
       "    rubberband.attr('style', \"position: absolute; left: 0; top: 0; z-index: 1;\")\n",
       "\n",
       "    var pass_mouse_events = true;\n",
       "\n",
       "    canvas_div.resizable({\n",
       "        start: function(event, ui) {\n",
       "            pass_mouse_events = false;\n",
       "        },\n",
       "        resize: function(event, ui) {\n",
       "            fig.request_resize(ui.size.width, ui.size.height);\n",
       "        },\n",
       "        stop: function(event, ui) {\n",
       "            pass_mouse_events = true;\n",
       "            fig.request_resize(ui.size.width, ui.size.height);\n",
       "        },\n",
       "    });\n",
       "\n",
       "    function mouse_event_fn(event) {\n",
       "        if (pass_mouse_events)\n",
       "            return fig.mouse_event(event, event['data']);\n",
       "    }\n",
       "\n",
       "    rubberband.mousedown('button_press', mouse_event_fn);\n",
       "    rubberband.mouseup('button_release', mouse_event_fn);\n",
       "    // Throttle sequential mouse events to 1 every 20ms.\n",
       "    rubberband.mousemove('motion_notify', mouse_event_fn);\n",
       "\n",
       "    rubberband.mouseenter('figure_enter', mouse_event_fn);\n",
       "    rubberband.mouseleave('figure_leave', mouse_event_fn);\n",
       "\n",
       "    canvas_div.on(\"wheel\", function (event) {\n",
       "        event = event.originalEvent;\n",
       "        event['data'] = 'scroll'\n",
       "        if (event.deltaY < 0) {\n",
       "            event.step = 1;\n",
       "        } else {\n",
       "            event.step = -1;\n",
       "        }\n",
       "        mouse_event_fn(event);\n",
       "    });\n",
       "\n",
       "    canvas_div.append(canvas);\n",
       "    canvas_div.append(rubberband);\n",
       "\n",
       "    this.rubberband = rubberband;\n",
       "    this.rubberband_canvas = rubberband[0];\n",
       "    this.rubberband_context = rubberband[0].getContext(\"2d\");\n",
       "    this.rubberband_context.strokeStyle = \"#000000\";\n",
       "\n",
       "    this._resize_canvas = function(width, height) {\n",
       "        // Keep the size of the canvas, canvas container, and rubber band\n",
       "        // canvas in synch.\n",
       "        canvas_div.css('width', width)\n",
       "        canvas_div.css('height', height)\n",
       "\n",
       "        canvas.attr('width', width * mpl.ratio);\n",
       "        canvas.attr('height', height * mpl.ratio);\n",
       "        canvas.attr('style', 'width: ' + width + 'px; height: ' + height + 'px;');\n",
       "\n",
       "        rubberband.attr('width', width);\n",
       "        rubberband.attr('height', height);\n",
       "    }\n",
       "\n",
       "    // Set the figure to an initial 600x600px, this will subsequently be updated\n",
       "    // upon first draw.\n",
       "    this._resize_canvas(600, 600);\n",
       "\n",
       "    // Disable right mouse context menu.\n",
       "    $(this.rubberband_canvas).bind(\"contextmenu\",function(e){\n",
       "        return false;\n",
       "    });\n",
       "\n",
       "    function set_focus () {\n",
       "        canvas.focus();\n",
       "        canvas_div.focus();\n",
       "    }\n",
       "\n",
       "    window.setTimeout(set_focus, 100);\n",
       "}\n",
       "\n",
       "mpl.figure.prototype._init_toolbar = function() {\n",
       "    var fig = this;\n",
       "\n",
       "    var nav_element = $('<div/>')\n",
       "    nav_element.attr('style', 'width: 100%');\n",
       "    this.root.append(nav_element);\n",
       "\n",
       "    // Define a callback function for later on.\n",
       "    function toolbar_event(event) {\n",
       "        return fig.toolbar_button_onclick(event['data']);\n",
       "    }\n",
       "    function toolbar_mouse_event(event) {\n",
       "        return fig.toolbar_button_onmouseover(event['data']);\n",
       "    }\n",
       "\n",
       "    for(var toolbar_ind in mpl.toolbar_items) {\n",
       "        var name = mpl.toolbar_items[toolbar_ind][0];\n",
       "        var tooltip = mpl.toolbar_items[toolbar_ind][1];\n",
       "        var image = mpl.toolbar_items[toolbar_ind][2];\n",
       "        var method_name = mpl.toolbar_items[toolbar_ind][3];\n",
       "\n",
       "        if (!name) {\n",
       "            // put a spacer in here.\n",
       "            continue;\n",
       "        }\n",
       "        var button = $('<button/>');\n",
       "        button.addClass('ui-button ui-widget ui-state-default ui-corner-all ' +\n",
       "                        'ui-button-icon-only');\n",
       "        button.attr('role', 'button');\n",
       "        button.attr('aria-disabled', 'false');\n",
       "        button.click(method_name, toolbar_event);\n",
       "        button.mouseover(tooltip, toolbar_mouse_event);\n",
       "\n",
       "        var icon_img = $('<span/>');\n",
       "        icon_img.addClass('ui-button-icon-primary ui-icon');\n",
       "        icon_img.addClass(image);\n",
       "        icon_img.addClass('ui-corner-all');\n",
       "\n",
       "        var tooltip_span = $('<span/>');\n",
       "        tooltip_span.addClass('ui-button-text');\n",
       "        tooltip_span.html(tooltip);\n",
       "\n",
       "        button.append(icon_img);\n",
       "        button.append(tooltip_span);\n",
       "\n",
       "        nav_element.append(button);\n",
       "    }\n",
       "\n",
       "    var fmt_picker_span = $('<span/>');\n",
       "\n",
       "    var fmt_picker = $('<select/>');\n",
       "    fmt_picker.addClass('mpl-toolbar-option ui-widget ui-widget-content');\n",
       "    fmt_picker_span.append(fmt_picker);\n",
       "    nav_element.append(fmt_picker_span);\n",
       "    this.format_dropdown = fmt_picker[0];\n",
       "\n",
       "    for (var ind in mpl.extensions) {\n",
       "        var fmt = mpl.extensions[ind];\n",
       "        var option = $(\n",
       "            '<option/>', {selected: fmt === mpl.default_extension}).html(fmt);\n",
       "        fmt_picker.append(option)\n",
       "    }\n",
       "\n",
       "    // Add hover states to the ui-buttons\n",
       "    $( \".ui-button\" ).hover(\n",
       "        function() { $(this).addClass(\"ui-state-hover\");},\n",
       "        function() { $(this).removeClass(\"ui-state-hover\");}\n",
       "    );\n",
       "\n",
       "    var status_bar = $('<span class=\"mpl-message\"/>');\n",
       "    nav_element.append(status_bar);\n",
       "    this.message = status_bar[0];\n",
       "}\n",
       "\n",
       "mpl.figure.prototype.request_resize = function(x_pixels, y_pixels) {\n",
       "    // Request matplotlib to resize the figure. Matplotlib will then trigger a resize in the client,\n",
       "    // which will in turn request a refresh of the image.\n",
       "    this.send_message('resize', {'width': x_pixels, 'height': y_pixels});\n",
       "}\n",
       "\n",
       "mpl.figure.prototype.send_message = function(type, properties) {\n",
       "    properties['type'] = type;\n",
       "    properties['figure_id'] = this.id;\n",
       "    this.ws.send(JSON.stringify(properties));\n",
       "}\n",
       "\n",
       "mpl.figure.prototype.send_draw_message = function() {\n",
       "    if (!this.waiting) {\n",
       "        this.waiting = true;\n",
       "        this.ws.send(JSON.stringify({type: \"draw\", figure_id: this.id}));\n",
       "    }\n",
       "}\n",
       "\n",
       "\n",
       "mpl.figure.prototype.handle_save = function(fig, msg) {\n",
       "    var format_dropdown = fig.format_dropdown;\n",
       "    var format = format_dropdown.options[format_dropdown.selectedIndex].value;\n",
       "    fig.ondownload(fig, format);\n",
       "}\n",
       "\n",
       "\n",
       "mpl.figure.prototype.handle_resize = function(fig, msg) {\n",
       "    var size = msg['size'];\n",
       "    if (size[0] != fig.canvas.width || size[1] != fig.canvas.height) {\n",
       "        fig._resize_canvas(size[0], size[1]);\n",
       "        fig.send_message(\"refresh\", {});\n",
       "    };\n",
       "}\n",
       "\n",
       "mpl.figure.prototype.handle_rubberband = function(fig, msg) {\n",
       "    var x0 = msg['x0'] / mpl.ratio;\n",
       "    var y0 = (fig.canvas.height - msg['y0']) / mpl.ratio;\n",
       "    var x1 = msg['x1'] / mpl.ratio;\n",
       "    var y1 = (fig.canvas.height - msg['y1']) / mpl.ratio;\n",
       "    x0 = Math.floor(x0) + 0.5;\n",
       "    y0 = Math.floor(y0) + 0.5;\n",
       "    x1 = Math.floor(x1) + 0.5;\n",
       "    y1 = Math.floor(y1) + 0.5;\n",
       "    var min_x = Math.min(x0, x1);\n",
       "    var min_y = Math.min(y0, y1);\n",
       "    var width = Math.abs(x1 - x0);\n",
       "    var height = Math.abs(y1 - y0);\n",
       "\n",
       "    fig.rubberband_context.clearRect(\n",
       "        0, 0, fig.canvas.width, fig.canvas.height);\n",
       "\n",
       "    fig.rubberband_context.strokeRect(min_x, min_y, width, height);\n",
       "}\n",
       "\n",
       "mpl.figure.prototype.handle_figure_label = function(fig, msg) {\n",
       "    // Updates the figure title.\n",
       "    fig.header.textContent = msg['label'];\n",
       "}\n",
       "\n",
       "mpl.figure.prototype.handle_cursor = function(fig, msg) {\n",
       "    var cursor = msg['cursor'];\n",
       "    switch(cursor)\n",
       "    {\n",
       "    case 0:\n",
       "        cursor = 'pointer';\n",
       "        break;\n",
       "    case 1:\n",
       "        cursor = 'default';\n",
       "        break;\n",
       "    case 2:\n",
       "        cursor = 'crosshair';\n",
       "        break;\n",
       "    case 3:\n",
       "        cursor = 'move';\n",
       "        break;\n",
       "    }\n",
       "    fig.rubberband_canvas.style.cursor = cursor;\n",
       "}\n",
       "\n",
       "mpl.figure.prototype.handle_message = function(fig, msg) {\n",
       "    fig.message.textContent = msg['message'];\n",
       "}\n",
       "\n",
       "mpl.figure.prototype.handle_draw = function(fig, msg) {\n",
       "    // Request the server to send over a new figure.\n",
       "    fig.send_draw_message();\n",
       "}\n",
       "\n",
       "mpl.figure.prototype.handle_image_mode = function(fig, msg) {\n",
       "    fig.image_mode = msg['mode'];\n",
       "}\n",
       "\n",
       "mpl.figure.prototype.updated_canvas_event = function() {\n",
       "    // Called whenever the canvas gets updated.\n",
       "    this.send_message(\"ack\", {});\n",
       "}\n",
       "\n",
       "// A function to construct a web socket function for onmessage handling.\n",
       "// Called in the figure constructor.\n",
       "mpl.figure.prototype._make_on_message_function = function(fig) {\n",
       "    return function socket_on_message(evt) {\n",
       "        if (evt.data instanceof Blob) {\n",
       "            /* FIXME: We get \"Resource interpreted as Image but\n",
       "             * transferred with MIME type text/plain:\" errors on\n",
       "             * Chrome.  But how to set the MIME type?  It doesn't seem\n",
       "             * to be part of the websocket stream */\n",
       "            evt.data.type = \"image/png\";\n",
       "\n",
       "            /* Free the memory for the previous frames */\n",
       "            if (fig.imageObj.src) {\n",
       "                (window.URL || window.webkitURL).revokeObjectURL(\n",
       "                    fig.imageObj.src);\n",
       "            }\n",
       "\n",
       "            fig.imageObj.src = (window.URL || window.webkitURL).createObjectURL(\n",
       "                evt.data);\n",
       "            fig.updated_canvas_event();\n",
       "            fig.waiting = false;\n",
       "            return;\n",
       "        }\n",
       "        else if (typeof evt.data === 'string' && evt.data.slice(0, 21) == \"data:image/png;base64\") {\n",
       "            fig.imageObj.src = evt.data;\n",
       "            fig.updated_canvas_event();\n",
       "            fig.waiting = false;\n",
       "            return;\n",
       "        }\n",
       "\n",
       "        var msg = JSON.parse(evt.data);\n",
       "        var msg_type = msg['type'];\n",
       "\n",
       "        // Call the  \"handle_{type}\" callback, which takes\n",
       "        // the figure and JSON message as its only arguments.\n",
       "        try {\n",
       "            var callback = fig[\"handle_\" + msg_type];\n",
       "        } catch (e) {\n",
       "            console.log(\"No handler for the '\" + msg_type + \"' message type: \", msg);\n",
       "            return;\n",
       "        }\n",
       "\n",
       "        if (callback) {\n",
       "            try {\n",
       "                // console.log(\"Handling '\" + msg_type + \"' message: \", msg);\n",
       "                callback(fig, msg);\n",
       "            } catch (e) {\n",
       "                console.log(\"Exception inside the 'handler_\" + msg_type + \"' callback:\", e, e.stack, msg);\n",
       "            }\n",
       "        }\n",
       "    };\n",
       "}\n",
       "\n",
       "// from http://stackoverflow.com/questions/1114465/getting-mouse-location-in-canvas\n",
       "mpl.findpos = function(e) {\n",
       "    //this section is from http://www.quirksmode.org/js/events_properties.html\n",
       "    var targ;\n",
       "    if (!e)\n",
       "        e = window.event;\n",
       "    if (e.target)\n",
       "        targ = e.target;\n",
       "    else if (e.srcElement)\n",
       "        targ = e.srcElement;\n",
       "    if (targ.nodeType == 3) // defeat Safari bug\n",
       "        targ = targ.parentNode;\n",
       "\n",
       "    // jQuery normalizes the pageX and pageY\n",
       "    // pageX,Y are the mouse positions relative to the document\n",
       "    // offset() returns the position of the element relative to the document\n",
       "    var x = e.pageX - $(targ).offset().left;\n",
       "    var y = e.pageY - $(targ).offset().top;\n",
       "\n",
       "    return {\"x\": x, \"y\": y};\n",
       "};\n",
       "\n",
       "/*\n",
       " * return a copy of an object with only non-object keys\n",
       " * we need this to avoid circular references\n",
       " * http://stackoverflow.com/a/24161582/3208463\n",
       " */\n",
       "function simpleKeys (original) {\n",
       "  return Object.keys(original).reduce(function (obj, key) {\n",
       "    if (typeof original[key] !== 'object')\n",
       "        obj[key] = original[key]\n",
       "    return obj;\n",
       "  }, {});\n",
       "}\n",
       "\n",
       "mpl.figure.prototype.mouse_event = function(event, name) {\n",
       "    var canvas_pos = mpl.findpos(event)\n",
       "\n",
       "    if (name === 'button_press')\n",
       "    {\n",
       "        this.canvas.focus();\n",
       "        this.canvas_div.focus();\n",
       "    }\n",
       "\n",
       "    var x = canvas_pos.x * mpl.ratio;\n",
       "    var y = canvas_pos.y * mpl.ratio;\n",
       "\n",
       "    this.send_message(name, {x: x, y: y, button: event.button,\n",
       "                             step: event.step,\n",
       "                             guiEvent: simpleKeys(event)});\n",
       "\n",
       "    /* This prevents the web browser from automatically changing to\n",
       "     * the text insertion cursor when the button is pressed.  We want\n",
       "     * to control all of the cursor setting manually through the\n",
       "     * 'cursor' event from matplotlib */\n",
       "    event.preventDefault();\n",
       "    return false;\n",
       "}\n",
       "\n",
       "mpl.figure.prototype._key_event_extra = function(event, name) {\n",
       "    // Handle any extra behaviour associated with a key event\n",
       "}\n",
       "\n",
       "mpl.figure.prototype.key_event = function(event, name) {\n",
       "\n",
       "    // Prevent repeat events\n",
       "    if (name == 'key_press')\n",
       "    {\n",
       "        if (event.which === this._key)\n",
       "            return;\n",
       "        else\n",
       "            this._key = event.which;\n",
       "    }\n",
       "    if (name == 'key_release')\n",
       "        this._key = null;\n",
       "\n",
       "    var value = '';\n",
       "    if (event.ctrlKey && event.which != 17)\n",
       "        value += \"ctrl+\";\n",
       "    if (event.altKey && event.which != 18)\n",
       "        value += \"alt+\";\n",
       "    if (event.shiftKey && event.which != 16)\n",
       "        value += \"shift+\";\n",
       "\n",
       "    value += 'k';\n",
       "    value += event.which.toString();\n",
       "\n",
       "    this._key_event_extra(event, name);\n",
       "\n",
       "    this.send_message(name, {key: value,\n",
       "                             guiEvent: simpleKeys(event)});\n",
       "    return false;\n",
       "}\n",
       "\n",
       "mpl.figure.prototype.toolbar_button_onclick = function(name) {\n",
       "    if (name == 'download') {\n",
       "        this.handle_save(this, null);\n",
       "    } else {\n",
       "        this.send_message(\"toolbar_button\", {name: name});\n",
       "    }\n",
       "};\n",
       "\n",
       "mpl.figure.prototype.toolbar_button_onmouseover = function(tooltip) {\n",
       "    this.message.textContent = tooltip;\n",
       "};\n",
       "mpl.toolbar_items = [[\"Home\", \"Reset original view\", \"fa fa-home icon-home\", \"home\"], [\"Back\", \"Back to  previous view\", \"fa fa-arrow-left icon-arrow-left\", \"back\"], [\"Forward\", \"Forward to next view\", \"fa fa-arrow-right icon-arrow-right\", \"forward\"], [\"\", \"\", \"\", \"\"], [\"Pan\", \"Pan axes with left mouse, zoom with right\", \"fa fa-arrows icon-move\", \"pan\"], [\"Zoom\", \"Zoom to rectangle\", \"fa fa-square-o icon-check-empty\", \"zoom\"], [\"\", \"\", \"\", \"\"], [\"Download\", \"Download plot\", \"fa fa-floppy-o icon-save\", \"download\"]];\n",
       "\n",
       "mpl.extensions = [\"eps\", \"pdf\", \"png\", \"ps\", \"raw\", \"svg\"];\n",
       "\n",
       "mpl.default_extension = \"png\";var comm_websocket_adapter = function(comm) {\n",
       "    // Create a \"websocket\"-like object which calls the given IPython comm\n",
       "    // object with the appropriate methods. Currently this is a non binary\n",
       "    // socket, so there is still some room for performance tuning.\n",
       "    var ws = {};\n",
       "\n",
       "    ws.close = function() {\n",
       "        comm.close()\n",
       "    };\n",
       "    ws.send = function(m) {\n",
       "        //console.log('sending', m);\n",
       "        comm.send(m);\n",
       "    };\n",
       "    // Register the callback with on_msg.\n",
       "    comm.on_msg(function(msg) {\n",
       "        //console.log('receiving', msg['content']['data'], msg);\n",
       "        // Pass the mpl event to the overriden (by mpl) onmessage function.\n",
       "        ws.onmessage(msg['content']['data'])\n",
       "    });\n",
       "    return ws;\n",
       "}\n",
       "\n",
       "mpl.mpl_figure_comm = function(comm, msg) {\n",
       "    // This is the function which gets called when the mpl process\n",
       "    // starts-up an IPython Comm through the \"matplotlib\" channel.\n",
       "\n",
       "    var id = msg.content.data.id;\n",
       "    // Get hold of the div created by the display call when the Comm\n",
       "    // socket was opened in Python.\n",
       "    var element = $(\"#\" + id);\n",
       "    var ws_proxy = comm_websocket_adapter(comm)\n",
       "\n",
       "    function ondownload(figure, format) {\n",
       "        window.open(figure.imageObj.src);\n",
       "    }\n",
       "\n",
       "    var fig = new mpl.figure(id, ws_proxy,\n",
       "                           ondownload,\n",
       "                           element.get(0));\n",
       "\n",
       "    // Call onopen now - mpl needs it, as it is assuming we've passed it a real\n",
       "    // web socket which is closed, not our websocket->open comm proxy.\n",
       "    ws_proxy.onopen();\n",
       "\n",
       "    fig.parent_element = element.get(0);\n",
       "    fig.cell_info = mpl.find_output_cell(\"<div id='\" + id + \"'></div>\");\n",
       "    if (!fig.cell_info) {\n",
       "        console.error(\"Failed to find cell for figure\", id, fig);\n",
       "        return;\n",
       "    }\n",
       "\n",
       "    var output_index = fig.cell_info[2]\n",
       "    var cell = fig.cell_info[0];\n",
       "\n",
       "};\n",
       "\n",
       "mpl.figure.prototype.handle_close = function(fig, msg) {\n",
       "    var width = fig.canvas.width/mpl.ratio\n",
       "    fig.root.unbind('remove')\n",
       "\n",
       "    // Update the output cell to use the data from the current canvas.\n",
       "    fig.push_to_output();\n",
       "    var dataURL = fig.canvas.toDataURL();\n",
       "    // Re-enable the keyboard manager in IPython - without this line, in FF,\n",
       "    // the notebook keyboard shortcuts fail.\n",
       "    IPython.keyboard_manager.enable()\n",
       "    $(fig.parent_element).html('<img src=\"' + dataURL + '\" width=\"' + width + '\">');\n",
       "    fig.close_ws(fig, msg);\n",
       "}\n",
       "\n",
       "mpl.figure.prototype.close_ws = function(fig, msg){\n",
       "    fig.send_message('closing', msg);\n",
       "    // fig.ws.close()\n",
       "}\n",
       "\n",
       "mpl.figure.prototype.push_to_output = function(remove_interactive) {\n",
       "    // Turn the data on the canvas into data in the output cell.\n",
       "    var width = this.canvas.width/mpl.ratio\n",
       "    var dataURL = this.canvas.toDataURL();\n",
       "    this.cell_info[1]['text/html'] = '<img src=\"' + dataURL + '\" width=\"' + width + '\">';\n",
       "}\n",
       "\n",
       "mpl.figure.prototype.updated_canvas_event = function() {\n",
       "    // Tell IPython that the notebook contents must change.\n",
       "    IPython.notebook.set_dirty(true);\n",
       "    this.send_message(\"ack\", {});\n",
       "    var fig = this;\n",
       "    // Wait a second, then push the new image to the DOM so\n",
       "    // that it is saved nicely (might be nice to debounce this).\n",
       "    setTimeout(function () { fig.push_to_output() }, 1000);\n",
       "}\n",
       "\n",
       "mpl.figure.prototype._init_toolbar = function() {\n",
       "    var fig = this;\n",
       "\n",
       "    var nav_element = $('<div/>')\n",
       "    nav_element.attr('style', 'width: 100%');\n",
       "    this.root.append(nav_element);\n",
       "\n",
       "    // Define a callback function for later on.\n",
       "    function toolbar_event(event) {\n",
       "        return fig.toolbar_button_onclick(event['data']);\n",
       "    }\n",
       "    function toolbar_mouse_event(event) {\n",
       "        return fig.toolbar_button_onmouseover(event['data']);\n",
       "    }\n",
       "\n",
       "    for(var toolbar_ind in mpl.toolbar_items){\n",
       "        var name = mpl.toolbar_items[toolbar_ind][0];\n",
       "        var tooltip = mpl.toolbar_items[toolbar_ind][1];\n",
       "        var image = mpl.toolbar_items[toolbar_ind][2];\n",
       "        var method_name = mpl.toolbar_items[toolbar_ind][3];\n",
       "\n",
       "        if (!name) { continue; };\n",
       "\n",
       "        var button = $('<button class=\"btn btn-default\" href=\"#\" title=\"' + name + '\"><i class=\"fa ' + image + ' fa-lg\"></i></button>');\n",
       "        button.click(method_name, toolbar_event);\n",
       "        button.mouseover(tooltip, toolbar_mouse_event);\n",
       "        nav_element.append(button);\n",
       "    }\n",
       "\n",
       "    // Add the status bar.\n",
       "    var status_bar = $('<span class=\"mpl-message\" style=\"text-align:right; float: right;\"/>');\n",
       "    nav_element.append(status_bar);\n",
       "    this.message = status_bar[0];\n",
       "\n",
       "    // Add the close button to the window.\n",
       "    var buttongrp = $('<div class=\"btn-group inline pull-right\"></div>');\n",
       "    var button = $('<button class=\"btn btn-mini btn-primary\" href=\"#\" title=\"Stop Interaction\"><i class=\"fa fa-power-off icon-remove icon-large\"></i></button>');\n",
       "    button.click(function (evt) { fig.handle_close(fig, {}); } );\n",
       "    button.mouseover('Stop Interaction', toolbar_mouse_event);\n",
       "    buttongrp.append(button);\n",
       "    var titlebar = this.root.find($('.ui-dialog-titlebar'));\n",
       "    titlebar.prepend(buttongrp);\n",
       "}\n",
       "\n",
       "mpl.figure.prototype._root_extra_style = function(el){\n",
       "    var fig = this\n",
       "    el.on(\"remove\", function(){\n",
       "\tfig.close_ws(fig, {});\n",
       "    });\n",
       "}\n",
       "\n",
       "mpl.figure.prototype._canvas_extra_style = function(el){\n",
       "    // this is important to make the div 'focusable\n",
       "    el.attr('tabindex', 0)\n",
       "    // reach out to IPython and tell the keyboard manager to turn it's self\n",
       "    // off when our div gets focus\n",
       "\n",
       "    // location in version 3\n",
       "    if (IPython.notebook.keyboard_manager) {\n",
       "        IPython.notebook.keyboard_manager.register_events(el);\n",
       "    }\n",
       "    else {\n",
       "        // location in version 2\n",
       "        IPython.keyboard_manager.register_events(el);\n",
       "    }\n",
       "\n",
       "}\n",
       "\n",
       "mpl.figure.prototype._key_event_extra = function(event, name) {\n",
       "    var manager = IPython.notebook.keyboard_manager;\n",
       "    if (!manager)\n",
       "        manager = IPython.keyboard_manager;\n",
       "\n",
       "    // Check for shift+enter\n",
       "    if (event.shiftKey && event.which == 13) {\n",
       "        this.canvas_div.blur();\n",
       "        event.shiftKey = false;\n",
       "        // Send a \"J\" for go to next cell\n",
       "        event.which = 74;\n",
       "        event.keyCode = 74;\n",
       "        manager.command_mode();\n",
       "        manager.handle_keydown(event);\n",
       "    }\n",
       "}\n",
       "\n",
       "mpl.figure.prototype.handle_save = function(fig, msg) {\n",
       "    fig.ondownload(fig, null);\n",
       "}\n",
       "\n",
       "\n",
       "mpl.find_output_cell = function(html_output) {\n",
       "    // Return the cell and output element which can be found *uniquely* in the notebook.\n",
       "    // Note - this is a bit hacky, but it is done because the \"notebook_saving.Notebook\"\n",
       "    // IPython event is triggered only after the cells have been serialised, which for\n",
       "    // our purposes (turning an active figure into a static one), is too late.\n",
       "    var cells = IPython.notebook.get_cells();\n",
       "    var ncells = cells.length;\n",
       "    for (var i=0; i<ncells; i++) {\n",
       "        var cell = cells[i];\n",
       "        if (cell.cell_type === 'code'){\n",
       "            for (var j=0; j<cell.output_area.outputs.length; j++) {\n",
       "                var data = cell.output_area.outputs[j];\n",
       "                if (data.data) {\n",
       "                    // IPython >= 3 moved mimebundle to data attribute of output\n",
       "                    data = data.data;\n",
       "                }\n",
       "                if (data['text/html'] == html_output) {\n",
       "                    return [cell, data, j];\n",
       "                }\n",
       "            }\n",
       "        }\n",
       "    }\n",
       "}\n",
       "\n",
       "// Register the function which deals with the matplotlib target/channel.\n",
       "// The kernel may be null if the page has been refreshed.\n",
       "if (IPython.notebook.kernel != null) {\n",
       "    IPython.notebook.kernel.comm_manager.register_target('matplotlib', mpl.mpl_figure_comm);\n",
       "}\n"
      ],
      "text/plain": [
       "<IPython.core.display.Javascript object>"
      ]
     },
     "metadata": {},
     "output_type": "display_data"
    },
    {
     "data": {
      "text/html": [
       "<img src=\"data:image/png;base64,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\" width=\"640\">"
      ],
      "text/plain": [
       "<IPython.core.display.HTML object>"
      ]
     },
     "metadata": {},
     "output_type": "display_data"
    }
   ],
   "source": [
    "figure()\n",
    "axis('off')\n",
    "nx.draw(G, pos,node_color = 'gray',edge_color = 'gray',node_size = 100, with_labels = True)"
   ]
  },
  {
   "cell_type": "markdown",
   "metadata": {},
   "source": [
    "## To do\n",
    "\n",
    "* Answer question #5 **(0.5 point)**"
   ]
  },
  {
   "cell_type": "code",
   "execution_count": 213,
   "metadata": {
    "ExecuteTime": {
     "end_time": "2018-06-15T14:16:19.243616Z",
     "start_time": "2018-06-15T14:16:19.226663Z"
    }
   },
   "outputs": [
    {
     "name": "stdout",
     "output_type": "stream",
     "text": [
      "What is the modularity of the ground-truth clustering (given by the blocks)?\n",
      "(Enter a float)\n"
     ]
    }
   ],
   "source": [
    "get_question(5)"
   ]
  },
  {
   "cell_type": "code",
   "execution_count": 224,
   "metadata": {
    "ExecuteTime": {
     "end_time": "2018-06-15T14:22:54.886852Z",
     "start_time": "2018-06-15T14:22:54.877878Z"
    }
   },
   "outputs": [],
   "source": [
    "C1 = {x:0 for x in range(0,10)}\n",
    "C2 = {x:1 for x in range(10,30)}\n",
    "C3 = {x:2 for x in range(30,60)}\n",
    "C1.update(C2)\n",
    "C1.update(C3)"
   ]
  },
  {
   "cell_type": "code",
   "execution_count": 226,
   "metadata": {
    "ExecuteTime": {
     "end_time": "2018-06-15T14:23:20.155161Z",
     "start_time": "2018-06-15T14:23:20.149176Z"
    }
   },
   "outputs": [
    {
     "data": {
      "text/plain": [
       "0.3618235570522359"
      ]
     },
     "execution_count": 226,
     "metadata": {},
     "output_type": "execute_result"
    }
   ],
   "source": [
    "modularity(G, C1)"
   ]
  },
  {
   "cell_type": "code",
   "execution_count": 227,
   "metadata": {
    "ExecuteTime": {
     "end_time": "2018-06-15T14:23:24.487243Z",
     "start_time": "2018-06-15T14:23:24.483293Z"
    }
   },
   "outputs": [],
   "source": [
    "answer = 0.3618235570522359"
   ]
  },
  {
   "cell_type": "code",
   "execution_count": 228,
   "metadata": {
    "ExecuteTime": {
     "end_time": "2018-06-15T14:23:24.757523Z",
     "start_time": "2018-06-15T14:23:24.737580Z"
    }
   },
   "outputs": [
    {
     "name": "stdout",
     "output_type": "stream",
     "text": [
      "This is correct!\n"
     ]
    }
   ],
   "source": [
    "post_answer(5,answer)"
   ]
  },
  {
   "cell_type": "markdown",
   "metadata": {},
   "source": [
    "## 2. The Louvain algorithm"
   ]
  },
  {
   "cell_type": "markdown",
   "metadata": {},
   "source": [
    "The Louvain algorithm attempts to maximize modularity as follows:\n",
    "1. **(Initialization)** $C \\gets \\text{identity}$ \n",
    "2.  **(Maximization)** While modularity increases, update $C$ by moving one node  from its cluster to one of its neighbors\n",
    "3. **(Aggregation)** Merge all nodes belonging to the same cluster into a single node, update the weights accordingly and apply step 2 to the  aggregate graph\n",
    "\n",
    "In step 2, nodes are considered in a cyclic way. The target cluster of a node is chosen among those of its neighbors as that providing the **largest gain** in modularity, if any."
   ]
  },
  {
   "cell_type": "markdown",
   "metadata": {},
   "source": [
    "## To do\n",
    "\n",
    "* Complete the function `maximize` corresponding to step 2; your function must take the resolution parameter $\\gamma$ into account\n",
    "* Test your `louvain` function on the toy graph and the stochastic block model\n",
    "* Answer question #6 **(0.5 point)**\n",
    "* Answer question #7 **(open answer)**"
   ]
  },
  {
   "cell_type": "code",
   "execution_count": null,
   "metadata": {
    "collapsed": true
   },
   "outputs": [],
   "source": [
    "def maximize(G, gamma):\n",
    "    # G: networkx graph (undirected, weighted)\n",
    "    # gamma: float (resolution)\n",
    "    # Returns: dictionary (cluster of each node)\n",
    "    \n",
    "    # node weights\n",
    "    node_weight = {u: 0 for u in G.nodes()}\n",
    "    # sum of edge weights\n",
    "    w = 0\n",
    "    for (u,v) in G.edges():\n",
    "        # self-loops are counted twice\n",
    "        node_weight[u] += G[u][v]['weight']\n",
    "        node_weight[v] += G[u][v]['weight']\n",
    "        w += G[u][v]['weight']\n",
    "    # init the clustering\n",
    "    C = {u:u for u in G.nodes()}\n",
    "    # cluster weights\n",
    "    cluster_weight = {u:node_weight[u] for u in G.nodes()}\n",
    "    # node-cluster weights \n",
    "    node_cluster_weight = {u:{v:G[u][v]['weight'] for v in G.neighbors(u) if v != u} for u in G.nodes()}\n",
    "    increase = True\n",
    "    while increase:\n",
    "        increase = False\n",
    "        for u in G.nodes():\n",
    "            k = C[u]\n",
    "            \n",
    "            # target cluster, to be modified\n",
    "            l = C[u]\n",
    "            \n",
    "            if l != k:\n",
    "                increase = True\n",
    "                # move u from cluster k to cluster l\n",
    "                C[u] = l\n",
    "                cluster_weight[k] -= node_weight[u]\n",
    "                cluster_weight[l] += node_weight[u]\n",
    "                for v in G.neighbors(u):\n",
    "                    if v != u:\n",
    "                        node_cluster_weight[v][k] -= G[u][v]['weight']\n",
    "                        if node_cluster_weight[v][k] <= 0:\n",
    "                            node_cluster_weight[v].pop(k)\n",
    "                        if l not in node_cluster_weight[v]:\n",
    "                            node_cluster_weight[v][l] = 0\n",
    "                        node_cluster_weight[v][l] += G[u][v]['weight']\n",
    "    return C"
   ]
  },
  {
   "cell_type": "code",
   "execution_count": null,
   "metadata": {
    "collapsed": true
   },
   "outputs": [],
   "source": [
    "def aggregate(G,C):\n",
    "    # G: networkx graph\n",
    "    # C: dictionary (clustering)\n",
    "    # Returns: networkx graph (aggregate graph)\n",
    "    H = nx.Graph()\n",
    "    for (u,v) in G.edges():\n",
    "        if H.has_edge(C[u],C[v]):\n",
    "            H[C[u]][C[v]]['weight'] += G[u][v]['weight']\n",
    "        else:\n",
    "            H.add_edge(C[u],C[v])\n",
    "            H[C[u]][C[v]]['weight'] = G[u][v]['weight']\n",
    "    return H"
   ]
  },
  {
   "cell_type": "code",
   "execution_count": null,
   "metadata": {
    "collapsed": true
   },
   "outputs": [],
   "source": [
    "def louvain(G,gamma = 1):\n",
    "    # G: networkx graph (undirected, weighted)\n",
    "    # gamma: float (resolution)\n",
    "    # Returns a dictionary (cluster of each node)\n",
    "    if nx.get_edge_attributes(G,'weight') == {}:\n",
    "        for (u,v) in G.edges():\n",
    "            G[u][v]['weight'] = 1\n",
    "    C = maximize(G, gamma)\n",
    "    n = len(C)\n",
    "    k = len(set(C.values()))\n",
    "    while k < n:\n",
    "        H = aggregate(G,C) \n",
    "        C_new = maximize(H, gamma)\n",
    "        C = {u: C_new[C[u]] for u in G.nodes()}\n",
    "        n = k\n",
    "        k = len(set(C.values()))\n",
    "    # reindex cluster values\n",
    "    cluster_values = list(set(C.values()))\n",
    "    reindex = {c:i for i,c in enumerate(cluster_values)}\n",
    "    C = {u:reindex[C[u]] for u in C}\n",
    "    return C"
   ]
  },
  {
   "cell_type": "code",
   "execution_count": 229,
   "metadata": {
    "ExecuteTime": {
     "end_time": "2018-06-15T14:24:17.151447Z",
     "start_time": "2018-06-15T14:24:17.137521Z"
    }
   },
   "outputs": [
    {
     "name": "stdout",
     "output_type": "stream",
     "text": [
      "How many clusters are found by the Louvain algorithm at resolution 1 on the stochastic block model considered above?\n",
      "(Enter an integer)\n"
     ]
    }
   ],
   "source": [
    "get_question(6)"
   ]
  },
  {
   "cell_type": "code",
   "execution_count": null,
   "metadata": {
    "collapsed": true
   },
   "outputs": [],
   "source": [
    "answer = -1"
   ]
  },
  {
   "cell_type": "code",
   "execution_count": null,
   "metadata": {},
   "outputs": [],
   "source": [
    "post_answer(6,answer)"
   ]
  },
  {
   "cell_type": "code",
   "execution_count": null,
   "metadata": {},
   "outputs": [],
   "source": [
    "get_question(7)"
   ]
  },
  {
   "cell_type": "code",
   "execution_count": null,
   "metadata": {},
   "outputs": [],
   "source": [
    "post_text(7)"
   ]
  },
  {
   "cell_type": "markdown",
   "metadata": {},
   "source": [
    "## Real datasets\n",
    "\n",
    "We now consider the following real datasets, to be downloaded [here](http://perso.telecom-paristech.fr/~bonald/graphs/lab6.zip):\n",
    "* the graph of [Les Misérables](https://fr.wikipedia.org/wiki/Les_Misérables) (co-occurence of characters in chapters of the novel of Victor Hugo)\n",
    "* the graph of [OpenFlights](https://openflights.org) (number of daily flights between airports)\n",
    "* the graph of [Wikipedia for Schools](https://en.wikipedia.org/wiki/Wikipedia:Wikipedia_for_Schools) (links between a selection of articles from Wikipedia)"
   ]
  },
  {
   "cell_type": "markdown",
   "metadata": {},
   "source": [
    "## To do\n",
    "\n",
    "* Draw the graphs of Les Misérables and OpenFlights with the clustering found by Louvain at different resolutions\n",
    "* Answer question #8 **(0.5 point)**\n",
    "* List the top-10 nodes (in degree) of the top-10 clusters (in size) of Wikipedia for Schools at resolution 10"
   ]
  },
  {
   "cell_type": "code",
   "execution_count": null,
   "metadata": {
    "collapsed": true
   },
   "outputs": [],
   "source": [
    "G = nx.read_graphml(\"miserables.graphml\", node_type = int)\n",
    "names = nx.get_node_attributes(G, 'name')\n",
    "pos = nx.spring_layout(G)"
   ]
  },
  {
   "cell_type": "code",
   "execution_count": null,
   "metadata": {
    "collapsed": true
   },
   "outputs": [],
   "source": [
    "C = louvain(G,gamma = 1)"
   ]
  },
  {
   "cell_type": "code",
   "execution_count": null,
   "metadata": {},
   "outputs": [],
   "source": [
    "figure()\n",
    "node_color = [colors[C[u] % len(colors)] for u in G.nodes()]\n",
    "nx.draw(G, pos, labels = names, font_size = 8, node_size = 100, edge_color = 'gray',node_color = node_color)"
   ]
  },
  {
   "cell_type": "code",
   "execution_count": null,
   "metadata": {
    "collapsed": true
   },
   "outputs": [],
   "source": [
    "G = nx.read_graphml(\"openflights.graphml\", node_type = int)\n",
    "# Get names\n",
    "names = nx.get_node_attributes(G, 'name')\n",
    "# Get positions\n",
    "pos_x = nx.get_node_attributes(G,'pos_x')\n",
    "pos_y = nx.get_node_attributes(G,'pos_y')\n",
    "pos = {u: (pos_x[u], pos_y[u]) for u in G.nodes()}"
   ]
  },
  {
   "cell_type": "code",
   "execution_count": null,
   "metadata": {
    "collapsed": true
   },
   "outputs": [],
   "source": [
    "C = louvain(G, gamma = 1)"
   ]
  },
  {
   "cell_type": "code",
   "execution_count": null,
   "metadata": {},
   "outputs": [],
   "source": [
    "figure(figsize=(10,5))\n",
    "axis('off')\n",
    "node_color = [colors[C[u] % len(colors)] for u in G.nodes()]\n",
    "nodes = nx.draw_networkx_nodes(G, pos, node_size = 10, node_color = node_color)\n",
    "edges = nx.draw_networkx_edges(G, pos, alpha = .1)"
   ]
  },
  {
   "cell_type": "code",
   "execution_count": null,
   "metadata": {},
   "outputs": [],
   "source": [
    "get_question(8)"
   ]
  },
  {
   "cell_type": "code",
   "execution_count": null,
   "metadata": {
    "collapsed": true
   },
   "outputs": [],
   "source": [
    "answer = -1"
   ]
  },
  {
   "cell_type": "code",
   "execution_count": null,
   "metadata": {},
   "outputs": [],
   "source": [
    "post_answer(8,answer)"
   ]
  },
  {
   "cell_type": "code",
   "execution_count": null,
   "metadata": {
    "collapsed": true
   },
   "outputs": [],
   "source": [
    "G = nx.read_graphml(\"wikipedia-schools-undirected.graphml\", node_type = int)\n",
    "names = nx.get_node_attributes(G, 'name')"
   ]
  },
  {
   "cell_type": "code",
   "execution_count": null,
   "metadata": {
    "collapsed": true
   },
   "outputs": [],
   "source": [
    "C = louvain(G, gamma = 10)"
   ]
  },
  {
   "cell_type": "markdown",
   "metadata": {},
   "source": [
    "## 3. Cluster ranking"
   ]
  },
  {
   "cell_type": "markdown",
   "metadata": {},
   "source": [
    "The strength of cluster $k$ is defined by:\n",
    "$$\n",
    "\\sigma_k = \\frac{2w_k^{(E)}}{w_k^{(V)}}\n",
    "$$\n",
    "where \n",
    "* $w^{(E)}_k$  is the total weight of edges  in cluster $k$ \n",
    "* $w^{(V)}_k$  is the total weight of nodes in cluster $k$"
   ]
  },
  {
   "cell_type": "markdown",
   "metadata": {},
   "source": [
    "## To do\n",
    "\n",
    "* Complete the function `cluster_strength` that returns the strength of each cluster\n",
    "* Answer questions #9 and #10 **(1 point)**"
   ]
  },
  {
   "cell_type": "code",
   "execution_count": null,
   "metadata": {
    "collapsed": true
   },
   "outputs": [],
   "source": [
    "def cluster_strength(G,C):\n",
    "    # G: networkx graph\n",
    "    # C: dictionary (clustering)\n",
    "    # Returns a dictionary (strength of each cluster)\n",
    "    strength = {}\n",
    "    # to be completed\n",
    "    return strength"
   ]
  },
  {
   "cell_type": "code",
   "execution_count": null,
   "metadata": {},
   "outputs": [],
   "source": [
    "get_question(9)"
   ]
  },
  {
   "cell_type": "code",
   "execution_count": null,
   "metadata": {
    "collapsed": true
   },
   "outputs": [],
   "source": [
    "answer = \"\""
   ]
  },
  {
   "cell_type": "code",
   "execution_count": null,
   "metadata": {},
   "outputs": [],
   "source": [
    "post_answer(9,answer)"
   ]
  },
  {
   "cell_type": "code",
   "execution_count": null,
   "metadata": {},
   "outputs": [],
   "source": [
    "get_question(10)"
   ]
  },
  {
   "cell_type": "code",
   "execution_count": null,
   "metadata": {
    "collapsed": true
   },
   "outputs": [],
   "source": [
    "answer = \"\""
   ]
  },
  {
   "cell_type": "code",
   "execution_count": null,
   "metadata": {},
   "outputs": [],
   "source": [
    "post_answer(10,answer)"
   ]
  },
  {
   "cell_type": "code",
   "execution_count": null,
   "metadata": {
    "collapsed": true
   },
   "outputs": [],
   "source": [
    "G = nx.read_graphml(\"openflights.graphml\", node_type = int)\n",
    "names = nx.get_node_attributes(G, 'name')"
   ]
  },
  {
   "cell_type": "code",
   "execution_count": null,
   "metadata": {
    "collapsed": true
   },
   "outputs": [],
   "source": [
    "G = nx.read_graphml(\"wikipedia-schools-undirected.graphml\", node_type = int)\n",
    "names = nx.get_node_attributes(G, 'name')"
   ]
  },
  {
   "cell_type": "code",
   "execution_count": null,
   "metadata": {
    "collapsed": true
   },
   "outputs": [],
   "source": []
  }
 ],
 "metadata": {
  "anaconda-cloud": {},
  "hide_input": false,
  "kernelspec": {
   "display_name": "Python 3",
   "language": "python",
   "name": "python3"
  },
  "language_info": {
   "codemirror_mode": {
    "name": "ipython",
    "version": 3
   },
   "file_extension": ".py",
   "mimetype": "text/x-python",
   "name": "python",
   "nbconvert_exporter": "python",
   "pygments_lexer": "ipython3",
   "version": "3.6.4"
  },
  "toc": {
   "base_numbering": 1,
   "nav_menu": {},
   "number_sections": true,
   "sideBar": true,
   "skip_h1_title": false,
   "title_cell": "Table of Contents",
   "title_sidebar": "Contents",
   "toc_cell": false,
   "toc_position": {},
   "toc_section_display": true,
   "toc_window_display": false
  },
  "varInspector": {
   "cols": {
    "lenName": 16,
    "lenType": 16,
    "lenVar": 40
   },
   "kernels_config": {
    "python": {
     "delete_cmd_postfix": "",
     "delete_cmd_prefix": "del ",
     "library": "var_list.py",
     "varRefreshCmd": "print(var_dic_list())"
    },
    "r": {
     "delete_cmd_postfix": ") ",
     "delete_cmd_prefix": "rm(",
     "library": "var_list.r",
     "varRefreshCmd": "cat(var_dic_list()) "
    }
   },
   "types_to_exclude": [
    "module",
    "function",
    "builtin_function_or_method",
    "instance",
    "_Feature"
   ],
   "window_display": false
  }
 },
 "nbformat": 4,
 "nbformat_minor": 1
}
