{
 "cells": [
  {
   "cell_type": "markdown",
   "metadata": {},
   "source": [
    "# SD212: Graph mining\n",
    "## Review of Lab 1: Sampling nodes and edges"
   ]
  },
  {
   "cell_type": "markdown",
   "metadata": {},
   "source": [
    "This is the review of the open answer of Lab 1. "
   ]
  },
  {
   "cell_type": "markdown",
   "metadata": {},
   "source": [
    "## Getting started"
   ]
  },
  {
   "cell_type": "code",
   "execution_count": 48,
   "metadata": {
    "ExecuteTime": {
     "end_time": "2018-05-02T08:55:31.204269Z",
     "start_time": "2018-05-02T08:55:31.200978Z"
    }
   },
   "outputs": [
    {
     "name": "stdout",
     "output_type": "stream",
     "text": [
      "11.509503803151361\n"
     ]
    }
   ],
   "source": [
    "import math\n",
    "print(3 * math.log2(1000/70))"
   ]
  },
  {
   "cell_type": "code",
   "execution_count": 1,
   "metadata": {
    "ExecuteTime": {
     "end_time": "2018-05-02T08:05:15.709804Z",
     "start_time": "2018-05-02T08:05:15.682766Z"
    }
   },
   "outputs": [],
   "source": [
    "from connector import Connector"
   ]
  },
  {
   "cell_type": "code",
   "execution_count": 3,
   "metadata": {
    "ExecuteTime": {
     "end_time": "2018-05-02T08:05:35.607266Z",
     "start_time": "2018-05-02T08:05:35.604196Z"
    }
   },
   "outputs": [],
   "source": [
    "base_url = 'http://137.194.192.13:8234'\n",
    "lab_id = 'lab1'\n",
    "question_id = 10"
   ]
  },
  {
   "cell_type": "markdown",
   "metadata": {},
   "source": [
    "## Correct answer"
   ]
  },
  {
   "cell_type": "markdown",
   "metadata": {},
   "source": [
    "Points to check:\n",
    "1. The mean degree of the **random neighbor** of a random node is larger than the mean degree of a random node, as expected (this is the friendship paradox)\n",
    "2. The mean degree of the random end of a **random edge** is larger than the mean degree of a random node, as expected\n",
    "3. The mean degree of a random neighbor of Charles de Gaulle airport is smaller than the degree of Charles de Gaulle airport; this is because Charles de Gaulle airport has a large degree compared to other airports. For a typical node, the mean degree of its neighbors is higher, see point 1.\n",
    "4. The graph is slightly **disassortative** since the correlation between degrees of neighbors is negative (but low). "
   ]
  },
  {
   "cell_type": "markdown",
   "metadata": {},
   "source": [
    "## Rating\n",
    "\n",
    "You need to give a score between 0 and 3, referring to the correct answer above and the following rating:\n",
    "* **0:** no answer\n",
    "* **1:** incomplete answer (several points missing)\n",
    "* **2:** almost complete answer (1 point missing or several incomplete points)\n",
    "* **3:** complete answer \n",
    "\n",
    "Only integers scores are allowed!"
   ]
  },
  {
   "cell_type": "markdown",
   "metadata": {},
   "source": [
    "## To do\n",
    "\n",
    "* Enter your login\n",
    "* Enter review #0 (your answer) \n",
    "* Enter reviews #1 #2 #3 (other students' answers)\n",
    "\n",
    "In case of multiple ratings for the same review, only the last one will be considered."
   ]
  },
  {
   "cell_type": "code",
   "execution_count": 33,
   "metadata": {
    "ExecuteTime": {
     "end_time": "2018-05-02T08:16:41.104141Z",
     "start_time": "2018-05-02T08:16:41.099963Z"
    }
   },
   "outputs": [],
   "source": [
    "login = 'zhuf'"
   ]
  },
  {
   "cell_type": "code",
   "execution_count": 34,
   "metadata": {
    "ExecuteTime": {
     "end_time": "2018-05-02T08:16:41.516105Z",
     "start_time": "2018-05-02T08:16:41.512096Z"
    }
   },
   "outputs": [],
   "source": [
    "connector = Connector(base_url, lab_id, login)\n",
    "get_answer = lambda review_id: connector.get_answer(question_id, review_id)\n",
    "post_rating = lambda review_id, rating: connector.post_rating(question_id, review_id, rating)"
   ]
  },
  {
   "cell_type": "code",
   "execution_count": 35,
   "metadata": {
    "ExecuteTime": {
     "end_time": "2018-05-02T08:16:42.728369Z",
     "start_time": "2018-05-02T08:16:42.711333Z"
    }
   },
   "outputs": [
    {
     "name": "stdout",
     "output_type": "stream",
     "text": [
      "...\n",
      "5.\n",
      "6.\n",
      "7.\n",
      "8. All the neighbor of CDS is also busy\n",
      "9. There are no signifiant relation between the degree of the neighbors.\n"
     ]
    }
   ],
   "source": [
    "get_answer(0)"
   ]
  },
  {
   "cell_type": "code",
   "execution_count": 36,
   "metadata": {
    "ExecuteTime": {
     "end_time": "2018-05-02T08:16:43.147469Z",
     "start_time": "2018-05-02T08:16:43.143417Z"
    }
   },
   "outputs": [],
   "source": [
    "# To be modified\n",
    "rating = 2"
   ]
  },
  {
   "cell_type": "code",
   "execution_count": 37,
   "metadata": {
    "ExecuteTime": {
     "end_time": "2018-05-02T08:16:44.075610Z",
     "start_time": "2018-05-02T08:16:44.056925Z"
    }
   },
   "outputs": [
    {
     "name": "stdout",
     "output_type": "stream",
     "text": [
      "Rating posted\n"
     ]
    }
   ],
   "source": [
    "post_rating(0, rating)"
   ]
  },
  {
   "cell_type": "code",
   "execution_count": 38,
   "metadata": {
    "ExecuteTime": {
     "end_time": "2018-05-02T08:16:44.461567Z",
     "start_time": "2018-05-02T08:16:44.444462Z"
    }
   },
   "outputs": [
    {
     "name": "stdout",
     "output_type": "stream",
     "text": [
      "No answer\n"
     ]
    }
   ],
   "source": [
    "get_answer(1)"
   ]
  },
  {
   "cell_type": "code",
   "execution_count": 39,
   "metadata": {
    "ExecuteTime": {
     "end_time": "2018-05-02T08:16:44.764129Z",
     "start_time": "2018-05-02T08:16:44.760629Z"
    }
   },
   "outputs": [],
   "source": [
    "# To be modified\n",
    "rating = 0"
   ]
  },
  {
   "cell_type": "code",
   "execution_count": 40,
   "metadata": {
    "ExecuteTime": {
     "end_time": "2018-05-02T08:16:45.104225Z",
     "start_time": "2018-05-02T08:16:45.079173Z"
    }
   },
   "outputs": [
    {
     "name": "stdout",
     "output_type": "stream",
     "text": [
      "Rating posted\n"
     ]
    }
   ],
   "source": [
    "post_rating(1, rating)"
   ]
  },
  {
   "cell_type": "code",
   "execution_count": 41,
   "metadata": {
    "ExecuteTime": {
     "end_time": "2018-05-02T08:16:45.408757Z",
     "start_time": "2018-05-02T08:16:45.391714Z"
    }
   },
   "outputs": [
    {
     "name": "stdout",
     "output_type": "stream",
     "text": [
      "All the answers are correctly answered.\n",
      "The result is corresponding to the theory that we learned in class.\n"
     ]
    }
   ],
   "source": [
    "get_answer(2)"
   ]
  },
  {
   "cell_type": "code",
   "execution_count": 42,
   "metadata": {
    "ExecuteTime": {
     "end_time": "2018-05-02T08:16:45.622687Z",
     "start_time": "2018-05-02T08:16:45.619645Z"
    }
   },
   "outputs": [],
   "source": [
    "# To be modified\n",
    "rating = 1"
   ]
  },
  {
   "cell_type": "code",
   "execution_count": 43,
   "metadata": {
    "ExecuteTime": {
     "end_time": "2018-05-02T08:16:45.902516Z",
     "start_time": "2018-05-02T08:16:45.887514Z"
    }
   },
   "outputs": [
    {
     "name": "stdout",
     "output_type": "stream",
     "text": [
      "Rating posted\n"
     ]
    }
   ],
   "source": [
    "post_rating(2, rating)"
   ]
  },
  {
   "cell_type": "code",
   "execution_count": 44,
   "metadata": {
    "ExecuteTime": {
     "end_time": "2018-05-02T08:16:46.179194Z",
     "start_time": "2018-05-02T08:16:46.161496Z"
    }
   },
   "outputs": [
    {
     "name": "stdout",
     "output_type": "stream",
     "text": [
      "\"Your friends have more friends than you on average!\" is shown thanks to #5 and #6\n",
      "\n",
      "the inequality E(X^)>E(X) is shown is #7\n",
      "\n",
      "The coefficient of correlation is close to 0. This means that, two neighbours do not have a huge impact on other.\n"
     ]
    }
   ],
   "source": [
    "get_answer(3)"
   ]
  },
  {
   "cell_type": "code",
   "execution_count": 45,
   "metadata": {
    "ExecuteTime": {
     "end_time": "2018-05-02T08:16:46.422252Z",
     "start_time": "2018-05-02T08:16:46.419113Z"
    }
   },
   "outputs": [],
   "source": [
    "# To be modified\n",
    "rating = 2"
   ]
  },
  {
   "cell_type": "code",
   "execution_count": 46,
   "metadata": {
    "ExecuteTime": {
     "end_time": "2018-05-02T08:16:46.694565Z",
     "start_time": "2018-05-02T08:16:46.675515Z"
    }
   },
   "outputs": [
    {
     "name": "stdout",
     "output_type": "stream",
     "text": [
      "Rating posted\n"
     ]
    }
   ],
   "source": [
    "post_rating(3, rating)"
   ]
  },
  {
   "cell_type": "code",
   "execution_count": null,
   "metadata": {},
   "outputs": [],
   "source": []
  },
  {
   "cell_type": "code",
   "execution_count": null,
   "metadata": {},
   "outputs": [],
   "source": []
  }
 ],
 "metadata": {
  "anaconda-cloud": {},
  "hide_input": false,
  "kernelspec": {
   "display_name": "Python 3",
   "language": "python",
   "name": "python3"
  },
  "language_info": {
   "codemirror_mode": {
    "name": "ipython",
    "version": 3
   },
   "file_extension": ".py",
   "mimetype": "text/x-python",
   "name": "python",
   "nbconvert_exporter": "python",
   "pygments_lexer": "ipython3",
   "version": "3.6.4"
  }
 },
 "nbformat": 4,
 "nbformat_minor": 1
}
