{
 "cells": [
  {
   "cell_type": "markdown",
   "metadata": {},
   "source": [
    "# SD212: Graph mining\n",
    "## Lab 7: Soft Clustering\n",
    "\n",
    "You will learn how to apply soft clustering methods to graphs and to compare them to classic clustering methods."
   ]
  },
  {
   "cell_type": "markdown",
   "metadata": {},
   "source": [
    "You **must** be connected to Telecom ParisTech network!"
   ]
  },
  {
   "cell_type": "markdown",
   "metadata": {},
   "source": [
    "## Getting started"
   ]
  },
  {
   "cell_type": "code",
   "execution_count": 131,
   "metadata": {
    "ExecuteTime": {
     "end_time": "2018-06-22T13:26:14.992842Z",
     "start_time": "2018-06-22T13:26:14.989850Z"
    },
    "scrolled": true
   },
   "outputs": [],
   "source": [
    "from connector import Connector"
   ]
  },
  {
   "cell_type": "code",
   "execution_count": 132,
   "metadata": {
    "ExecuteTime": {
     "end_time": "2018-06-22T13:26:15.318969Z",
     "start_time": "2018-06-22T13:26:15.314981Z"
    }
   },
   "outputs": [],
   "source": [
    "import warnings\n",
    "warnings.filterwarnings('ignore')"
   ]
  },
  {
   "cell_type": "code",
   "execution_count": 133,
   "metadata": {
    "ExecuteTime": {
     "end_time": "2018-06-22T13:26:15.601212Z",
     "start_time": "2018-06-22T13:26:15.597256Z"
    }
   },
   "outputs": [],
   "source": [
    "base_url = 'http://137.194.192.13:8234'\n",
    "lab_id = 'lab7'"
   ]
  },
  {
   "cell_type": "markdown",
   "metadata": {},
   "source": [
    "## To do\n",
    "\n",
    "* Enter your login and test it using question #0"
   ]
  },
  {
   "cell_type": "code",
   "execution_count": 134,
   "metadata": {
    "ExecuteTime": {
     "end_time": "2018-06-22T13:26:16.386113Z",
     "start_time": "2018-06-22T13:26:16.383122Z"
    }
   },
   "outputs": [],
   "source": [
    "# Enter your login (last name followed by first letter of first name)\n",
    "login = 'zhuf'"
   ]
  },
  {
   "cell_type": "code",
   "execution_count": 135,
   "metadata": {
    "ExecuteTime": {
     "end_time": "2018-06-22T13:26:16.875829Z",
     "start_time": "2018-06-22T13:26:16.870816Z"
    }
   },
   "outputs": [],
   "source": [
    "connector = Connector(base_url, lab_id, login)\n",
    "get_question = connector.get_question\n",
    "post_answer = connector.post_answer\n",
    "post_text = connector.post_text"
   ]
  },
  {
   "cell_type": "code",
   "execution_count": 136,
   "metadata": {
    "ExecuteTime": {
     "end_time": "2018-06-22T13:26:20.776366Z",
     "start_time": "2018-06-22T13:26:20.747444Z"
    }
   },
   "outputs": [
    {
     "name": "stdout",
     "output_type": "stream",
     "text": [
      "Welcome!\n"
     ]
    }
   ],
   "source": [
    "get_question(0)"
   ]
  },
  {
   "cell_type": "markdown",
   "metadata": {},
   "source": [
    "## Import"
   ]
  },
  {
   "cell_type": "code",
   "execution_count": 137,
   "metadata": {
    "ExecuteTime": {
     "end_time": "2018-06-22T13:26:21.884399Z",
     "start_time": "2018-06-22T13:26:21.880423Z"
    }
   },
   "outputs": [],
   "source": [
    "import networkx as nx"
   ]
  },
  {
   "cell_type": "markdown",
   "metadata": {},
   "source": [
    "The documentation is available [here](https://networkx.readthedocs.io/en/stable/)."
   ]
  },
  {
   "cell_type": "code",
   "execution_count": 138,
   "metadata": {
    "ExecuteTime": {
     "end_time": "2018-06-22T13:26:22.797956Z",
     "start_time": "2018-06-22T13:26:22.787980Z"
    }
   },
   "outputs": [
    {
     "name": "stdout",
     "output_type": "stream",
     "text": [
      "Populating the interactive namespace from numpy and matplotlib\n"
     ]
    }
   ],
   "source": [
    "%pylab inline"
   ]
  },
  {
   "cell_type": "code",
   "execution_count": 139,
   "metadata": {
    "ExecuteTime": {
     "end_time": "2018-06-22T13:26:23.198880Z",
     "start_time": "2018-06-22T13:26:23.194891Z"
    }
   },
   "outputs": [],
   "source": [
    "import numpy as np"
   ]
  },
  {
   "cell_type": "code",
   "execution_count": 140,
   "metadata": {
    "ExecuteTime": {
     "end_time": "2018-06-22T13:26:24.062604Z",
     "start_time": "2018-06-22T13:26:24.059578Z"
    }
   },
   "outputs": [],
   "source": [
    "colors = ['b','g','r','c','m','gold','orange','gray','k','w']"
   ]
  },
  {
   "cell_type": "markdown",
   "metadata": {},
   "source": [
    "## 1. Soft modularity\n",
    "\n",
    "Consider an undirected, weighted graph of $n$ nodes and $m$ edges with adjacency matrix $A$.\n",
    "\n",
    "We use $w_i$ to denote the weighted degree of node $i$,\n",
    "$w_i=\\sum_{j\\in V} A_{ij}$,\n",
    "and $w$ the total weight of the graph $w = \\sum_{i\\in V} w_i$.\n",
    "\n",
    "Given a clustering $C$, the classic modularity is defined as:\n",
    "$$Q(C) = \\frac{1}{w} \\sum_{i,j\\in V} \\left( A_{ij} - \\frac{w_i w_j}{w} \\right) \\delta_{C(i),C(j)}.$$\n",
    "\n",
    "Given a membership matrix $\\mathbf{p}\\in [0,1]^{n\\times K}$, the soft modularity is defined as:\n",
    "$$Q(\\mathbf{p}) = \\frac{1}{w} \\sum_{i,j\\in V} \\left(A_{ij} - \\frac{w_i w_j}{w}\\right)\n",
    "{\\mathbf{p}_{i\\cdot}}^T \\mathbf{p}_{j\\cdot}.$$"
   ]
  },
  {
   "cell_type": "markdown",
   "metadata": {},
   "source": [
    "## Toy graph\n",
    "\n",
    "Consider the following graph:"
   ]
  },
  {
   "cell_type": "code",
   "execution_count": 141,
   "metadata": {
    "ExecuteTime": {
     "end_time": "2018-06-22T13:26:26.143251Z",
     "start_time": "2018-06-22T13:26:26.127321Z"
    }
   },
   "outputs": [],
   "source": [
    "edgelist = [(0, 1), (0, 2), (0, 3), (1, 3), (2, 3), (3, 4), (3, 5), (3, 6), (4, 6), (5, 6)]\n",
    "G = nx.Graph()\n",
    "G.add_edges_from(edgelist)\n",
    "pos = nx.spring_layout(G, center=(.5, .5), scale=.5)"
   ]
  },
  {
   "cell_type": "markdown",
   "metadata": {},
   "source": [
    "We compute the adjacency matrix of the graph"
   ]
  },
  {
   "cell_type": "code",
   "execution_count": 142,
   "metadata": {
    "ExecuteTime": {
     "end_time": "2018-06-22T13:26:26.775556Z",
     "start_time": "2018-06-22T13:26:26.770568Z"
    }
   },
   "outputs": [],
   "source": [
    "nodes = list(G.nodes())\n",
    "A = nx.adj_matrix(G, nodes)"
   ]
  },
  {
   "cell_type": "code",
   "execution_count": 143,
   "metadata": {
    "ExecuteTime": {
     "end_time": "2018-06-22T13:26:27.038849Z",
     "start_time": "2018-06-22T13:26:27.033867Z"
    }
   },
   "outputs": [
    {
     "data": {
      "text/plain": [
       "array([[0, 1, 1, 1, 0, 0, 0],\n",
       "       [1, 0, 0, 1, 0, 0, 0],\n",
       "       [1, 0, 0, 1, 0, 0, 0],\n",
       "       [1, 1, 1, 0, 1, 1, 1],\n",
       "       [0, 0, 0, 1, 0, 0, 1],\n",
       "       [0, 0, 0, 1, 0, 0, 1],\n",
       "       [0, 0, 0, 1, 1, 1, 0]], dtype=int32)"
      ]
     },
     "execution_count": 143,
     "metadata": {},
     "output_type": "execute_result"
    }
   ],
   "source": [
    "A.toarray()"
   ]
  },
  {
   "cell_type": "markdown",
   "metadata": {},
   "source": [
    "Consider the following clustering:"
   ]
  },
  {
   "cell_type": "code",
   "execution_count": 144,
   "metadata": {
    "ExecuteTime": {
     "end_time": "2018-06-22T13:26:27.627277Z",
     "start_time": "2018-06-22T13:26:27.623314Z"
    }
   },
   "outputs": [],
   "source": [
    "C = {0: 0, 1: 0, 2: 0, 3: 0, 4: 1, 5: 1, 6: 1}"
   ]
  },
  {
   "cell_type": "code",
   "execution_count": 145,
   "metadata": {
    "ExecuteTime": {
     "end_time": "2018-06-22T13:26:28.136241Z",
     "start_time": "2018-06-22T13:26:28.043454Z"
    },
    "scrolled": false
   },
   "outputs": [
    {
     "data": {
      "image/png": "[encoded data removed]",
      "text/plain": [
       "<matplotlib.figure.Figure at 0x1c5c88cb4e0>"
      ]
     },
     "metadata": {},
     "output_type": "display_data"
    }
   ],
   "source": [
    "figure()\n",
    "node_color = [colors[C[u] % len(colors)] for u in G.nodes()]\n",
    "nx.draw(G, pos, node_color=node_color, edge_color='gray')"
   ]
  },
  {
   "cell_type": "markdown",
   "metadata": {},
   "source": [
    "## To do\n",
    "\n",
    "* Complete the function `modularity` below and apply it to the clustering defined above\n",
    "* Answer question #1 **(0.5 point)**"
   ]
  },
  {
   "cell_type": "code",
   "execution_count": 160,
   "metadata": {
    "ExecuteTime": {
     "end_time": "2018-06-22T13:28:54.847013Z",
     "start_time": "2018-06-22T13:28:54.843014Z"
    }
   },
   "outputs": [
    {
     "name": "stdout",
     "output_type": "stream",
     "text": [
      "1\n"
     ]
    }
   ],
   "source": [
    "print(A[0,1])"
   ]
  },
  {
   "cell_type": "code",
   "execution_count": 173,
   "metadata": {
    "ExecuteTime": {
     "end_time": "2018-06-22T13:32:53.728999Z",
     "start_time": "2018-06-22T13:32:53.718028Z"
    }
   },
   "outputs": [],
   "source": [
    "def modularity(A, C, gamma):\n",
    "    # A: adjacency matrix of a weighted graph\n",
    "    # C: clustering (dictionary)\n",
    "    # gamma: resolution parameter\n",
    "    # Returns: Q, modularity (at resolution gamma)\n",
    "    Q = 0\n",
    "    w = np.sum(A)\n",
    "    _sum = 0.0\n",
    "    for i in range(A.shape[0]):\n",
    "        for j in range(A.shape[1]):\n",
    "            if( C[i] == C[j]):\n",
    "                _sum = _sum + (A[i,j] - np.sum(A[i]) * np.sum(A[j]) /w)*gamma\n",
    "    Q = _sum/w\n",
    "    return Q"
   ]
  },
  {
   "cell_type": "code",
   "execution_count": 174,
   "metadata": {
    "ExecuteTime": {
     "end_time": "2018-06-22T13:32:54.216695Z",
     "start_time": "2018-06-22T13:32:54.199740Z"
    }
   },
   "outputs": [
    {
     "name": "stdout",
     "output_type": "stream",
     "text": [
      "0.15499999999999997\n"
     ]
    }
   ],
   "source": [
    "print(modularity(A, C, 1.))"
   ]
  },
  {
   "cell_type": "code",
   "execution_count": 175,
   "metadata": {
    "ExecuteTime": {
     "end_time": "2018-06-22T13:32:55.026529Z",
     "start_time": "2018-06-22T13:32:55.012564Z"
    },
    "scrolled": true
   },
   "outputs": [
    {
     "name": "stdout",
     "output_type": "stream",
     "text": [
      "What is the modularity of the clustering C at resolution 1?\n",
      "(Enter a float)\n"
     ]
    }
   ],
   "source": [
    "get_question(1)"
   ]
  },
  {
   "cell_type": "code",
   "execution_count": 176,
   "metadata": {
    "ExecuteTime": {
     "end_time": "2018-06-22T13:32:56.399887Z",
     "start_time": "2018-06-22T13:32:56.396861Z"
    }
   },
   "outputs": [],
   "source": [
    "answer = 0.154999999"
   ]
  },
  {
   "cell_type": "code",
   "execution_count": 177,
   "metadata": {
    "ExecuteTime": {
     "end_time": "2018-06-22T13:32:56.771856Z",
     "start_time": "2018-06-22T13:32:56.757897Z"
    }
   },
   "outputs": [
    {
     "name": "stdout",
     "output_type": "stream",
     "text": [
      "This is correct!\n"
     ]
    }
   ],
   "source": [
    "post_answer(1, answer)"
   ]
  },
  {
   "cell_type": "markdown",
   "metadata": {},
   "source": [
    "Consider the following membership matrix:"
   ]
  },
  {
   "cell_type": "code",
   "execution_count": 206,
   "metadata": {
    "ExecuteTime": {
     "end_time": "2018-06-22T13:39:25.297455Z",
     "start_time": "2018-06-22T13:39:25.286484Z"
    }
   },
   "outputs": [
    {
     "name": "stdout",
     "output_type": "stream",
     "text": [
      "[[1.  0. ]\n",
      " [1.  0. ]\n",
      " [1.  0. ]\n",
      " [0.5 0.5]\n",
      " [0.  1. ]\n",
      " [0.  1. ]\n",
      " [0.  1. ]]\n"
     ]
    }
   ],
   "source": [
    "p = np.zeros((7, 2))\n",
    "p[(0, 0)] = 1.\n",
    "p[(1, 0)] = 1.\n",
    "p[(2, 0)] = 1\n",
    "p[(3, 0)] = .5\n",
    "p[(3, 1)] = .5\n",
    "p[(4, 1)] = 1.\n",
    "p[(5, 1)] = 1.\n",
    "p[(6, 1)] = 1.\n",
    "print(p)"
   ]
  },
  {
   "cell_type": "code",
   "execution_count": 207,
   "metadata": {
    "ExecuteTime": {
     "end_time": "2018-06-22T13:39:26.466348Z",
     "start_time": "2018-06-22T13:39:26.435412Z"
    }
   },
   "outputs": [],
   "source": [
    "def plot_communities(graph, pos, membership, figsize=(4, 4)):\n",
    "    fig = plt.figure(figsize=figsize)\n",
    "    ax = plt.axes([0, 0, 1, 1])\n",
    "    ax.set_aspect('equal')\n",
    "    nx.draw_networkx_edges(graph, pos, ax=ax)\n",
    "\n",
    "    plt.xlim(-0.1, 1.1)\n",
    "    plt.ylim(-0.1, 1.1)\n",
    "\n",
    "    plt.axis('off')\n",
    "    trans = ax.transData.transform\n",
    "    trans2 = fig.transFigure.inverted().transform\n",
    "\n",
    "    pie_size = 0.05\n",
    "    p2 = pie_size / 2.0\n",
    "    for node in graph:\n",
    "        xx, yy = trans(pos[node])   # figure coordinates\n",
    "        xa, ya = trans2((xx, yy))   # axes coordinates\n",
    "        a = plt.axes([xa - p2, ya - p2, pie_size, pie_size])\n",
    "        a.set_aspect('equal')\n",
    "        fractions = membership[node]\n",
    "        a.pie(fractions)\n",
    "    plt.show()"
   ]
  },
  {
   "cell_type": "code",
   "execution_count": 208,
   "metadata": {
    "ExecuteTime": {
     "end_time": "2018-06-22T13:39:27.832955Z",
     "start_time": "2018-06-22T13:39:27.553703Z"
    },
    "scrolled": true
   },
   "outputs": [
    {
     "data": {
      "image/png": "[encoded data removed]",
      "text/plain": [
       "<matplotlib.figure.Figure at 0x1c5c87946a0>"
      ]
     },
     "metadata": {},
     "output_type": "display_data"
    }
   ],
   "source": [
    "plot_communities(G, pos, p)"
   ]
  },
  {
   "cell_type": "markdown",
   "metadata": {},
   "source": [
    "## To do\n",
    "\n",
    "* Complete the function `soft_modularity` below and apply it to the membership matrix defined above\n",
    "* Answer question #2 (**0.5 point**)\n",
    "* Answer question #3 (**open answer**)"
   ]
  },
  {
   "cell_type": "code",
   "execution_count": 230,
   "metadata": {
    "ExecuteTime": {
     "end_time": "2018-06-22T13:43:56.878896Z",
     "start_time": "2018-06-22T13:43:56.861929Z"
    }
   },
   "outputs": [],
   "source": [
    "def soft_modularity(A, p, gamma):\n",
    "    # A: adjacency matrix of a weighted graph\n",
    "    # p: membership matrix\n",
    "    # gamma: resolution parameter\n",
    "    # Returns: Q, modularity (at resolution gamma)\n",
    "    Q = 0\n",
    "    # to be completed\n",
    "    \n",
    "        # A: adjacency matrix of a weighted graph\n",
    "    # C: clustering (dictionary)\n",
    "    # gamma: resolution parameter\n",
    "    # Returns: Q, modularity (at resolution gamma)\n",
    "    Q = 0\n",
    "    w = np.sum(A)\n",
    "    _sum = 0.0\n",
    "    for i in range(A.shape[0]):\n",
    "        for j in range(A.shape[1]):\n",
    "            p_v = p[i].T.dot(p[j])\n",
    "            _sum = _sum + (A[i,j] - np.sum(A[i]) * np.sum(A[j]) /w) * p_v\n",
    "    Q = _sum/w\n",
    "    \n",
    "    return Q"
   ]
  },
  {
   "cell_type": "code",
   "execution_count": 210,
   "metadata": {
    "ExecuteTime": {
     "end_time": "2018-06-22T13:39:30.565052Z",
     "start_time": "2018-06-22T13:39:30.559041Z"
    }
   },
   "outputs": [
    {
     "data": {
      "text/plain": [
       "array([[1. , 0. ],\n",
       "       [1. , 0. ],\n",
       "       [1. , 0. ],\n",
       "       [0.5, 0.5],\n",
       "       [0. , 1. ],\n",
       "       [0. , 1. ],\n",
       "       [0. , 1. ]])"
      ]
     },
     "execution_count": 210,
     "metadata": {},
     "output_type": "execute_result"
    }
   ],
   "source": [
    "p"
   ]
  },
  {
   "cell_type": "code",
   "execution_count": 204,
   "metadata": {
    "ExecuteTime": {
     "end_time": "2018-06-22T13:39:11.181646Z",
     "start_time": "2018-06-22T13:39:11.171672Z"
    }
   },
   "outputs": [
    {
     "ename": "NameError",
     "evalue": "name 'b' is not defined",
     "output_type": "error",
     "traceback": [
      "\u001b[1;31m---------------------------------------------------------------------------\u001b[0m",
      "\u001b[1;31mNameError\u001b[0m                                 Traceback (most recent call last)",
      "\u001b[1;32m<ipython-input-204-087cd8ac3af6>\u001b[0m in \u001b[0;36m<module>\u001b[1;34m()\u001b[0m\n\u001b[0;32m      1\u001b[0m \u001b[0mp\u001b[0m\u001b[1;33m[\u001b[0m\u001b[1;36m0\u001b[0m\u001b[1;33m]\u001b[0m\u001b[1;33m.\u001b[0m\u001b[0mT\u001b[0m\u001b[1;33m.\u001b[0m\u001b[0mdot\u001b[0m\u001b[1;33m(\u001b[0m\u001b[0mp\u001b[0m\u001b[1;33m[\u001b[0m\u001b[1;36m0\u001b[0m\u001b[1;33m]\u001b[0m\u001b[1;33m)\u001b[0m\u001b[1;33m\u001b[0m\u001b[0m\n\u001b[1;32m----> 2\u001b[1;33m \u001b[0mb\u001b[0m\u001b[1;33m\u001b[0m\u001b[0m\n\u001b[0m",
      "\u001b[1;31mNameError\u001b[0m: name 'b' is not defined"
     ]
    }
   ],
   "source": [
    "p[0].T.dot(p[0])\n",
    "b"
   ]
  },
  {
   "cell_type": "code",
   "execution_count": 211,
   "metadata": {
    "ExecuteTime": {
     "end_time": "2018-06-22T13:39:42.996860Z",
     "start_time": "2018-06-22T13:39:42.969932Z"
    }
   },
   "outputs": [
    {
     "name": "stdout",
     "output_type": "stream",
     "text": [
      "1.0\n",
      "1.0\n",
      "1.0\n",
      "0.5\n",
      "0.0\n",
      "0.0\n",
      "0.0\n",
      "1.0\n",
      "1.0\n",
      "1.0\n",
      "0.5\n",
      "0.0\n",
      "0.0\n",
      "0.0\n",
      "1.0\n",
      "1.0\n",
      "1.0\n",
      "0.5\n",
      "0.0\n",
      "0.0\n",
      "0.0\n",
      "0.5\n",
      "0.5\n",
      "0.5\n",
      "0.5\n",
      "0.5\n",
      "0.5\n",
      "0.5\n",
      "0.0\n",
      "0.0\n",
      "0.0\n",
      "0.5\n",
      "1.0\n",
      "1.0\n",
      "1.0\n",
      "0.0\n",
      "0.0\n",
      "0.0\n",
      "0.5\n",
      "1.0\n",
      "1.0\n",
      "1.0\n",
      "0.0\n",
      "0.0\n",
      "0.0\n",
      "0.5\n",
      "1.0\n",
      "1.0\n",
      "1.0\n",
      "0.2\n"
     ]
    }
   ],
   "source": [
    "print(soft_modularity(A, p, 1.))"
   ]
  },
  {
   "cell_type": "code",
   "execution_count": 212,
   "metadata": {
    "ExecuteTime": {
     "end_time": "2018-06-22T13:39:43.760840Z",
     "start_time": "2018-06-22T13:39:43.746886Z"
    },
    "scrolled": true
   },
   "outputs": [
    {
     "name": "stdout",
     "output_type": "stream",
     "text": [
      "What is the soft modularity of the membership matrix p at resolution 1?\n",
      "(Enter a float)\n"
     ]
    }
   ],
   "source": [
    "get_question(2)"
   ]
  },
  {
   "cell_type": "code",
   "execution_count": 213,
   "metadata": {
    "ExecuteTime": {
     "end_time": "2018-06-22T13:39:50.560624Z",
     "start_time": "2018-06-22T13:39:50.557628Z"
    }
   },
   "outputs": [],
   "source": [
    "answer = 0.2"
   ]
  },
  {
   "cell_type": "code",
   "execution_count": 214,
   "metadata": {
    "ExecuteTime": {
     "end_time": "2018-06-22T13:39:50.991469Z",
     "start_time": "2018-06-22T13:39:50.978516Z"
    }
   },
   "outputs": [
    {
     "name": "stdout",
     "output_type": "stream",
     "text": [
      "This is correct!\n"
     ]
    }
   ],
   "source": [
    "post_answer(2, answer)"
   ]
  },
  {
   "cell_type": "code",
   "execution_count": 216,
   "metadata": {
    "ExecuteTime": {
     "end_time": "2018-06-22T13:39:59.716115Z",
     "start_time": "2018-06-22T13:39:59.657274Z"
    }
   },
   "outputs": [
    {
     "name": "stdout",
     "output_type": "stream",
     "text": [
      "Comment the results.\n"
     ]
    }
   ],
   "source": [
    "get_question(3)"
   ]
  },
  {
   "cell_type": "code",
   "execution_count": 217,
   "metadata": {
    "ExecuteTime": {
     "end_time": "2018-06-22T13:40:00.591774Z",
     "start_time": "2018-06-22T13:40:00.571855Z"
    }
   },
   "outputs": [
    {
     "data": {
      "application/vnd.jupyter.widget-view+json": {
       "model_id": "8426917515724c3096977c872dbb83c1",
       "version_major": 2,
       "version_minor": 0
      },
      "text/html": [
       "<p>Failed to display Jupyter Widget of type <code>Textarea</code>.</p>\n",
       "<p>\n",
       "  If you're reading this message in the Jupyter Notebook or JupyterLab Notebook, it may mean\n",
       "  that the widgets JavaScript is still loading. If this message persists, it\n",
       "  likely means that the widgets JavaScript library is either not installed or\n",
       "  not enabled. See the <a href=\"https://ipywidgets.readthedocs.io/en/stable/user_install.html\">Jupyter\n",
       "  Widgets Documentation</a> for setup instructions.\n",
       "</p>\n",
       "<p>\n",
       "  If you're reading this message in another frontend (for example, a static\n",
       "  rendering on GitHub or <a href=\"https://nbviewer.jupyter.org/\">NBViewer</a>),\n",
       "  it may mean that your frontend doesn't currently support widgets.\n",
       "</p>\n"
      ],
      "text/plain": [
       "Textarea(value='...')"
      ]
     },
     "metadata": {},
     "output_type": "display_data"
    },
    {
     "data": {
      "application/vnd.jupyter.widget-view+json": {
       "model_id": "b6d34bb9295141d59c0db6039beb1c38",
       "version_major": 2,
       "version_minor": 0
      },
      "text/html": [
       "<p>Failed to display Jupyter Widget of type <code>Button</code>.</p>\n",
       "<p>\n",
       "  If you're reading this message in the Jupyter Notebook or JupyterLab Notebook, it may mean\n",
       "  that the widgets JavaScript is still loading. If this message persists, it\n",
       "  likely means that the widgets JavaScript library is either not installed or\n",
       "  not enabled. See the <a href=\"https://ipywidgets.readthedocs.io/en/stable/user_install.html\">Jupyter\n",
       "  Widgets Documentation</a> for setup instructions.\n",
       "</p>\n",
       "<p>\n",
       "  If you're reading this message in another frontend (for example, a static\n",
       "  rendering on GitHub or <a href=\"https://nbviewer.jupyter.org/\">NBViewer</a>),\n",
       "  it may mean that your frontend doesn't currently support widgets.\n",
       "</p>\n"
      ],
      "text/plain": [
       "Button(description='Send', style=ButtonStyle())"
      ]
     },
     "metadata": {},
     "output_type": "display_data"
    }
   ],
   "source": [
    "post_text(3)"
   ]
  },
  {
   "cell_type": "markdown",
   "metadata": {},
   "source": [
    "# 2. Multiple runs of Louvain"
   ]
  },
  {
   "cell_type": "markdown",
   "metadata": {},
   "source": [
    "We define the Louvain algorithm that optimizes the classic modularity function."
   ]
  },
  {
   "cell_type": "code",
   "execution_count": 218,
   "metadata": {
    "ExecuteTime": {
     "end_time": "2018-06-22T13:41:21.846527Z",
     "start_time": "2018-06-22T13:41:21.732811Z"
    }
   },
   "outputs": [],
   "source": [
    "def maximize(G, gamma, random_seed):\n",
    "    # G: networkx graph (undirected, weighted)\n",
    "    # gamma: float (resolution)\n",
    "    # Returns: dictionary (cluster of each node)\n",
    "    \n",
    "    # node weights\n",
    "    node_weight = {u: 0 for u in G.nodes()}\n",
    "    # sum of edge weights\n",
    "    w = 0\n",
    "    for (u,v) in G.edges():\n",
    "        # self-loops are counted twice\n",
    "        node_weight[u] += G[u][v]['weight']\n",
    "        node_weight[v] += G[u][v]['weight']\n",
    "        w += G[u][v]['weight']\n",
    "    # init the clustering\n",
    "    C = {u:u for u in G.nodes()}\n",
    "    # cluster weights\n",
    "    cluster_weight = {u:node_weight[u] for u in G.nodes()}\n",
    "    # node-cluster weights \n",
    "    node_cluster_weight = {u:{v:G[u][v]['weight'] for v in G.neighbors(u) if v != u} for u in G.nodes()}\n",
    "    increase = True\n",
    "    while increase:\n",
    "        increase = False\n",
    "        nodes = list(G.nodes())\n",
    "        random.seed(random_seed)\n",
    "        random.shuffle(nodes)\n",
    "        for u in nodes:\n",
    "            k = C[u]\n",
    "            # target cluster, to be modified\n",
    "            l_max = k\n",
    "            Delta_Q_max = 0\n",
    "            for l in node_cluster_weight[u]:\n",
    "                Delta_Q = node_cluster_weight[u][l]\n",
    "                if k in node_cluster_weight[u]:\n",
    "                    Delta_Q -= node_cluster_weight[u][k]\n",
    "                Delta_Q -= gamma * node_weight[u] / (2 * w) * \\\n",
    "                    (cluster_weight[l] - cluster_weight[k] + node_weight[u])\n",
    "                if Delta_Q > Delta_Q_max:\n",
    "                    Delta_Q_max = Delta_Q\n",
    "                    l_max = l\n",
    "            l = l_max\n",
    "            if l != k:\n",
    "                increase = True\n",
    "                # move u from cluster k to cluster l\n",
    "                C[u] = l\n",
    "                cluster_weight[k] -= node_weight[u]\n",
    "                cluster_weight[l] += node_weight[u]\n",
    "                for v in G.neighbors(u):\n",
    "                    if v != u:\n",
    "                        node_cluster_weight[v][k] -= G[u][v]['weight']\n",
    "                        if node_cluster_weight[v][k] <= 0:\n",
    "                            node_cluster_weight[v].pop(k)\n",
    "                        if l not in node_cluster_weight[v]:\n",
    "                            node_cluster_weight[v][l] = 0\n",
    "                        node_cluster_weight[v][l] += G[u][v]['weight']\n",
    "    return C"
   ]
  },
  {
   "cell_type": "code",
   "execution_count": 219,
   "metadata": {
    "ExecuteTime": {
     "end_time": "2018-06-22T13:41:22.514753Z",
     "start_time": "2018-06-22T13:41:22.501784Z"
    }
   },
   "outputs": [],
   "source": [
    "def aggregate(G,C):\n",
    "    # G: networkx graph\n",
    "    # C: dictionary (clustering)\n",
    "    # Returns: networkx graph (aggregate graph)\n",
    "    H = nx.Graph()\n",
    "    for u in G.nodes():\n",
    "        H.add_node(C[u])\n",
    "    for (u,v) in G.edges():\n",
    "        if H.has_edge(C[u],C[v]):\n",
    "            H[C[u]][C[v]]['weight'] += G[u][v]['weight']\n",
    "        else:\n",
    "            H.add_edge(C[u],C[v])\n",
    "            H[C[u]][C[v]]['weight'] = G[u][v]['weight']\n",
    "    return H"
   ]
  },
  {
   "cell_type": "code",
   "execution_count": 220,
   "metadata": {
    "ExecuteTime": {
     "end_time": "2018-06-22T13:41:24.100471Z",
     "start_time": "2018-06-22T13:41:24.074542Z"
    }
   },
   "outputs": [],
   "source": [
    "def louvain(G, gamma=1, random_seed=0):\n",
    "    # G: networkx graph (undirected, weighted)\n",
    "    # gamma: float (resolution)\n",
    "    # Returns a dictionary (cluster of each node)\n",
    "    if nx.get_edge_attributes(G,'weight') == {}:\n",
    "        for (u,v) in G.edges():\n",
    "            G[u][v]['weight'] = 1\n",
    "    C = maximize(G, gamma, random_seed)\n",
    "    n = len(C)\n",
    "    k = len(set(C.values()))\n",
    "    while k < n:\n",
    "        H = aggregate(G,C) \n",
    "        C_new = maximize(H, gamma, random_seed)\n",
    "        C = {u: C_new[C[u]] for u in G.nodes()}\n",
    "        n = k\n",
    "        k = len(set(C.values()))\n",
    "    # reindex cluster values\n",
    "    cluster_values = list(set(C.values()))\n",
    "    reindex = {c:i for i,c in enumerate(cluster_values)}\n",
    "    C = {u:reindex[C[u]] for u in C}\n",
    "    return C"
   ]
  },
  {
   "cell_type": "markdown",
   "metadata": {},
   "source": [
    "This implementation of `louvain` takes a parameter called `random_seed` that controls the order in which the nodes are considered in the `maximize` sub-routine.\n",
    "\n",
    "Different values of `random_seed` might produce different results."
   ]
  },
  {
   "cell_type": "code",
   "execution_count": 221,
   "metadata": {
    "ExecuteTime": {
     "end_time": "2018-06-22T13:41:27.833481Z",
     "start_time": "2018-06-22T13:41:27.829492Z"
    }
   },
   "outputs": [],
   "source": [
    "C = louvain(G, random_seed=0)"
   ]
  },
  {
   "cell_type": "code",
   "execution_count": 222,
   "metadata": {
    "ExecuteTime": {
     "end_time": "2018-06-22T13:41:28.580520Z",
     "start_time": "2018-06-22T13:41:28.490742Z"
    },
    "scrolled": true
   },
   "outputs": [
    {
     "data": {
      "image/png": "[encoded data removed]",
      "text/plain": [
       "<matplotlib.figure.Figure at 0x1c5c73c2320>"
      ]
     },
     "metadata": {},
     "output_type": "display_data"
    }
   ],
   "source": [
    "figure()\n",
    "node_color = [colors[C[u] % len(colors)] for u in G.nodes()]\n",
    "nx.draw(G, pos, node_color=node_color, edge_color='gray')"
   ]
  },
  {
   "cell_type": "code",
   "execution_count": 223,
   "metadata": {
    "ExecuteTime": {
     "end_time": "2018-06-22T13:41:29.194840Z",
     "start_time": "2018-06-22T13:41:29.189853Z"
    }
   },
   "outputs": [],
   "source": [
    "C = louvain(G, random_seed=3)"
   ]
  },
  {
   "cell_type": "code",
   "execution_count": 224,
   "metadata": {
    "ExecuteTime": {
     "end_time": "2018-06-22T13:41:29.783265Z",
     "start_time": "2018-06-22T13:41:29.697530Z"
    },
    "scrolled": false
   },
   "outputs": [
    {
     "data": {
      "image/png": "[encoded data removed]",
      "text/plain": [
       "<matplotlib.figure.Figure at 0x1c5c72b5f60>"
      ]
     },
     "metadata": {},
     "output_type": "display_data"
    }
   ],
   "source": [
    "figure()\n",
    "node_color = [colors[C[u] % len(colors)] for u in G.nodes()]\n",
    "nx.draw(G, pos, node_color=node_color, edge_color='gray')"
   ]
  },
  {
   "cell_type": "markdown",
   "metadata": {},
   "source": [
    "We now consider the graph of [Les Misérables](https://fr.wikipedia.org/wiki/Les_Misérables) (co-occurence of characters in chapters of the novel of Victor Hugo), than can be downloaded [here](http://perso.telecom-paristech.fr/~bonald/graphs/lab6.zip)."
   ]
  },
  {
   "cell_type": "markdown",
   "metadata": {},
   "source": [
    "## To do\n",
    "\n",
    "* Apply the Louvain algorithm to the Misérables graph for values of the `random_seed` parameter ranging from 0 to 99 (included)\n",
    "* Answer question #4 (**1 point**)\n",
    "* Answer question #5 (**open answer**)"
   ]
  },
  {
   "cell_type": "code",
   "execution_count": 225,
   "metadata": {
    "ExecuteTime": {
     "end_time": "2018-06-22T13:41:32.066154Z",
     "start_time": "2018-06-22T13:41:31.967420Z"
    }
   },
   "outputs": [],
   "source": [
    "G = nx.read_graphml(\"miserables.graphml\", node_type = int)\n",
    "names = nx.get_node_attributes(G, 'name')\n",
    "pos = nx.spring_layout(G)"
   ]
  },
  {
   "cell_type": "code",
   "execution_count": 229,
   "metadata": {
    "ExecuteTime": {
     "end_time": "2018-06-22T13:42:11.547534Z",
     "start_time": "2018-06-22T13:42:11.532609Z"
    }
   },
   "outputs": [
    {
     "name": "stdout",
     "output_type": "stream",
     "text": [
      "{0: 0, 1: 0, 2: 0, 3: 0, 4: 0, 5: 0, 6: 0, 7: 0, 8: 0, 9: 0, 10: 3, 11: 3, 12: 4, 13: 3, 14: 3, 15: 3, 16: 4, 17: 4, 18: 4, 19: 4, 20: 4, 21: 4, 22: 4, 23: 4, 24: 2, 25: 2, 26: 3, 27: 3, 28: 3, 29: 1, 30: 3, 31: 3, 32: 3, 33: 3, 34: 1, 35: 1, 36: 1, 37: 1, 38: 1, 39: 3, 40: 2, 41: 2, 42: 2, 43: 3, 44: 3, 45: 3, 46: 5, 47: 5, 48: 5, 49: 3, 50: 3, 51: 3, 52: 3, 53: 3, 54: 3, 55: 3, 56: 3, 57: 5, 58: 5, 59: 5, 60: 5, 61: 5, 62: 5, 63: 5, 64: 5, 65: 5, 66: 5, 67: 5, 68: 2, 69: 2, 70: 2, 71: 2, 72: 3, 73: 5, 74: 5, 75: 2, 76: 5}\n"
     ]
    }
   ],
   "source": [
    "C = louvain(G, gamma=1, random_seed=0)\n"
   ]
  },
  {
   "cell_type": "code",
   "execution_count": 233,
   "metadata": {
    "ExecuteTime": {
     "end_time": "2018-06-22T13:44:54.870885Z",
     "start_time": "2018-06-22T13:44:54.866890Z"
    }
   },
   "outputs": [
    {
     "name": "stdout",
     "output_type": "stream",
     "text": [
      "(0, {'name': 'Myriel'})\n",
      "(1, {'name': 'Napoleon'})\n",
      "(2, {'name': 'Mlle Baptistine'})\n",
      "(3, {'name': 'Mme Magloire'})\n",
      "(4, {'name': 'Countess de Lo'})\n",
      "(5, {'name': 'Geborand'})\n",
      "(6, {'name': 'Champtercier'})\n",
      "(7, {'name': 'Cravatte'})\n",
      "(8, {'name': 'Count'})\n",
      "(9, {'name': 'Old man'})\n",
      "(10, {'name': 'Labarre'})\n",
      "(11, {'name': 'Valjean'})\n",
      "(12, {'name': 'Marguerite'})\n",
      "(13, {'name': 'Mme Der'})\n",
      "(14, {'name': 'Isabeau'})\n",
      "(15, {'name': 'Gervais'})\n",
      "(16, {'name': 'Tholomyes'})\n",
      "(17, {'name': 'Listolier'})\n",
      "(18, {'name': 'Fameuil'})\n",
      "(19, {'name': 'Blacheville'})\n",
      "(20, {'name': 'Favourite'})\n",
      "(21, {'name': 'Dahlia'})\n",
      "(22, {'name': 'Zephine'})\n",
      "(23, {'name': 'Fantine'})\n",
      "(24, {'name': 'Mme Thenardier'})\n",
      "(25, {'name': 'Thenardier'})\n",
      "(26, {'name': 'Cosette'})\n",
      "(27, {'name': 'Javert'})\n",
      "(28, {'name': 'Fauchelevent'})\n",
      "(29, {'name': 'Bamatabois'})\n",
      "(30, {'name': 'Perpetue'})\n",
      "(31, {'name': 'Simplice'})\n",
      "(32, {'name': 'Scaufflaire'})\n",
      "(33, {'name': 'Woman1'})\n",
      "(34, {'name': 'Judge'})\n",
      "(35, {'name': 'Champmathieu'})\n",
      "(36, {'name': 'Brevet'})\n",
      "(37, {'name': 'Chenildieu'})\n",
      "(38, {'name': 'Cochepaille'})\n",
      "(39, {'name': 'Pontmercy'})\n",
      "(40, {'name': 'Boulatruelle'})\n",
      "(41, {'name': 'Eponine'})\n",
      "(42, {'name': 'Anzelma'})\n",
      "(43, {'name': 'Woman2'})\n",
      "(44, {'name': 'MotherInnocent'})\n",
      "(45, {'name': 'Gribier'})\n",
      "(46, {'name': 'Jondrette'})\n",
      "(47, {'name': 'Mme Burgon'})\n",
      "(48, {'name': 'Gavroche'})\n",
      "(49, {'name': 'Gillenormand'})\n",
      "(50, {'name': 'Magnon'})\n",
      "(51, {'name': 'Mlle Gillenormand'})\n",
      "(52, {'name': 'Mme Pontmercy'})\n",
      "(53, {'name': 'Mlle Vaubois'})\n",
      "(54, {'name': 'Lt Gillenormand'})\n",
      "(55, {'name': 'Marius'})\n",
      "(56, {'name': 'Baroness'})\n",
      "(57, {'name': 'Mabeuf'})\n",
      "(58, {'name': 'Enjolras'})\n",
      "(59, {'name': 'Combeferre'})\n",
      "(60, {'name': 'Prouvaire'})\n",
      "(61, {'name': 'Feuilly'})\n",
      "(62, {'name': 'Courfeyrac'})\n",
      "(63, {'name': 'Bahorel'})\n",
      "(64, {'name': 'Bossuet'})\n",
      "(65, {'name': 'Joly'})\n",
      "(66, {'name': 'Grantaire'})\n",
      "(67, {'name': 'MotherPlutarch'})\n",
      "(68, {'name': 'Gueulemer'})\n",
      "(69, {'name': 'Babet'})\n",
      "(70, {'name': 'Claquesous'})\n",
      "(71, {'name': 'Montparnasse'})\n",
      "(72, {'name': 'Toussaint'})\n",
      "(73, {'name': 'Child1'})\n",
      "(74, {'name': 'Child2'})\n",
      "(75, {'name': 'Brujon'})\n",
      "(76, {'name': 'Mme Hucheloup'})\n"
     ]
    }
   ],
   "source": [
    "for x in G.nodes(True):\n",
    "    print(x)"
   ]
  },
  {
   "cell_type": "code",
   "execution_count": 227,
   "metadata": {
    "ExecuteTime": {
     "end_time": "2018-06-22T13:41:33.646930Z",
     "start_time": "2018-06-22T13:41:33.287910Z"
    }
   },
   "outputs": [
    {
     "data": {
      "image/png": "[encoded data removed]",
      "text/plain": [
       "<matplotlib.figure.Figure at 0x1c5c72b6da0>"
      ]
     },
     "metadata": {},
     "output_type": "display_data"
    }
   ],
   "source": [
    "figure()\n",
    "node_color = [colors[C[u] % len(colors)] for u in G.nodes()]\n",
    "nx.draw(G, pos, labels = names, font_size = 8, node_size = 100, edge_color = 'gray',node_color = node_color)"
   ]
  },
  {
   "cell_type": "code",
   "execution_count": 238,
   "metadata": {
    "ExecuteTime": {
     "end_time": "2018-06-22T13:49:14.320954Z",
     "start_time": "2018-06-22T13:49:14.306965Z"
    }
   },
   "outputs": [
    {
     "name": "stdout",
     "output_type": "stream",
     "text": [
      "When Louvain is executed with values of the random_seed parameter ranging from 0 to 99 (included), in which proportion of the cases Magnon is in the same community as Valjean?\n",
      "(Enter a float)\n"
     ]
    }
   ],
   "source": [
    "get_question(4)"
   ]
  },
  {
   "cell_type": "code",
   "execution_count": 239,
   "metadata": {
    "ExecuteTime": {
     "end_time": "2018-06-22T13:49:25.896494Z",
     "start_time": "2018-06-22T13:49:25.892541Z"
    }
   },
   "outputs": [],
   "source": [
    "answer = 1"
   ]
  },
  {
   "cell_type": "code",
   "execution_count": 243,
   "metadata": {
    "ExecuteTime": {
     "end_time": "2018-06-22T13:49:50.829658Z",
     "start_time": "2018-06-22T13:49:50.154468Z"
    }
   },
   "outputs": [
    {
     "name": "stdout",
     "output_type": "stream",
     "text": [
      "70\n"
     ]
    }
   ],
   "source": [
    "v_sum = 0\n",
    "for n in range(100):\n",
    "    C = louvain(G, gamma=1, random_seed=n)\n",
    "    if(C[50] == C[11]):\n",
    "        v_sum = v_sum + 1\n",
    "print(v_sum)"
   ]
  },
  {
   "cell_type": "code",
   "execution_count": 244,
   "metadata": {
    "ExecuteTime": {
     "end_time": "2018-06-22T13:49:52.266811Z",
     "start_time": "2018-06-22T13:49:52.211960Z"
    }
   },
   "outputs": [
    {
     "name": "stdout",
     "output_type": "stream",
     "text": [
      "This is correct!\n"
     ]
    }
   ],
   "source": [
    "post_answer(4, 0.7)"
   ]
  },
  {
   "cell_type": "code",
   "execution_count": 245,
   "metadata": {
    "ExecuteTime": {
     "end_time": "2018-06-22T13:49:52.663748Z",
     "start_time": "2018-06-22T13:49:52.648790Z"
    }
   },
   "outputs": [
    {
     "name": "stdout",
     "output_type": "stream",
     "text": [
      "Comment the results.\n"
     ]
    }
   ],
   "source": [
    "get_question(5)"
   ]
  },
  {
   "cell_type": "code",
   "execution_count": 55,
   "metadata": {
    "ExecuteTime": {
     "end_time": "2018-06-22T13:08:43.229285Z",
     "start_time": "2018-06-22T13:08:43.210334Z"
    }
   },
   "outputs": [
    {
     "data": {
      "application/vnd.jupyter.widget-view+json": {
       "model_id": "4dca24f6b5e344f18a80fffbc49c1101",
       "version_major": 2,
       "version_minor": 0
      },
      "text/html": [
       "<p>Failed to display Jupyter Widget of type <code>Textarea</code>.</p>\n",
       "<p>\n",
       "  If you're reading this message in the Jupyter Notebook or JupyterLab Notebook, it may mean\n",
       "  that the widgets JavaScript is still loading. If this message persists, it\n",
       "  likely means that the widgets JavaScript library is either not installed or\n",
       "  not enabled. See the <a href=\"https://ipywidgets.readthedocs.io/en/stable/user_install.html\">Jupyter\n",
       "  Widgets Documentation</a> for setup instructions.\n",
       "</p>\n",
       "<p>\n",
       "  If you're reading this message in another frontend (for example, a static\n",
       "  rendering on GitHub or <a href=\"https://nbviewer.jupyter.org/\">NBViewer</a>),\n",
       "  it may mean that your frontend doesn't currently support widgets.\n",
       "</p>\n"
      ],
      "text/plain": [
       "Textarea(value='...')"
      ]
     },
     "metadata": {},
     "output_type": "display_data"
    },
    {
     "data": {
      "application/vnd.jupyter.widget-view+json": {
       "model_id": "65c14dbfd0194b76ba575e803e0cf77d",
       "version_major": 2,
       "version_minor": 0
      },
      "text/html": [
       "<p>Failed to display Jupyter Widget of type <code>Button</code>.</p>\n",
       "<p>\n",
       "  If you're reading this message in the Jupyter Notebook or JupyterLab Notebook, it may mean\n",
       "  that the widgets JavaScript is still loading. If this message persists, it\n",
       "  likely means that the widgets JavaScript library is either not installed or\n",
       "  not enabled. See the <a href=\"https://ipywidgets.readthedocs.io/en/stable/user_install.html\">Jupyter\n",
       "  Widgets Documentation</a> for setup instructions.\n",
       "</p>\n",
       "<p>\n",
       "  If you're reading this message in another frontend (for example, a static\n",
       "  rendering on GitHub or <a href=\"https://nbviewer.jupyter.org/\">NBViewer</a>),\n",
       "  it may mean that your frontend doesn't currently support widgets.\n",
       "</p>\n"
      ],
      "text/plain": [
       "Button(description='Send', style=ButtonStyle())"
      ]
     },
     "metadata": {},
     "output_type": "display_data"
    },
    {
     "name": "stdout",
     "output_type": "stream",
     "text": [
      "Answer posted\n"
     ]
    }
   ],
   "source": [
    "post_text(5)"
   ]
  },
  {
   "cell_type": "markdown",
   "metadata": {},
   "source": [
    "# 3. Projection onto the probability simplex"
   ]
  },
  {
   "cell_type": "markdown",
   "metadata": {},
   "source": [
    "The algorithm to optimize the soft modularity repeats for different values of $i$ the following steps:\n",
    "\n",
    "- $\\hat{\\mathbf{p}}_{i\\cdot} \\leftarrow \\alpha \\mathbf{p}_{i\\cdot}\n",
    "+ t \\sum_{j\\in V}\\left(A_{ij} - \\gamma \\frac{w_i w_j}{w} \\right) \\mathbf{p}_{j\\cdot}$\n",
    "- $\\mathbf{p}_{i\\cdot} \\leftarrow \\pi_{\\mathcal{Y}}(\\hat{\\mathbf{p}}_{i\\cdot})$.\n",
    "\n",
    "where $\\pi_{\\mathcal{Y}}$ is the projection onto the probability simplex $\\mathcal{Y} = \\{ \\mathbf{q}\\in\\mathbb{R}^n : \\mathbf{q} \\geq 0, \\mathbf{1}^T \\mathbf{q} = 1 \\}$.\n"
   ]
  },
  {
   "cell_type": "markdown",
   "metadata": {},
   "source": [
    "The algorithm to perform the projection is the following:\n",
    "\n",
    "- Sort the vector $\\mathbf{v}$ into $\\mathbf{\\mu}$:\n",
    "$\\mu_1\\geq \\mu_2\\geq \\dots \\geq \\mu_n$.\n",
    "- Find $\\rho =\\max\\left\\{ j=1,\\ldots,n,\\:\\mu_j-\\frac{1}{j}\\left( \\sum_{r=1}^j \\mu_r -1\\right)>0\\right\\}$.\n",
    "- Define $\\theta = \\frac{1}{\\rho}\\left(\\sum_{i=1}^\\rho \\mu_i-1 \\right)$.\n",
    "- Finally return $\\pi_{\\mathcal{Y}} \\left(\\mathbf{v}\\right) = (\\mathbf{v} - \\theta\\mathbf{1})_+$, where $(\\mathbf{x})_+$ denotes the soft-thresholding operation $[(\\mathbf{x})_+]_k = \\max(x_k, 0)$.\n"
   ]
  },
  {
   "cell_type": "markdown",
   "metadata": {},
   "source": [
    "## To do\n",
    "\n",
    "* Complete the function `project` below to perform the projection onto $\\mathcal{Y}$\n",
    "* Answer question #6 (**1 point**)"
   ]
  },
  {
   "cell_type": "code",
   "execution_count": 326,
   "metadata": {
    "ExecuteTime": {
     "end_time": "2018-06-22T14:19:40.686115Z",
     "start_time": "2018-06-22T14:19:40.672178Z"
    }
   },
   "outputs": [
    {
     "name": "stdout",
     "output_type": "stream",
     "text": [
      "rho [1.0, 0.45, 0.30000000000000004, 0.14999999999999997, 0.11999999999999994, -0.06666666666666665]\n",
      "1\n",
      "0.18000000000000005\n",
      "[ 0.32  0.22  0.12  0.22  0.12 -0.08]\n"
     ]
    }
   ],
   "source": [
    "v = [.5, .4, .3, .4, .3, .1]\n",
    "u = sorted(v, reverse=True)\n",
    "rho = [u[i] - 1/(i+1)*(np.sum(u[:i+1]) - 1) for i in range(len(v))]\n",
    "print('rho', rho)\n",
    "rho = np.argmax(rho) + 1\n",
    "print(rho)\n",
    "theta = 1/5 * (np.sum(u[:5]) - 1)\n",
    "print(theta)\n",
    "print(v - theta * np.ones(len(v)))"
   ]
  },
  {
   "cell_type": "code",
   "execution_count": 330,
   "metadata": {
    "ExecuteTime": {
     "end_time": "2018-06-22T14:21:15.165791Z",
     "start_time": "2018-06-22T14:21:15.147828Z"
    }
   },
   "outputs": [],
   "source": [
    "def project(v):\n",
    "    # v: vector\n",
    "    # Returns: w, projection onto the probability simplex\n",
    "    u = sorted(v, reverse=True)\n",
    "    rho = [u[i] - 1/(i+1)*(np.sum(u[:i+1]) - 1) for i in range(len(v))]\n",
    "    print(\"rho\", rho)\n",
    "    index = 0\n",
    "    for i in range(len(rho)):\n",
    "        if rho[i]>0:\n",
    "            index = i+1\n",
    "    rho = index\n",
    "    theta = 1/rho * (np.sum(u[:rho]) - 1)\n",
    "    pro = v - theta * np.ones(len(v))\n",
    "    \n",
    "    return [ max(x,0) for x in pro] "
   ]
  },
  {
   "cell_type": "markdown",
   "metadata": {},
   "source": [
    "We consider the vector $v$ defined as"
   ]
  },
  {
   "cell_type": "code",
   "execution_count": 331,
   "metadata": {
    "ExecuteTime": {
     "end_time": "2018-06-22T14:21:17.312034Z",
     "start_time": "2018-06-22T14:21:17.308046Z"
    }
   },
   "outputs": [],
   "source": [
    "v = [.5, .4, .3, .4, .3, .1]"
   ]
  },
  {
   "cell_type": "code",
   "execution_count": 332,
   "metadata": {
    "ExecuteTime": {
     "end_time": "2018-06-22T14:21:18.239558Z",
     "start_time": "2018-06-22T14:21:18.235577Z"
    }
   },
   "outputs": [
    {
     "name": "stdout",
     "output_type": "stream",
     "text": [
      "rho [1.0, 0.45, 0.30000000000000004, 0.14999999999999997, 0.11999999999999994, -0.06666666666666665]\n",
      "[0.31999999999999995, 0.21999999999999997, 0.11999999999999994, 0.21999999999999997, 0.11999999999999994, 0]\n"
     ]
    }
   ],
   "source": [
    "pro = project(v)\n",
    "print(pro)"
   ]
  },
  {
   "cell_type": "code",
   "execution_count": 280,
   "metadata": {
    "ExecuteTime": {
     "end_time": "2018-06-22T14:08:07.315623Z",
     "start_time": "2018-06-22T14:08:07.300662Z"
    },
    "scrolled": true
   },
   "outputs": [
    {
     "name": "stdout",
     "output_type": "stream",
     "text": [
      "What is the value of the third component of the projection of the vector v into the probability simplex?\n",
      "(Enter a float)\n"
     ]
    }
   ],
   "source": [
    "get_question(6)"
   ]
  },
  {
   "cell_type": "code",
   "execution_count": 302,
   "metadata": {
    "ExecuteTime": {
     "end_time": "2018-06-22T14:14:22.963944Z",
     "start_time": "2018-06-22T14:14:22.959955Z"
    }
   },
   "outputs": [],
   "source": [
    "answer = 0.12"
   ]
  },
  {
   "cell_type": "code",
   "execution_count": 303,
   "metadata": {
    "ExecuteTime": {
     "end_time": "2018-06-22T14:14:23.381826Z",
     "start_time": "2018-06-22T14:14:23.367863Z"
    }
   },
   "outputs": [
    {
     "name": "stdout",
     "output_type": "stream",
     "text": [
      "This is correct!\n"
     ]
    }
   ],
   "source": [
    "post_answer(6, answer)"
   ]
  },
  {
   "cell_type": "markdown",
   "metadata": {},
   "source": [
    "# 4. Soft clustering algorithm"
   ]
  },
  {
   "cell_type": "markdown",
   "metadata": {},
   "source": [
    "We use the following algorithm to optimize the soft modularity.\n",
    "- **Initialization:**\n",
    "    * $C\\leftarrow$ result of Louvain\n",
    "    * $\\forall i,k$, $p_{ik} \\leftarrow \\begin{cases} 1 & C(i)=k\\\\ 0 & \\text{otherwise}\\end{cases}$\n",
    "    * $\\forall k$, $\\bar{\\mathbf{p}}_k \\leftarrow \\sum_{i} \\frac{w_i}{w} p_{ik}$.\n",
    "- **One epoch:** For each node $i\\in V$,\n",
    "    * $\\forall k$,\n",
    "    $\\hat{p}_{ik}\\leftarrow \\alpha p_{ik} + t\\sum_{j\\sim i}A_{ij}(p_{jk} - \\gamma \\bar{p}_k)$\n",
    "    * $\\mathbf{p}_{i\\cdot}^+ \\leftarrow \\mathrm{project}(\\hat{\\mathbf{p}}_{i\\cdot})$\n",
    "    * $\\bar{\\mathbf{p}} \\leftarrow \\bar{\\mathbf{p}} + (w_i/w) (\\mathbf{p}_{i\\cdot}^+ - \\mathbf{p}_{i\\cdot})$\n",
    "    and $\\mathbf{p}_{i\\cdot}\\leftarrow \\mathbf{p}_{i\\cdot}^+$.\n"
   ]
  },
  {
   "cell_type": "markdown",
   "metadata": {},
   "source": [
    "## Toy graph"
   ]
  },
  {
   "cell_type": "code",
   "execution_count": 323,
   "metadata": {
    "ExecuteTime": {
     "end_time": "2018-06-22T14:18:26.627672Z",
     "start_time": "2018-06-22T14:18:26.611708Z"
    }
   },
   "outputs": [],
   "source": [
    "edgelist = [(0, 1), (0, 2), (0, 3), (1, 3), (2, 3), (3, 4), (3, 5), (3, 6), (4, 6), (5, 6)]\n",
    "G = nx.Graph()\n",
    "G.add_edges_from(edgelist)\n",
    "pos = nx.spring_layout(G, center=(.5, .5), scale=.5)"
   ]
  },
  {
   "cell_type": "code",
   "execution_count": 324,
   "metadata": {
    "ExecuteTime": {
     "end_time": "2018-06-22T14:18:26.962769Z",
     "start_time": "2018-06-22T14:18:26.957782Z"
    }
   },
   "outputs": [],
   "source": [
    "nodes = list(G.nodes())\n",
    "A = nx.adj_matrix(G, nodes)"
   ]
  },
  {
   "cell_type": "markdown",
   "metadata": {},
   "source": [
    "## To do\n",
    "\n",
    "* Complete the function `soft_maximize` below to implement the soft modularity optimization algorithm\n",
    "* Answer question #7 (**1 point**)"
   ]
  },
  {
   "cell_type": "code",
   "execution_count": 364,
   "metadata": {
    "ExecuteTime": {
     "end_time": "2018-06-22T14:42:20.870780Z",
     "start_time": "2018-06-22T14:42:20.808958Z"
    }
   },
   "outputs": [],
   "source": [
    "def soft_maximize(A, gamma=1., alpha=1., t=1., n_epochs=1):\n",
    "    # G: networkx graph\n",
    "    # gamma: resolution parameter\n",
    "    # alpha: bias parameter\n",
    "    # t: learning rate\n",
    "    # n_epochs: number of epochs\n",
    "    # Returns: membership matrix\n",
    "    n = A.shape[0]\n",
    "    w_vec = np.array([np.sum(A[i]) for i in range(n)])\n",
    "    w = np.sum(w_vec)\n",
    "    # Initialization\n",
    "    G= nx.from_scipy_sparse_matrix(A)\n",
    "    C = louvain(G, gamma)\n",
    "    K = max(C.values()) + 1\n",
    "    p = np.zeros((n, K))\n",
    "    p_bar = np.zeros((K))\n",
    "    t_pri = 2*t / w\n",
    "    # TO COMPLETE: initialization of p and p_bar\n",
    "    \n",
    "    # Optimization\n",
    "    print(soft_modularity(A, p, gamma))\n",
    "    for epoch in range(n_epochs):\n",
    "        print(\"Epoch {}\".format(epoch))\n",
    "        for i in range(n):\n",
    "            p_i_hat = np.zeros_like(p_bar)\n",
    "            print(p_bar.shape)\n",
    "            # TO COMPLETE: calculation of p_i_hat\n",
    "            for k in range(K):\n",
    "                item = 0\n",
    "                for j in G.neighbors(i):\n",
    "                    item = item + A[i,j]*(p[j,k] - p_bar[k])\n",
    "                p_i_hat[k] = p[i,k] + t_prim * item\n",
    "                \n",
    "            p_i_plus = project(p_i_hat)\n",
    "            p_bar = p_bar + (w_vec[i] / w) * (p_i_plus - p[i, :])\n",
    "            p[i, :] = p_i_plus\n",
    "        print(soft_modularity(A, p, gamma))\n",
    "    return p"
   ]
  },
  {
   "cell_type": "code",
   "execution_count": 365,
   "metadata": {
    "ExecuteTime": {
     "end_time": "2018-06-22T14:43:15.530505Z",
     "start_time": "2018-06-22T14:42:21.624764Z"
    }
   },
   "outputs": [
    {
     "name": "stdout",
     "output_type": "stream",
     "text": [
      "[2, 66, 344, 388]\n",
      "0.0\n",
      "Epoch 0\n",
      "(4,)\n"
     ]
    },
    {
     "ename": "NameError",
     "evalue": "name 't_prim' is not defined",
     "output_type": "error",
     "traceback": [
      "\u001b[1;31m---------------------------------------------------------------------------\u001b[0m",
      "\u001b[1;31mNameError\u001b[0m                                 Traceback (most recent call last)",
      "\u001b[1;32m<ipython-input-365-e6ad5307ffd5>\u001b[0m in \u001b[0;36m<module>\u001b[1;34m()\u001b[0m\n\u001b[1;32m----> 1\u001b[1;33m \u001b[0mp\u001b[0m \u001b[1;33m=\u001b[0m \u001b[0msoft_maximize\u001b[0m\u001b[1;33m(\u001b[0m\u001b[0mA\u001b[0m\u001b[1;33m,\u001b[0m \u001b[0mgamma\u001b[0m\u001b[1;33m=\u001b[0m\u001b[1;36m1.\u001b[0m\u001b[1;33m,\u001b[0m \u001b[0malpha\u001b[0m\u001b[1;33m=\u001b[0m\u001b[1;36m1.\u001b[0m\u001b[1;33m,\u001b[0m \u001b[0mt\u001b[0m\u001b[1;33m=\u001b[0m\u001b[1;36m1.\u001b[0m\u001b[1;33m,\u001b[0m \u001b[0mn_epochs\u001b[0m\u001b[1;33m=\u001b[0m\u001b[1;36m10\u001b[0m\u001b[1;33m)\u001b[0m\u001b[1;33m\u001b[0m\u001b[0m\n\u001b[0m",
      "\u001b[1;32m<ipython-input-364-f420f520ef82>\u001b[0m in \u001b[0;36msoft_maximize\u001b[1;34m(A, gamma, alpha, t, n_epochs)\u001b[0m\n\u001b[0;32m     31\u001b[0m                 \u001b[1;32mfor\u001b[0m \u001b[0mj\u001b[0m \u001b[1;32min\u001b[0m \u001b[0mG\u001b[0m\u001b[1;33m.\u001b[0m\u001b[0mneighbors\u001b[0m\u001b[1;33m(\u001b[0m\u001b[0mi\u001b[0m\u001b[1;33m)\u001b[0m\u001b[1;33m:\u001b[0m\u001b[1;33m\u001b[0m\u001b[0m\n\u001b[0;32m     32\u001b[0m                     \u001b[0mitem\u001b[0m \u001b[1;33m=\u001b[0m \u001b[0mitem\u001b[0m \u001b[1;33m+\u001b[0m \u001b[0mA\u001b[0m\u001b[1;33m[\u001b[0m\u001b[0mi\u001b[0m\u001b[1;33m,\u001b[0m\u001b[0mj\u001b[0m\u001b[1;33m]\u001b[0m\u001b[1;33m*\u001b[0m\u001b[1;33m(\u001b[0m\u001b[0mp\u001b[0m\u001b[1;33m[\u001b[0m\u001b[0mj\u001b[0m\u001b[1;33m,\u001b[0m\u001b[0mk\u001b[0m\u001b[1;33m]\u001b[0m \u001b[1;33m-\u001b[0m \u001b[0mp_bar\u001b[0m\u001b[1;33m[\u001b[0m\u001b[0mk\u001b[0m\u001b[1;33m]\u001b[0m\u001b[1;33m)\u001b[0m\u001b[1;33m\u001b[0m\u001b[0m\n\u001b[1;32m---> 33\u001b[1;33m                 \u001b[0mp_i_hat\u001b[0m\u001b[1;33m[\u001b[0m\u001b[0mk\u001b[0m\u001b[1;33m]\u001b[0m \u001b[1;33m=\u001b[0m \u001b[0mp\u001b[0m\u001b[1;33m[\u001b[0m\u001b[0mi\u001b[0m\u001b[1;33m,\u001b[0m\u001b[0mk\u001b[0m\u001b[1;33m]\u001b[0m \u001b[1;33m+\u001b[0m \u001b[0mt_prim\u001b[0m \u001b[1;33m*\u001b[0m \u001b[0mitem\u001b[0m\u001b[1;33m\u001b[0m\u001b[0m\n\u001b[0m\u001b[0;32m     34\u001b[0m \u001b[1;33m\u001b[0m\u001b[0m\n\u001b[0;32m     35\u001b[0m             \u001b[0mp_i_plus\u001b[0m \u001b[1;33m=\u001b[0m \u001b[0mproject\u001b[0m\u001b[1;33m(\u001b[0m\u001b[0mp_i_hat\u001b[0m\u001b[1;33m)\u001b[0m\u001b[1;33m\u001b[0m\u001b[0m\n",
      "\u001b[1;31mNameError\u001b[0m: name 't_prim' is not defined"
     ]
    }
   ],
   "source": [
    "p = soft_maximize(A, gamma=1., alpha=1., t=1., n_epochs=10)"
   ]
  },
  {
   "cell_type": "code",
   "execution_count": null,
   "metadata": {
    "ExecuteTime": {
     "end_time": "2018-06-22T14:27:53.961895Z",
     "start_time": "2018-06-22T14:27:50.955Z"
    }
   },
   "outputs": [],
   "source": [
    "plot_communities(G, pos, p)"
   ]
  },
  {
   "cell_type": "code",
   "execution_count": 333,
   "metadata": {
    "ExecuteTime": {
     "end_time": "2018-06-22T14:21:27.286670Z",
     "start_time": "2018-06-22T14:21:27.272706Z"
    }
   },
   "outputs": [
    {
     "name": "stdout",
     "output_type": "stream",
     "text": [
      "What is the soft modularity obtained after 10 epochs with parameters gamma=1., alpha=1. and t=1.?\n",
      "(Enter a float)\n"
     ]
    }
   ],
   "source": [
    "get_question(7)"
   ]
  },
  {
   "cell_type": "code",
   "execution_count": 334,
   "metadata": {
    "ExecuteTime": {
     "end_time": "2018-06-22T14:21:32.785017Z",
     "start_time": "2018-06-22T14:21:32.781030Z"
    }
   },
   "outputs": [],
   "source": [
    "answer = 0.19948"
   ]
  },
  {
   "cell_type": "code",
   "execution_count": 335,
   "metadata": {
    "ExecuteTime": {
     "end_time": "2018-06-22T14:21:33.212874Z",
     "start_time": "2018-06-22T14:21:33.200905Z"
    }
   },
   "outputs": [
    {
     "name": "stdout",
     "output_type": "stream",
     "text": [
      "This is correct!\n"
     ]
    }
   ],
   "source": [
    "post_answer(7, answer)"
   ]
  },
  {
   "cell_type": "markdown",
   "metadata": {},
   "source": [
    "## Openflights"
   ]
  },
  {
   "cell_type": "markdown",
   "metadata": {},
   "source": [
    "We now consider the graph of [OpenFlights](https://openflights.org) (number of daily flights between airports), than can be downloaded [here](http://perso.telecom-paristech.fr/~bonald/graphs/lab6.zip)."
   ]
  },
  {
   "cell_type": "code",
   "execution_count": 339,
   "metadata": {
    "ExecuteTime": {
     "end_time": "2018-06-22T14:25:00.599270Z",
     "start_time": "2018-06-22T14:25:00.060712Z"
    }
   },
   "outputs": [],
   "source": [
    "G = nx.read_graphml(\"openflights.graphml\", node_type = int)\n",
    "G.remove_edges_from(nx.selfloop_edges(G))\n",
    "G = G.subgraph([node for node in G if G.degree(node) > 20])\n",
    "giant_component = list(nx.connected_components(G))[0]\n",
    "G = G.subgraph(giant_component)\n",
    "# Get names\n",
    "names = nx.get_node_attributes(G, 'name')"
   ]
  },
  {
   "cell_type": "markdown",
   "metadata": {},
   "source": [
    "We define the adjacency matrix of the graph.\n",
    "\n",
    "**Warning:** the $i^{th}$ row of $A$ corresponds to the $i^{th}$ element of the list `nodes` and not to the node with index $i$ in the object `G`. The same remark applies to columns of $A$."
   ]
  },
  {
   "cell_type": "code",
   "execution_count": 340,
   "metadata": {
    "ExecuteTime": {
     "end_time": "2018-06-22T14:25:01.808034Z",
     "start_time": "2018-06-22T14:25:01.748198Z"
    }
   },
   "outputs": [],
   "source": [
    "nodes = list(G.nodes())\n",
    "A = nx.adj_matrix(G, nodes)"
   ]
  },
  {
   "cell_type": "markdown",
   "metadata": {},
   "source": [
    "We define the size of a *soft* cluster $k$ as follows\n",
    "$$S_k = \\sum_{i} p_{ik}$$\n",
    "and we define its weight as\n",
    "$$W_k = \\sum_{i} w_{ik} p_{ik} = \\bar{p}_k w.$$"
   ]
  },
  {
   "cell_type": "markdown",
   "metadata": {},
   "source": [
    "## To do\n",
    "\n",
    "* Apply the soft modularity optimization algorithm to the OpenFlights graph with parameters `gamma=1.5`, `alpha=0.`, `t=.5` and `n_epochs=3`\n",
    "* Print the size and the weight of each cluster.\n",
    "* Print the Top 10 nodes in terms of degree $w_i$ in each clustes.\n",
    "* List all the nodes that have a positive probability to belong to more than one cluster\n",
    "* Find all the clusters to which 'Lisbon Portela Airport' has a probability to belong. Print the Top 10 nodes in terms of degree $w_i$ in these clusters.\n",
    "* Answer question #8 and #9 (**0.5 point**)\n",
    "* Answer question #10 (**open answer**)"
   ]
  },
  {
   "cell_type": "code",
   "execution_count": 341,
   "metadata": {
    "ExecuteTime": {
     "end_time": "2018-06-22T14:25:09.466571Z",
     "start_time": "2018-06-22T14:25:09.452610Z"
    }
   },
   "outputs": [
    {
     "name": "stdout",
     "output_type": "stream",
     "text": [
      "What is the proportion of nodes with 'mixed membership', i.e. the proportion of nodes that have a positive probability to belong to more than one cluster?\n",
      "(Enter a float)\n",
      "We assume that the soft clustering algorithm has been executed with parameters gamma=1.5, alpha=0., t=.5 and n_epochs=3.\n"
     ]
    }
   ],
   "source": [
    "get_question(8)"
   ]
  },
  {
   "cell_type": "code",
   "execution_count": 355,
   "metadata": {
    "ExecuteTime": {
     "end_time": "2018-06-22T14:30:19.251236Z",
     "start_time": "2018-06-22T14:30:19.248246Z"
    }
   },
   "outputs": [],
   "source": [
    "answer = 0.023809523809523808"
   ]
  },
  {
   "cell_type": "code",
   "execution_count": 356,
   "metadata": {
    "ExecuteTime": {
     "end_time": "2018-06-22T14:30:19.545450Z",
     "start_time": "2018-06-22T14:30:19.532483Z"
    }
   },
   "outputs": [
    {
     "name": "stdout",
     "output_type": "stream",
     "text": [
      "This is correct!\n"
     ]
    }
   ],
   "source": [
    "post_answer(8, answer)"
   ]
  },
  {
   "cell_type": "code",
   "execution_count": 357,
   "metadata": {
    "ExecuteTime": {
     "end_time": "2018-06-22T14:30:20.686403Z",
     "start_time": "2018-06-22T14:30:20.673430Z"
    }
   },
   "outputs": [
    {
     "name": "stdout",
     "output_type": "stream",
     "text": [
      "What is the name of the airport that belongs at the same time to the smallest cluster in terms of weight and the second smallest cluster in terms of size?\n",
      "(Enter a string. The answer must correspond to the content of the 'names' list.)\n"
     ]
    }
   ],
   "source": [
    "get_question(9)"
   ]
  },
  {
   "cell_type": "code",
   "execution_count": 366,
   "metadata": {
    "ExecuteTime": {
     "end_time": "2018-06-22T14:43:44.382138Z",
     "start_time": "2018-06-22T14:43:44.363188Z"
    }
   },
   "outputs": [
    {
     "name": "stdout",
     "output_type": "stream",
     "text": [
      "This is correct!\n"
     ]
    }
   ],
   "source": [
    "post_answer(9, 'Berlin-Schönefeld International Airport')"
   ]
  },
  {
   "cell_type": "code",
   "execution_count": 367,
   "metadata": {
    "ExecuteTime": {
     "end_time": "2018-06-22T14:43:45.452273Z",
     "start_time": "2018-06-22T14:43:45.435319Z"
    }
   },
   "outputs": [
    {
     "name": "stdout",
     "output_type": "stream",
     "text": [
      "Comment the results.\n"
     ]
    }
   ],
   "source": [
    "get_question(10)"
   ]
  },
  {
   "cell_type": "code",
   "execution_count": 368,
   "metadata": {
    "ExecuteTime": {
     "end_time": "2018-06-22T14:43:46.265098Z",
     "start_time": "2018-06-22T14:43:46.246148Z"
    }
   },
   "outputs": [
    {
     "data": {
      "application/vnd.jupyter.widget-view+json": {
       "model_id": "33940922e65944adbd1a4137a38bb7f7",
       "version_major": 2,
       "version_minor": 0
      },
      "text/html": [
       "<p>Failed to display Jupyter Widget of type <code>Textarea</code>.</p>\n",
       "<p>\n",
       "  If you're reading this message in the Jupyter Notebook or JupyterLab Notebook, it may mean\n",
       "  that the widgets JavaScript is still loading. If this message persists, it\n",
       "  likely means that the widgets JavaScript library is either not installed or\n",
       "  not enabled. See the <a href=\"https://ipywidgets.readthedocs.io/en/stable/user_install.html\">Jupyter\n",
       "  Widgets Documentation</a> for setup instructions.\n",
       "</p>\n",
       "<p>\n",
       "  If you're reading this message in another frontend (for example, a static\n",
       "  rendering on GitHub or <a href=\"https://nbviewer.jupyter.org/\">NBViewer</a>),\n",
       "  it may mean that your frontend doesn't currently support widgets.\n",
       "</p>\n"
      ],
      "text/plain": [
       "Textarea(value='...')"
      ]
     },
     "metadata": {},
     "output_type": "display_data"
    },
    {
     "data": {
      "application/vnd.jupyter.widget-view+json": {
       "model_id": "9577b588cde945d586c4f6c3927c7d05",
       "version_major": 2,
       "version_minor": 0
      },
      "text/html": [
       "<p>Failed to display Jupyter Widget of type <code>Button</code>.</p>\n",
       "<p>\n",
       "  If you're reading this message in the Jupyter Notebook or JupyterLab Notebook, it may mean\n",
       "  that the widgets JavaScript is still loading. If this message persists, it\n",
       "  likely means that the widgets JavaScript library is either not installed or\n",
       "  not enabled. See the <a href=\"https://ipywidgets.readthedocs.io/en/stable/user_install.html\">Jupyter\n",
       "  Widgets Documentation</a> for setup instructions.\n",
       "</p>\n",
       "<p>\n",
       "  If you're reading this message in another frontend (for example, a static\n",
       "  rendering on GitHub or <a href=\"https://nbviewer.jupyter.org/\">NBViewer</a>),\n",
       "  it may mean that your frontend doesn't currently support widgets.\n",
       "</p>\n"
      ],
      "text/plain": [
       "Button(description='Send', style=ButtonStyle())"
      ]
     },
     "metadata": {},
     "output_type": "display_data"
    }
   ],
   "source": [
    "post_text(10)"
   ]
  },
  {
   "cell_type": "code",
   "execution_count": null,
   "metadata": {},
   "outputs": [],
   "source": []
  },
  {
   "cell_type": "code",
   "execution_count": null,
   "metadata": {},
   "outputs": [],
   "source": []
  }
 ],
 "metadata": {
  "anaconda-cloud": {},
  "hide_input": false,
  "kernelspec": {
   "display_name": "Python 3",
   "language": "python",
   "name": "python3"
  },
  "language_info": {
   "codemirror_mode": {
    "name": "ipython",
    "version": 3
   },
   "file_extension": ".py",
   "mimetype": "text/x-python",
   "name": "python",
   "nbconvert_exporter": "python",
   "pygments_lexer": "ipython3",
   "version": "3.6.4"
  },
  "toc": {
   "base_numbering": 1,
   "nav_menu": {},
   "number_sections": true,
   "sideBar": true,
   "skip_h1_title": false,
   "title_cell": "Table of Contents",
   "title_sidebar": "Contents",
   "toc_cell": false,
   "toc_position": {},
   "toc_section_display": true,
   "toc_window_display": false
  },
  "varInspector": {
   "cols": {
    "lenName": 16,
    "lenType": 16,
    "lenVar": 40
   },
   "kernels_config": {
    "python": {
     "delete_cmd_postfix": "",
     "delete_cmd_prefix": "del ",
     "library": "var_list.py",
     "varRefreshCmd": "print(var_dic_list())"
    },
    "r": {
     "delete_cmd_postfix": ") ",
     "delete_cmd_prefix": "rm(",
     "library": "var_list.r",
     "varRefreshCmd": "cat(var_dic_list()) "
    }
   },
   "types_to_exclude": [
    "module",
    "function",
    "builtin_function_or_method",
    "instance",
    "_Feature"
   ],
   "window_display": false
  }
 },
 "nbformat": 4,
 "nbformat_minor": 1
}
