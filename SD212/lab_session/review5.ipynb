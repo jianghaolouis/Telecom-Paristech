{
 "cells": [
  {
   "cell_type": "markdown",
   "metadata": {},
   "source": [
    "# SD212: Graph mining\n",
    "## Review of Lab 5: PageRank"
   ]
  },
  {
   "cell_type": "markdown",
   "metadata": {},
   "source": [
    "This is the review of the open answers of Lab 5. "
   ]
  },
  {
   "cell_type": "markdown",
   "metadata": {},
   "source": [
    "## Getting started"
   ]
  },
  {
   "cell_type": "code",
   "execution_count": 1,
   "metadata": {
    "ExecuteTime": {
     "end_time": "2018-06-13T08:17:05.269358Z",
     "start_time": "2018-06-13T08:17:05.259346Z"
    }
   },
   "outputs": [],
   "source": [
    "from connector import Connector"
   ]
  },
  {
   "cell_type": "code",
   "execution_count": 2,
   "metadata": {
    "ExecuteTime": {
     "end_time": "2018-06-13T08:17:05.275319Z",
     "start_time": "2018-06-13T08:17:05.271316Z"
    }
   },
   "outputs": [],
   "source": [
    "base_url = 'http://137.194.192.13:8234'\n",
    "lab_id = 'lab5'"
   ]
  },
  {
   "cell_type": "markdown",
   "metadata": {},
   "source": [
    "## Rating\n",
    "\n",
    "You need to give a score between 0 and 3, referring to the correct answer and the following indicative rating:\n",
    "* **0:** no answer\n",
    "* **1:** incomplete answer (several points missing)\n",
    "* **2:** almost complete answer (1 point missing or several incomplete points)\n",
    "* **3:** complete answer \n",
    "\n",
    "The score granularity is 0.5 (e.g., you can enter 1.5)\n",
    "\n",
    "In case of multiple scores for the same review, only the last one will be considered."
   ]
  },
  {
   "cell_type": "markdown",
   "metadata": {},
   "source": [
    "## Question #2\n",
    "\n",
    "Interpret the results of PageRank vs. betweenness centrality on the toy graph."
   ]
  },
  {
   "cell_type": "markdown",
   "metadata": {},
   "source": [
    "## Correct anwser"
   ]
  },
  {
   "cell_type": "markdown",
   "metadata": {},
   "source": [
    "Points to check:\n",
    "1. In the first graph, the 3 best ranked nodes are 6, 1, 8 because these nodes belong to \"traps\"  (subgraphs from which the random walk cannot escape).   \n",
    "2. Adding edges 2->5 and 6->3 allows the random walk to escape from these traps (the graph becomes strongly connected) and the 3 best ranked nodes become 3, 7, 5, which makes more sense given their position in the graph.\n",
    "3. Betweenness centrality is less sensitive to the presence of traps: nodes 7, 3, 8 are the most central nodes for both graphs."
   ]
  },
  {
   "cell_type": "markdown",
   "metadata": {},
   "source": [
    "## To do\n",
    "\n",
    "* Enter your login\n",
    "* Enter review #0 (your answer) \n",
    "* Enter reviews #1 #2 #3 (other students' answers)"
   ]
  },
  {
   "cell_type": "code",
   "execution_count": 3,
   "metadata": {
    "ExecuteTime": {
     "end_time": "2018-06-13T08:17:27.441465Z",
     "start_time": "2018-06-13T08:17:27.438458Z"
    }
   },
   "outputs": [],
   "source": [
    "login = 'zhuf'"
   ]
  },
  {
   "cell_type": "code",
   "execution_count": 4,
   "metadata": {
    "ExecuteTime": {
     "end_time": "2018-06-13T08:17:27.697766Z",
     "start_time": "2018-06-13T08:17:27.694773Z"
    }
   },
   "outputs": [],
   "source": [
    "question_id = 2"
   ]
  },
  {
   "cell_type": "code",
   "execution_count": 5,
   "metadata": {
    "ExecuteTime": {
     "end_time": "2018-06-13T08:17:28.069784Z",
     "start_time": "2018-06-13T08:17:28.064784Z"
    }
   },
   "outputs": [],
   "source": [
    "connector = Connector(base_url, lab_id, login)\n",
    "get_answer = lambda review_id: connector.get_answer(question_id, review_id)\n",
    "post_rating = lambda review_id, rating: connector.post_rating(question_id, review_id, rating)"
   ]
  },
  {
   "cell_type": "code",
   "execution_count": 6,
   "metadata": {
    "ExecuteTime": {
     "end_time": "2018-06-13T08:17:28.478677Z",
     "start_time": "2018-06-13T08:17:28.443772Z"
    }
   },
   "outputs": [
    {
     "name": "stdout",
     "output_type": "stream",
     "text": [
      "...Because the node 6 has two input degree,and when we go to the node 6, the only node we can get is node 1, and we can come back to 6. It's means node 6 is a trap, when we get into it, we can not get  out. It's way the score of node 6 is highest.\n"
     ]
    }
   ],
   "source": [
    "get_answer(0)"
   ]
  },
  {
   "cell_type": "code",
   "execution_count": 8,
   "metadata": {
    "ExecuteTime": {
     "end_time": "2018-06-13T08:17:40.230255Z",
     "start_time": "2018-06-13T08:17:40.226289Z"
    }
   },
   "outputs": [],
   "source": [
    "# To be modified\n",
    "rating = 3"
   ]
  },
  {
   "cell_type": "code",
   "execution_count": 9,
   "metadata": {
    "ExecuteTime": {
     "end_time": "2018-06-13T08:17:44.593626Z",
     "start_time": "2018-06-13T08:17:44.555694Z"
    }
   },
   "outputs": [
    {
     "name": "stdout",
     "output_type": "stream",
     "text": [
      "Rating posted\n"
     ]
    }
   ],
   "source": [
    "post_rating(0, rating)"
   ]
  },
  {
   "cell_type": "code",
   "execution_count": 22,
   "metadata": {
    "ExecuteTime": {
     "end_time": "2018-06-13T08:18:16.450533Z",
     "start_time": "2018-06-13T08:18:16.428592Z"
    }
   },
   "outputs": [
    {
     "name": "stdout",
     "output_type": "stream",
     "text": [
      "By adding the two edges we see that the top 3 nodes in term of importance (with PageRank) totally change from the previous situation.  We had node 6, 1, and 8 and after adding those to edges we have : 3,7, and 5. When we compute the betweenness centrality of the graph we also notice that those three nodes have a high betweenness centrality : 7, 3 are in the top 2 and 5 is fifth. \n",
      "The node 6,8 used to be a sink node with a high ranking which is normal for a sink. By adding this edges, 8 and 6 are not sink nodes anymore and thus there ranking diminishes.\n",
      "On the other hand the other nodes like 7 and 3 which are now more central(very high betweenness centrality for both of them), and thus they have a greater ranking in the PangeRank, because there are no sink nodes anymore.\n"
     ]
    }
   ],
   "source": [
    "get_answer(1)"
   ]
  },
  {
   "cell_type": "code",
   "execution_count": 23,
   "metadata": {
    "ExecuteTime": {
     "end_time": "2018-06-13T08:18:18.830553Z",
     "start_time": "2018-06-13T08:18:18.827525Z"
    }
   },
   "outputs": [],
   "source": [
    "# To be modified\n",
    "rating = 2"
   ]
  },
  {
   "cell_type": "code",
   "execution_count": 24,
   "metadata": {
    "ExecuteTime": {
     "end_time": "2018-06-13T08:18:19.131744Z",
     "start_time": "2018-06-13T08:18:19.109800Z"
    }
   },
   "outputs": [
    {
     "name": "stdout",
     "output_type": "stream",
     "text": [
      "Rating posted\n"
     ]
    }
   ],
   "source": [
    "post_rating(1, rating)"
   ]
  },
  {
   "cell_type": "code",
   "execution_count": 25,
   "metadata": {
    "ExecuteTime": {
     "end_time": "2018-06-13T08:18:19.374096Z",
     "start_time": "2018-06-13T08:18:19.351156Z"
    }
   },
   "outputs": [
    {
     "name": "stdout",
     "output_type": "stream",
     "text": [
      "C'est la porte d'entrée d'un cycle.\n",
      "On aurait aussi pu avoir 8,2 ou 9 car on n'a pas encore forcé l'irreducibility\n"
     ]
    }
   ],
   "source": [
    "get_answer(2)"
   ]
  },
  {
   "cell_type": "code",
   "execution_count": 26,
   "metadata": {
    "ExecuteTime": {
     "end_time": "2018-06-13T08:18:19.558623Z",
     "start_time": "2018-06-13T08:18:19.555629Z"
    }
   },
   "outputs": [],
   "source": [
    "# To be modified\n",
    "rating = 1"
   ]
  },
  {
   "cell_type": "code",
   "execution_count": 27,
   "metadata": {
    "ExecuteTime": {
     "end_time": "2018-06-13T08:18:21.628947Z",
     "start_time": "2018-06-13T08:18:21.606012Z"
    }
   },
   "outputs": [
    {
     "name": "stdout",
     "output_type": "stream",
     "text": [
      "Rating posted\n"
     ]
    }
   ],
   "source": [
    "post_rating(2, rating)"
   ]
  },
  {
   "cell_type": "code",
   "execution_count": 28,
   "metadata": {
    "ExecuteTime": {
     "end_time": "2018-06-13T08:18:21.896442Z",
     "start_time": "2018-06-13T08:18:21.875498Z"
    }
   },
   "outputs": [
    {
     "name": "stdout",
     "output_type": "stream",
     "text": [
      "the node 3 has the greatest betweenness centrality, that's mean that he has the highest probability to be visited in the page rank\n"
     ]
    }
   ],
   "source": [
    "get_answer(3)"
   ]
  },
  {
   "cell_type": "code",
   "execution_count": 29,
   "metadata": {
    "ExecuteTime": {
     "end_time": "2018-06-13T08:18:23.580486Z",
     "start_time": "2018-06-13T08:18:23.578455Z"
    }
   },
   "outputs": [],
   "source": [
    "# To be modified\n",
    "rating = 1"
   ]
  },
  {
   "cell_type": "code",
   "execution_count": 30,
   "metadata": {
    "ExecuteTime": {
     "end_time": "2018-06-13T08:18:23.883640Z",
     "start_time": "2018-06-13T08:18:23.861706Z"
    }
   },
   "outputs": [
    {
     "name": "stdout",
     "output_type": "stream",
     "text": [
      "Rating posted\n"
     ]
    }
   ],
   "source": [
    "post_rating(1, rating)"
   ]
  },
  {
   "cell_type": "markdown",
   "metadata": {
    "collapsed": true
   },
   "source": [
    "## Question #4\n",
    "\n",
    "Interpret the results of PageRank with $\\alpha \\in [0,1]$ on Les Miserables."
   ]
  },
  {
   "cell_type": "markdown",
   "metadata": {},
   "source": [
    "## Correct answer\n",
    "\n",
    "Points to check:\n",
    "1. When $\\alpha \\to 1$, the PageRank vector tends to the stationary distribution $\\pi$ of the pure random walk (without damping). This vector is proportional to the weights because the graph is undirected; so the ranking is the same as that induced by the weights.\n",
    "2. When $\\alpha \\to 0$, the ranking becomes that given by $\\pi_1$ (= random neighbor sampling), which is very different from the previous one. For instance, Myriel becomes the second best ranked node because it is the only neighbor of 7 nodes.\n",
    "3. Other values of $\\alpha$ correspond to intermediate rankings, between $\\pi_1$ and $\\pi$ (e.g., Myriel slowly goes outside of the top-10 when $\\alpha$ goes from 0 to 1decreases from the second position to the 15-th position)."
   ]
  },
  {
   "cell_type": "markdown",
   "metadata": {},
   "source": [
    "## To do\n",
    "\n",
    "* Enter review #0 (your answer) \n",
    "* Enter reviews #1 #2 #3 (other students' answers)"
   ]
  },
  {
   "cell_type": "code",
   "execution_count": 31,
   "metadata": {
    "ExecuteTime": {
     "end_time": "2018-06-13T08:18:26.104593Z",
     "start_time": "2018-06-13T08:18:26.100602Z"
    }
   },
   "outputs": [],
   "source": [
    "question_id = 4"
   ]
  },
  {
   "cell_type": "code",
   "execution_count": 32,
   "metadata": {
    "ExecuteTime": {
     "end_time": "2018-06-13T08:18:30.237367Z",
     "start_time": "2018-06-13T08:18:30.232379Z"
    }
   },
   "outputs": [],
   "source": [
    "connector = Connector(base_url, lab_id, login)\n",
    "get_answer = lambda review_id: connector.get_answer(question_id, review_id)\n",
    "post_rating = lambda review_id, rating: connector.post_rating(question_id, review_id, rating)"
   ]
  },
  {
   "cell_type": "code",
   "execution_count": 33,
   "metadata": {
    "ExecuteTime": {
     "end_time": "2018-06-13T08:18:30.797880Z",
     "start_time": "2018-06-13T08:18:30.774930Z"
    }
   },
   "outputs": [
    {
     "name": "stdout",
     "output_type": "stream",
     "text": [
      "...Accroding to the our test, we find, when we increase the value of alpha, the rank is proche to the rank of degree. wheb\n"
     ]
    }
   ],
   "source": [
    "get_answer(0)"
   ]
  },
  {
   "cell_type": "code",
   "execution_count": 34,
   "metadata": {
    "ExecuteTime": {
     "end_time": "2018-06-13T08:18:37.074151Z",
     "start_time": "2018-06-13T08:18:37.071160Z"
    }
   },
   "outputs": [],
   "source": [
    "# To be modified\n",
    "rating = 1"
   ]
  },
  {
   "cell_type": "code",
   "execution_count": 35,
   "metadata": {
    "ExecuteTime": {
     "end_time": "2018-06-13T08:18:37.648616Z",
     "start_time": "2018-06-13T08:18:37.625679Z"
    }
   },
   "outputs": [
    {
     "name": "stdout",
     "output_type": "stream",
     "text": [
      "Rating posted\n"
     ]
    }
   ],
   "source": [
    "post_rating(0, rating)"
   ]
  },
  {
   "cell_type": "code",
   "execution_count": 36,
   "metadata": {
    "ExecuteTime": {
     "end_time": "2018-06-13T08:18:39.475511Z",
     "start_time": "2018-06-13T08:18:39.453569Z"
    }
   },
   "outputs": [
    {
     "name": "stdout",
     "output_type": "stream",
     "text": [
      "With a great alpha the top 10 nodes for Page Rank tends to be the top 10 nodes for weights. I ve tested for alpha =0.99 and we have the exact same results. This can be explained by the fact that there are almost no more random jumps, and thus as the graph is not directed there are no sinks so the most highly ranked nodes in the page rank are those with the more connections and consequently the ones with the highest weight.\n",
      "However when we change the value of alpha there are not so much variation in the composition of the top 10. The importance of random jumps is maybe not so important as there cannot be any sink nodes in the graph as it is undirected.\n"
     ]
    }
   ],
   "source": [
    "get_answer(1)"
   ]
  },
  {
   "cell_type": "code",
   "execution_count": 37,
   "metadata": {
    "ExecuteTime": {
     "end_time": "2018-06-13T08:18:42.864698Z",
     "start_time": "2018-06-13T08:18:42.860708Z"
    }
   },
   "outputs": [],
   "source": [
    "# To be modified\n",
    "rating = 2"
   ]
  },
  {
   "cell_type": "code",
   "execution_count": 38,
   "metadata": {
    "ExecuteTime": {
     "end_time": "2018-06-13T08:18:43.225734Z",
     "start_time": "2018-06-13T08:18:43.196811Z"
    }
   },
   "outputs": [
    {
     "name": "stdout",
     "output_type": "stream",
     "text": [
      "Rating posted\n"
     ]
    }
   ],
   "source": [
    "post_rating(1, rating)"
   ]
  },
  {
   "cell_type": "code",
   "execution_count": 39,
   "metadata": {
    "ExecuteTime": {
     "end_time": "2018-06-13T08:18:43.544883Z",
     "start_time": "2018-06-13T08:18:43.523936Z"
    }
   },
   "outputs": [
    {
     "name": "stdout",
     "output_type": "stream",
     "text": [
      "Cette question est reliée à la formule :\n",
      "taille moyenne d'un chemin = alpha / (1 - alpha)\n",
      "\n",
      "En imprimant la distribution des scores de pagerank pour chaque noeud, on voit que pour un alpha proche de 0, les scores se rassemblent tous autour de 1/76, soit une loi uniforme. En effet la taille moyenne de chemin est de zéro donc on ne visite aucun autre noeud et tous les noeuds ont le même intérêt.\n",
      "\n",
      "En revanche plus alpha est grand, plus les scores se diversifient (montent jusqu'à 0.1). Pour alpha proche de 1, les chemins deviennent long (vers +oo). Et on voit apparaître les problèmes de noeuds isolés, réducibilité etc.\n",
      "\n",
      "alpha = 0.85 donne un \n",
      "bon compromis.\n"
     ]
    }
   ],
   "source": [
    "get_answer(2)"
   ]
  },
  {
   "cell_type": "code",
   "execution_count": 40,
   "metadata": {
    "ExecuteTime": {
     "end_time": "2018-06-13T08:18:46.933254Z",
     "start_time": "2018-06-13T08:18:46.928270Z"
    }
   },
   "outputs": [],
   "source": [
    "# To be modified\n",
    "rating = 2"
   ]
  },
  {
   "cell_type": "code",
   "execution_count": 41,
   "metadata": {
    "ExecuteTime": {
     "end_time": "2018-06-13T08:18:47.719362Z",
     "start_time": "2018-06-13T08:18:47.699401Z"
    }
   },
   "outputs": [
    {
     "name": "stdout",
     "output_type": "stream",
     "text": [
      "Rating posted\n"
     ]
    }
   ],
   "source": [
    "post_rating(2, rating)"
   ]
  },
  {
   "cell_type": "code",
   "execution_count": 42,
   "metadata": {
    "ExecuteTime": {
     "end_time": "2018-06-13T08:18:48.268923Z",
     "start_time": "2018-06-13T08:18:48.243952Z"
    }
   },
   "outputs": [
    {
     "name": "stdout",
     "output_type": "stream",
     "text": [
      "alpha represents the  dumping factor and it help to find the probabilty of the following step.\n",
      "- for small alpha ( close to zero), the length of the path is equal to one on average.we can see then that Myriel has a higher rank because it is connected to 7 nodes\n",
      "- for large alpha ( close to 1),  there are a creation of different cluster\n"
     ]
    }
   ],
   "source": [
    "get_answer(3)"
   ]
  },
  {
   "cell_type": "code",
   "execution_count": 43,
   "metadata": {
    "ExecuteTime": {
     "end_time": "2018-06-13T08:18:53.178980Z",
     "start_time": "2018-06-13T08:18:53.175989Z"
    }
   },
   "outputs": [],
   "source": [
    "# To be modified\n",
    "rating = 2"
   ]
  },
  {
   "cell_type": "code",
   "execution_count": 44,
   "metadata": {
    "ExecuteTime": {
     "end_time": "2018-06-13T08:18:53.560011Z",
     "start_time": "2018-06-13T08:18:53.538068Z"
    }
   },
   "outputs": [
    {
     "name": "stdout",
     "output_type": "stream",
     "text": [
      "Rating posted\n"
     ]
    }
   ],
   "source": [
    "post_rating(3, rating)"
   ]
  },
  {
   "cell_type": "code",
   "execution_count": null,
   "metadata": {
    "collapsed": true
   },
   "outputs": [],
   "source": []
  }
 ],
 "metadata": {
  "anaconda-cloud": {},
  "hide_input": false,
  "kernelspec": {
   "display_name": "Python 3",
   "language": "python",
   "name": "python3"
  },
  "language_info": {
   "codemirror_mode": {
    "name": "ipython",
    "version": 3
   },
   "file_extension": ".py",
   "mimetype": "text/x-python",
   "name": "python",
   "nbconvert_exporter": "python",
   "pygments_lexer": "ipython3",
   "version": "3.6.4"
  },
  "toc": {
   "base_numbering": 1,
   "nav_menu": {},
   "number_sections": true,
   "sideBar": true,
   "skip_h1_title": false,
   "title_cell": "Table of Contents",
   "title_sidebar": "Contents",
   "toc_cell": false,
   "toc_position": {},
   "toc_section_display": true,
   "toc_window_display": false
  },
  "varInspector": {
   "cols": {
    "lenName": 16,
    "lenType": 16,
    "lenVar": 40
   },
   "kernels_config": {
    "python": {
     "delete_cmd_postfix": "",
     "delete_cmd_prefix": "del ",
     "library": "var_list.py",
     "varRefreshCmd": "print(var_dic_list())"
    },
    "r": {
     "delete_cmd_postfix": ") ",
     "delete_cmd_prefix": "rm(",
     "library": "var_list.r",
     "varRefreshCmd": "cat(var_dic_list()) "
    }
   },
   "types_to_exclude": [
    "module",
    "function",
    "builtin_function_or_method",
    "instance",
    "_Feature"
   ],
   "window_display": false
  }
 },
 "nbformat": 4,
 "nbformat_minor": 1
}
