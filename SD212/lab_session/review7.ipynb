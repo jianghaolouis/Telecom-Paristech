{
 "cells": [
  {
   "cell_type": "markdown",
   "metadata": {},
   "source": [
    "# SD212: Graph mining\n",
    "## Review of Lab 7: Soft Clustering"
   ]
  },
  {
   "cell_type": "markdown",
   "metadata": {},
   "source": [
    "This is the review of the open answers of Lab 7 (questions #3, #5 and #10). "
   ]
  },
  {
   "cell_type": "markdown",
   "metadata": {},
   "source": [
    "## Getting started"
   ]
  },
  {
   "cell_type": "code",
   "execution_count": 1,
   "metadata": {
    "ExecuteTime": {
     "end_time": "2018-06-25T23:32:57.189387Z",
     "start_time": "2018-06-25T23:32:57.180392Z"
    }
   },
   "outputs": [],
   "source": [
    "from connector import Connector"
   ]
  },
  {
   "cell_type": "code",
   "execution_count": 2,
   "metadata": {
    "ExecuteTime": {
     "end_time": "2018-06-25T23:32:57.194367Z",
     "start_time": "2018-06-25T23:32:57.191363Z"
    }
   },
   "outputs": [],
   "source": [
    "base_url = 'http://137.194.192.13:8234'\n",
    "lab_id = 'lab7'"
   ]
  },
  {
   "cell_type": "markdown",
   "metadata": {},
   "source": [
    "## Rating\n",
    "\n",
    "You must give a score between 0 and 3, referring to the correct answer and the following indicative rating:\n",
    "* **0:** no answer\n",
    "* **1:** incomplete answer (several points missing)\n",
    "* **2:** almost complete answer (1 point missing or several incomplete points)\n",
    "* **3:** complete answer \n",
    "\n",
    "The score granularity is 0.5 (e.g., you can enter 1.5)\n",
    "\n",
    "In case of multiple scores for the same review, only the last one will be considered."
   ]
  },
  {
   "cell_type": "markdown",
   "metadata": {},
   "source": [
    "## Question #3\n",
    "\n",
    "Comment the results on the toy graph."
   ]
  },
  {
   "cell_type": "markdown",
   "metadata": {},
   "source": [
    "## Correct anwser"
   ]
  },
  {
   "cell_type": "markdown",
   "metadata": {},
   "source": [
    "Points to check:\n",
    "1. The soft modularity $Q(\\mathbf{p})$ of $\\mathbf{p}$ is higher than the modularity $Q(C)$ of $C$. Hence, the **quality** of the soft-clustering induced by $\\mathbf{p}$ is **better** than the one of the crisp clustering $C$ according to the modularity quality function.\n",
    "2. The soft modularity arises from **a relaxation** of the classic modularity optimization problem. Thus, the soft modularity function $\\mathbf{p} \\mapsto Q(\\mathbf{p})$ can take higher values than the classic modularity function $C \\mapsto Q(C)$. This toy graph example illustrates this phenomenon."
   ]
  },
  {
   "cell_type": "markdown",
   "metadata": {},
   "source": [
    "## To do\n",
    "\n",
    "* Enter your login\n",
    "* Enter review #0 (your answer) \n",
    "* Enter reviews #1 #2 #3 (other students' answers)"
   ]
  },
  {
   "cell_type": "code",
   "execution_count": 3,
   "metadata": {
    "ExecuteTime": {
     "end_time": "2018-06-25T23:33:05.596894Z",
     "start_time": "2018-06-25T23:33:05.592909Z"
    }
   },
   "outputs": [],
   "source": [
    "login = 'zhuf'"
   ]
  },
  {
   "cell_type": "code",
   "execution_count": 4,
   "metadata": {
    "ExecuteTime": {
     "end_time": "2018-06-25T23:33:06.124485Z",
     "start_time": "2018-06-25T23:33:06.121493Z"
    }
   },
   "outputs": [],
   "source": [
    "question_id = 3"
   ]
  },
  {
   "cell_type": "code",
   "execution_count": 5,
   "metadata": {
    "ExecuteTime": {
     "end_time": "2018-06-25T23:33:06.581268Z",
     "start_time": "2018-06-25T23:33:06.575279Z"
    }
   },
   "outputs": [],
   "source": [
    "connector = Connector(base_url, lab_id, login)\n",
    "get_answer = lambda review_id: connector.get_answer(question_id, review_id)\n",
    "post_rating = lambda review_id, rating: connector.post_rating(question_id, review_id, rating)"
   ]
  },
  {
   "cell_type": "code",
   "execution_count": 6,
   "metadata": {
    "ExecuteTime": {
     "end_time": "2018-06-25T23:33:07.063054Z",
     "start_time": "2018-06-25T23:33:06.990171Z"
    }
   },
   "outputs": [
    {
     "name": "stdout",
     "output_type": "stream",
     "text": [
      "...The two result is not equal but close.The soft modularity could cluster the node more correctly.\n"
     ]
    }
   ],
   "source": [
    "get_answer(0)"
   ]
  },
  {
   "cell_type": "code",
   "execution_count": 8,
   "metadata": {
    "ExecuteTime": {
     "end_time": "2018-06-25T23:33:12.905361Z",
     "start_time": "2018-06-25T23:33:12.901373Z"
    }
   },
   "outputs": [],
   "source": [
    "# To be modified\n",
    "rating = 3"
   ]
  },
  {
   "cell_type": "code",
   "execution_count": 9,
   "metadata": {
    "ExecuteTime": {
     "end_time": "2018-06-25T23:33:13.525701Z",
     "start_time": "2018-06-25T23:33:13.500770Z"
    }
   },
   "outputs": [
    {
     "name": "stdout",
     "output_type": "stream",
     "text": [
      "Rating posted\n"
     ]
    }
   ],
   "source": [
    "post_rating(0, rating)"
   ]
  },
  {
   "cell_type": "code",
   "execution_count": 10,
   "metadata": {
    "ExecuteTime": {
     "end_time": "2018-06-25T23:33:15.961191Z",
     "start_time": "2018-06-25T23:33:15.930275Z"
    }
   },
   "outputs": [
    {
     "name": "stdout",
     "output_type": "stream",
     "text": [
      "The soft modularity of 0.2 is much bigger than the modularity of 0.155, which is to be expected as more flexible rules yield better clustering.\n"
     ]
    }
   ],
   "source": [
    "get_answer(1)"
   ]
  },
  {
   "cell_type": "code",
   "execution_count": 11,
   "metadata": {
    "ExecuteTime": {
     "end_time": "2018-06-25T23:33:32.763412Z",
     "start_time": "2018-06-25T23:33:32.760425Z"
    }
   },
   "outputs": [],
   "source": [
    "# To be modified\n",
    "rating = 3"
   ]
  },
  {
   "cell_type": "code",
   "execution_count": 12,
   "metadata": {
    "ExecuteTime": {
     "end_time": "2018-06-25T23:33:33.136380Z",
     "start_time": "2018-06-25T23:33:33.119424Z"
    }
   },
   "outputs": [
    {
     "name": "stdout",
     "output_type": "stream",
     "text": [
      "Rating posted\n"
     ]
    }
   ],
   "source": [
    "post_rating(1, rating)"
   ]
  },
  {
   "cell_type": "code",
   "execution_count": 13,
   "metadata": {
    "ExecuteTime": {
     "end_time": "2018-06-25T23:33:33.531324Z",
     "start_time": "2018-06-25T23:33:33.502428Z"
    }
   },
   "outputs": [
    {
     "name": "stdout",
     "output_type": "stream",
     "text": [
      "Modularity was designed to measure the strength of division of a network into clusters. Networks with high modularity have dense connections between the nodes within modules but sparse connections between nodes in different modules. \n",
      "In soft modularity, the node can belong to two different clusters.\n",
      "Here, with the central node belonging to the two clusters, there is virtually less nodes connected to other clusters, because if the central node belong to a single category, there is 3 links with the other cluster. Thus we expect a soft-modularity higher than the modularity, which is coherent with our observation (modularity = 0,15 approx, and soft modularity = 0,2).\n"
     ]
    }
   ],
   "source": [
    "get_answer(2)"
   ]
  },
  {
   "cell_type": "code",
   "execution_count": 14,
   "metadata": {
    "ExecuteTime": {
     "end_time": "2018-06-25T23:33:37.108789Z",
     "start_time": "2018-06-25T23:33:37.105796Z"
    }
   },
   "outputs": [],
   "source": [
    "# To be modified\n",
    "rating = 3"
   ]
  },
  {
   "cell_type": "code",
   "execution_count": 15,
   "metadata": {
    "ExecuteTime": {
     "end_time": "2018-06-25T23:33:37.459823Z",
     "start_time": "2018-06-25T23:33:37.442868Z"
    }
   },
   "outputs": [
    {
     "name": "stdout",
     "output_type": "stream",
     "text": [
      "Rating posted\n"
     ]
    }
   ],
   "source": [
    "post_rating(2, rating)"
   ]
  },
  {
   "cell_type": "code",
   "execution_count": null,
   "metadata": {
    "collapsed": true
   },
   "outputs": [],
   "source": [
    "get_answer(3)"
   ]
  },
  {
   "cell_type": "code",
   "execution_count": 16,
   "metadata": {
    "ExecuteTime": {
     "end_time": "2018-06-25T23:33:41.031287Z",
     "start_time": "2018-06-25T23:33:41.028310Z"
    }
   },
   "outputs": [],
   "source": [
    "# To be modified\n",
    "rating = 3"
   ]
  },
  {
   "cell_type": "code",
   "execution_count": 17,
   "metadata": {
    "ExecuteTime": {
     "end_time": "2018-06-25T23:33:41.390319Z",
     "start_time": "2018-06-25T23:33:41.360397Z"
    }
   },
   "outputs": [
    {
     "name": "stdout",
     "output_type": "stream",
     "text": [
      "Rating posted\n"
     ]
    }
   ],
   "source": [
    "post_rating(3, rating)"
   ]
  },
  {
   "cell_type": "markdown",
   "metadata": {
    "collapsed": true
   },
   "source": [
    "## Question #5\n",
    "\n",
    "Interpret the results of multiple runs of Louvain on the Miserables graph."
   ]
  },
  {
   "cell_type": "markdown",
   "metadata": {},
   "source": [
    "## Correct answer\n",
    "\n",
    "Points to check:\n",
    "1. The fact that **Magnon often changes clusters between two runs of Louvain** illustrates the fact that a crisp clustering (i.e a partition) does not model well the underlying cluster structure of the Miserables graph.\n",
    "2. This example **motivates the need of soft-clustering techniques** instead crisp clustering methods as Louvain. Indeed, a soft clustering method would be able to model the *mixed membership* of Magnon to multiple clusters."
   ]
  },
  {
   "cell_type": "markdown",
   "metadata": {},
   "source": [
    "## To do\n",
    "\n",
    "* Enter review #0 (your answer) \n",
    "* Enter reviews #1 #2 #3 (other students' answers)"
   ]
  },
  {
   "cell_type": "code",
   "execution_count": 18,
   "metadata": {
    "ExecuteTime": {
     "end_time": "2018-06-25T23:33:44.515964Z",
     "start_time": "2018-06-25T23:33:44.511973Z"
    }
   },
   "outputs": [],
   "source": [
    "question_id = 5"
   ]
  },
  {
   "cell_type": "code",
   "execution_count": 19,
   "metadata": {
    "ExecuteTime": {
     "end_time": "2018-06-25T23:33:44.883984Z",
     "start_time": "2018-06-25T23:33:44.879992Z"
    }
   },
   "outputs": [],
   "source": [
    "connector = Connector(base_url, lab_id, login)\n",
    "get_answer = lambda review_id: connector.get_answer(question_id, review_id)\n",
    "post_rating = lambda review_id, rating: connector.post_rating(question_id, review_id, rating)"
   ]
  },
  {
   "cell_type": "code",
   "execution_count": 20,
   "metadata": {
    "ExecuteTime": {
     "end_time": "2018-06-25T23:33:45.655916Z",
     "start_time": "2018-06-25T23:33:45.621034Z"
    }
   },
   "outputs": [
    {
     "name": "stdout",
     "output_type": "stream",
     "text": [
      "..The result depend on the seed. So we can find the result is not stable. But the esperance correspond the intuition\n"
     ]
    }
   ],
   "source": [
    "get_answer(0)"
   ]
  },
  {
   "cell_type": "code",
   "execution_count": 21,
   "metadata": {
    "ExecuteTime": {
     "end_time": "2018-06-25T23:33:50.741379Z",
     "start_time": "2018-06-25T23:33:50.739370Z"
    }
   },
   "outputs": [],
   "source": [
    "# To be modified\n",
    "rating = 3"
   ]
  },
  {
   "cell_type": "code",
   "execution_count": 22,
   "metadata": {
    "ExecuteTime": {
     "end_time": "2018-06-25T23:33:54.849383Z",
     "start_time": "2018-06-25T23:33:54.588083Z"
    }
   },
   "outputs": [
    {
     "name": "stdout",
     "output_type": "stream",
     "text": [
      "Rating posted\n"
     ]
    }
   ],
   "source": [
    "post_rating(0, rating)"
   ]
  },
  {
   "cell_type": "code",
   "execution_count": 23,
   "metadata": {
    "ExecuteTime": {
     "end_time": "2018-06-25T23:34:00.997950Z",
     "start_time": "2018-06-25T23:34:00.968032Z"
    }
   },
   "outputs": [
    {
     "name": "stdout",
     "output_type": "stream",
     "text": [
      "In only 70% of the random seed, Magnon and Valjean are in the same cluster. This only emphasises the need for repetition of the louvain algorithm with different random seeds in order to get acceptable results.\n"
     ]
    }
   ],
   "source": [
    "get_answer(1)"
   ]
  },
  {
   "cell_type": "code",
   "execution_count": 24,
   "metadata": {
    "ExecuteTime": {
     "end_time": "2018-06-25T23:34:03.609968Z",
     "start_time": "2018-06-25T23:34:03.606993Z"
    }
   },
   "outputs": [],
   "source": [
    "# To be modified\n",
    "rating = 3"
   ]
  },
  {
   "cell_type": "code",
   "execution_count": 25,
   "metadata": {
    "ExecuteTime": {
     "end_time": "2018-06-25T23:34:04.154512Z",
     "start_time": "2018-06-25T23:34:04.109632Z"
    }
   },
   "outputs": [
    {
     "name": "stdout",
     "output_type": "stream",
     "text": [
      "Rating posted\n"
     ]
    }
   ],
   "source": [
    "post_rating(1, rating)"
   ]
  },
  {
   "cell_type": "code",
   "execution_count": 26,
   "metadata": {
    "ExecuteTime": {
     "end_time": "2018-06-25T23:34:04.687088Z",
     "start_time": "2018-06-25T23:34:04.628279Z"
    }
   },
   "outputs": [
    {
     "name": "stdout",
     "output_type": "stream",
     "text": [
      "In 70% of cases, Magnon is in the same cluster than Valjean. That means that the computation of this particular cluster is not precise (because changing the seed has a big impact on the result). Thus, we should improve our function « maximize » if we want to have a better clustering.\n"
     ]
    }
   ],
   "source": [
    "get_answer(2)"
   ]
  },
  {
   "cell_type": "code",
   "execution_count": 27,
   "metadata": {
    "ExecuteTime": {
     "end_time": "2018-06-25T23:34:08.297436Z",
     "start_time": "2018-06-25T23:34:08.293448Z"
    }
   },
   "outputs": [],
   "source": [
    "# To be modified\n",
    "rating = 3"
   ]
  },
  {
   "cell_type": "code",
   "execution_count": 28,
   "metadata": {
    "ExecuteTime": {
     "end_time": "2018-06-25T23:34:08.792129Z",
     "start_time": "2018-06-25T23:34:08.759203Z"
    }
   },
   "outputs": [
    {
     "name": "stdout",
     "output_type": "stream",
     "text": [
      "Rating posted\n"
     ]
    }
   ],
   "source": [
    "post_rating(2, rating)"
   ]
  },
  {
   "cell_type": "code",
   "execution_count": 29,
   "metadata": {
    "ExecuteTime": {
     "end_time": "2018-06-25T23:34:10.216319Z",
     "start_time": "2018-06-25T23:34:10.188385Z"
    }
   },
   "outputs": [
    {
     "name": "stdout",
     "output_type": "stream",
     "text": [
      "Louvian is based on the modularity.\n"
     ]
    }
   ],
   "source": [
    "get_answer(3)"
   ]
  },
  {
   "cell_type": "code",
   "execution_count": 30,
   "metadata": {
    "ExecuteTime": {
     "end_time": "2018-06-25T23:34:13.742259Z",
     "start_time": "2018-06-25T23:34:13.738286Z"
    }
   },
   "outputs": [],
   "source": [
    "# To be modified\n",
    "rating = 3"
   ]
  },
  {
   "cell_type": "code",
   "execution_count": 31,
   "metadata": {
    "ExecuteTime": {
     "end_time": "2018-06-25T23:34:14.146178Z",
     "start_time": "2018-06-25T23:34:14.113303Z"
    }
   },
   "outputs": [
    {
     "name": "stdout",
     "output_type": "stream",
     "text": [
      "Rating posted\n"
     ]
    }
   ],
   "source": [
    "post_rating(3, rating)"
   ]
  },
  {
   "cell_type": "markdown",
   "metadata": {
    "collapsed": true
   },
   "source": [
    "## Question #10\n",
    "\n",
    "Interpret the results of the soft clustering algorithm on the OpenFlights graph."
   ]
  },
  {
   "cell_type": "markdown",
   "metadata": {},
   "source": [
    "## Correct answer\n",
    "\n",
    "Points to check:\n",
    "1. As expected, the **soft modularity** of the soft clustering obtained after 3 epochs of our algorithm is **higher** than the modularity of the initial clustering obtained with Louvain.\n",
    "2. We observe that the nodes that have a positive probability to belong to more than one cluster often corresponds to **bridges between different regions of the world**. For instance, the **Lisbon Portela Airport**, that has a mixed membership, is a bridge between Brazil (and the rest of South America) and South Europe.\n",
    "3. We remark that the **proportion of nodes with mixed membership is very small**. Therefore, the membership matrix $\\mathbf{p}$ is **sparse**."
   ]
  },
  {
   "cell_type": "markdown",
   "metadata": {},
   "source": [
    "## To do\n",
    "\n",
    "* Enter review #0 (your answer) \n",
    "* Enter reviews #1 #2 #3 (other students' answers)"
   ]
  },
  {
   "cell_type": "code",
   "execution_count": 32,
   "metadata": {
    "ExecuteTime": {
     "end_time": "2018-06-25T23:34:19.468952Z",
     "start_time": "2018-06-25T23:34:19.464962Z"
    }
   },
   "outputs": [],
   "source": [
    "question_id = 10"
   ]
  },
  {
   "cell_type": "code",
   "execution_count": 33,
   "metadata": {
    "ExecuteTime": {
     "end_time": "2018-06-25T23:34:19.725274Z",
     "start_time": "2018-06-25T23:34:19.719283Z"
    }
   },
   "outputs": [],
   "source": [
    "connector = Connector(base_url, lab_id, login)\n",
    "get_answer = lambda review_id: connector.get_answer(question_id, review_id)\n",
    "post_rating = lambda review_id, rating: connector.post_rating(question_id, review_id, rating)"
   ]
  },
  {
   "cell_type": "code",
   "execution_count": 34,
   "metadata": {
    "ExecuteTime": {
     "end_time": "2018-06-25T23:34:19.997538Z",
     "start_time": "2018-06-25T23:34:19.980585Z"
    }
   },
   "outputs": [
    {
     "name": "stdout",
     "output_type": "stream",
     "text": [
      "...We can find the proportion of nodes with 'mixed membership' is 0.023.  it means that most of the node belong to one cluster. So the classic clustering is raisonable. \n",
      "Berlin-Schönefeld International Airport correspond the question 10\n"
     ]
    }
   ],
   "source": [
    "get_answer(0)"
   ]
  },
  {
   "cell_type": "code",
   "execution_count": 36,
   "metadata": {
    "ExecuteTime": {
     "end_time": "2018-06-25T23:34:23.409419Z",
     "start_time": "2018-06-25T23:34:23.406462Z"
    }
   },
   "outputs": [],
   "source": [
    "# To be modified\n",
    "rating = 3"
   ]
  },
  {
   "cell_type": "code",
   "execution_count": 37,
   "metadata": {
    "ExecuteTime": {
     "end_time": "2018-06-25T23:34:24.036759Z",
     "start_time": "2018-06-25T23:34:24.013803Z"
    }
   },
   "outputs": [
    {
     "name": "stdout",
     "output_type": "stream",
     "text": [
      "Rating posted\n"
     ]
    }
   ],
   "source": [
    "post_rating(0, rating)"
   ]
  },
  {
   "cell_type": "code",
   "execution_count": 38,
   "metadata": {
    "ExecuteTime": {
     "end_time": "2018-06-25T23:34:24.420729Z",
     "start_time": "2018-06-25T23:34:24.390796Z"
    }
   },
   "outputs": [
    {
     "name": "stdout",
     "output_type": "stream",
     "text": [
      "No answer\n"
     ]
    }
   ],
   "source": [
    "get_answer(1)"
   ]
  },
  {
   "cell_type": "code",
   "execution_count": 39,
   "metadata": {
    "ExecuteTime": {
     "end_time": "2018-06-25T23:34:35.164999Z",
     "start_time": "2018-06-25T23:34:35.160037Z"
    }
   },
   "outputs": [],
   "source": [
    "# To be modified\n",
    "rating = 0"
   ]
  },
  {
   "cell_type": "code",
   "execution_count": 40,
   "metadata": {
    "ExecuteTime": {
     "end_time": "2018-06-25T23:34:35.631753Z",
     "start_time": "2018-06-25T23:34:35.563938Z"
    }
   },
   "outputs": [
    {
     "name": "stdout",
     "output_type": "stream",
     "text": [
      "Rating posted\n"
     ]
    }
   ],
   "source": [
    "post_rating(1, rating)"
   ]
  },
  {
   "cell_type": "code",
   "execution_count": 41,
   "metadata": {
    "ExecuteTime": {
     "end_time": "2018-06-25T23:34:36.146378Z",
     "start_time": "2018-06-25T23:34:36.111505Z"
    }
   },
   "outputs": [
    {
     "name": "stdout",
     "output_type": "stream",
     "text": [
      "We can see that the Berlin airport is a connexion between clusters. We can identify 10 different clusters (Q9). Thus, Berlin airport is an example of transit airport, linking different clusters of airports.\n"
     ]
    }
   ],
   "source": [
    "get_answer(2)"
   ]
  },
  {
   "cell_type": "code",
   "execution_count": 42,
   "metadata": {
    "ExecuteTime": {
     "end_time": "2018-06-25T23:34:47.011334Z",
     "start_time": "2018-06-25T23:34:47.007343Z"
    }
   },
   "outputs": [],
   "source": [
    "# To be modified\n",
    "rating = 3"
   ]
  },
  {
   "cell_type": "code",
   "execution_count": 43,
   "metadata": {
    "ExecuteTime": {
     "end_time": "2018-06-25T23:34:47.974759Z",
     "start_time": "2018-06-25T23:34:47.932870Z"
    }
   },
   "outputs": [
    {
     "name": "stdout",
     "output_type": "stream",
     "text": [
      "Rating posted\n"
     ]
    }
   ],
   "source": [
    "post_rating(2, rating)"
   ]
  },
  {
   "cell_type": "code",
   "execution_count": 44,
   "metadata": {
    "ExecuteTime": {
     "end_time": "2018-06-25T23:34:48.545246Z",
     "start_time": "2018-06-25T23:34:48.524298Z"
    }
   },
   "outputs": [
    {
     "name": "stdout",
     "output_type": "stream",
     "text": [
      "No answer\n"
     ]
    }
   ],
   "source": [
    "get_answer(3)"
   ]
  },
  {
   "cell_type": "code",
   "execution_count": 45,
   "metadata": {
    "ExecuteTime": {
     "end_time": "2018-06-25T23:34:53.923892Z",
     "start_time": "2018-06-25T23:34:53.920867Z"
    }
   },
   "outputs": [],
   "source": [
    "# To be modified\n",
    "rating = 0"
   ]
  },
  {
   "cell_type": "code",
   "execution_count": 46,
   "metadata": {
    "ExecuteTime": {
     "end_time": "2018-06-25T23:34:54.420567Z",
     "start_time": "2018-06-25T23:34:54.370664Z"
    }
   },
   "outputs": [
    {
     "name": "stdout",
     "output_type": "stream",
     "text": [
      "Rating posted\n"
     ]
    }
   ],
   "source": [
    "post_rating(3, rating)"
   ]
  },
  {
   "cell_type": "code",
   "execution_count": null,
   "metadata": {
    "collapsed": true
   },
   "outputs": [],
   "source": []
  }
 ],
 "metadata": {
  "anaconda-cloud": {},
  "hide_input": false,
  "kernelspec": {
   "display_name": "Python 3",
   "language": "python",
   "name": "python3"
  },
  "language_info": {
   "codemirror_mode": {
    "name": "ipython",
    "version": 3
   },
   "file_extension": ".py",
   "mimetype": "text/x-python",
   "name": "python",
   "nbconvert_exporter": "python",
   "pygments_lexer": "ipython3",
   "version": "3.6.4"
  },
  "toc": {
   "base_numbering": 1,
   "nav_menu": {},
   "number_sections": true,
   "sideBar": true,
   "skip_h1_title": false,
   "title_cell": "Table of Contents",
   "title_sidebar": "Contents",
   "toc_cell": false,
   "toc_position": {},
   "toc_section_display": true,
   "toc_window_display": false
  },
  "varInspector": {
   "cols": {
    "lenName": 16,
    "lenType": 16,
    "lenVar": 40
   },
   "kernels_config": {
    "python": {
     "delete_cmd_postfix": "",
     "delete_cmd_prefix": "del ",
     "library": "var_list.py",
     "varRefreshCmd": "print(var_dic_list())"
    },
    "r": {
     "delete_cmd_postfix": ") ",
     "delete_cmd_prefix": "rm(",
     "library": "var_list.r",
     "varRefreshCmd": "cat(var_dic_list()) "
    }
   },
   "types_to_exclude": [
    "module",
    "function",
    "builtin_function_or_method",
    "instance",
    "_Feature"
   ],
   "window_display": false
  }
 },
 "nbformat": 4,
 "nbformat_minor": 1
}
