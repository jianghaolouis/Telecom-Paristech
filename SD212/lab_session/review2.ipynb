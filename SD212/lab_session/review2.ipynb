{
 "cells": [
  {
   "cell_type": "markdown",
   "metadata": {},
   "source": [
    "# SD212: Graph mining\n",
    "## Review of Lab 2: Random graphs"
   ]
  },
  {
   "cell_type": "markdown",
   "metadata": {},
   "source": [
    "This is the review of the two open answers of Lab 2. \n",
    "\n",
    "Note that there is **one review** per open answer!"
   ]
  },
  {
   "cell_type": "markdown",
   "metadata": {},
   "source": [
    "## Getting started"
   ]
  },
  {
   "cell_type": "code",
   "execution_count": 1,
   "metadata": {},
   "outputs": [],
   "source": [
    "from connector import Connector"
   ]
  },
  {
   "cell_type": "code",
   "execution_count": 2,
   "metadata": {},
   "outputs": [],
   "source": [
    "base_url = 'http://137.194.192.13:8234'\n",
    "lab_id = 'lab2'"
   ]
  },
  {
   "cell_type": "markdown",
   "metadata": {},
   "source": [
    "## 1. Correct answer to question #2"
   ]
  },
  {
   "cell_type": "markdown",
   "metadata": {},
   "source": [
    "Points to check:\n",
    "1. The results depend mainly on $\\lambda = n p$ (at least for large values of $n$).\n",
    "2. For $\\lambda < 1$ (subcritical regime), the largest connected component is small compared to $n$. The average degree is close to 2, because it is approximately a tree ($m \\approx n$ edges $\\to$ average degree $2m / n \\approx 2$).\n",
    "3. For $\\lambda > 1$ (supercritical regime), the largest connected component is of the order of $n$ (this is the **giant component**). The average degree cannot be less than 2 because it is connected ($m\\ge n - 1$ edges $\\to$ average degree $2m / n \\ge 2(n-1)/n \\approx 2$). It is approximately equal to $\\min(\\lambda,2)$ (slightly higher, since there is a bias towards nodes of high degrees in the largest connected components)."
   ]
  },
  {
   "cell_type": "markdown",
   "metadata": {},
   "source": [
    "## Rating\n",
    "\n",
    "You need to give a score between 0 and 3, referring to the correct answer above and the following rating:\n",
    "* **0:** no answer\n",
    "* **1:** incomplete answer (several points missing)\n",
    "* **2:** almost complete answer (1 point missing or several incomplete points)\n",
    "* **3:** complete answer \n",
    "\n",
    "Only integers scores are allowed!"
   ]
  },
  {
   "cell_type": "markdown",
   "metadata": {},
   "source": [
    "## To do\n",
    "\n",
    "* Enter your login\n",
    "* Enter review #0 (your answer) \n",
    "* Enter reviews #1 #2 #3 (other students' answers)\n",
    "\n",
    "In case of multiple reviews for the same answer, only the last one will be considered."
   ]
  },
  {
   "cell_type": "code",
   "execution_count": 4,
   "metadata": {},
   "outputs": [],
   "source": [
    "login = 'zhuf'"
   ]
  },
  {
   "cell_type": "code",
   "execution_count": 5,
   "metadata": {},
   "outputs": [],
   "source": [
    "question_id = 2\n",
    "connector = Connector(base_url, lab_id, login)\n",
    "get_answer = lambda review_id: connector.get_answer(question_id, review_id)\n",
    "post_rating = lambda review_id, rating: connector.post_rating(question_id, review_id, rating)"
   ]
  },
  {
   "cell_type": "code",
   "execution_count": 6,
   "metadata": {},
   "outputs": [
    {
     "name": "stdout",
     "output_type": "stream",
     "text": [
      "..We can find the n*p is  is approximately equal to the average degree. When the nomber of size is bigger, the avergrage degree apporche to the n*p\n"
     ]
    }
   ],
   "source": [
    "get_answer(0)"
   ]
  },
  {
   "cell_type": "code",
   "execution_count": 12,
   "metadata": {},
   "outputs": [
    {
     "name": "stdout",
     "output_type": "stream",
     "text": [
      "Rating posted\n"
     ]
    }
   ],
   "source": [
    "rating = 3 # to be modified\n",
    "post_rating(0, rating)"
   ]
  },
  {
   "cell_type": "code",
   "execution_count": 13,
   "metadata": {},
   "outputs": [
    {
     "name": "stdout",
     "output_type": "stream",
     "text": [
      "When we increse the prbability p ( with n fixed), we remark that the average degre increases as well, and furthermore, if p is almost equal to 1, we have an average degree equal to the number of nodes, ich means our largest connected  component includes all the nodes, which is logical because if we have   probability of 1 of  being atached, we indeed are atached.\n"
     ]
    }
   ],
   "source": [
    "get_answer(1)"
   ]
  },
  {
   "cell_type": "code",
   "execution_count": 15,
   "metadata": {},
   "outputs": [
    {
     "name": "stdout",
     "output_type": "stream",
     "text": [
      "Rating posted\n"
     ]
    }
   ],
   "source": [
    "rating = 3 # to be modified\n",
    "post_rating(1, rating)"
   ]
  },
  {
   "cell_type": "code",
   "execution_count": 16,
   "metadata": {},
   "outputs": [
    {
     "name": "stdout",
     "output_type": "stream",
     "text": [
      "We can observe different configurations of the larges component of graphs according to the product n*p.\n",
      "\n",
      "When the product n*p is more than 1, with a number of n large (as n=1000) we observe that the largest connected component is big. The more important is n*p the bigger is the largest connected component, with a larger average degree.\n",
      "\n",
      "But when the product n*p is less than 1, the largest connected component is pretty small. For instance, with n =5000 and p=10.0001 so n*p=0.5, we observe a largest connected component of 17\n"
     ]
    }
   ],
   "source": [
    "get_answer(2)"
   ]
  },
  {
   "cell_type": "code",
   "execution_count": 17,
   "metadata": {},
   "outputs": [
    {
     "name": "stdout",
     "output_type": "stream",
     "text": [
      "Rating posted\n"
     ]
    }
   ],
   "source": [
    "rating = 3 # to be modified\n",
    "post_rating(2, rating)"
   ]
  },
  {
   "cell_type": "code",
   "execution_count": 18,
   "metadata": {},
   "outputs": [
    {
     "name": "stdout",
     "output_type": "stream",
     "text": [
      "- for n constant , if we increase the value of p we get a more connected graph and therefore the largest connected subgraph tends to the graph itself(ie: # of nodes in the largest subgraph  --> # of nodes of the graph) and we get a less connected graph if we decrease p (trivial)\n",
      "\n",
      "An Erdos-Rényi graph is characterized by two parameters: the number of nodes n and the probability p that any two nodes are connected. \n",
      "When we generate several instances of the graph for different values of n and p, we observe that : \n",
      "- for p constant, if we increase the value of n we get a more connected graph  and therefore the largest connected subgraph tends to the graph itself(ie: # of nodes in the largest subgraph  --> # of nodes of the graph) and we get a less connected graph if we decrease n {the social network phenomenon}\n",
      "** we have np->λ \n",
      "we get three regimes (Subcritical regime λ<1, Supercritical regime λ>1, Critical regime λ=1)\n"
     ]
    }
   ],
   "source": [
    "get_answer(3)"
   ]
  },
  {
   "cell_type": "code",
   "execution_count": 19,
   "metadata": {},
   "outputs": [
    {
     "name": "stdout",
     "output_type": "stream",
     "text": [
      "Rating posted\n"
     ]
    }
   ],
   "source": [
    "rating = 3 # to be modified\n",
    "post_rating(3, rating)"
   ]
  },
  {
   "cell_type": "markdown",
   "metadata": {
    "collapsed": true
   },
   "source": [
    "## 2. Correct answer to question #7"
   ]
  },
  {
   "cell_type": "markdown",
   "metadata": {
    "collapsed": true
   },
   "source": [
    "Points to check:\n",
    "1. The Havel-Hakimi graph has a large number of common edges with the original graph (94 over 254). This is because high-degree nodes tend to be connected to high-degree nodes, as in the original graph (popular characters of Les Miserables tend to appear often with other popular characters).\n",
    "2. The configuration model has a lower number of common edges with the original graph (typically 50-60 over 254). This is because the half-edges are matched at random. \n",
    "3. The Erdos-Renyi graph has the lowest number of common edges (around 20-25 over 254, with mean 22). This is because the graph is generated completely at random, without the constraint of the degree sequence. "
   ]
  },
  {
   "cell_type": "markdown",
   "metadata": {},
   "source": [
    "## Rating\n",
    "\n",
    "You need to give a score between 0 and 3, referring to the correct answer above and the following rating:\n",
    "* **0:** no answer\n",
    "* **1:** incomplete answer (several points missing)\n",
    "* **2:** almost complete answer (1 point missing or several incomplete points)\n",
    "* **3:** complete answer \n",
    "\n",
    "Only integers scores are allowed!"
   ]
  },
  {
   "cell_type": "markdown",
   "metadata": {},
   "source": [
    "## To do\n",
    "\n",
    "* Enter review #0 (your answer) \n",
    "* Enter reviews #1 #2 #3 (other students' answers)\n",
    "\n",
    "In case of multiple reviews for the same answer, only the last one will be considered."
   ]
  },
  {
   "cell_type": "code",
   "execution_count": 20,
   "metadata": {},
   "outputs": [],
   "source": [
    "question_id = 7\n",
    "connector = Connector(base_url, lab_id, login)\n",
    "get_answer = lambda review_id: connector.get_answer(question_id, review_id)\n",
    "post_rating = lambda review_id, rating: connector.post_rating(question_id, review_id, rating)"
   ]
  },
  {
   "cell_type": "code",
   "execution_count": 21,
   "metadata": {},
   "outputs": [
    {
     "name": "stdout",
     "output_type": "stream",
     "text": [
      "...With the Havel-Hakimi, the mean number of  common edges is more higher than Erdos-Renyi.\n"
     ]
    }
   ],
   "source": [
    "get_answer(0)"
   ]
  },
  {
   "cell_type": "code",
   "execution_count": 22,
   "metadata": {},
   "outputs": [
    {
     "name": "stdout",
     "output_type": "stream",
     "text": [
      "Rating posted\n"
     ]
    }
   ],
   "source": [
    "rating = 3 \n",
    "post_rating(0, rating)"
   ]
  },
  {
   "cell_type": "code",
   "execution_count": 23,
   "metadata": {},
   "outputs": [
    {
     "name": "stdout",
     "output_type": "stream",
     "text": [
      "We observe that the number of common edges obtained with the Havel-Hakimi graph is higher than the one obtained with the Erdos-Reyi Graph, which is itself higher than the number of common edges obtained with the configuration model.\n",
      "That can be explained by the fact that the Havel-Hakimi algorithm doesn't create multi-edges. It is then more alike the original graph and hence can be considered more realistic.\n"
     ]
    }
   ],
   "source": [
    "get_answer(1)"
   ]
  },
  {
   "cell_type": "code",
   "execution_count": 24,
   "metadata": {},
   "outputs": [
    {
     "name": "stdout",
     "output_type": "stream",
     "text": [
      "Rating posted\n"
     ]
    }
   ],
   "source": [
    "rating = 3\n",
    "post_rating(1, rating)"
   ]
  },
  {
   "cell_type": "code",
   "execution_count": 25,
   "metadata": {},
   "outputs": [
    {
     "name": "stdout",
     "output_type": "stream",
     "text": [
      "When I compare the mean number of common edges between Havel-Hakimi graph and Erdos-Renyi graph, and the configuration model with Erdos-Renyi graph, I observe that the number common edges is bigger in the first case. That is logical because in the Havel Hakimi graph we don't use multi graphs, with self loop, so the graph is more close to the original graph\n"
     ]
    }
   ],
   "source": [
    "get_answer(2)"
   ]
  },
  {
   "cell_type": "code",
   "execution_count": null,
   "metadata": {
    "collapsed": true
   },
   "outputs": [],
   "source": [
    "rating = -1\n",
    "post_rating(2, rating)"
   ]
  },
  {
   "cell_type": "code",
   "execution_count": null,
   "metadata": {
    "collapsed": true
   },
   "outputs": [],
   "source": [
    "get_answer(3)"
   ]
  },
  {
   "cell_type": "code",
   "execution_count": null,
   "metadata": {
    "collapsed": true
   },
   "outputs": [],
   "source": [
    "rating = -1\n",
    "post_rating(3, rating)"
   ]
  }
 ],
 "metadata": {
  "anaconda-cloud": {},
  "hide_input": false,
  "kernelspec": {
   "display_name": "Python 3",
   "language": "python",
   "name": "python3"
  },
  "language_info": {
   "codemirror_mode": {
    "name": "ipython",
    "version": 3
   },
   "file_extension": ".py",
   "mimetype": "text/x-python",
   "name": "python",
   "nbconvert_exporter": "python",
   "pygments_lexer": "ipython3",
   "version": "3.6.4"
  },
  "toc": {
   "base_numbering": 1,
   "nav_menu": {},
   "number_sections": true,
   "sideBar": true,
   "skip_h1_title": false,
   "title_cell": "Table of Contents",
   "title_sidebar": "Contents",
   "toc_cell": false,
   "toc_position": {},
   "toc_section_display": true,
   "toc_window_display": false
  },
  "varInspector": {
   "cols": {
    "lenName": 16,
    "lenType": 16,
    "lenVar": 40
   },
   "kernels_config": {
    "python": {
     "delete_cmd_postfix": "",
     "delete_cmd_prefix": "del ",
     "library": "var_list.py",
     "varRefreshCmd": "print(var_dic_list())"
    },
    "r": {
     "delete_cmd_postfix": ") ",
     "delete_cmd_prefix": "rm(",
     "library": "var_list.r",
     "varRefreshCmd": "cat(var_dic_list()) "
    }
   },
   "types_to_exclude": [
    "module",
    "function",
    "builtin_function_or_method",
    "instance",
    "_Feature"
   ],
   "window_display": false
  }
 },
 "nbformat": 4,
 "nbformat_minor": 1
}
