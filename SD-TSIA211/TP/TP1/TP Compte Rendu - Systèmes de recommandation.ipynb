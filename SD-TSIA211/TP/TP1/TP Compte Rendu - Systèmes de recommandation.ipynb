{
 "cells": [
  {
   "cell_type": "markdown",
   "metadata": {},
   "source": [
    "# TP Compte Rendu - Systèmes de recommandation\n",
    "\n",
    "Authors: ZHANG Bolong, ZHU Fangda"
   ]
  },
  {
   "cell_type": "markdown",
   "metadata": {},
   "source": [
    "## 1 Présentation du modèle"
   ]
  },
  {
   "cell_type": "code",
   "execution_count": 45,
   "metadata": {},
   "outputs": [],
   "source": [
    "import time\n",
    "import scipy.sparse.linalg\n",
    "import numpy as np\n",
    "import scipy.optimize\n",
    "from collections import namedtuple\n",
    "from scipy.optimize import line_search\n",
    "import matplotlib.pyplot as plt\n",
    "import pdb\n",
    "import scipy.optimize as OP\n"
   ]
  },
  {
   "cell_type": "markdown",
   "metadata": {},
   "source": [
    "### Question 1.1"
   ]
  },
  {
   "cell_type": "code",
   "execution_count": 5,
   "metadata": {},
   "outputs": [
    {
     "data": {
      "text/plain": [
       "array([[ 5.,  3.,  4., ...,  0.,  0.,  0.],\n",
       "       [ 4.,  0.,  0., ...,  0.,  0.,  0.],\n",
       "       [ 0.,  0.,  0., ...,  0.,  0.,  0.],\n",
       "       ..., \n",
       "       [ 5.,  0.,  0., ...,  0.,  0.,  0.],\n",
       "       [ 0.,  0.,  0., ...,  0.,  0.,  0.],\n",
       "       [ 0.,  5.,  0., ...,  0.,  0.,  0.]])"
      ]
     },
     "execution_count": 5,
     "metadata": {},
     "output_type": "execute_result"
    }
   ],
   "source": [
    "def load_movielens(filename, minidata=False):\n",
    "    \"\"\"\n",
    "    Cette fonction lit le fichier filename de la base de donnees\n",
    "    Movielens, par exemple \n",
    "    filename = '~/datasets/ml-100k/u.data'\n",
    "    Elle retourne \n",
    "    R : une matrice utilisateur-item contenant les scores\n",
    "    mask : une matrice valant 1 si il y a un score et 0 sinon\n",
    "    \"\"\"\n",
    "\n",
    "    data = np.loadtxt(filename, dtype=int)\n",
    "\n",
    "    R = sparse.coo_matrix((data[:, 2], (data[:, 0]-1, data[:, 1]-1)),\n",
    "                          dtype=float)\n",
    "    R = R.toarray()  # not optimized for big data\n",
    "\n",
    "    # code la fonction 1_K\n",
    "    mask = sparse.coo_matrix((np.ones(data[:, 2].shape),\n",
    "                              (data[:, 0]-1, data[:, 1]-1)), dtype=bool )\n",
    "    mask = mask.toarray()  # not optimized for big data\n",
    "\n",
    "    if minidata is True:\n",
    "        R = R[0:100, 0:200].copy()\n",
    "        mask = mask[0:100, 0:200].copy()\n",
    "\n",
    "    return R, mask\n",
    "\n",
    "[R, mask] = utils.load_movielens(\"ml-100k/u.data\")\n",
    "Constants = namedtuple('Constants', ['R','mask', 'rho', 'Q0','V_T','C', 'beta','a','b','u','i'])\n",
    "U,S,V_T = scipy.sparse.linalg.svds(R, k= 4 , which = 'LM')\n",
    "u,i = R.shape\n",
    "const = Constants(R, mask, 0.3, U, V_T, 4, 0.5,0.5,0.5,u,i)\n",
    "\n",
    "const.R"
   ]
  },
  {
   "cell_type": "markdown",
   "metadata": {},
   "source": [
    "Si l'option <code> minidata </code> is true, the function <code> load_movielens</code> will return the matrice with just first 100 lignes and fisrt 200 colonne."
   ]
  },
  {
   "cell_type": "markdown",
   "metadata": {},
   "source": [
    "### Question 1.2"
   ]
  },
  {
   "cell_type": "code",
   "execution_count": 6,
   "metadata": {},
   "outputs": [
    {
     "name": "stdout",
     "output_type": "stream",
     "text": [
      "Number of users:943\n",
      "Number of films:1682\n",
      "Total number of note:100000\n"
     ]
    }
   ],
   "source": [
    "print(\"Number of users:%d\\nNumber of films:%d\" % const.R.shape)\n",
    "print(\"Total number of note:%d\" %sum(const.mask.reshape(-1)))"
   ]
  },
  {
   "cell_type": "markdown",
   "metadata": {},
   "source": [
    "### Qurestion 1.3"
   ]
  },
  {
   "cell_type": "markdown",
   "metadata": {},
   "source": [
    "a) cette fonction n'est pas convexee\n",
    "b) Calcule gradient\n",
    "$\\thelta $"
   ]
  },
  {
   "cell_type": "markdown",
   "metadata": {},
   "source": [
    "## 2 Trouver $P$ quand $Q_0$ est fixé"
   ]
  },
  {
   "cell_type": "markdown",
   "metadata": {},
   "source": [
    "### Question 2.1\n",
    "$$ \\frac{\\partial g}{\\partial p_{m,k}} = \\sum_{(u,i) \\in K }(r_{u,i} - \\sum_{c \\in C}q_{u,c}p_{c,i})(-q_{u,k}) + \\rho p_{u,k} $$\n",
    "Donc le gradient par rapport P peut s'ecrit sous format ci-dessous:\n",
    "\n",
    "$$\\nabla_P G(P,Q)  =  - Q^T(\\mathbb I_K \\circ (R-QP)) + \\rho P$$\n",
    "\n",
    "en notant que la matrice $\\nabla_p G(P,Q)$ est une matrice de taille $c \\times$ i sous format ci-dessous:\n",
    "\n",
    "\n",
    "$$\n",
    "\\nabla_P G (P,Q) = \n",
    "\\begin{pmatrix}\n",
    "\\frac{\\partial g}{\\partial p_{1,1}} & \\frac{\\partial g}{\\partial p_{1,2}}  & \\dots &\\dots & \\frac{\\partial g}{\\partial p_{1,I}}\\\\ \n",
    "\\frac{\\partial g}{\\partial p_{2,1}} & \\frac{\\partial g}{\\partial p_{2,2}} & \\dots\t& \\dots \t&\\frac{\\partial g}{\\partial p_{2,I}} \\\\\n",
    "\\vdots&\t\\vdots\t&\\ddots\t\t\t\t\t&\t\t\t\t\t&\\vdots \\\\\n",
    "\\vdots&\t\\vdots\t&\t\t\t\t\t&\\ddots\t\t\t\t\t&\\vdots \\\\ \n",
    "\\frac{\\partial g}{\\partial p_{C,1}} & \\frac{\\partial g}{\\partial p_{C,2}}  & \\dots &\\dots & \\frac{\\partial g}{\\partial p_{C,I}}\\\\ \n",
    "\\end{pmatrix}\n",
    "$$\n",
    "\n",
    "\n",
    "\n",
    "De même façon, on peut obtenir le gradient par rapport à P peut s'écrit sous format ci-dessous:\n",
    "\n",
    "$$ \\frac{\\partial g}{\\partial q_{m,l}} = \\sum_{(u,i) \\in K }(r_{u,i} - \\sum_{c \\in C}q_{u,c}p_{c,i})(-q_{l,i}) + \\rho q_{m,l} $$\n",
    "\n",
    "D'où\n",
    "\n",
    "$$\\nabla_Q G(P,Q)  =  -(\\mathbb I_K \\circ (R-QP))P^T + \\rho P$$\n",
    "\n",
    "\n",
    "\n",
    "\n",
    "\n",
    "\n",
    "\n",
    "\n"
   ]
  },
  {
   "cell_type": "markdown",
   "metadata": {},
   "source": [
    "### Question 2.2"
   ]
  },
  {
   "cell_type": "code",
   "execution_count": 8,
   "metadata": {},
   "outputs": [
    {
     "data": {
      "text/plain": [
       "(4, 1682)"
      ]
     },
     "execution_count": 8,
     "metadata": {},
     "output_type": "execute_result"
    }
   ],
   "source": [
    "def objective(P, Q0, R, mask, rho):\n",
    "    \"\"\"\n",
    "    La fonction objectif du probleme simplifie.\n",
    "    Prend en entree \n",
    "    P : la variable matricielle de taille C x I\n",
    "    Q0 : une matrice de taille U x C\n",
    "    R : une matrice de taille U x I\n",
    "    mask : une matrice 0-1 de taille U x I\n",
    "    rho : un reel positif ou nul\n",
    "\n",
    "    Sorties :\n",
    "    val : la valeur de la fonction\n",
    "    grad_P : le gradient par rapport a P\n",
    "    \"\"\"\n",
    "\n",
    "    tmp = (R - Q0.dot(P)) * mask\n",
    "\n",
    "    val = np.sum(tmp ** 2)/2. + rho/2. * (np.sum(Q0 ** 2) + np.sum(P ** 2))\n",
    "\n",
    "    grad_P = -Q0.T.dot(tmp) + rho * P  # todo\n",
    "\n",
    "    return val, grad_P    \n",
    "\n",
    "rho = 0.5\n",
    "C = 4\n",
    "u,i = R.shape\n",
    "\n",
    "objective(V_T, U, R, mask, rho)[1].shape"
   ]
  },
  {
   "cell_type": "code",
   "execution_count": 9,
   "metadata": {},
   "outputs": [],
   "source": [
    "[R, mask] = utils.load_movielens(\"ml-100k/u.data\")\n",
    "rho = 0.3\n",
    "Q0,S,V_T = scipy.sparse.linalg.svds(R, k= 4 , which = 'LM')\n",
    "\n",
    "def obj_Q_fix(P):\n",
    "    return objective(P, const.Q0, const.R, const.mask, const.rho)\n",
    "\n",
    "def funcObj(P_vec):\n",
    "    P = P_vec.reshape(const.C,const.i)\n",
    "    return obj_Q_fix(P)[0]\n",
    "\n",
    "def funcGrad(P_vec):\n",
    "    P = P_vec.reshape(const.C,const.i)\n",
    "    func_grad = obj_Q_fix(P)[1]\n",
    "    return np.ravel(func_grad)"
   ]
  },
  {
   "cell_type": "code",
   "execution_count": 10,
   "metadata": {},
   "outputs": [
    {
     "name": "stdout",
     "output_type": "stream",
     "text": [
      "The difference of gradient is 0.979345\n",
      "Done in 222.559s.\n"
     ]
    }
   ],
   "source": [
    "t0 = time.time()\n",
    "\n",
    "diff = scipy.optimize.check_grad(funcObj, funcGrad, np.ravel(V_T))\n",
    "\n",
    "print(\"The difference of gradient is %f\" % diff)\n",
    "print(\"Done in %0.3fs.\" % (time.time()-t0))"
   ]
  },
  {
   "cell_type": "markdown",
   "metadata": {},
   "source": [
    "### Question 2.3 Minimiser une fonction g par la méthode du gradient."
   ]
  },
  {
   "cell_type": "code",
   "execution_count": 11,
   "metadata": {},
   "outputs": [],
   "source": [
    "def gradient(P0, gamma, epsilon):\n",
    "    \"\"\"\n",
    "    Implémenter la méthode du gradient avec gamma constante\n",
    "    g : fonction objectif à minimiser\n",
    "    P : le point depart à minimiser\n",
    "    gamma : le pas en partant du point initial P0\n",
    "    epsilon : le critère d'arrêt\n",
    "    \n",
    "    Sorties :\n",
    "    val : la valeur de la fonction au point minimal\n",
    "    P : le point arrivant au minimal\n",
    "    cnt : nombre de l'itération\n",
    "    \"\"\"\n",
    "    P = P0\n",
    "    val,diff = obj_Q_fix(P)\n",
    "    cnt = 0\n",
    "    while(np.sum(diff**2) > epsilon**2):\n",
    "        P = P - gamma * diff\n",
    "        val, diff = obj_Q_fix(P)\n",
    "        cnt = cnt + 1\n",
    "\n",
    "    return val, P, cnt  "
   ]
  },
  {
   "cell_type": "markdown",
   "metadata": {},
   "source": [
    "### Question 2.4 minimiser la fonction g jusqu’à la précision ϵ = 1"
   ]
  },
  {
   "cell_type": "code",
   "execution_count": 12,
   "metadata": {},
   "outputs": [
    {
     "name": "stdout",
     "output_type": "stream",
     "text": [
      "The minimal value of target function: 369551.549755\n",
      "The solution: [[ -2.23284052e+00   4.90628311e-01   9.98905148e+00 ...,  -4.74964920e-01\n",
      "    3.92192583e-02   8.67767872e-01]\n",
      " [  4.53777216e+00  -1.35363756e+01  -2.56780390e+00 ...,   3.63521640e-01\n",
      "   -3.15383271e-01  -1.77450057e-01]\n",
      " [ -2.02978116e+01  -4.68311514e-01  -1.07452637e+01 ...,  -3.43492982e-01\n",
      "    8.20978821e-02   1.54994809e-01]\n",
      " [  5.76416721e+01   2.77455297e+01   1.98641954e+01 ...,   6.09193469e-02\n",
      "    6.75805988e-01   6.32539852e-01]]\n",
      "Number of iteration: 26\n",
      "using time: 0.839790\n"
     ]
    }
   ],
   "source": [
    "t0 = time.time()\n",
    "L = const.rho + np.sqrt(np.sum(const.Q0**2))\n",
    "\n",
    "val_grad, sn_grad , cnt_grad = gradient(np.zeros_like(const.V_T), gamma = 1.0/L, epsilon = 1)\n",
    "t_grad = time.time() - t0\n",
    "\n",
    "print(\"The minimal value of target function: %f\" %val_grad )\n",
    "print(\"The solution:\",sn_grad)\n",
    "print(\"Number of iteration: %d\" %cnt_grad)\n",
    "print(\"using time: %f\" %t_grad)"
   ]
  },
  {
   "cell_type": "markdown",
   "metadata": {},
   "source": [
    "## 3 Raffinements algorithmiques pour le problème à $Q_0$"
   ]
  },
  {
   "cell_type": "markdown",
   "metadata": {},
   "source": [
    "### Question 3.1"
   ]
  },
  {
   "cell_type": "code",
   "execution_count": 13,
   "metadata": {},
   "outputs": [],
   "source": [
    "def gradient_armijo(P0, epsilon):\n",
    "    \"\"\"\n",
    "    Implémenter la méthode du gradient avec \"armijo's line search\"\n",
    "    g : fonction objectif à minimiser\n",
    "    epsilon : le critère d'arrêt\n",
    "    \n",
    "    Sorties :\n",
    "    val : la valeur de la fonction au point minimal\n",
    "    P : le point arrivant au minimal\n",
    "    cnt : nombre de l'itération\n",
    "    \"\"\"\n",
    "    x_k = P0\n",
    "    val,diff = obj_Q_fix(x_k)\n",
    "    cnt = 0\n",
    "    while(np.sum(diff**2) > epsilon**2):\n",
    "        gamma = const.b\n",
    "        x_plus = x_k - gamma * diff\n",
    "        val_plus, diff_plus = obj_Q_fix(x_plus)\n",
    "        diff_square = np.sum(diff**2)\n",
    "        while(val_plus > val - const.beta * gamma * diff_square):\n",
    "            gamma = gamma*const.a\n",
    "            x_plus = x_k - gamma* diff\n",
    "            val_plus, diff_plus = obj_Q_fix(x_plus)\n",
    "        \n",
    "        diff_square = np.sum(diff**2)\n",
    "        diff = diff_plus\n",
    "        x_k = x_plus\n",
    "        val = val_plus\n",
    "        cnt = cnt + 1\n",
    "\n",
    "    return val, x_k, cnt\n"
   ]
  },
  {
   "cell_type": "code",
   "execution_count": 14,
   "metadata": {},
   "outputs": [
    {
     "name": "stdout",
     "output_type": "stream",
     "text": [
      "The minimal value of target function: 369551.666531\n",
      "The solution: [[ -2.23288869e+00   4.90833877e-01   9.99075882e+00 ...,  -4.74299488e-01\n",
      "    3.91599840e-02   8.66576415e-01]\n",
      " [  4.53782257e+00  -1.35373214e+01  -2.56895974e+00 ...,   3.63012341e-01\n",
      "   -3.14906614e-01  -1.77206416e-01]\n",
      " [ -2.02978359e+01  -4.68054805e-01  -1.07449594e+01 ...,  -3.43011744e-01\n",
      "    8.19738029e-02   1.54781999e-01]\n",
      " [  5.76416922e+01   2.77448767e+01   1.98627950e+01 ...,   6.08339981e-02\n",
      "    6.74784604e-01   6.31671366e-01]]\n",
      "Number of iteration: 22\n",
      "using time: 0.720940\n"
     ]
    }
   ],
   "source": [
    "t0 = time.time()\n",
    "L = const.rho + np.sqrt(np.sum(const.Q0**2))\n",
    "\n",
    "val_ar, sn_ar , cnt_ar = gradient_armijo(np.zeros_like(const.V_T),  epsilon = 1)\n",
    "t_ar = time.time() - t0\n",
    "\n",
    "print(\"The minimal value of target function: %f\" %val_ar )\n",
    "print(\"The solution:\",sn_ar)\n",
    "print(\"Number of iteration: %d\" %cnt_ar )\n",
    "print(\"using time: %f\" %t_ar)"
   ]
  },
  {
   "cell_type": "code",
   "execution_count": 15,
   "metadata": {},
   "outputs": [
    {
     "name": "stderr",
     "output_type": "stream",
     "text": [
      "ERROR:root:Line magic function `%lprun` not found.\n"
     ]
    }
   ],
   "source": [
    "%lprun -f gradient_armijo gradient_armijo(np.zeros_like(const.V_T),  epsilon = 1)"
   ]
  },
  {
   "cell_type": "markdown",
   "metadata": {},
   "source": [
    "### question 3.2"
   ]
  },
  {
   "cell_type": "code",
   "execution_count": 16,
   "metadata": {},
   "outputs": [],
   "source": [
    "%reload_ext line_profiler\n",
    "%lprun\n",
    "\n",
    "def method_conjugue(P0, epsilon):\n",
    "    P = P0\n",
    "    val, diff = obj_Q_fix(P0)\n",
    "    dk = -diff\n",
    "    k = 0\n",
    "    \n",
    "    while(np.sum(diff**2) > epsilon**2):\n",
    "        sk,fc, gc, new_fval, old_fval,new_slope = line_search(funcObj, \n",
    "                                                              funcGrad, \n",
    "                                                              xk = np.ravel(P), \n",
    "                                                              pk = np.ravel(dk), c1=0.5 )\n",
    "        P = P + sk * dk\n",
    "        diff_new = new_slope.reshape(const.C, const.i)\n",
    "        bk = np.sum(diff_new**2) / np.sum(diff**2)\n",
    "        dk = -diff_new + bk * dk\n",
    "        k = k+1\n",
    "        diff = diff_new\n",
    "        val = new_fval\n",
    "    return val, P, k"
   ]
  },
  {
   "cell_type": "code",
   "execution_count": 17,
   "metadata": {},
   "outputs": [
    {
     "name": "stdout",
     "output_type": "stream",
     "text": [
      "The minimal value of target function: 369551.406611\n",
      "The solution: [[ -2.20900327e+00   4.87132979e-01   9.95549972e+00 ...,  -4.72993282e-01\n",
      "    3.89993039e-02   8.64483226e-01]\n",
      " [  4.53963698e+00  -1.35168869e+01  -2.54449475e+00 ...,   3.62012616e-01\n",
      "   -3.13614499e-01  -1.76778379e-01]\n",
      " [ -2.02757600e+01  -4.49058146e-01  -1.07436239e+01 ...,  -3.42067100e-01\n",
      "    8.16374504e-02   1.54408128e-01]\n",
      " [  5.76172961e+01   2.77696619e+01   1.98602070e+01 ...,   6.06664632e-02\n",
      "    6.72015848e-01   6.30145583e-01]]\n",
      "Number of iteration: 7\n",
      "using time: 0.923955\n"
     ]
    }
   ],
   "source": [
    "t0 = time.time()\n",
    "val_conj, sn_conj ,cnt_conj = method_conjugue(np.zeros_like(const.V_T), 1)\n",
    "t_conj = time.time() - t0\n",
    "\n",
    "\n",
    "print(\"The minimal value of target function: %f\" %val_conj )\n",
    "print(\"The solution:\",sn_conj)\n",
    "print(\"Number of iteration: %d\" %cnt_conj)\n",
    "print(\"using time: %f\" %t_conj)"
   ]
  },
  {
   "cell_type": "markdown",
   "metadata": {},
   "source": [
    "### Question 3.3 Comparer les perfomances des trois algorithmes"
   ]
  },
  {
   "cell_type": "code",
   "execution_count": 18,
   "metadata": {},
   "outputs": [
    {
     "data": {
      "image/png": "[encoded data removed]",
      "text/plain": [
       "<matplotlib.figure.Figure at 0x2af95532be0>"
      ]
     },
     "metadata": {},
     "output_type": "display_data"
    }
   ],
   "source": [
    "x = np.arange(3)\n",
    "val = [val_grad, val_ar, val_conj]\n",
    "t_use = [t_grad, t_ar, t_conj]\n",
    "cnt = [cnt_grad, cnt_ar, cnt_conj]\n",
    "legends = (\"Gradient\", \"Gradient_LS\", \"Gradient Conjugué\")\n",
    "\n",
    "plt.bar(x, val)\n",
    "plt.xticks(x,legends)\n",
    "plt.title(\"Function value\")\n",
    "plt.show()"
   ]
  },
  {
   "cell_type": "code",
   "execution_count": 19,
   "metadata": {},
   "outputs": [
    {
     "data": {
      "image/png": "[encoded data removed]",
      "text/plain": [
       "<matplotlib.figure.Figure at 0x2af95532588>"
      ]
     },
     "metadata": {},
     "output_type": "display_data"
    }
   ],
   "source": [
    "plt.bar(x, t_use)\n",
    "plt.xticks(x,legends)\n",
    "plt.title(\"Temps utilisé\")\n",
    "plt.show()"
   ]
  },
  {
   "cell_type": "markdown",
   "metadata": {},
   "source": [
    "## 4 Résoudre du problème complet"
   ]
  },
  {
   "cell_type": "markdown",
   "metadata": {},
   "source": [
    "### Question 4.1"
   ]
  },
  {
   "cell_type": "code",
   "execution_count": 20,
   "metadata": {},
   "outputs": [],
   "source": [
    "def total_objective(P, Q, R, mask, rho):\n",
    "    \"\"\"\n",
    "    La fonction objectif du probleme complet.\n",
    "    Prend en entree \n",
    "    P : la variable matricielle de taille C x I\n",
    "    Q : la variable matricielle de taille U x C\n",
    "    R : une matrice de taille U x I\n",
    "    mask : une matrice 0-1 de taille U x I\n",
    "    rho : un reel positif ou nul\n",
    "\n",
    "    Sorties :\n",
    "    val : la valeur de la fonction\n",
    "    grad_P : le gradient par rapport a P\n",
    "    grad_Q : le gradient par rapport a Q\n",
    "    \"\"\"\n",
    "\n",
    "    tmp = (R - Q.dot(P)) * mask\n",
    "\n",
    "    val = np.sum(tmp ** 2)/2. + rho/2. * (np.sum(Q ** 2) + np.sum(P ** 2))\n",
    "\n",
    "    grad_P = -Q.T.dot(tmp) + const.rho * P\n",
    "\n",
    "    grad_Q = -tmp.dot(P.T) + const.rho * Q  # todo\n",
    "\n",
    "    return val, grad_P, grad_Q\n",
    "\n",
    "def total_objective_vectorized(PQvec, R, mask, rho):\n",
    "    \"\"\"\n",
    "    Vectorisation de la fonction precedente de maniere a ne pas\n",
    "    recoder la fonction gradient\n",
    "    \"\"\"\n",
    "\n",
    "    # reconstruction de P et Q\n",
    "    n_items = R.shape[1]\n",
    "    n_users = R.shape[0]\n",
    "    F = int(PQvec.shape[0] / (n_items + n_users))\n",
    "    Pvec = PQvec[0:n_items*F]\n",
    "    Qvec = PQvec[n_items*F:]\n",
    "    P = np.reshape(Pvec, (F, n_items))\n",
    "    Q = np.reshape(Qvec, (n_users, F))\n",
    "\n",
    "    val, grad_P, grad_Q = total_objective(P, Q, R, mask, rho)\n",
    "    return val, np.concatenate([grad_P.ravel(), grad_Q.ravel()])\n",
    "\n",
    "def total_line_search_armijo(func, PQvec, R,mask, rho, a, b, beta):\n",
    "    gamma = b\n",
    "    val, diff = func(PQvec, R, mask, rho)\n",
    "    diff_square = np.sum(diff**2)\n",
    "    x_plus =PQvec - gamma * diff\n",
    "    val_plus = func(x_plus, R, mask, rho)[0]\n",
    "    while(val_plus > val - beta * gamma * diff_square):\n",
    "        gamma = gamma * a\n",
    "        x_plus = PQvec - gamma * diff\n",
    "        val_plus = func(x_plus, R, mask, rho)[0] \n",
    "    return gamma"
   ]
  },
  {
   "cell_type": "code",
   "execution_count": 21,
   "metadata": {},
   "outputs": [],
   "source": [
    "def gradient_method_complet(PQvec, R, mask, rho,epsilon):\n",
    "    \"\"\"\n",
    "    Implémenter la méthode du gradient avec gamma constante\n",
    "    PQvec : le point depart à minimiser\n",
    "    epsilon : le critère d'arrêt\n",
    "    \n",
    "    Sorties :\n",
    "    val : la valeur de la fonction au point minimal\n",
    "    P : le point arrivant au minimal\n",
    "    cnt : nombre de l'itération\n",
    "    \"\"\"\n",
    "    xk = PQvec\n",
    "    val, diff = total_objective_vectorized(PQvec, R, mask, rho)\n",
    "    cnt = 0\n",
    "    while(np.sum(diff**2) > epsilon**2):\n",
    "        gamma = total_line_search_armijo(total_objective_vectorized,xk,R,mask,rho,0.5,0.5,0.5)\n",
    "        xk = xk - gamma * diff\n",
    "        val, diff = total_objective_vectorized(xk, R, mask, rho)\n",
    "        cnt = cnt + 1\n",
    "\n",
    "    return val, xk ,cnt  "
   ]
  },
  {
   "cell_type": "code",
   "execution_count": 22,
   "metadata": {},
   "outputs": [
    {
     "name": "stdout",
     "output_type": "stream",
     "text": [
      "The minimal value of target function: 35970.726746\n",
      "The solution: [-0.31478848  0.02472654  0.81959663 ..., -0.32198861 -0.81514573\n",
      "  2.00904794]\n",
      "Number of iteration: 93\n",
      "using time: 36.645028\n"
     ]
    }
   ],
   "source": [
    "t0 = time.time()\n",
    "PQvec = np.append(const.V_T.ravel(),const.Q0.ravel())\n",
    "val_cplt, sn_cplt, cnt_cplt = gradient_method_complet(PQvec,const.R, const.mask, const.rho, 100)\n",
    "t_cplt = time.time() - t0\n",
    "\n",
    "\n",
    "print(\"The minimal value of target function: %f\" %val_cplt )\n",
    "print(\"The solution:\",sn_cplt)\n",
    "print(\"Number of iteration: %d\" %cnt_cplt)\n",
    "print(\"using time: %f\" %t_cplt)\n"
   ]
  },
  {
   "cell_type": "markdown",
   "metadata": {},
   "source": [
    "### Question 4.3"
   ]
  },
  {
   "cell_type": "code",
   "execution_count": 23,
   "metadata": {},
   "outputs": [],
   "source": [
    "def func_pure(P,Q,R,mask, rho):\n",
    "    tmp = (R - Q.dot(P)) * mask\n",
    "    return np.sum(tmp ** 2)/2. + rho/2. * (np.sum(Q ** 2) + np.sum(P ** 2))\n",
    "    \n",
    "def my_line_search(func, x, d,b, *args):\n",
    "    ''' chercher un gamma qui se fait le func(x+gamma*d) arriver au point minimal\n",
    "    '''\n",
    "    gamma = 2*b\n",
    "    x_plus = x + gamma * d\n",
    "    val = func(x, *args)\n",
    "    val_plus = func(x_plus, *args)\n",
    "    #nbIt = 0\n",
    "    d_square = np.sum(d**2)\n",
    "    while(val_plus > val - const.beta * gamma * d_square):\n",
    "        #print('val_plus',val_plus,'val-?',  const.beta * gamma * d_square)\n",
    "        gamma = gamma*const.a\n",
    "        x_plus = x + gamma* d\n",
    "        val_plus = func(x_plus, *args)\n",
    "        #print(\"gamma\",gamma,'val_plus',val_plus,val - const.beta * gamma * np.sum(d.ravel()*(x_plus - x).ravel()))\n",
    "        #nbIt = nbIt + 1\n",
    "    return gamma\n",
    "def total_obj_vec_gra(Pvec, Qvec, R, mask, rho):\n",
    "    \"\"\"\n",
    "    Vectorisation de la fonction precedente de maniere a ne pas\n",
    "    recoder la fonction gradient\n",
    "    \"\"\"\n",
    "\n",
    "    # reconstruction de P et Q\n",
    "    n_items = R.shape[1]\n",
    "    n_users = R.shape[0]\n",
    "    F = int(PQvec.shape[0] / (n_items + n_users))\n",
    "    Pvec = PQvec[0:n_items*F]\n",
    "    Qvec = PQvec[n_items*F:]\n",
    "    P = np.reshape(Pvec, (F, n_items))\n",
    "    Q = np.reshape(Qvec, (n_users, F))\n",
    "    \n",
    "    val, grad_P, grad_Q = total_objective(P, Q, R, mask, rho)\n",
    "    return val, grad_P.ravel(), grad_Q.ravel()\n",
    "    \n",
    "    \n",
    "def gradient_armijo_Q_fix(P0,Q0,epsilon, *args):\n",
    "    \"\"\"\n",
    "    Implémenter la méthode du gradient avec \"armijo's line search\"\n",
    "    g : fonction objectif à minimiser\n",
    "    epsilon : le critère d'arrêt\n",
    "    \n",
    "    Sorties :\n",
    "    val : la valeur de la fonction au point minimal\n",
    "    P : le point arrivant au minimal\n",
    "    cnt : nombre de l'itération\n",
    "    \"\"\"\n",
    "    x_k = P0\n",
    "    L = const.rho + np.sqrt(np.sum(Q0**2))\n",
    "    val,diff_p, diff_q = total_objective(x_k, Q0, *args)\n",
    "    cnt = 0\n",
    "    while(np.sum(diff_p**2) > epsilon**2):\n",
    "        gamma = my_line_search(lambda x,*args:total_objective(x,Q0,*args)[0],\n",
    "                            x_k,\n",
    "                            -diff_p,\n",
    "                            1/L,\n",
    "                            *args)\n",
    "#         gamma = my_line_search(lambda x,*args:func_pure(x,Q0,*args),\n",
    "#                             x_k,\n",
    "#                             -diff_p,\n",
    "#                             1/L,\n",
    "#                             *args) \n",
    "#       \n",
    "#         gamma = OP.line_search(lambda x,*args:total_obj_vec_gra(x,Q0.ravel,*args)[0],\n",
    "#                               lambda x,*args:total_obj_vec_gra(x,Q0.ravel,*args)[1],\n",
    "#                               x_k.ravel(),\n",
    "#                               -diff_p.ravel(),\n",
    "#                               args = args)[0]\n",
    "        x_k = x_k - gamma * diff_p\n",
    "        val, diff_p, diff_q = total_objective(x_k, Q0,*args);\n",
    "        cnt = cnt + 1\n",
    "        #print('val', val, 'diff',np.sum(diff_p**2))\n",
    "    \n",
    "    return val, x_k, cnt\n",
    "\n",
    "def gradient_armijo_P_fix(P0,Q0,epsilon, *args):\n",
    "    \"\"\"\n",
    "    Implémenter la méthode du gradient avec \"armijo's line search\"\n",
    "    g : fonction objectif à minimiser\n",
    "    epsilon : le critère d'arrêt\n",
    "    \n",
    "    Sorties :\n",
    "    val : la valeur de la fonction au point minimal\n",
    "    P : le point arrivant au minimal\n",
    "    cnt : nombre de l'itération\n",
    "    \"\"\"\n",
    "    x_k = Q0\n",
    "    val,diff_p, diff_q = total_objective(P0, x_k, *args)\n",
    "    cnt = 0\n",
    "    L = const.rho + np.sqrt(np.sum(P0**2))\n",
    "    while(np.sum(diff_q**2) > epsilon**2):\n",
    "        gamma = my_line_search(lambda x,*args:total_objective(P0,x,*args)[0],\n",
    "                            x_k,\n",
    "                            -diff_q,\n",
    "                            1/L,\n",
    "                            *args)\n",
    "\n",
    "#         gamma = my_line_search(lambda x,*args:func_pure(P0,x,*args),\n",
    "#                     x_k,\n",
    "#                     -diff_q,\n",
    "#                     1/L,\n",
    "#                     *args)\n",
    "#         gamma = OP.line_search(lambda x,*args:total_obj_vec_gra(P0.ravel,x,*args)[0],\n",
    "#                               lambda x,*args:total_obj_vec_gra(P0.ravel,x,*args)[2],\n",
    "#                                x_k.reval(),\n",
    "#                               -diff_q.reval(),\n",
    "#                               args = args)[0]\n",
    "        x_k = x_k - gamma * diff_q\n",
    "        val, diff_p, diff_q = total_objective(P0, x_k,*args);\n",
    "        cnt = cnt + 1\n",
    "        #print(\"--val\",val, 'diff', np.sum(diff_q**2))\n",
    "    return val, x_k, cnt\n",
    "\n",
    "\n",
    "def ALS(P0,Q0, epsilon, *args):\n",
    "    P = P0\n",
    "    Q = Q0\n",
    "    cnt = 0\n",
    "    val,diff_p, diff_q = total_objective(P,Q,*args)\n",
    "    old_val = val\n",
    "    val = 0\n",
    "    while(old_val != val):\n",
    "        old_val = val\n",
    "        Q = gradient_armijo_P_fix(P,Q, epsilon, *args)[1]\n",
    "        #print('P')\n",
    "        P = gradient_armijo_Q_fix(P,Q, epsilon, *args)[1]\n",
    "        #print('Q')\n",
    "        val,diff_p, diff_q = total_objective(P,Q,*args)\n",
    "        cnt = cnt + 1\n",
    "    return val, P, Q, cnt"
   ]
  },
  {
   "cell_type": "code",
   "execution_count": 44,
   "metadata": {},
   "outputs": [
    {
     "name": "stdout",
     "output_type": "stream",
     "text": [
      " The minimal value of target function: 112396.498777\n"
     ]
    },
    {
     "ename": "NameError",
     "evalue": "name 'sn_ar_200' is not defined",
     "output_type": "error",
     "traceback": [
      "\u001b[1;31m---------------------------------------------------------------------------\u001b[0m",
      "\u001b[1;31mNameError\u001b[0m                                 Traceback (most recent call last)",
      "\u001b[1;32m<ipython-input-44-c15edd72f00f>\u001b[0m in \u001b[0;36m<module>\u001b[1;34m()\u001b[0m\n\u001b[0;32m     10\u001b[0m \u001b[1;33m\u001b[0m\u001b[0m\n\u001b[0;32m     11\u001b[0m \u001b[0mprint\u001b[0m\u001b[1;33m(\u001b[0m\u001b[1;34m\"The minimal value of target function: %f\"\u001b[0m \u001b[1;33m%\u001b[0m\u001b[0mval_ar_200\u001b[0m \u001b[1;33m)\u001b[0m\u001b[1;33m\u001b[0m\u001b[0m\n\u001b[1;32m---> 12\u001b[1;33m \u001b[0mprint\u001b[0m\u001b[1;33m(\u001b[0m\u001b[1;34m\"The solution:\"\u001b[0m\u001b[1;33m,\u001b[0m\u001b[0msn_ar_200\u001b[0m\u001b[1;33m)\u001b[0m\u001b[1;33m\u001b[0m\u001b[0m\n\u001b[0m\u001b[0;32m     13\u001b[0m \u001b[0mprint\u001b[0m\u001b[1;33m(\u001b[0m\u001b[1;34m\"using time: %f\"\u001b[0m \u001b[1;33m%\u001b[0m\u001b[0mt_ar_200\u001b[0m\u001b[1;33m)\u001b[0m\u001b[1;33m\u001b[0m\u001b[0m\n",
      "\u001b[1;31mNameError\u001b[0m: name 'sn_ar_200' is not defined"
     ]
    }
   ],
   "source": [
    "t0 = time.time()\n",
    "L = const.rho + np.sqrt(np.sum(const.Q0**2))\n",
    "\n",
    "%prun\n",
    "val_ar_200, sn_arp_200 ,sn_arq_200, cnt_ar_200 = ALS(const.V_T, const.Q0,500,\n",
    "                                               const.R, const.mask,\n",
    "                                               const.rho)\n",
    "\n",
    "t_ar_200 = time.time() - t0\n",
    "\n",
    "print(\"The minimal value of target function: %f\" %val_ar_200 )\n",
    "print(\"The solution:\",sn_ar_200)\n",
    "print(\"using time: %f\" %t_ar_200)"
   ]
  },
  {
   "cell_type": "code",
   "execution_count": 25,
   "metadata": {},
   "outputs": [
    {
     "name": "stdout",
     "output_type": "stream",
     "text": [
      " The minimal value of target function: 50454.175757\n",
      "The solution: [[ -2.23288869e+00   4.90833877e-01   9.99075882e+00 ...,  -4.74299488e-01\n",
      "    3.91599840e-02   8.66576415e-01]\n",
      " [  4.53782257e+00  -1.35373214e+01  -2.56895974e+00 ...,   3.63012341e-01\n",
      "   -3.14906614e-01  -1.77206416e-01]\n",
      " [ -2.02978359e+01  -4.68054805e-01  -1.07449594e+01 ...,  -3.43011744e-01\n",
      "    8.19738029e-02   1.54781999e-01]\n",
      " [  5.76416922e+01   2.77448767e+01   1.98627950e+01 ...,   6.08339981e-02\n",
      "    6.74784604e-01   6.31671366e-01]]\n",
      "Number of iteration: 29\n",
      "using time: 1997.754561\n"
     ]
    }
   ],
   "source": [
    "t0 = time.time()\n",
    "L = const.rho + np.sqrt(np.sum(const.Q0**2))\n",
    "\n",
    "%prun\n",
    "val_ar, sn_arp ,sn_arq, cnt_ar = ALS(const.V_T, const.Q0,100,\n",
    "                                               const.R, const.mask,\n",
    "                                               const.rho)\n",
    "\n",
    "t_ar = time.time() - t0\n",
    "\n",
    "print(\"The minimal value of target function: %f\" %val_ar )\n",
    "print(\"The solution:\",sn_ar)\n",
    "print(\"Number of iteration: %d\" %cnt_ar )\n",
    "print(\"using time: %f s\" %t_ar)"
   ]
  },
  {
   "cell_type": "code",
   "execution_count": 26,
   "metadata": {},
   "outputs": [
    {
     "name": "stdout",
     "output_type": "stream",
     "text": [
      "*** KeyboardInterrupt exception caught in code being profiled."
     ]
    }
   ],
   "source": [
    "P = gradient_armijo_Q_fix(const.V_T,const.Q0, 100, R, mask, rho)[1]\n",
    "%lprun -f my_line_search ALS(const.V_T, const.Q0,100,const.R, const.mask, const.rho)"
   ]
  },
  {
   "cell_type": "markdown",
   "metadata": {},
   "source": [
    "### Question 4.4"
   ]
  },
  {
   "cell_type": "code",
   "execution_count": 30,
   "metadata": {},
   "outputs": [
    {
     "data": {
      "image/png": "[encoded data removed]",
      "text/plain": [
       "<matplotlib.figure.Figure at 0x2af989d0dd8>"
      ]
     },
     "metadata": {},
     "output_type": "display_data"
    },
    {
     "data": {
      "image/png": "[encoded data removed]",
      "text/plain": [
       "<matplotlib.figure.Figure at 0x2af98e24940>"
      ]
     },
     "metadata": {},
     "output_type": "display_data"
    },
    {
     "data": {
      "image/png": "[encoded data removed]",
      "text/plain": [
       "<matplotlib.figure.Figure at 0x2af98e246a0>"
      ]
     },
     "metadata": {},
     "output_type": "display_data"
    }
   ],
   "source": [
    "index = np.arange(3)\n",
    "bar_width = 0.5\n",
    "methods = [\"gradient\", \"ALS with $\\epsilon=200$\",'ALS with $\\epsilon=100$']\n",
    "times = [t_cplt, t_ar_200,t_ar]\n",
    "values = [val_cplt, val_ar_200, val_ar]\n",
    "cnts = [cnt_cplt, cnt_ar_200, cnt_ar]\n",
    "\n",
    "plt.figure(6, figsize=(8,6))\n",
    "plt.title(\"Function value of the two methods\")\n",
    "plt.bar(index, values, bar_width)\n",
    "plt.xticks(index, methods)\n",
    "plt.xlabel(\"Method\")\n",
    "plt.ylabel(\"Value\")\n",
    "plt.show()\n",
    "\n",
    "plt.figure(7, figsize=(8,6))\n",
    "plt.title(\"Running time of the two methods\")\n",
    "plt.bar(index, times, bar_width)\n",
    "plt.xticks(index, methods)\n",
    "plt.xlabel(\"Method\")\n",
    "plt.ylabel(\"Time\")\n",
    "plt.show()\n",
    "\n",
    "plt.figure(8, figsize=(8,6))\n",
    "plt.title(\"Number of iterations of the two methods\")\n",
    "plt.bar(index, cnts, bar_width)\n",
    "plt.xticks(index, methods)\n",
    "plt.xlabel(\"Method\")\n",
    "plt.ylabel(\"Number of iterations\")\n",
    "plt.show()"
   ]
  },
  {
   "cell_type": "markdown",
   "metadata": {},
   "source": [
    "### Question 4.5"
   ]
  },
  {
   "cell_type": "code",
   "execution_count": 41,
   "metadata": {},
   "outputs": [
    {
     "name": "stdout",
     "output_type": "stream",
     "text": [
      "-----------------------------------------------------------------------\n",
      "By gradient method, the 10 favorite films of user 449 will be:\n",
      "1: movie 55, score 4.866198\n",
      "2: movie 126, score 4.763520\n",
      "3: movie 113, score 4.707142\n",
      "4: movie 155, score 4.681151\n",
      "5: movie 407, score 4.675673\n",
      "6: movie 168, score 4.645976\n",
      "7: movie 474, score 4.628444\n",
      "8: movie 11, score 4.609943\n",
      "9: movie 178, score 4.553284\n",
      "10: movie 319, score 4.513413\n",
      "-----------------------------------------------------------------------\n",
      "By gradient method, the 10 favorite films of user 449 will be:\n",
      "1: movie 1346, score 6.137047\n",
      "2: movie 1374, score 5.464391\n",
      "3: movie 1301, score 5.437554\n",
      "4: movie 1642, score 5.333889\n",
      "5: movie 1357, score 5.329185\n",
      "6: movie 1430, score 5.288746\n",
      "7: movie 1366, score 5.274093\n",
      "8: movie 1395, score 5.161594\n",
      "9: movie 1158, score 5.138227\n",
      "10: movie 1462, score 5.013151\n"
     ]
    }
   ],
   "source": [
    "\n",
    "# Analyser le resultat venant de méthode de gradient\n",
    "U,I = const.R.shape\n",
    "P_grad_cplt = sn_cplt[0:I*4 ].reshape(const.C, I)\n",
    "Q_grad_cplt = sn_cplt[I*4:].reshape(U, const.C)\n",
    "R_gra_cplt =  Q_grad_cplt.dot(P_grad_cplt)\n",
    "score_cplt = R_gra_cplt[499,:]\n",
    "indice = (-score_cplt).argsort()\n",
    "\n",
    "print(\"-----------------------------------------------------------------------\")\n",
    "print(\"By gradient method, the 10 favorite films of user 449 will be:\")\n",
    "for i in range(10):\n",
    "    print(\"%d: movie %d, score %f\" % (i+1, indice[i], score_cplt[indice[i]]))\n",
    "    \n",
    "# Analyser le resultat venant de méthode des moindres carrés altérnés\n",
    "U,I = const.R.shape\n",
    "R_ar =sn_arq.dot(sn_arp)\n",
    "score_ar = R_ar[499,:]\n",
    "indice_ar = (-score_ar).argsort()\n",
    "\n",
    "print(\"-----------------------------------------------------------------------\")\n",
    "print(\"By gradient method, the 10 favorite films of user 449 will be:\")\n",
    "for i in range(10):\n",
    "    print(\"%d: movie %d, score %f\" % (i+1, indice_ar[i], score_ar[indice_ar[i]]))"
   ]
  },
  {
   "cell_type": "code",
   "execution_count": null,
   "metadata": {},
   "outputs": [],
   "source": []
  }
 ],
 "metadata": {
  "kernelspec": {
   "display_name": "Python 3",
   "language": "python",
   "name": "python3"
  },
  "language_info": {
   "codemirror_mode": {
    "name": "ipython",
    "version": 3
   },
   "file_extension": ".py",
   "mimetype": "text/x-python",
   "name": "python",
   "nbconvert_exporter": "python",
   "pygments_lexer": "ipython3",
   "version": "3.6.3"
  }
 },
 "nbformat": 4,
 "nbformat_minor": 2
}
