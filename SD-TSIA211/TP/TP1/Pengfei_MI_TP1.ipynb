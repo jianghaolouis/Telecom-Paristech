{
 "cells": [
  {
   "cell_type": "markdown",
   "metadata": {
    "toc": true
   },
   "source": [
    "<h1>Table of Contents<span class=\"tocSkip\"></span></h1>\n",
    "<div class=\"toc\" style=\"margin-top: 1em;\"><ul class=\"toc-item\"><li><span><a href=\"#Partie-1:-Présentation-du-modèle\" data-toc-modified-id=\"Partie-1:-Présentation-du-modèle-1\">Partie 1: Présentation du modèle</a></span></li><li><span><a href=\"#Partie-2:-Trouver-$P$-quand-$Q_0$-est-fixé\" data-toc-modified-id=\"Partie-2:-Trouver-$P$-quand-$Q_0$-est-fixé-2\">Partie 2: Trouver $P$ quand $Q_0$ est fixé</a></span></li><li><span><a href=\"#Partie-3:-Raffinements-algorithmiques-pour-le-problème-à-$Q_0$-fixé.\" data-toc-modified-id=\"Partie-3:-Raffinements-algorithmiques-pour-le-problème-à-$Q_0$-fixé.-3\">Partie 3: Raffinements algorithmiques pour le problème à $Q_0$ fixé.</a></span></li><li><span><a href=\"#Partie-4:-Résolution-du-problème-complet\" data-toc-modified-id=\"Partie-4:-Résolution-du-problème-complet-4\">Partie 4: Résolution du problème complet</a></span></li></ul></div>"
   ]
  },
  {
   "cell_type": "markdown",
   "metadata": {},
   "source": [
    "# SD211 TP1: Systèmes de recommandation"
   ]
  },
  {
   "cell_type": "markdown",
   "metadata": {},
   "source": [
    "*<p>Author: Pengfei MI</p>*\n",
    "*<p>Date: 05/05/2017</p>*"
   ]
  },
  {
   "cell_type": "code",
   "execution_count": 1,
   "metadata": {},
   "outputs": [],
   "source": [
    "# Importer les bibliothéques qu'on va utiliser.\n",
    "# from movielens_utils import *\n",
    "import numpy as np\n",
    "from scipy import sparse\n",
    "import matplotlib.pyplot as plt\n",
    "from mpl_toolkits.mplot3d import Axes3D\n",
    "from time import time\n",
    "from scipy.sparse.linalg import svds\n",
    "from scipy.optimize import check_grad\n",
    "from scipy.optimize import line_search"
   ]
  },
  {
   "cell_type": "code",
   "execution_count": 2,
   "metadata": {
    "collapsed": true
   },
   "outputs": [],
   "source": [
    "def load_movielens(filename, minidata=False):\n",
    "    \"\"\"\n",
    "    Cette fonction lit le fichier filename de la base de donnees\n",
    "    Movielens, par exemple \n",
    "    filename = '~/datasets/ml-100k/u.data'\n",
    "    Elle retourne \n",
    "    R : une matrice utilisateur-item contenant les scores\n",
    "    mask : une matrice valant 1 si il y a un score et 0 sinon\n",
    "    \"\"\"\n",
    "\n",
    "    data = np.loadtxt(filename, dtype=int)\n",
    "\n",
    "    R = sparse.coo_matrix((data[:, 2], (data[:, 0]-1, data[:, 1]-1)),\n",
    "                          dtype=float)\n",
    "    R = R.toarray()  # not optimized for big data\n",
    "\n",
    "    # code la fonction 1_K\n",
    "    mask = sparse.coo_matrix((np.ones(data[:, 2].shape),\n",
    "                              (data[:, 0]-1, data[:, 1]-1)), dtype=bool )\n",
    "    mask = mask.toarray()  # not optimized for big data\n",
    "\n",
    "    if minidata is True:\n",
    "        R = R[0:100, 0:200].copy()\n",
    "        mask = mask[0:100, 0:200].copy()\n",
    "\n",
    "    return R, mask"
   ]
  },
  {
   "cell_type": "markdown",
   "metadata": {},
   "source": [
    "## Partie 1: Présentation du modèle"
   ]
  },
  {
   "cell_type": "markdown",
   "metadata": {},
   "source": [
    "$\\textbf{Question 1.1}\\quad \\text{Récupérer la base de données Movielens.}$"
   ]
  },
  {
   "cell_type": "code",
   "execution_count": 3,
   "metadata": {},
   "outputs": [
    {
     "name": "stdout",
     "output_type": "stream",
     "text": [
      "(943, 1682)\n"
     ]
    }
   ],
   "source": [
    "filename = \"ml-100k/u.data\"\n",
    "R, mask = load_movielens(filename, minidata=False)\n",
    "\n",
    "print R.shape"
   ]
  },
  {
   "cell_type": "markdown",
   "metadata": {},
   "source": [
    "<div class=\"alert alert-success\">\n",
    "    <p>\n",
    "    L'option $minidata$ est pour diminuer la taille de données. Si on passe $True$ pour le paramètre $minidata$, la fonction va retourner les note des 100 premiers utilisateurs pour les 200 premiers films.\n",
    "    </p>\n",
    "</div>"
   ]
  },
  {
   "cell_type": "markdown",
   "metadata": {},
   "source": [
    "$\\textbf{Question 1.2}\\quad \\text{Investigation de la base de données.}$"
   ]
  },
  {
   "cell_type": "code",
   "execution_count": 4,
   "metadata": {},
   "outputs": [
    {
     "name": "stdout",
     "output_type": "stream",
     "text": [
      "(943, 1682) 100000\n"
     ]
    }
   ],
   "source": [
    "print R.shape, mask.sum()"
   ]
  },
  {
   "cell_type": "markdown",
   "metadata": {},
   "source": [
    "<div class=\"alert alert-success\">\n",
    "    <p>\n",
    "    Dans la base de données, il y a 943 utilisateurs et 1682 films. Il y a 100 000 notes en total.\n",
    "    </p>\n",
    "</div>\n"
   ]
  },
  {
   "cell_type": "markdown",
   "metadata": {},
   "source": [
    "$\\textbf{Question 1.3}\\quad \\text{Investigation de la fonction objectif.}$"
   ]
  },
  {
   "cell_type": "markdown",
   "metadata": {},
   "source": [
    "<div class=\"alert alert-success\">\n",
    "    a)\n",
    "    <p>\n",
    "    La fonction n'est pas convexe. Pour le démontrer, on n'a que besoin de trouver une contradiction.\n",
    "    </p>\n",
    "    <p>\n",
    "    Posons $|U| = |C| = 1$, la fonction objectif devient une fonction dont le domaine est $\\mathbb{R\\times R}$, i.e. $g(x, y) = \\frac{1}{2}(1-xy)^2 + \\frac{\\rho}{2}(x^2+y^2)$.\n",
    "    </p>\n",
    "    <p>\n",
    "    On obtient le dessin de la fonction:\n",
    "    </p>\n",
    "</div>"
   ]
  },
  {
   "cell_type": "code",
   "execution_count": 5,
   "metadata": {
    "scrolled": true
   },
   "outputs": [
    {
     "data": {
      "image/png": "[encoded data removed]",
      "text/plain": [
       "<matplotlib.figure.Figure at 0x10db7d510>"
      ]
     },
     "metadata": {},
     "output_type": "display_data"
    }
   ],
   "source": [
    "fig = plt.figure(1)\n",
    "ax = Axes3D(fig)\n",
    "\n",
    "rho = 0.2\n",
    "X = np.arange(-10, 10, 0.1)\n",
    "Y = np.arange(-10, 10, 0.1)\n",
    "X, Y = np.meshgrid(X, Y)\n",
    "Z = (1 - X*Y)**2/2. + rho/2.*(X**2 + Y**2)\n",
    "ax.plot_surface(X, Y, Z, cmap='rainbow')\n",
    "plt.show()"
   ]
  },
  {
   "cell_type": "markdown",
   "metadata": {},
   "source": [
    "<div class=\"alert alert-success\">\n",
    "    <p>\n",
    "    On trace la valeur de cette fonction sur le ligne $x+y=10$ dans son domaine.\n",
    "    </p>\n",
    "</div>"
   ]
  },
  {
   "cell_type": "code",
   "execution_count": 6,
   "metadata": {},
   "outputs": [
    {
     "data": {
      "image/png": "[encoded data removed]",
      "text/plain": [
       "<matplotlib.figure.Figure at 0x10f4fdd50>"
      ]
     },
     "metadata": {},
     "output_type": "display_data"
    }
   ],
   "source": [
    "X = np.arange(0, 10.01, 0.01)\n",
    "Y = 10 - X\n",
    "Z = (1 - X*Y)**2/2. + rho/2.*(X**2 + Y**2)\n",
    "plt.figure(2, figsize=(8,6))\n",
    "plt.plot(X, Z)\n",
    "plt.xlabel(\"$x$\")\n",
    "plt.ylabel(\"$g(x, 10-x)$\")\n",
    "plt.xlim(0, 10)\n",
    "plt.show()"
   ]
  },
  {
   "cell_type": "markdown",
   "metadata": {},
   "source": [
    "<div class=\"alert alert-success\">\n",
    "    <p>\n",
    "    Soient $p1=(0,10), p2=(10,0)$, on a $p3=(5,5)=0.5p1+(1-0.5)p2$.\n",
    "    </p>\n",
    "</div>"
   ]
  },
  {
   "cell_type": "code",
   "execution_count": 7,
   "metadata": {},
   "outputs": [
    {
     "name": "stdout",
     "output_type": "stream",
     "text": [
      "g(p1) = 10.500000\n",
      "g(p2) = 10.500000\n",
      "g(p3) = 293.000000\n"
     ]
    }
   ],
   "source": [
    "g1 = (1 - 0*10)**2/2. + rho/2.*(0**2 + 10**2)\n",
    "g2 = (1 - 10*0)**2/2. + rho/2.*(10**2 + 0**2)\n",
    "g3 = (1 - 5*5)**2/2. + rho/2.*(5**2 + 5**2)\n",
    "print \"g(p1) = %f\" % g1\n",
    "print \"g(p2) = %f\" % g2\n",
    "print \"g(p3) = %f\" % g3"
   ]
  },
  {
   "cell_type": "markdown",
   "metadata": {},
   "source": [
    "<div class=\"alert alert-success\">\n",
    "    <p>\n",
    "    Donc on a $t\\cdot g(p1)+(1-t)g(p2) \\leq g(t\\cdot p1+(1-t)p2)$, donc la fonction objectif n'est pas convexe.\n",
    "    </p>\n",
    "</div>\n",
    "\n",
    "<div class=\"alert alert-success\">\n",
    "    b)\n",
    "    <p>Notons $g$ la fonction objectif. On a:</p>\n",
    "    <p>$g(P,Q) = \\frac{1}{2}\\|1_K\\circ(R-QP)\\|_F^2 + \\frac{\\rho}{2}\\|Q\\|_F^2 + \\frac{\\rho}{2}\\|P\\|_F^2$</p>\n",
    "    <p>On obtient ses gradients par rapport à $P$ et $Q$:</p>\n",
    "    <p>$\\nabla_g(P) = -Q^T(1_K\\circ(R-QP)) + \\rho P$</p>\n",
    "    <p>$\\nabla_g(Q) = -(1_K\\circ(R-QP))P^T + \\rho Q$</p>\n",
    "</div>\n",
    "\n",
    "<div class=\"alert alert-success\">\n",
    "    c) \n",
    "    <p>Les deux gradients ne sont pas lipschitzien.</p>\n",
    "    <p>Par le même exemple, $g(x, y) = \\frac{1}{2}(1-xy)^2 + \\frac{\\rho}{2}(x^2+y^2)$, on a:</p>\n",
    "    $$\\frac{\\partial g}{\\partial x} = (y^2+\\rho)x - y$$\n",
    "    $$\\frac{\\partial^2 g}{\\partial x^2} = y^2 + \\rho$$\n",
    "    <p>Quand $y \\rightarrow \\infty$, $\\frac{\\partial^2 g}{\\partial x^2} \\rightarrow \\infty$, donc $\\nabla_g(P)$ n'est pas lipschitzien. De la même façon, on peut conclure que $\\nabla_g(Q)$ n'est pas lipschitzien.</p>\n",
    "</div>"
   ]
  },
  {
   "cell_type": "markdown",
   "metadata": {},
   "source": [
    "## Partie 2: Trouver $P$ quand $Q_0$ est fixé"
   ]
  },
  {
   "cell_type": "markdown",
   "metadata": {},
   "source": [
    "$\\textbf{Question 2.1}\\quad \\text{Investigation de la fonction objectif simplifiée.}$"
   ]
  },
  {
   "cell_type": "markdown",
   "metadata": {
    "collapsed": true
   },
   "source": [
    "<div class=\"alert alert-success\">\n",
    "    <p>La fonction objectif est convexe.</p>\n",
    "    <p>Son gradient est: $\\nabla_g(P) = -(Q^0)^T(1_K\\circ(R-Q^0P)) + \\rho P$. On a:</p>\n",
    "    <p>$\\nabla_g^2(P) = (Q^0)^TQ^0 + \\rho I_{|C|}$, cette matrice est définitivement positive. Donc $g(P)$ est convexe.</p>\n",
    "</div>"
   ]
  },
  {
   "cell_type": "markdown",
   "metadata": {},
   "source": [
    "$\\textbf{Question 2.2}\\quad \\text{Calculer le gradient.}$"
   ]
  },
  {
   "cell_type": "markdown",
   "metadata": {},
   "source": [
    "<div class=\"alert alert-success\">\n",
    "    <p>On utilise la conclusion de la question précédente pour compléter la fonction.</p>\n",
    "</div>"
   ]
  },
  {
   "cell_type": "code",
   "execution_count": 8,
   "metadata": {
    "collapsed": true
   },
   "outputs": [],
   "source": [
    "def objective(P, Q0, R, mask, rho):\n",
    "    \"\"\"\n",
    "    La fonction objectif du probleme simplifie.\n",
    "    Prend en entree \n",
    "    P : la variable matricielle de taille C x I\n",
    "    Q0 : une matrice de taille U x C\n",
    "    R : une matrice de taille U x I\n",
    "    mask : une matrice 0-1 de taille U x I\n",
    "    rho : un reel positif ou nul\n",
    "\n",
    "    Sorties :\n",
    "    val : la valeur de la fonction\n",
    "    grad_P : le gradient par rapport a P\n",
    "    \"\"\"\n",
    "\n",
    "    tmp = (R - Q0.dot(P)) * mask\n",
    "\n",
    "    val = np.sum(tmp ** 2)/2. + rho/2.*(np.sum(Q0.T**2) + np.sum(P**2))\n",
    "\n",
    "    grad_P = -Q0.T.dot(tmp) + rho*P\n",
    "\n",
    "    return val, grad_P"
   ]
  },
  {
   "cell_type": "code",
   "execution_count": 9,
   "metadata": {},
   "outputs": [
    {
     "name": "stdout",
     "output_type": "stream",
     "text": [
      "The difference of gradient is 1.009426\n",
      "Done in 284.356s.\n"
     ]
    }
   ],
   "source": [
    "# Initialize the varibles;\n",
    "rho = 0.2\n",
    "CC = 7\n",
    "R, mask = load_movielens(filename, minidata=False)\n",
    "u, i = R.shape\n",
    "U, S, V_T = svds(R, k=CC, return_singular_vectors=True)\n",
    "\n",
    "def funcObj(P_vec, Q0, R, mask, rho, c):\n",
    "    P = P_vec.reshape(c, i)\n",
    "    val, grad_P = objective(P, Q0, R, mask, rho)\n",
    "    return val\n",
    "\n",
    "def gradObj(P_vec, Q0, R, mask, rho, c):\n",
    "    P = P_vec.reshape(c, i)\n",
    "    val, grad_P = objective(P, Q0, R, mask, rho)\n",
    "    return grad_P.ravel()\n",
    "\n",
    "t0 = time()\n",
    "print \"The difference of gradient is %f\" % check_grad(funcObj, gradObj, np.zeros_like(V_T).ravel(), U, R, mask, rho, CC)\n",
    "print \"Done in %0.3fs.\" % (time()-t0)"
   ]
  },
  {
   "cell_type": "markdown",
   "metadata": {},
   "source": [
    "$\\textbf{Question 2.3}\\quad \\text{Minimiser une fonction }g\\text{ par la méthode du gradient.}$"
   ]
  },
  {
   "cell_type": "code",
   "execution_count": 10,
   "metadata": {
    "collapsed": true
   },
   "outputs": [],
   "source": [
    "def gradient(g, P0, gamma, epsilon):\n",
    "    P = P0\n",
    "    val, grad_P = g(P, U, R, mask, rho)\n",
    "    cnt = 0\n",
    "    while (np.sum(grad_P**2) > epsilon**2):\n",
    "        P = P - gamma*grad_P\n",
    "        val, grad_P = g(P, U, R, mask, rho)\n",
    "        cnt = cnt + 1\n",
    "    return val, P, cnt"
   ]
  },
  {
   "cell_type": "markdown",
   "metadata": {},
   "source": [
    "$\\textbf{Question 2.4}\\quad \\text{minimiser la fonction }g\\text{ jusqu’à la précision }\\epsilon\\text{ = 1.}$"
   ]
  },
  {
   "cell_type": "markdown",
   "metadata": {},
   "source": [
    "<div class=\"alert alert-success\">\n",
    "    <p>On fait une décomposition SVD, et utilise les $|C|$ premiers vecteurs singuliers à gauche comme la valeur de $Q_0$, et la matrice nulle de taille $|C|\\times|I|$ comme la valeur initialse de $P$.</p>\n",
    "    <p>On calcule la constante de Lipschitz de $\\nabla_g(P)$, $L$, et utilise $\\frac{1}{L}$ comme la longueur de pas.</p>\n",
    "</div>"
   ]
  },
  {
   "cell_type": "code",
   "execution_count": 11,
   "metadata": {
    "scrolled": false
   },
   "outputs": [
    {
     "name": "stdout",
     "output_type": "stream",
     "text": [
      "The minimal value of target function is 297828.942767\n",
      "The solution of matrix P is:\n",
      "[[-10.77942487  -0.9416559    0.18022219 ...,  -0.18906111   0.40216237\n",
      "   -0.10334136]\n",
      " [-18.34279537  -2.23521595   4.37226672 ...,   0.18412819  -0.08827117\n",
      "    0.91265716]\n",
      " [ 18.71020626  -4.09213395   3.16975678 ...,  -0.82933845  -0.33457229\n",
      "   -0.2638825 ]\n",
      " ..., \n",
      " [ -3.1551629   14.04776233   2.83303405 ...,  -0.5105261    0.46211528\n",
      "    0.25354201]\n",
      " [ 19.28452609   0.46371152  12.73748781 ...,   0.48239806  -0.12029391\n",
      "   -0.22145778]\n",
      " [ 61.63593211  31.7434549   22.85318421 ...,   0.08555451   0.9902246\n",
      "    0.90377783]]\n",
      "Done in 1.165s, number of iteration: 46.\n"
     ]
    }
   ],
   "source": [
    "R, mask = load_movielens(filename, minidata=False)\n",
    "U, S, V_T = svds(R, k=CC, return_singular_vectors=True)\n",
    "\n",
    "t0 = time()\n",
    "L = rho + np.sqrt(np.sum(U.T**2))\n",
    "gamma = 1./L\n",
    "val_grad, P, cnt_grad = gradient(objective, np.zeros_like(V_T), gamma, 1)\n",
    "print \"The minimal value of target function is %f\" % val_grad\n",
    "print \"The solution of matrix P is:\"\n",
    "print P\n",
    "t_grad = time() - t0\n",
    "print \"Done in %0.3fs, number of iteration: %d.\" % (t_grad, cnt_grad)"
   ]
  },
  {
   "cell_type": "markdown",
   "metadata": {},
   "source": [
    "## Partie 3: Raffinements algorithmiques pour le problème à $Q_0$ fixé."
   ]
  },
  {
   "cell_type": "markdown",
   "metadata": {},
   "source": [
    "$\\textbf{Question 3.1}\\quad\\text{Rajouter une méthode de recherche linéaire à la méthode de gradient.}$"
   ]
  },
  {
   "cell_type": "markdown",
   "metadata": {},
   "source": [
    "<div class=\"alert alert-success\">\n",
    "    <p>La solution exacte d'un problème de recherche linéaire est la solution du problème d'optimisation:</p>\n",
    "    $$\\gamma_k = arg\\,\\underset{\\gamma\\in\\mathbb{R}_+}{min} g(P^k-\\gamma\\nabla_g(P^k))$$\n",
    "    <p>En pratique, on fait une recherche linéaire d'Armijo. Notons $P^+(\\gamma_k)=P^k - \\gamma_k\\nabla_g(P^k)$, on cherche le premier entier $l$ tel que:</p>\n",
    "    $$g(P^+(ba^l)) \\leq g(P^k) + \\beta\\langle\\nabla_g(P^k),\\,P^+(ba^l)-P^k\\rangle$$.\n",
    "    <p>On fixe $a = 0.5, b = 0.5, \\beta = 0.5$, c'est équivalent à la recherche linéaire de Taylor.</p>\n",
    "</div>"
   ]
  },
  {
   "cell_type": "code",
   "execution_count": 12,
   "metadata": {},
   "outputs": [
    {
     "name": "stdout",
     "output_type": "stream",
     "text": [
      "The minimal value of target function is 297828.066132\n",
      "The solution of matrix P is:\n",
      "[[ 10.78005639   0.9421978   -0.17977375 ...,   0.1899091   -0.40369983\n",
      "    0.10379408]\n",
      " [ 18.34362553   2.24563901  -4.35460455 ...,  -0.18495405   0.08860863\n",
      "   -0.91665531]\n",
      " [-18.70811729   4.07666309  -3.18927586 ...,   0.83305824   0.33585135\n",
      "    0.26503851]\n",
      " ..., \n",
      " [  3.15748024 -14.03270126  -2.8362182  ...,   0.51281594  -0.46388194\n",
      "   -0.25465272]\n",
      " [-19.28602013  -0.47193566 -12.7374957  ...,  -0.48456173   0.12075379\n",
      "    0.22242794]\n",
      " [ 61.64143679  31.765725    22.87579846 ...,   0.08593825   0.99401021\n",
      "    0.90773708]]\n",
      "Done in 0.422s, number of iteration: 9.\n"
     ]
    }
   ],
   "source": [
    "def gradient_LS(func, P0, a, b, beta, epsilon):\n",
    "    P = P0\n",
    "    val, grad_P = func(P, U, R, mask, rho)\n",
    "    grad_norm_square = np.sum(grad_P**2)\n",
    "    gamma = b\n",
    "    cnt = 0\n",
    "    while (grad_norm_square > epsilon**2):\n",
    "        gamma = 2*gamma\n",
    "        val_, grad_P_ = func(P - gamma*grad_P, U, R, mask, rho)\n",
    "        while (val_ > val - gamma*beta*grad_norm_square):\n",
    "            gamma = gamma*a\n",
    "            val_, grad_P_ = func(P - gamma*grad_P, U, R, mask, rho)\n",
    "        P = P - gamma*grad_P\n",
    "        val = val_\n",
    "        grad_P = grad_P_\n",
    "        grad_norm_square = np.sum(grad_P**2)\n",
    "        cnt = cnt + 1\n",
    "    return val, P, cnt\n",
    "\n",
    "R, mask = load_movielens(filename, minidata=False)\n",
    "U, S, V_T = svds(R, k=CC, return_singular_vectors=True)\n",
    "\n",
    "t0 = time()\n",
    "a = 0.5\n",
    "b = 0.5\n",
    "beta = 0.5\n",
    "val_ls, P, cnt_ls = gradient_LS(objective, np.zeros_like(V_T), a, b, beta, 1)\n",
    "print \"The minimal value of target function is %f\" % val_ls\n",
    "print \"The solution of matrix P is:\"\n",
    "print P\n",
    "t_ls = time() - t0\n",
    "print \"Done in %0.3fs, number of iteration: %d.\" % (t_ls, cnt_ls)"
   ]
  },
  {
   "cell_type": "markdown",
   "metadata": {},
   "source": [
    "$\\textbf{Question 3.2}\\quad\\text{Utiliser la méthode du gradient conjugué pour ce problème.}$"
   ]
  },
  {
   "cell_type": "markdown",
   "metadata": {},
   "source": [
    "<div class=\"alert alert-success\">\n",
    "    <p>On a vu dans les questions précédentes que $\\nabla_g^2(P) = (Q^0)^TQ^0 + \\rho I_{|C|}$, c'est une matrice symétrique et définitivement positive. Donc on peut appliquer la méthode du gradient conjugué pour résoudre ce problème.</p>\n",
    "    <p>Dans le code ci-dessous, pour trouver une solution exacte dans la partie de recherche linéaire, on utilise la founction $line\\_search$ offert par scipy.</p>\n",
    "</div>"
   ]
  },
  {
   "cell_type": "code",
   "execution_count": 13,
   "metadata": {},
   "outputs": [
    {
     "name": "stdout",
     "output_type": "stream",
     "text": [
      "The minimal value of target function is 297827.645759\n",
      "The solution of matrix P is:\n",
      "[[ 10.77619821   0.94253379  -0.17947528 ...,   0.19111122  -0.40587243\n",
      "    0.10443408]\n",
      " [-18.3398119   -2.25375222   4.33552775 ...,   0.1861248   -0.08908549\n",
      "    0.92230745]\n",
      " [-18.70597383   4.04984439  -3.20994233 ...,   0.83833147   0.33765881\n",
      "    0.26667275]\n",
      " ..., \n",
      " [  3.14990157 -14.00271878  -2.85212026 ...,   0.51606204  -0.46637842\n",
      "   -0.25622293]\n",
      " [ 19.27794441   0.48999638  12.73283943 ...,   0.48762899  -0.12140365\n",
      "   -0.22379944]\n",
      " [-61.64851632 -31.78555795 -22.9163201  ...,  -0.08648223  -0.9993597\n",
      "   -0.91333423]]\n",
      "Done in 1.119s, number of iteration: 10.\n"
     ]
    }
   ],
   "source": [
    "shape = V_T.shape\n",
    "\n",
    "def funcObj(P_vec):\n",
    "    P = P_vec.reshape(shape)\n",
    "    val = np.sum(((R - U.dot(P))*mask)**2)/2. + rho/2.*(np.sum(U.T**2) + np.sum(P**2))\n",
    "    return val\n",
    "\n",
    "def gradObj(P_vec):\n",
    "    P = P_vec.reshape(shape)\n",
    "    grad_P = -U.T.dot(mask*(R - U.dot(P))) + rho*P\n",
    "    return grad_P.ravel()\n",
    "\n",
    "def gradient_cg(func, grad, P0, epsilon):\n",
    "    P = P0\n",
    "    val = func(P)\n",
    "    grad_P = grad(P)\n",
    "    grad_norm_square = np.sum(grad_P**2)\n",
    "    d = -grad_P\n",
    "    cnt = 0\n",
    "    while (grad_norm_square > epsilon**2):\n",
    "        #alpha = np.sqrt(np.sum((U.T.dot(U.dot(P)-R) + rho*P)**2))/np.sqrt(np.sum((U.T.dot(mask*U.dot(grad_P)) + rho*grad_P)**2))\n",
    "        alpha, fc, gc, val, old_fval, new_slope = line_search(func, grad, xk=P, pk=d)\n",
    "        P = P + alpha*d\n",
    "        grad_P = grad(P)\n",
    "        grad_norm_square_ = np.sum(grad_P**2)\n",
    "        beta = grad_norm_square_/grad_norm_square\n",
    "        d = -grad_P + beta*d\n",
    "        grad_norm_square = grad_norm_square_\n",
    "        cnt = cnt + 1\n",
    "    return val, P.reshape(shape), cnt\n",
    "\n",
    "R, mask = load_movielens(filename, minidata=False)\n",
    "U, S, V_T = svds(R, k=CC, return_singular_vectors=True)\n",
    "\n",
    "t0 = time()\n",
    "val_cg, P, cnt_cg = gradient_cg(funcObj, gradObj, np.zeros(shape).ravel(), 1)\n",
    "print \"The minimal value of target function is %f\" % val_cg\n",
    "print \"The solution of matrix P is:\"\n",
    "print P\n",
    "t_cg = time() - t0\n",
    "print \"Done in %0.3fs, number of iteration: %d.\" % (t_cg, cnt_cg)"
   ]
  },
  {
   "cell_type": "markdown",
   "metadata": {},
   "source": [
    "$\\textbf{Question 3.3}\\quad\\text{Comparer les performances des trois algorithmes.}$"
   ]
  },
  {
   "cell_type": "code",
   "execution_count": 14,
   "metadata": {},
   "outputs": [
    {
     "data": {
      "image/png": "[encoded data removed]",
      "text/plain": [
       "<matplotlib.figure.Figure at 0x10e21fd50>"
      ]
     },
     "metadata": {},
     "output_type": "display_data"
    },
    {
     "data": {
      "image/png": "[encoded data removed]",
      "text/plain": [
       "<matplotlib.figure.Figure at 0x10f2a8650>"
      ]
     },
     "metadata": {},
     "output_type": "display_data"
    },
    {
     "data": {
      "image/png": "[encoded data removed]",
      "text/plain": [
       "<matplotlib.figure.Figure at 0x111f2a1d0>"
      ]
     },
     "metadata": {},
     "output_type": "display_data"
    }
   ],
   "source": [
    "index = np.arange(3)\n",
    "bar_width = 0.5\n",
    "methods = [\"gradient\", \"gradient_ls\", \"gradient_cg\"]\n",
    "times = [t_grad, t_ls, t_cg]\n",
    "values = [val_grad, val_ls, val_cg]\n",
    "cnts = [cnt_grad, cnt_ls, cnt_cg]\n",
    "\n",
    "plt.figure(3, figsize=(8,6))\n",
    "plt.title(\"Function value of the three methods\")\n",
    "plt.bar(index, values, bar_width)\n",
    "plt.xticks(index, methods)\n",
    "plt.xlabel(\"Method\")\n",
    "plt.ylabel(\"Value\")\n",
    "plt.show()\n",
    "\n",
    "plt.figure(4, figsize=(8,6))\n",
    "plt.title(\"Running time of the three methods\")\n",
    "plt.bar(index, times, bar_width)\n",
    "plt.xticks(index, methods)\n",
    "plt.xlabel(\"Method\")\n",
    "plt.ylabel(\"Time\")\n",
    "plt.show()\n",
    "\n",
    "plt.figure(5, figsize=(8,6))\n",
    "plt.title(\"Number of iterations of the three methods\")\n",
    "plt.bar(index, cnts, bar_width)\n",
    "plt.xticks(index, methods)\n",
    "plt.xlabel(\"Method\")\n",
    "plt.ylabel(\"Number of iterations\")\n",
    "plt.show()"
   ]
  },
  {
   "cell_type": "markdown",
   "metadata": {},
   "source": [
    "<div class=\"alert alert-success\">\n",
    "    <p>Les valeurs minimales trouvées par les trois algorithmes sont très proches, la valeur minimale trouvée par la méthode du gradient conjugué est un peu meilleur. En comparant les matrices $P$ qu'ils obtiennent, ils trouvent en fait la même solution.</p>\n",
    "    <p>Le temps d'execution de la méthode du gradient avec recherche linéaire est meilleur que les autres. On doit considérer le fait que les détails de réalisation des fonctions sont différents.</p>\n",
    "    <p>Le nombre d'itérations de la méthode recherche linéaire et gradient conjugué est meilleur que la méthode du gradient originale.</p>\n",
    "</div>"
   ]
  },
  {
   "cell_type": "markdown",
   "metadata": {},
   "source": [
    "## Partie 4: Résolution du problème complet"
   ]
  },
  {
   "cell_type": "markdown",
   "metadata": {},
   "source": [
    "$\\textbf{Question 4.1}\\quad\\text{Résoudre le problème complet par la méthode du gradient avec recherche linéaire.}$"
   ]
  },
  {
   "cell_type": "markdown",
   "metadata": {},
   "source": [
    "<div class=\"alert alert-success\">\n",
    "    <p>On fait une combinaison entre $P$ et $Q$ et les comsidère comme une seule variable, après, on applique la méthode qu'on a réalisé dans la question précédente.</p>\n",
    "</div>"
   ]
  },
  {
   "cell_type": "code",
   "execution_count": 15,
   "metadata": {
    "collapsed": true
   },
   "outputs": [],
   "source": [
    "def total_objective(P, Q, R, mask, rho):\n",
    "    \"\"\"\n",
    "    La fonction objectif du probleme complet.\n",
    "    Prend en entree \n",
    "    P : la variable matricielle de taille C x I\n",
    "    Q : la variable matricielle de taille U x C\n",
    "    R : une matrice de taille U x I\n",
    "    mask : une matrice 0-1 de taille U x I\n",
    "    rho : un reel positif ou nul\n",
    "\n",
    "    Sorties :\n",
    "    val : la valeur de la fonction\n",
    "    grad_P : le gradient par rapport a P\n",
    "    grad_Q : le gradient par rapport a Q\n",
    "    \"\"\"\n",
    "\n",
    "    tmp = (R - Q.dot(P)) * mask\n",
    "\n",
    "    val = np.sum(tmp**2)/2. + rho/2.*(np.sum(Q**2) + np.sum(P**2))\n",
    "\n",
    "    grad_P = -Q.T.dot(mask*(R - Q.dot(P))) + rho*P\n",
    "\n",
    "    grad_Q = -(mask*(R - Q.dot(P))).dot(P.T) + rho*Q\n",
    "\n",
    "    return val, grad_P, grad_Q\n",
    "\n",
    "\n",
    "def total_objective_vectorized(PQvec, R, mask, rho):\n",
    "    \"\"\"\n",
    "    Vectorisation de la fonction precedente de maniere a ne pas\n",
    "    recoder la fonction gradient\n",
    "    \"\"\"\n",
    "\n",
    "    # reconstruction de P et Q\n",
    "    n_items = R.shape[1]\n",
    "    n_users = R.shape[0]\n",
    "    F = PQvec.shape[0]/(n_items + n_users)\n",
    "    Pvec = PQvec[0:n_items*F]\n",
    "    Qvec = PQvec[n_items*F:]\n",
    "    P = np.reshape(Pvec, (F, n_items))\n",
    "    Q = np.reshape(Qvec, (n_users, F))\n",
    "\n",
    "    val, grad_P, grad_Q = total_objective(P, Q, R, mask, rho)\n",
    "    return val, np.concatenate([grad_P.ravel(), grad_Q.ravel()])"
   ]
  },
  {
   "cell_type": "code",
   "execution_count": 16,
   "metadata": {},
   "outputs": [
    {
     "name": "stdout",
     "output_type": "stream",
     "text": [
      "The minimal value of target function is 31251.876721\n",
      "The solution of matrix P is:\n",
      "[[-0.43268288 -0.09016575  0.323656   ..., -0.09742755 -0.05754973\n",
      "  -0.03071732]\n",
      " [-0.60822171  0.13042095  0.31722995 ..., -0.02837241 -0.15583947\n",
      "   0.22812648]\n",
      " [ 0.54359261  0.09133388  0.08788494 ..., -0.34840142 -0.01014035\n",
      "  -0.02304787]\n",
      " ..., \n",
      " [-0.02274176  0.73670163  0.42947002 ..., -0.28939516  0.01861227\n",
      "  -0.16654555]\n",
      " [ 0.51711182 -0.19525948  0.96135395 ...,  0.32514559 -0.13513027\n",
      "  -0.08410091]\n",
      " [ 1.96692278  1.53677727  1.28430857 ...,  0.07070596  0.84176155\n",
      "   0.81032142]]\n",
      "The solution of matrix Q is:\n",
      "[[-0.48958438 -0.12069678  0.31623349 ..., -0.31062729 -0.12376588\n",
      "   2.17580846]\n",
      " [ 0.15937844 -0.18609562  0.68728097 ..., -0.92560733  0.62518605\n",
      "   1.60930849]\n",
      " [ 0.03422688 -0.02779168 -1.11179171 ..., -0.21244451 -0.01147646\n",
      "   1.38551953]\n",
      " ..., \n",
      " [-0.41120076 -0.22219958  0.60660108 ..., -0.4742707   0.94231813\n",
      "   1.67724062]\n",
      " [ 0.23688264  0.29932335  0.51515969 ...,  0.31036761 -0.20716037\n",
      "   2.33387343]\n",
      " [ 0.7897605  -0.6155053  -0.23698999 ...,  0.73749211  0.46319179\n",
      "   1.93995974]]\n",
      "Done in 17.481s, number of iteration: 165.\n"
     ]
    }
   ],
   "source": [
    "def gradient_LS(func, PQ0, a, b, beta, epsilon):\n",
    "    PQ = PQ0\n",
    "    val, grad = func(PQ, R, mask, rho)\n",
    "    grad_norm_square = np.sum(grad**2)\n",
    "    gamma = b\n",
    "    cnt = 0\n",
    "    while (grad_norm_square > epsilon**2):\n",
    "        gamma = 2 * gamma\n",
    "        PQ_ = PQ - gamma*grad\n",
    "        val_, grad_ = func(PQ_, R, mask, rho)\n",
    "        while (val_ > val - gamma*beta*grad_norm_square):\n",
    "            gamma = gamma*a\n",
    "            PQ_ = PQ - gamma*grad\n",
    "            val_, grad_ = func(PQ_, R, mask, rho)\n",
    "        PQ = PQ_\n",
    "        val = val_\n",
    "        grad = grad_\n",
    "        grad_norm_square = np.sum(grad**2)\n",
    "        cnt = cnt + 1\n",
    "    return val, PQ, cnt\n",
    "\n",
    "R, mask = load_movielens(filename, minidata=False)\n",
    "U, S, V_T = svds(R, k=CC, return_singular_vectors=True)\n",
    "\n",
    "t0 = time()\n",
    "a = 0.5\n",
    "b = 1\n",
    "beta = 0.5\n",
    "val_grad, PQvec, cnt_grad = gradient_LS(total_objective_vectorized, np.concatenate([V_T.ravel(), U.ravel()]), a, b, beta, 100)\n",
    "n_items = R.shape[1]\n",
    "n_users = R.shape[0]\n",
    "F = PQvec.shape[0]/(n_items + n_users)\n",
    "Pvec = PQvec[0:n_items*F]\n",
    "Qvec = PQvec[n_items*F:]\n",
    "P_grad = np.reshape(Pvec, (F, n_items))\n",
    "Q_grad = np.reshape(Qvec, (n_users, F))\n",
    "print \"The minimal value of target function is %f\" % val_grad\n",
    "print \"The solution of matrix P is:\"\n",
    "print P_grad\n",
    "print \"The solution of matrix Q is:\"\n",
    "print Q_grad\n",
    "t_grad = time() - t0\n",
    "print \"Done in %0.3fs, number of iteration: %d.\" % (t_grad, cnt_grad)"
   ]
  },
  {
   "cell_type": "markdown",
   "metadata": {},
   "source": [
    "$\\textbf{Question 4.2}\\quad\\text{Montrer que la valeur de l’objectif décroît à chaque itération. En déduire qu’elle converge.}$"
   ]
  },
  {
   "cell_type": "markdown",
   "metadata": {
    "collapsed": true
   },
   "source": [
    "<div class=\"alert alert-success\">\n",
    "    <p>Dans la question 2.1, on a démontré que quand $Q$ (resp. $P$) est fixé, la fonction $g(P)$ (resp. $g(Q)$) est convexe. Donc à chaque pas dans une itération, la valeur de la fonction objective décroît.</p>\n",
    "    <p>L'algorithme est de la forme $x^{k+1} = T(x^k)$, où $T:x\\rightarrow x$ est une fonction continuelle. Deplus, la fonction objectif est bien bornée. Nontons $x^*$ la solution optimale, on peut toujours obtenir une configuration plus proche à $x^*$ après une itération. Par le lemme du point-fixe, on conclure que l'algorithm va converger.</p>\n",
    "</div>"
   ]
  },
  {
   "cell_type": "markdown",
   "metadata": {},
   "source": [
    "$\\textbf{Question 4.3}\\quad\\text{Coder la méthode des moindres carrés alternés.}$"
   ]
  },
  {
   "cell_type": "markdown",
   "metadata": {},
   "source": [
    "<div class=\"alert alert-success\">\n",
    "<p>\n",
    "Notons $P=(\\mathbf{p}_1,...\\mathbf{p}_{|I|})$, $Q=(\\mathbf{q}_1,...\\mathbf{q}_{|U|})^T$, où $\\mathbf{p}_i, \\mathbf{q}_u\\in\\mathbb{R}^{|C|}$, $K_u^I$ l'ensemble des films que l'utilisateur $u$ a noté, $K_i^U$ l'ensemble des utilisateurs qui ont noté le film $i$, on obtient:\n",
    "</p>\n",
    "$$\n",
    "\\begin{aligned}\n",
    "g(P,Q) &= \\frac{1}{2}\\sum_{(u,i)\\in K}(r_{ui}-\\sum_{c\\in C}q_{uc}p_{ci})^2 + \\frac{\\rho}{2}(\\sum_{u,c}q_{uc}^{2}+\\sum_{c,i}p_{ci}^{2}) \\\\\n",
    "& = \\frac{1}{2}\\sum_{(u,i)\\in K}(r_{ui}-\\mathbf{q}_u^T\\mathbf{p}_i)^2 + \\frac{\\rho}{2}(\\sum_{u}\\|\\mathbf{q}_{u}\\|^{2}+\\sum_{i}\\|\\mathbf{p}_{i}\\|^{2})\\\\\n",
    "& = \\frac{1}{2} \\sum_{u\\in U} \\sum_{i\\in K_u^I}(r_{ui}-\\mathbf{q}_u^T\\mathbf{p}_i)^2 + \\frac{\\rho}{2}(\\sum_{u}\\|\\mathbf{q}_{u}\\|^{2}+\\sum_{i}\\|\\mathbf{p}_{i}\\|^{2}) \\\\\n",
    "& = \\frac{1}{2} \\sum_{i\\in I} \\sum_{u\\in K_i^U}(r_{ui}-\\mathbf{q}_u^T\\mathbf{p}_i)^2 + \\frac{\\rho}{2}(\\sum_{u}\\|\\mathbf{q}_{u}\\|^{2}+\\sum_{i}\\|\\mathbf{p}_{i}\\|^{2})\n",
    "\\end{aligned} \n",
    "$$\n",
    "\n",
    "<p>\n",
    "Dans chaque itération, pour trouver la matrice $Q$ quand $P$ est fixée, on doit en fait résoudre un problème de moindre carré pénalisé. On calcule la dérivée partielle de $q_{uc}$ pour chaque couple $(u, c) \\in \\mathbf{U \\times C}.$\n",
    "</p>\n",
    "$$\n",
    "\\begin{aligned}\n",
    "&\\quad\\frac{\\partial g}{\\partial q_{uc}} = 0 \\\\\n",
    "\\Rightarrow &\\quad\\sum_{i\\in K_u^I}(\\mathbf{q}_u^T\\mathbf{p}_i - r_{ui})p_{ci} + \\rho q_{uc} = 0 \\\\\n",
    "\\Rightarrow &\\quad\\sum_{i\\in K_u^I}p_{ci}\\mathbf{p}_i^T\\mathbf{q}_u + \\rho q_{uc} = \\sum_{i\\in K_u^I}p_{ci}r_{ui} \\\\\n",
    "\\Rightarrow &\\quad(P_{K_u}P_{K_u^I}^T + \\rho I_{|C|})\\mathbf{q}_u = P_{K_u^I}R^T(u, K_u^I)\n",
    "\\end{aligned}\n",
    "$$\n",
    "<p>On obtient l'expression explicite de $\\mathbf{q}_u$ pour chaqun $u \\in \\mathbf{U}$ comme la solution d'un système linéaire:$\\,\\mathbf{q}_u = (P_{K_u^I}P_{K_u^I}^T + \\rho I_{|C|})^{-1}P_{K_u^I}R^T(u, K_u^I)$, où $P_{K_u^I}$ est la sous-matrice de $P$ dont les colonnes $i \\in K_u^I$ sont sélectionnées, $I_{|C|}$ est la matrice identité de taille $|C|\\times|C|$, R(u, K_u^I) est le vecteur ligne où les éléments $i \\in K_u^I$ du ligne $u$ de la matrice $R$ sont sélectionnés.\n",
    "</p>\n",
    "<p>\n",
    "Réspectivement, on a $\\mathbf{p}_i = (Q_{K_i^U}Q_{K_i^U}^T + \\rho I_{|C|})^{-1}Q_{K_i^U}R(K_i^U,i)$, où $Q_{K_i^U}$ est la sous-matrice de $Q$ dont les lignes $u \\in K_i^U$ sont sélectionnées, $I_{|C|}$ est la matrice identité de taille $|C|\\times|C|$, $R(K_i^U,i)$ est le vecteur colonne où les éléments $u \\in K_i^U$ du ligne $i$ de la matrice $R$ sont sélectionnés.\n",
    "</p>\n",
    "</div>"
   ]
  },
  {
   "cell_type": "code",
   "execution_count": 17,
   "metadata": {
    "scrolled": false
   },
   "outputs": [
    {
     "name": "stdout",
     "output_type": "stream",
     "text": [
      "The minimal value of target function is 28663.328313\n",
      "The solution of matrix P is:\n",
      "[[-1.11806081 -1.12759944 -0.81587608 ..., -0.65294021 -0.77553506\n",
      "  -0.22185908]\n",
      " [ 0.10110321  0.39730903 -0.01297881 ...,  0.05035409 -0.03446964\n",
      "   0.53949162]\n",
      " [ 1.10718679  0.71525278  1.29962729 ...,  0.20898636  0.13755371\n",
      "   0.58694814]\n",
      " ..., \n",
      " [ 0.65674954  0.0370439   0.38407317 ...,  0.40245454  0.77742169\n",
      "   1.06372847]\n",
      " [ 0.26715828  0.18620119  0.84311226 ...,  0.31884758 -0.19298936\n",
      "   0.31598334]\n",
      " [ 2.03892268  1.84576612  1.18789476 ...,  0.16880658  1.36461652\n",
      "   0.78169487]]\n",
      "The solution of matrix Q is:\n",
      "[[-0.26467528  0.8880111   0.58724291 ...,  0.81020303 -0.36798596\n",
      "   1.2688996 ]\n",
      " [-0.67582295  0.9089231   1.06987568 ...,  0.82194575  0.23319471\n",
      "   0.41365481]\n",
      " [-0.39419228 -0.00628449  1.92719746 ...,  0.63101    -0.12883746\n",
      "   0.282598  ]\n",
      " ..., \n",
      " [ 0.03265985  0.47882814  0.38899956 ...,  0.62173534  0.9749038\n",
      "   1.58733022]\n",
      " [-0.06271045  0.63872166  0.53418063 ...,  0.08913138  0.62320129\n",
      "   1.44222316]\n",
      " [-1.39356112 -0.34125332  0.59080093 ...,  0.16331036  0.26667407\n",
      "   0.96591408]]\n",
      "Done in 36.382s, number of iteration: 268.\n"
     ]
    }
   ],
   "source": [
    "def ALS(P0, Q0, R, mask, rho, tol=1, max_iter=1e4):\n",
    "    u, i = R.shape\n",
    "    mask_i = [mask[:, k].ravel() for k in range(i)]\n",
    "    mask_u = [mask[k, :].ravel() for k in range(u)]\n",
    "    R_i = [R[mask_i[k], k] for k in range(i)]\n",
    "    R_u = [R[k, mask_u[k]] for k in range(u)]\n",
    "    P = P0\n",
    "    Q = Q0\n",
    "    val = 1e10\n",
    "    delta_val = 1e10\n",
    "    t = 0\n",
    "    cnt = 0\n",
    "    while (delta_val >= tol and t < max_iter):\n",
    "        for k in range(i):\n",
    "            Q_i = Q[mask_i[k], :]\n",
    "            P[:, k] = np.linalg.solve(Q_i.T.dot(Q_i) + rho*np.identity(CC), Q_i.T.dot(R_i[k]))\n",
    "        for k in range(u):\n",
    "            P_u = P[:, mask_u[k]]\n",
    "            Q[k, :] = np.linalg.solve(P_u.dot(P_u.T) + rho*np.identity(CC), P_u.dot(R_u[k].T))\n",
    "        val_ = np.sum((mask*(R - Q.dot(P)))**2)/2. + rho/2.*(np.sum(Q**2) + np.sum(P**2))\n",
    "        delta_val = val - val_\n",
    "        val = val_\n",
    "        t = t+1\n",
    "    return val, P, Q, t\n",
    "\n",
    "R, mask = load_movielens(filename, minidata=False)\n",
    "U, S, V_T = svds(R, k=CC, return_singular_vectors=True)\n",
    "\n",
    "t0 = time()\n",
    "P0 = V_T\n",
    "Q0 = U\n",
    "tol = 1\n",
    "max_iter = 1e4\n",
    "val_als, P_als, Q_als, cnt_als = ALS(P0, Q0, R, mask, rho, tol, max_iter)\n",
    "print \"The minimal value of target function is %f\" % val_als\n",
    "print \"The solution of matrix P is:\"\n",
    "print P_als\n",
    "print \"The solution of matrix Q is:\"\n",
    "print Q_als\n",
    "t_als = time() - t0\n",
    "print \"Done in %0.3fs, number of iteration: %d.\" % (t_als, cnt_als)"
   ]
  },
  {
   "cell_type": "markdown",
   "metadata": {},
   "source": [
    "$\\textbf{Question 4.4}\\quad\\text{Comparer la méthode du gradient avec recherche linéaire et la méthode des moindres carrés alternés.}$"
   ]
  },
  {
   "cell_type": "code",
   "execution_count": 18,
   "metadata": {},
   "outputs": [
    {
     "data": {
      "image/png": "[encoded data removed]",
      "text/plain": [
       "<matplotlib.figure.Figure at 0x10dd61290>"
      ]
     },
     "metadata": {},
     "output_type": "display_data"
    },
    {
     "data": {
      "image/png": "[encoded data removed]",
      "text/plain": [
       "<matplotlib.figure.Figure at 0x10f092910>"
      ]
     },
     "metadata": {},
     "output_type": "display_data"
    },
    {
     "data": {
      "image/png": "[encoded data removed]",
      "text/plain": [
       "<matplotlib.figure.Figure at 0x10dd30890>"
      ]
     },
     "metadata": {},
     "output_type": "display_data"
    }
   ],
   "source": [
    "index = np.arange(2)\n",
    "bar_width = 0.5\n",
    "methods = [\"gradient\", \"ALS\"]\n",
    "times = [t_grad, t_als]\n",
    "values = [val_grad, val_als]\n",
    "cnts = [cnt_grad, cnt_als]\n",
    "\n",
    "plt.figure(6, figsize=(8,6))\n",
    "plt.title(\"Function value of the two methods\")\n",
    "plt.bar(index, values, bar_width)\n",
    "plt.xticks(index, methods)\n",
    "plt.xlabel(\"Method\")\n",
    "plt.ylabel(\"Value\")\n",
    "plt.show()\n",
    "\n",
    "plt.figure(7, figsize=(8,6))\n",
    "plt.title(\"Running time of the two methods\")\n",
    "plt.bar(index, times, bar_width)\n",
    "plt.xticks(index, methods)\n",
    "plt.xlabel(\"Method\")\n",
    "plt.ylabel(\"Time\")\n",
    "plt.show()\n",
    "\n",
    "plt.figure(8, figsize=(8,6))\n",
    "plt.title(\"Number of iterations of the two methods\")\n",
    "plt.bar(index, cnts, bar_width)\n",
    "plt.xticks(index, methods)\n",
    "plt.xlabel(\"Method\")\n",
    "plt.ylabel(\"Number of iterations\")\n",
    "plt.show()"
   ]
  },
  {
   "cell_type": "markdown",
   "metadata": {},
   "source": [
    "<div class=\"alert alert-success\">\n",
    "    <p>En comparant les matrice $P$ et $Q$ obtenues par les deux algorithmes, on peut conclure que les solution trouvées par eux sont différentes. Les matrices $\\hat{R}$ sont aussi différentes.</p>\n",
    "    <p>Les valeurs de la fonction objectif sont différentes, celle donnée par l'algorithm ALS est meilleur.</p>\n",
    "    <p>En comparant le nombre d'irération, la méthode du gradient avec recherche linéaire est plus rapid. En même temps, les détails de réalisation peur être améliorée.</p>\n",
    "</div>"
   ]
  },
  {
   "cell_type": "markdown",
   "metadata": {},
   "source": [
    "$\\textbf{Question 4.5}\\quad\\text{Quel film recommanderiez-vous à l’utilisateur 449?}$"
   ]
  },
  {
   "cell_type": "markdown",
   "metadata": {},
   "source": [
    "<div class=\"alert alert-success\">\n",
    "    <p>On rétablit la matrice $\\hat{R}$ selon les $P^*$ et $Q^*$ qu'on obtient dans les questions précédentes et mettre le ligne 449 en ordre.</p>\n",
    "</div>"
   ]
  },
  {
   "cell_type": "code",
   "execution_count": 19,
   "metadata": {},
   "outputs": [
    {
     "name": "stdout",
     "output_type": "stream",
     "text": [
      "-----------------------------------------------------------------------\n",
      "By gradient method, the 10 favorite films of user 449 will be:\n",
      "1: movie 317, score 5.104734\n",
      "2: movie 1168, score 5.005826\n",
      "3: movie 482, score 4.866524\n",
      "4: movie 63, score 4.835036\n",
      "5: movie 962, score 4.821089\n",
      "6: movie 1188, score 4.816720\n",
      "7: movie 315, score 4.782925\n",
      "8: movie 271, score 4.775279\n",
      "9: movie 190, score 4.765647\n",
      "10: movie 1642, score 4.760058\n",
      "-----------------------------------------------------------------------\n",
      "By ALS method, the 10 favorite films of user 449 will be:\n",
      "1: movie 317, score 5.174918\n",
      "2: movie 908, score 5.167129\n",
      "3: movie 1193, score 5.112705\n",
      "4: movie 63, score 5.032590\n",
      "5: movie 495, score 4.972585\n",
      "6: movie 962, score 4.970323\n",
      "7: movie 1462, score 4.967570\n",
      "8: movie 1448, score 4.953407\n",
      "9: movie 1168, score 4.934121\n",
      "10: movie 482, score 4.878477\n"
     ]
    }
   ],
   "source": [
    "R_grad = Q_grad.dot(P_grad)\n",
    "score = R_grad[449, :].ravel()\n",
    "rank = (-score).argsort()\n",
    "print \"-----------------------------------------------------------------------\"\n",
    "print \"By gradient method, the 10 favorite films of user 449 will be:\"\n",
    "for i in range(10):\n",
    "    print \"%d: movie %d, score %f\" % (i+1, rank[i], score[rank[i]])\n",
    "\n",
    "R_als = Q_als.dot(P_als)\n",
    "score = R_als[449, :].ravel()\n",
    "rank = (-score).argsort()\n",
    "print \"-----------------------------------------------------------------------\"\n",
    "print \"By ALS method, the 10 favorite films of user 449 will be:\"\n",
    "for i in range(10):\n",
    "    print \"%d: movie %d, score %f\" % (i+1, rank[i], score[rank[i]])"
   ]
  },
  {
   "cell_type": "markdown",
   "metadata": {},
   "source": [
    "<div class=\"alert alert-success\">\n",
    "    <p>Selon les deux méthodes qu'on a utilisé, le film que l'utilisateur 449 préfère est le film 317.</p>\n",
    "</div>"
   ]
  },
  {
   "cell_type": "markdown",
   "metadata": {},
   "source": [
    "# $\\mathbf{Bibliography}$\n",
    "Zhou, Yunhong, et al. \"Large-scale parallel collaborative filtering for the netflix prize.\" International Conference on Algorithmic Applications in Management. Springer Berlin Heidelberg, 2008."
   ]
  }
 ],
 "metadata": {
  "kernelspec": {
   "display_name": "Python 3",
   "language": "python",
   "name": "python3"
  },
  "language_info": {
   "codemirror_mode": {
    "name": "ipython",
    "version": 3
   },
   "file_extension": ".py",
   "mimetype": "text/x-python",
   "name": "python",
   "nbconvert_exporter": "python",
   "pygments_lexer": "ipython3",
   "version": "3.6.3"
  },
  "latex_envs": {
   "LaTeX_envs_menu_present": true,
   "autocomplete": true,
   "bibliofile": "biblio.bib",
   "cite_by": "apalike",
   "current_citInitial": 1,
   "eqLabelWithNumbers": true,
   "eqNumInitial": 1,
   "hotkeys": {
    "equation": "Ctrl-E",
    "itemize": "Ctrl-I"
   },
   "labels_anchors": false,
   "latex_user_defs": false,
   "report_style_numbering": false,
   "user_envs_cfg": false
  },
  "toc": {
   "nav_menu": {},
   "number_sections": false,
   "sideBar": true,
   "skip_h1_title": true,
   "toc_cell": true,
   "toc_position": {},
   "toc_section_display": "block",
   "toc_window_display": false
  },
  "varInspector": {
   "cols": {
    "lenName": 16,
    "lenType": 16,
    "lenVar": 40
   },
   "kernels_config": {
    "python": {
     "delete_cmd_postfix": "",
     "delete_cmd_prefix": "del ",
     "library": "var_list.py",
     "varRefreshCmd": "print(var_dic_list())"
    },
    "r": {
     "delete_cmd_postfix": ") ",
     "delete_cmd_prefix": "rm(",
     "library": "var_list.r",
     "varRefreshCmd": "cat(var_dic_list()) "
    }
   },
   "types_to_exclude": [
    "module",
    "function",
    "builtin_function_or_method",
    "instance",
    "_Feature"
   ],
   "window_display": false
  }
 },
 "nbformat": 4,
 "nbformat_minor": 2
}
