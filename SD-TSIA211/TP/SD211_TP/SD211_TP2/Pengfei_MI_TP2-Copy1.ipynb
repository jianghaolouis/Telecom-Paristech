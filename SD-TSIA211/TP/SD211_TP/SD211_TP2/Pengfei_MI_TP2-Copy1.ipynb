{
 "cells": [
  {
   "cell_type": "markdown",
   "metadata": {
    "toc": true
   },
   "source": [
    "<h1>Table of Contents<span class=\"tocSkip\"></span></h1>\n",
    "<div class=\"toc\" style=\"margin-top: 1em;\"><ul class=\"toc-item\"><li><span><a href=\"#Partie-1:-Régularisation-de-Tikhonov\" data-toc-modified-id=\"Partie-1:-Régularisation-de-Tikhonov-1\">Partie 1: Régularisation de Tikhonov</a></span></li><li><span><a href=\"#Partie-2:-Régularisation-pour-la-parcimoine\" data-toc-modified-id=\"Partie-2:-Régularisation-pour-la-parcimoine-2\">Partie 2: Régularisation pour la parcimoine</a></span></li><li><span><a href=\"#Partie-3:-Comparaison\" data-toc-modified-id=\"Partie-3:-Comparaison-3\">Partie 3: Comparaison</a></span></li></ul></div>"
   ]
  },
  {
   "cell_type": "markdown",
   "metadata": {},
   "source": [
    "# SD211 TP2: Régression logistique\n",
    "*<p>Author: Pengfei Mi</p>*\n",
    "*<p>Date: 12/05/2017</p>*"
   ]
  },
  {
   "cell_type": "code",
   "execution_count": 1,
   "metadata": {
    "collapsed": true
   },
   "outputs": [],
   "source": [
    "import numpy as np\n",
    "import matplotlib.pyplot as plt\n",
    "from cervicalcancerutils import load_cervical_cancer\n",
    "from scipy.optimize import check_grad\n",
    "from time import time\n",
    "from sklearn.metrics import classification_report"
   ]
  },
  {
   "cell_type": "markdown",
   "metadata": {},
   "source": [
    "## Partie 1: Régularisation de Tikhonov"
   ]
  },
  {
   "cell_type": "markdown",
   "metadata": {},
   "source": [
    "$\\textbf{Question 1.1}\\quad\\text{Calculer le gradient et la matrice hessienne.}$"
   ]
  },
  {
   "cell_type": "markdown",
   "metadata": {},
   "source": [
    "<div class=\"alert alert-success\">\n",
    "    <p>\n",
    "        Notons $\\tilde{X} = (\\tilde{\\mathbf{x}}_1,...,\\tilde{\\mathbf{ x}}_n)^T$, où $\\tilde{\\mathbf{x}}_i = \\begin{pmatrix}1\\\\ \n",
    "        \\mathbf{x}_i\\end{pmatrix}\\in \\mathbb{R}^{p+1}$, $\\tilde{\\mathbf{\\omega}} = \\begin{pmatrix}\n",
    "        \\omega_0\\\\\\mathbf{\\omega}\\end{pmatrix}\\in \\mathbb{R}^{p+1}$, et la matrice\n",
    "        $$A = diag(0,1,...,1) =\n",
    "        \\begin{pmatrix}\n",
    "        0&0&\\cdots&0\\\\\n",
    "        0&1&&0\\\\\n",
    "        \\vdots&&\\ddots&\\vdots\\\\\n",
    "        0&0&\\cdots&1\n",
    "        \\end{pmatrix}\n",
    "        $$\n",
    "    </p>\n",
    "    <p>\n",
    "        On a:\n",
    "        $$\n",
    "        \\begin{aligned}\n",
    "        f_1(\\omega_0, \\omega) &= \\frac{1}{n}\\sum_{i=1}^{n}\\text{log}\\big(1+e^{-y_i(x_i^T\\omega+\\omega_0)}\\big)+\\frac{\\rho}{2}\\|\\omega\\|_2^2 \\\\\n",
    "        & = \\frac{1}{n}\\sum_{i=1}^{n}\\text{log}\\big(1+e^{-y_i\\tilde x_i^T \\tilde \\omega}\\big)+\\frac{\\rho}{2}\\tilde{\\omega}^TA\\tilde{\\omega}\n",
    "        \\end{aligned}\n",
    "        $$\n",
    "    </p>\n",
    "    <p>\n",
    "        Ainsi on obtient le gradient:\n",
    "        $$\n",
    "        \\begin{aligned}\n",
    "        \\nabla{f_1}(\\omega_0, \\omega) &= \\frac{1}{n}\\sum_{i=1}^{n}\\frac{-e^{-y_i\\tilde x_i^T \\tilde \\omega}y_i\\tilde{\\mathbf{x}}_i}{1+e^{-y_i\\tilde x_i^T \\tilde \\omega}} + \\rho A\\tilde{\\mathbf{\\omega}} \\\\\n",
    "        &= \\frac{1}{n}\\sum_{i=1}^{n}\\frac{-y_i\\tilde{\\mathbf{x}}_i}{1+e^{y_i\\tilde x_i^T \\tilde \\omega}} + \n",
    "        \\rho A\\tilde{\\mathbf{\\omega}}\n",
    "        \\end{aligned}\n",
    "        $$\n",
    "    </p>\n",
    "    <p>\n",
    "        et la matrice hessienne:\n",
    "        $$\n",
    "        \\begin{aligned}\n",
    "        \\mathbf{H} = \\nabla^2f_1(\\omega_0, \\omega) &= \\frac{1}{n}\\sum_{i=1}^{n}\\frac{e^{y_i\\tilde x_i^T \\tilde \\omega}(y_i\\tilde{\\mathbf{x}}_i)(y_i\\tilde{\\mathbf{x}}_i)^T}{(1+e^{y_i\\tilde x_i^T \\tilde \\omega})^2} + \\rho A \\\\\n",
    "        & = \\frac{1}{n}\\sum_{i=1}^{n}\\frac{(y_i\\tilde{\\mathbf{x}}_i)(y_i\\tilde{\\mathbf{x}}_i)^T}{(1+e^{y_i\\tilde x_i^T \\tilde \\omega})(1+e^{-y_i\\tilde x_i^T \\tilde \\omega})} + \\rho A\n",
    "        \\end{aligned}\n",
    "        $$\n",
    "    </p>\n",
    "</div>\n",
    "\n",
    "<div class=\"alert alert-success\">\n",
    "    <p>\n",
    "        Soient $\\omega \\in \\mathbb{R}^{p+1}$, on a:\n",
    "        $$\n",
    "        \\begin{aligned}\n",
    "        \\omega^TH\\omega &= \\frac{1}{n}\\sum_{i=1}^{n}\\frac{\\omega^T (y_i\\tilde{\\mathbf{x}}_i)(y_i\\tilde{\\mathbf{x}}_i)^T \\omega}{(1+e^{y_i\\tilde x_i^T \\tilde \\omega})(1+e^{-y_i\\tilde x_i^T \\tilde \\omega})} + \\rho \\omega^T A \\omega \\\\\n",
    "        &= \\frac{1}{n}\\sum_{i=1}^{n}\\frac{(\\omega^T y_i\\tilde{\\mathbf{x}}_i)(\\omega^T y_i\\tilde{\\mathbf{x}}_i)^T}{(1+e^{y_i\\tilde x_i^T \\tilde \\omega})(1+e^{-y_i\\tilde x_i^T \\tilde \\omega})} + \\rho \\omega^T A^2 \\omega \\\\\n",
    "        &= \\frac{1}{n}\\sum_{i=1}^{n}\\frac{\\|\\omega^T y_i\\tilde{\\mathbf{x}}_i\\|_2^2}{(1+e^{y_i\\tilde x_i^T \\tilde \\omega})(1+e^{-y_i\\tilde x_i^T \\tilde \\omega})} + \\rho \\|A\\omega\\|_2^2 \\geq 0\n",
    "        \\end{aligned}\n",
    "        $$\n",
    "    </p>\n",
    "    <p>Donc, la matrice hessienne est semi-définie positive, la fonction $f_1$ est convexe.</p>\n",
    "</div>"
   ]
  },
  {
   "cell_type": "markdown",
   "metadata": {},
   "source": [
    "$\\textbf{Question 1.2}\\quad\\text{Coder une fonction qui retourne la valeur de la fonction, son gradient et sa hessienne.}$"
   ]
  },
  {
   "cell_type": "markdown",
   "metadata": {},
   "source": [
    "<div class=\"alert alert-success\">\n",
    "    <p>On insère une colonne de $1$ à gauche de $X$ pour simplifier le calcul.</p>\n",
    "</div>"
   ]
  },
  {
   "cell_type": "code",
   "execution_count": 2,
   "metadata": {},
   "outputs": [
    {
     "name": "stdout",
     "output_type": "stream",
     "text": [
      "Before the insertion:\n",
      "(210, 26) (210,)\n",
      "After the insertion:\n",
      "(210, 27) (210,)\n"
     ]
    }
   ],
   "source": [
    "X, y = load_cervical_cancer(\"riskfactorscervicalcancer.csv\")\n",
    "print \"Before the insertion:\"\n",
    "print X.shape, y.shape\n",
    "n, p = X.shape\n",
    "X = np.c_[np.ones(n), X]\n",
    "print \"After the insertion:\"\n",
    "print X.shape, y.shape"
   ]
  },
  {
   "cell_type": "code",
   "execution_count": 3,
   "metadata": {},
   "outputs": [],
   "source": [
    "def objective(w_, X, y, rho, return_grad=True, return_H=True):\n",
    "    \"\"\"\n",
    "    X: matrix of size n*(p+1)\n",
    "    y: vector of size n\n",
    "    w0: real number\n",
    "    w: vector of size p\n",
    "    \"\"\"\n",
    "    # Initialize elementary intermediate variables;\n",
    "    n, p = X.shape\n",
    "    w = w_[1:]\n",
    "    y_x = np.array([y[i] * X[i, :] for i in range(n)])\n",
    "    yx_w = np.array([np.sum(y_x[i, :]*w_) for i in range(n)])\n",
    "    exp_yxw_1 = np.array([np.exp(yx_w[i]) for i in range(n)]) + 1\n",
    "    exp_neg_yxw_1 = np.array([np.exp(-yx_w[i]) for i in range(n)]) + 1\n",
    "    \n",
    "    # Compute function value\n",
    "    val = np.mean(np.log(exp_neg_yxw_1)) + np.sum(w**2)*rho/2.\n",
    "    \n",
    "    if return_grad == False:\n",
    "        return val\n",
    "    else:\n",
    "        # Compute gradient\n",
    "        grad = np.mean(-np.array([y_x[i]/exp_yxw_1[i] for i in range(n)]), axis=0) + rho*np.r_[0, w]\n",
    "        \n",
    "        if return_H == False:\n",
    "            return val, grad\n",
    "        else:\n",
    "            # Compute the Hessian matrix\n",
    "            H = np.mean(np.array([y_x[i].reshape(-1, 1).dot(y_x[i].reshape(1, -1) / (exp_yxw_1[i]*exp_neg_yxw_1[i])) for i in range(n)]), axis=0) + rho*np.diag(np.r_[0, np.ones(p-1)])\n",
    "            return val, grad, H"
   ]
  },
  {
   "cell_type": "code",
   "execution_count": 4,
   "metadata": {},
   "outputs": [
    {
     "name": "stdout",
     "output_type": "stream",
     "text": [
      "The difference of gradient is: 0.000000039161\n",
      "Done in 0.073s.\n"
     ]
    }
   ],
   "source": [
    "def funcMask(w_, X, y, rho):\n",
    "    val, grad = objective(w_, X, y, rho, return_H=False)\n",
    "    return val\n",
    "\n",
    "def gradMask(w_, X, y, rho):\n",
    "    val, grad = objective(w_, X, y, rho, return_H=False)\n",
    "    return grad\n",
    "\n",
    "rho = 1./n\n",
    "t0 = time()\n",
    "print \"The difference of gradient is: %0.12f\" % check_grad(funcMask, gradMask, np.zeros(p+1), X, y, rho)\n",
    "print \"Done in %0.3fs.\" % (time()-t0)"
   ]
  },
  {
   "cell_type": "code",
   "execution_count": 5,
   "metadata": {},
   "outputs": [
    {
     "name": "stdout",
     "output_type": "stream",
     "text": [
      "The difference of Hessian matrix is: 0.000000758053\n",
      "Done in 0.079s.\n"
     ]
    }
   ],
   "source": [
    "def gradMask(w_, X, y, rho):\n",
    "    val, grad = objective(w_, X, y, rho, return_H=False)\n",
    "    return grad.sum()\n",
    "\n",
    "def hessianMask(w_, X, y, rho):\n",
    "    val, grad, H = objective(w_, X, y, rho)\n",
    "    return np.sum(H, axis=1)\n",
    "\n",
    "t0 = time()\n",
    "rho = 1./n\n",
    "print \"The difference of Hessian matrix is: %0.12f\" % check_grad(gradMask, hessianMask, np.zeros(p+1), X, y, rho)\n",
    "print \"Done in %0.3fs.\" % (time()-t0)"
   ]
  },
  {
   "cell_type": "markdown",
   "metadata": {},
   "source": [
    "<div class=\"alert alert-success\">\n",
    "    <p>On a vérifié le calcul de gradient et de matrice hessienne.</p>\n",
    "</div>"
   ]
  },
  {
   "cell_type": "markdown",
   "metadata": {},
   "source": [
    "$\\textbf{Question 1.3}\\quad\\text{Coder la méthode de Newton.}$"
   ]
  },
  {
   "cell_type": "markdown",
   "metadata": {},
   "source": [
    "<div class=\"alert alert-success\">\n",
    "    <p>\n",
    "        Selon la définition de méthode de Newton, on a:\n",
    "        $$\\omega^{k+1} = \\omega^k - (\\nabla^2f_1(\\omega^k))^{-1}\\nabla f_1(\\omega^k)$$\n",
    "    </p>\n",
    "</div>"
   ]
  },
  {
   "cell_type": "code",
   "execution_count": 6,
   "metadata": {},
   "outputs": [
    {
     "name": "stdout",
     "output_type": "stream",
     "text": [
      "The value minimal of the objective function is: 0.564490766022\n",
      "Done in 0.043s, number of iterations: 7\n",
      "[ 0.2013495  -0.17213872 -0.04798368 -0.14852973  0.17226181 -0.00720006\n",
      "  0.20673756 -0.03692106  0.0768277   0.43086559  0.12956021  0.17260728\n",
      "  0.31592059  0.17684201  0.10474188  0.10474188 -0.39105042  0.1639398\n",
      "  0.66262584 -0.33199982  0.64063084 -0.39451384 -0.39515206  0.3884854\n",
      "  0.02848865  0.3884854   0.27776305]\n"
     ]
    }
   ],
   "source": [
    "def minimize_Newton(func, w_, X, y, rho, tol=1e-10):\n",
    "    n, p = X.shape\n",
    "    val, grad, H = func(w_, X, y, rho)\n",
    "    grad_norm = np.sqrt(np.sum(grad**2))\n",
    "    norms = [grad_norm]\n",
    "    cnt = 0\n",
    "    while (grad_norm > tol):\n",
    "        w_ = w_ - np.linalg.solve(H, np.identity(p)).dot(grad)\n",
    "        val, grad, H = func(w_, X, y, rho)\n",
    "        grad_norm = np.sqrt(np.sum(grad**2))\n",
    "        norms.append(grad_norm)\n",
    "        cnt = cnt + 1\n",
    "    return val, w_, cnt, norms\n",
    "\n",
    "t0 = time()\n",
    "rho = 1./n\n",
    "val, w, cnt, grad_norms  = minimize_Newton(objective, np.zeros(p+1), X, y, rho, tol=1e-10)\n",
    "print \"The value minimal of the objective function is: %0.12f\" % val\n",
    "print \"Done in %0.3fs, number of iterations: %d\" % (time()-t0, cnt)\n",
    "print w"
   ]
  },
  {
   "cell_type": "code",
   "execution_count": 7,
   "metadata": {},
   "outputs": [
    {
     "data": {
      "image/png": "[encoded data removed]",
      "text/plain": [
       "<matplotlib.figure.Figure at 0x114f6a790>"
      ]
     },
     "metadata": {},
     "output_type": "display_data"
    }
   ],
   "source": [
    "plt.figure(1, figsize=(8,6))\n",
    "plt.title(\"The norm of gradient, $\\omega^0 = 0$\")\n",
    "plt.semilogy(range(0, len(grad_norms)), grad_norms)\n",
    "plt.xlabel(\"Number of iteration\")\n",
    "plt.ylabel(\"Norm of gradient\")\n",
    "plt.xlim(0, len(grad_norms))\n",
    "plt.show()"
   ]
  },
  {
   "cell_type": "markdown",
   "metadata": {},
   "source": [
    "$\\textbf{Question 1.4}\\quad\\text{Lancer avec comme condition initiale }(\\omega_0^0,\\omega^0) = 0.3e\\text{, où }e_i=0\\text{ pour tout }i.$"
   ]
  },
  {
   "cell_type": "code",
   "execution_count": 8,
   "metadata": {},
   "outputs": [
    {
     "name": "stderr",
     "output_type": "stream",
     "text": [
      "/Applications/anaconda2/lib/python2.7/site-packages/ipykernel/__main__.py:13: RuntimeWarning: overflow encountered in exp\n",
      "/Applications/anaconda2/lib/python2.7/site-packages/ipykernel/__main__.py:14: RuntimeWarning: overflow encountered in exp\n"
     ]
    },
    {
     "ename": "LinAlgError",
     "evalue": "Singular matrix",
     "output_type": "error",
     "traceback": [
      "\u001b[0;31m---------------------------------------------------------------------------\u001b[0m",
      "\u001b[0;31mLinAlgError\u001b[0m                               Traceback (most recent call last)",
      "\u001b[0;32m<ipython-input-8-26abe0144c22>\u001b[0m in \u001b[0;36m<module>\u001b[0;34m()\u001b[0m\n\u001b[1;32m      1\u001b[0m \u001b[0mt0\u001b[0m \u001b[0;34m=\u001b[0m \u001b[0mtime\u001b[0m\u001b[0;34m(\u001b[0m\u001b[0;34m)\u001b[0m\u001b[0;34m\u001b[0m\u001b[0m\n\u001b[0;32m----> 2\u001b[0;31m \u001b[0mval\u001b[0m\u001b[0;34m,\u001b[0m \u001b[0mgrad\u001b[0m\u001b[0;34m,\u001b[0m \u001b[0mH\u001b[0m\u001b[0;34m,\u001b[0m \u001b[0mcnt\u001b[0m\u001b[0;34m,\u001b[0m \u001b[0mgrad_norms\u001b[0m  \u001b[0;34m=\u001b[0m \u001b[0mminimize_Newton\u001b[0m\u001b[0;34m(\u001b[0m\u001b[0mobjective\u001b[0m\u001b[0;34m,\u001b[0m \u001b[0;36m0.3\u001b[0m\u001b[0;34m*\u001b[0m\u001b[0mnp\u001b[0m\u001b[0;34m.\u001b[0m\u001b[0mones\u001b[0m\u001b[0;34m(\u001b[0m\u001b[0mp\u001b[0m\u001b[0;34m+\u001b[0m\u001b[0;36m1\u001b[0m\u001b[0;34m)\u001b[0m\u001b[0;34m,\u001b[0m \u001b[0mX\u001b[0m\u001b[0;34m,\u001b[0m \u001b[0my\u001b[0m\u001b[0;34m,\u001b[0m \u001b[0mrho\u001b[0m\u001b[0;34m,\u001b[0m \u001b[0mtol\u001b[0m\u001b[0;34m=\u001b[0m\u001b[0;36m1e-10\u001b[0m\u001b[0;34m)\u001b[0m\u001b[0;34m\u001b[0m\u001b[0m\n\u001b[0m\u001b[1;32m      3\u001b[0m \u001b[0;32mprint\u001b[0m \u001b[0;34m\"The value minimal of the objective function is: %0.12f\"\u001b[0m \u001b[0;34m%\u001b[0m \u001b[0mval\u001b[0m\u001b[0;34m\u001b[0m\u001b[0m\n\u001b[1;32m      4\u001b[0m \u001b[0;32mprint\u001b[0m \u001b[0;34m\"Done in %0.3fs, number of iterations: %d\"\u001b[0m \u001b[0;34m%\u001b[0m \u001b[0;34m(\u001b[0m\u001b[0mtime\u001b[0m\u001b[0;34m(\u001b[0m\u001b[0;34m)\u001b[0m\u001b[0;34m-\u001b[0m\u001b[0mt0\u001b[0m\u001b[0;34m,\u001b[0m \u001b[0mcnt\u001b[0m\u001b[0;34m)\u001b[0m\u001b[0;34m\u001b[0m\u001b[0m\n",
      "\u001b[0;32m<ipython-input-6-bc7ce3bd5ceb>\u001b[0m in \u001b[0;36mminimize_Newton\u001b[0;34m(func, w_, X, y, rho, tol)\u001b[0m\n\u001b[1;32m      6\u001b[0m     \u001b[0mcnt\u001b[0m \u001b[0;34m=\u001b[0m \u001b[0;36m0\u001b[0m\u001b[0;34m\u001b[0m\u001b[0m\n\u001b[1;32m      7\u001b[0m     \u001b[0;32mwhile\u001b[0m \u001b[0;34m(\u001b[0m\u001b[0mgrad_norm\u001b[0m \u001b[0;34m>\u001b[0m \u001b[0mtol\u001b[0m\u001b[0;34m)\u001b[0m\u001b[0;34m:\u001b[0m\u001b[0;34m\u001b[0m\u001b[0m\n\u001b[0;32m----> 8\u001b[0;31m         \u001b[0mw_\u001b[0m \u001b[0;34m=\u001b[0m \u001b[0mw_\u001b[0m \u001b[0;34m-\u001b[0m \u001b[0mnp\u001b[0m\u001b[0;34m.\u001b[0m\u001b[0mlinalg\u001b[0m\u001b[0;34m.\u001b[0m\u001b[0msolve\u001b[0m\u001b[0;34m(\u001b[0m\u001b[0mH\u001b[0m\u001b[0;34m,\u001b[0m \u001b[0mnp\u001b[0m\u001b[0;34m.\u001b[0m\u001b[0midentity\u001b[0m\u001b[0;34m(\u001b[0m\u001b[0mp\u001b[0m\u001b[0;34m)\u001b[0m\u001b[0;34m)\u001b[0m\u001b[0;34m.\u001b[0m\u001b[0mdot\u001b[0m\u001b[0;34m(\u001b[0m\u001b[0mgrad\u001b[0m\u001b[0;34m)\u001b[0m\u001b[0;34m\u001b[0m\u001b[0m\n\u001b[0m\u001b[1;32m      9\u001b[0m         \u001b[0mval\u001b[0m\u001b[0;34m,\u001b[0m \u001b[0mgrad\u001b[0m\u001b[0;34m,\u001b[0m \u001b[0mH\u001b[0m \u001b[0;34m=\u001b[0m \u001b[0mfunc\u001b[0m\u001b[0;34m(\u001b[0m\u001b[0mw_\u001b[0m\u001b[0;34m,\u001b[0m \u001b[0mX\u001b[0m\u001b[0;34m,\u001b[0m \u001b[0my\u001b[0m\u001b[0;34m,\u001b[0m \u001b[0mrho\u001b[0m\u001b[0;34m)\u001b[0m\u001b[0;34m\u001b[0m\u001b[0m\n\u001b[1;32m     10\u001b[0m         \u001b[0mgrad_norm\u001b[0m \u001b[0;34m=\u001b[0m \u001b[0mnp\u001b[0m\u001b[0;34m.\u001b[0m\u001b[0msqrt\u001b[0m\u001b[0;34m(\u001b[0m\u001b[0mnp\u001b[0m\u001b[0;34m.\u001b[0m\u001b[0msum\u001b[0m\u001b[0;34m(\u001b[0m\u001b[0mgrad\u001b[0m\u001b[0;34m**\u001b[0m\u001b[0;36m2\u001b[0m\u001b[0;34m)\u001b[0m\u001b[0;34m)\u001b[0m\u001b[0;34m\u001b[0m\u001b[0m\n",
      "\u001b[0;32m/usr/local/lib/python2.7/site-packages/numpy/linalg/linalg.pyc\u001b[0m in \u001b[0;36msolve\u001b[0;34m(a, b)\u001b[0m\n\u001b[1;32m    382\u001b[0m     \u001b[0msignature\u001b[0m \u001b[0;34m=\u001b[0m \u001b[0;34m'DD->D'\u001b[0m \u001b[0;32mif\u001b[0m \u001b[0misComplexType\u001b[0m\u001b[0;34m(\u001b[0m\u001b[0mt\u001b[0m\u001b[0;34m)\u001b[0m \u001b[0;32melse\u001b[0m \u001b[0;34m'dd->d'\u001b[0m\u001b[0;34m\u001b[0m\u001b[0m\n\u001b[1;32m    383\u001b[0m     \u001b[0mextobj\u001b[0m \u001b[0;34m=\u001b[0m \u001b[0mget_linalg_error_extobj\u001b[0m\u001b[0;34m(\u001b[0m\u001b[0m_raise_linalgerror_singular\u001b[0m\u001b[0;34m)\u001b[0m\u001b[0;34m\u001b[0m\u001b[0m\n\u001b[0;32m--> 384\u001b[0;31m     \u001b[0mr\u001b[0m \u001b[0;34m=\u001b[0m \u001b[0mgufunc\u001b[0m\u001b[0;34m(\u001b[0m\u001b[0ma\u001b[0m\u001b[0;34m,\u001b[0m \u001b[0mb\u001b[0m\u001b[0;34m,\u001b[0m \u001b[0msignature\u001b[0m\u001b[0;34m=\u001b[0m\u001b[0msignature\u001b[0m\u001b[0;34m,\u001b[0m \u001b[0mextobj\u001b[0m\u001b[0;34m=\u001b[0m\u001b[0mextobj\u001b[0m\u001b[0;34m)\u001b[0m\u001b[0;34m\u001b[0m\u001b[0m\n\u001b[0m\u001b[1;32m    385\u001b[0m \u001b[0;34m\u001b[0m\u001b[0m\n\u001b[1;32m    386\u001b[0m     \u001b[0;32mreturn\u001b[0m \u001b[0mwrap\u001b[0m\u001b[0;34m(\u001b[0m\u001b[0mr\u001b[0m\u001b[0;34m.\u001b[0m\u001b[0mastype\u001b[0m\u001b[0;34m(\u001b[0m\u001b[0mresult_t\u001b[0m\u001b[0;34m,\u001b[0m \u001b[0mcopy\u001b[0m\u001b[0;34m=\u001b[0m\u001b[0mFalse\u001b[0m\u001b[0;34m)\u001b[0m\u001b[0;34m)\u001b[0m\u001b[0;34m\u001b[0m\u001b[0m\n",
      "\u001b[0;32m/usr/local/lib/python2.7/site-packages/numpy/linalg/linalg.pyc\u001b[0m in \u001b[0;36m_raise_linalgerror_singular\u001b[0;34m(err, flag)\u001b[0m\n\u001b[1;32m     88\u001b[0m \u001b[0;34m\u001b[0m\u001b[0m\n\u001b[1;32m     89\u001b[0m \u001b[0;32mdef\u001b[0m \u001b[0m_raise_linalgerror_singular\u001b[0m\u001b[0;34m(\u001b[0m\u001b[0merr\u001b[0m\u001b[0;34m,\u001b[0m \u001b[0mflag\u001b[0m\u001b[0;34m)\u001b[0m\u001b[0;34m:\u001b[0m\u001b[0;34m\u001b[0m\u001b[0m\n\u001b[0;32m---> 90\u001b[0;31m     \u001b[0;32mraise\u001b[0m \u001b[0mLinAlgError\u001b[0m\u001b[0;34m(\u001b[0m\u001b[0;34m\"Singular matrix\"\u001b[0m\u001b[0;34m)\u001b[0m\u001b[0;34m\u001b[0m\u001b[0m\n\u001b[0m\u001b[1;32m     91\u001b[0m \u001b[0;34m\u001b[0m\u001b[0m\n\u001b[1;32m     92\u001b[0m \u001b[0;32mdef\u001b[0m \u001b[0m_raise_linalgerror_nonposdef\u001b[0m\u001b[0;34m(\u001b[0m\u001b[0merr\u001b[0m\u001b[0;34m,\u001b[0m \u001b[0mflag\u001b[0m\u001b[0;34m)\u001b[0m\u001b[0;34m:\u001b[0m\u001b[0;34m\u001b[0m\u001b[0m\n",
      "\u001b[0;31mLinAlgError\u001b[0m: Singular matrix"
     ]
    }
   ],
   "source": [
    "t0 = time()\n",
    "val, grad, H, cnt, grad_norms  = minimize_Newton(objective, 0.3*np.ones(p+1), X, y, rho, tol=1e-10)\n",
    "print \"The value minimal of the objective function is: %0.12f\" % val\n",
    "print \"Done in %0.3fs, number of iterations: %d\" % (time()-t0, cnt)"
   ]
  },
  {
   "cell_type": "markdown",
   "metadata": {},
   "source": [
    "<div class=\"alert alert-success\">\n",
    "    <p>On a vu que avec cette condition initiale, la fonction objectif ne converge pas. C'est à cause de le point initiale est hors le domaine de convergence.</p>\n",
    "</div>"
   ]
  },
  {
   "cell_type": "markdown",
   "metadata": {},
   "source": [
    "$\\textbf{Question 1.5}\\quad\\text{Coder la méthode de recherche linéaire d'Armijo.}$"
   ]
  },
  {
   "cell_type": "markdown",
   "metadata": {},
   "source": [
    "<div class=\"alert alert-success\">\n",
    "    <p>Notons $\\omega^+(\\gamma_k)=\\omega^k - \\gamma_k(\\nabla^2 f_1(\\omega^k))^{-1}\\nabla f_1(\\omega^k)$, soient $a \\in (0,1)$, $b>0$ et $\\beta \\in (0,1)$, on cherche le premier entier $l$ non-négatif tel que:</p>\n",
    "    $$f_1(\\omega^+(ba^l)) \\leq f_1(\\omega^k) + \\beta\\langle\\nabla_{f_1}(\\omega^k),\\,\\omega^+(ba^l)-\\omega^k\\rangle$$\n",
    "</div>\n",
    "\n",
    "<div class=\"alert alert-success\">\n",
    "    <p>Ici, on prend $\\beta = 0.5$, ainsi que la recherche linéaire d'Armijo devient équicalente à la recherche linéaire de Taylor.</p>\n",
    "    <p> On fixe $b_0 = 1$ et $b_k = 2\\gamma_{k-1}$, c'est un choix classique.</p>\n",
    "    <p> On fixe $a = 0.5$, c'est pour faire un compromis entre la précision de recherche et la vitesse de convergence.</p>\n",
    "</div>"
   ]
  },
  {
   "cell_type": "code",
   "execution_count": 9,
   "metadata": {},
   "outputs": [
    {
     "name": "stdout",
     "output_type": "stream",
     "text": [
      "The value minimal of the objective function is: 0.564490766022\n",
      "Done in 0.082s, number of iterations: 9\n",
      "[ 0.2013495  -0.17213872 -0.04798368 -0.14852973  0.17226181 -0.00720006\n",
      "  0.20673756 -0.03692106  0.0768277   0.43086559  0.12956021  0.17260728\n",
      "  0.31592059  0.17684201  0.10474188  0.10474188 -0.39105042  0.1639398\n",
      "  0.66262584 -0.33199982  0.64063084 -0.39451384 -0.39515206  0.3884854\n",
      "  0.02848865  0.3884854   0.27776305]\n"
     ]
    }
   ],
   "source": [
    "def minimize_Newton_Armijo(func, w_, X, y, rho, a, b, beta, tol=1e-10, max_iter=500):\n",
    "    n, p = X.shape\n",
    "    val, grad, H = func(w_, X, y, rho)\n",
    "    grad_norm = np.sqrt(np.sum(grad**2))\n",
    "    norms = [grad_norm]\n",
    "    d = np.linalg.solve(H, np.identity(p)).dot(grad)\n",
    "    gamma = b / 2.\n",
    "    cnt = 0\n",
    "    while (grad_norm > tol and cnt < max_iter):\n",
    "        gamma = 2*gamma\n",
    "        val_ = func(w_ - gamma*d, X, y, rho, return_grad=False)\n",
    "        while (val_ > val - beta*gamma*np.sum(d*grad)):\n",
    "            gamma = gamma*a\n",
    "            val_ = func(w_ - gamma*d, X, y, rho, return_grad=False)\n",
    "        w_ = w_ - gamma*d\n",
    "        val, grad, H = func(w_, X, y, rho)\n",
    "        d = np.linalg.solve(H, np.identity(p)).dot(grad)\n",
    "        grad_norm = np.sqrt(np.sum(grad**2))\n",
    "        norms.append(grad_norm)\n",
    "        cnt = cnt + 1\n",
    "    return val, w_, cnt, norms\n",
    "\n",
    "t0 = time()\n",
    "rho = 1./n\n",
    "a = 0.5\n",
    "b = 1\n",
    "beta = 0.5\n",
    "val_nls, w_nls, cnt_nls, grad_norms_nls  = minimize_Newton_Armijo(objective, 0.3*np.ones(p+1), X, y, rho, a, b, beta, tol=1e-10, max_iter=500)\n",
    "print \"The value minimal of the objective function is: %0.12f\" % val_nls\n",
    "t_nls = time()-t0\n",
    "print \"Done in %0.3fs, number of iterations: %d\" % (t_nls, cnt_nls)\n",
    "print w_nls"
   ]
  },
  {
   "cell_type": "code",
   "execution_count": 10,
   "metadata": {},
   "outputs": [
    {
     "data": {
      "image/png": "[encoded data removed]",
      "text/plain": [
       "<matplotlib.figure.Figure at 0x10d560bd0>"
      ]
     },
     "metadata": {},
     "output_type": "display_data"
    }
   ],
   "source": [
    "plt.figure(2, figsize=(8,6))\n",
    "plt.title(\"The norm of gradient by Newton with linear search\")\n",
    "plt.semilogy(range(0, len(grad_norms_nls)), grad_norms_nls)\n",
    "plt.xlabel(\"Number of iteration\")\n",
    "plt.ylabel(\"Norm of gradient\")\n",
    "plt.xlim(0, len(grad_norms_nls))\n",
    "plt.show()"
   ]
  },
  {
   "cell_type": "markdown",
   "metadata": {},
   "source": [
    "## Partie 2: Régularisation pour la parcimoine"
   ]
  },
  {
   "cell_type": "markdown",
   "metadata": {},
   "source": [
    "$\\textbf{Question 2.1}\\quad\\text{Pourquoi ne peut-on pas utiliser la méthode de Newton pour résoudre ce problème?}$"
   ]
  },
  {
   "cell_type": "markdown",
   "metadata": {},
   "source": [
    "<div class=\"alert alert-success\">\n",
    "    <p>Parce que la fonction objectif ici n'est pas différentiable, on ne peut pas utiliser le gradient et la matrice hessienne.</p>\n",
    "</div>"
   ]
  },
  {
   "cell_type": "markdown",
   "metadata": {},
   "source": [
    "$\\textbf{Question 2.2}\\quad\\text{Écrire la fonction objectif sous la forme }F_2 = f_2 + g_2\\text{ où }f_2\\text{ est dérivable et l’opérateur proximal de }g_2\\text{ est simple.}$"
   ]
  },
  {
   "cell_type": "markdown",
   "metadata": {
    "collapsed": true
   },
   "source": [
    "<div class=\"alert alert-success\">\n",
    "    <p>\n",
    "        $$\n",
    "        \\begin{aligned}\n",
    "        F_2(\\omega_0,\\omega) &= \\frac{1}{n}\\sum_{i=1}^{n}\\text{log}\\big(1+e^{-y_i(x_i^T\\omega+\\omega_0)}\\big)+\\rho\\|\\omega\\|_1 \\\\\n",
    "        &= f_2+g_2\n",
    "        \\end{aligned}\n",
    "        $$\n",
    "        où $f_2 = \\frac{1}{n}\\sum_{i=1}^{n}\\text{log}\\big(1+e^{-y_i(x_i^T\\omega+\\omega_0)}\\big)$ est dérivable, $g_2 = \\rho\\|\\omega\\|_1$ de laquelle l'opérateur proximal est simple.\n",
    "    </p>\n",
    "</div>\n",
    "\n",
    "<div class=\"alert alert-success\">\n",
    "    <p>\n",
    "        On a le gradient de $f_2$:\n",
    "        $$\n",
    "        \\begin{aligned}\n",
    "        \\nabla{f_2}(\\omega_0, \\omega) &= \\frac{1}{n}\\sum_{i=1}^{n}\\frac{-e^{-y_i\\tilde x_i^T \\tilde \\omega}y_i\\tilde{\\mathbf{x}}_i}{1+e^{-y_i\\tilde x_i^T \\tilde \\omega}} \\\\\n",
    "        &= \\frac{1}{n}\\sum_{i=1}^{n}\\frac{-y_i\\tilde{\\mathbf{x}}_i}{1+e^{y_i\\tilde x_i^T \\tilde \\omega}}\n",
    "        \\end{aligned}\n",
    "        $$\n",
    "    </p>\n",
    "    <p>\n",
    "        et l'opérateur proximal de $g_2$:\n",
    "        $$\n",
    "        \\begin{aligned}\n",
    "        \\text{prox}_{g_2}(x) &= \\text{arg}\\,\\underset{y \\in \\mathbb{R}^p}{\\text{min}}\\, \\big(g_2(y) + \\frac{1}{2}\\|y-x\\|^2 \\big) \\\\\n",
    "        &= \\text{arg}\\,\\underset{y \\in \\mathbb{R}^p}{\\text{min}}\\, \\big(\\rho\\|y\\|_1 + \\frac{1}{2}\\|y-x\\|^2 \\big) \\\\\n",
    "        &= \\text{arg}\\,\\underset{y \\in \\mathbb{R}^p}{\\text{min}}\\, \\sum_{i=1}^{p}\\big(\\rho |y_i| + \\frac{1}{2}(y_i-x_i)^2\\big)\n",
    "        \\end{aligned}\n",
    "        $$\n",
    "    </p>\n",
    "    <p>\n",
    "    pour $1 \\leq i \\leq n$, on obtient la solution:\n",
    "    $$\n",
    "    y_i^* = \\left\\{\n",
    "    \\begin{align}\n",
    "    x_i - \\rho, &\\text{ si } x_i > \\rho \\\\\n",
    "    x_i + \\rho, &\\text{ si } x_i < -\\rho \\\\\n",
    "    0, &\\text{ si } -\\rho \\leq x_i \\leq \\rho\n",
    "    \\end{align}\n",
    "    \\right.\n",
    "    $$\n",
    "    </p>\n",
    "</div>\n",
    "\n",
    "<div class=\"alert alert-success\">\n",
    "    <p>\n",
    "        $$\n",
    "        \\begin{aligned}\n",
    "        \\mathbf{H_2} = \\nabla^2f_2(\\omega_0, \\omega) &= \\frac{1}{n}\\sum_{i=1}^{n}\\frac{e^{y_i\\tilde x_i^T \\tilde \\omega}(y_i\\tilde{\\mathbf{x}}_i)(y_i\\tilde{\\mathbf{x}}_i)^T}{(1+e^{y_i\\tilde x_i^T \\tilde \\omega})^2} \\\\\n",
    "        & = \\frac{1}{n}\\sum_{i=1}^{n}\\frac{(y_i\\tilde{\\mathbf{x}}_i)(y_i\\tilde{\\mathbf{x}}_i)^T}{(1+e^{y_i\\tilde x_i^T \\tilde \\omega})(1+e^{-y_i\\tilde x_i^T \\tilde \\omega})}\n",
    "        \\end{aligned}\n",
    "        $$\n",
    "    </p>\n",
    "    <p>\n",
    "    Soient $\\omega \\in \\mathbb{R}^{p+1}$, on a:\n",
    "        $$\n",
    "        \\begin{aligned}\n",
    "        \\omega^TH_2\\omega &= \\frac{1}{n}\\sum_{i=1}^{n}\\frac{\\omega^T (y_i\\tilde{\\mathbf{x}}_i)(y_i\\tilde{\\mathbf{x}}_i)^T \\omega}{(1+e^{y_i\\tilde x_i^T \\tilde \\omega})(1+e^{-y_i\\tilde x_i^T \\tilde \\omega})} \\\\\n",
    "        &= \\frac{1}{n}\\sum_{i=1}^{n}\\frac{(\\omega^T y_i\\tilde{\\mathbf{x}}_i)(\\omega^T y_i\\tilde{\\mathbf{x}}_i)^T}{(1+e^{y_i\\tilde x_i^T \\tilde \\omega})(1+e^{-y_i\\tilde x_i^T \\tilde \\omega})} \\\\\n",
    "        &= \\frac{1}{n}\\sum_{i=1}^{n}\\frac{\\|\\omega^T y_i\\tilde{\\mathbf{x}}_i\\|_2^2}{(1+e^{y_i\\tilde x_i^T \\tilde \\omega})(1+e^{-y_i\\tilde x_i^T \\tilde \\omega})} \\geq 0\n",
    "        \\end{aligned}\n",
    "        $$\n",
    "    </p>\n",
    "    <p>Donc, la matrice hessienne de $f_2$ est semi-définie positive, la fonction $f_2$ est convexe.</p>\n",
    "    <p>\n",
    "    $$\n",
    "        \\begin{aligned}\n",
    "        g_2(\\omega_0, \\omega) &= \\rho\\|\\omega\\|_1 \\\\\n",
    "        &= \\rho \\sum_{i=1}^{n}|\\omega_i|\n",
    "        \\end{aligned}\n",
    "    $$\n",
    "    </p>\n",
    "    <p>La fonction de valeur absolue est convexe pour chaque élément de $\\omega$, pour $\\rho \\geq 0$, $g_2$ est aussi convexe.</p>\n",
    "    <p>Donc $F_2 = f_2 + g_2$ est convexe pour $\\rho \\geq 0$.</p>\n",
    "</div>"
   ]
  },
  {
   "cell_type": "markdown",
   "metadata": {},
   "source": [
    "$\\textbf{Question 2.3}\\quad\\text{Coder le gradient proximal avec recherche linéaire.}$"
   ]
  },
  {
   "cell_type": "markdown",
   "metadata": {},
   "source": [
    "<div class=\"alert alert-success\">\n",
    "    <p>On rajoute la recherche linéaire de Taylor.</p>\n",
    "    <p>On prend $a = 0.5$, $b_0 = 1b$ et $b = 2\\gamma_{k-1}$. On cherche le premier entier $l$ non-négatif tel que:</p>\n",
    "    $$f_2(\\omega^+(ba^l)) \\leq f_2(\\omega^k) + \\langle\\nabla_{f_2}(\\omega^k),\\,\\omega^+(ba^l)-\\omega^k\\rangle + \\frac{1}{2ba^l}\\|\\omega^k - \\omega^+(ba^l)\\|^2$$\n",
    "</div>\n",
    "\n",
    "<div class=\"alert alert-success\">\n",
    "    On peut utiliser un seuillage pour la valeur de fonction objectif évaluée dans une itération comme test d'arrêt.\n",
    "</div>"
   ]
  },
  {
   "cell_type": "code",
   "execution_count": 11,
   "metadata": {},
   "outputs": [
    {
     "name": "stdout",
     "output_type": "stream",
     "text": [
      "The value minimal of the objective function is: 0.692565193505\n",
      "Done in 0.072s, number of iterations: 8\n",
      "[-0.05716261  0.          0.          0.          0.          0.          0.\n",
      "  0.          0.          0.          0.          0.          0.          0.004657\n",
      "  0.          0.          0.          0.          0.          0.\n",
      "  0.00538332  0.          0.          0.01859929  0.          0.01859929\n",
      "  0.        ]\n"
     ]
    }
   ],
   "source": [
    "def objective_proximal(w_, X, y, rho):\n",
    "    \"\"\"\n",
    "    X: matrix of size n*(p+1)\n",
    "    y: vector of size n\n",
    "    w0: real number\n",
    "    w: vector of size p\n",
    "    \"\"\"\n",
    "    # Initialize elementary intermediate variables;\n",
    "    n, p = X.shape\n",
    "    w = w_[1:]\n",
    "    y_x = np.array([y[i] * X[i, :] for i in range(n)])\n",
    "    yx_w = np.array([np.sum(y_x[i, :]*w_) for i in range(n)])\n",
    "    exp_neg_yxw_1 = np.array([np.exp(-yx_w[i]) for i in range(n)]) + 1\n",
    "    \n",
    "    # Compute function value\n",
    "    val = np.mean(np.log(exp_neg_yxw_1)) + rho*np.sum(np.fabs(w)) \n",
    "    return val\n",
    "\n",
    "def f(w_, X, y, return_grad=True):\n",
    "    \"\"\"\n",
    "    X: matrix of size n*(p+1)\n",
    "    y: vector of size n\n",
    "    w0: real number\n",
    "    w: vector of size p\n",
    "    \"\"\"\n",
    "    # Initialize elementary intermediate variables;\n",
    "    n, p = X.shape\n",
    "    w = w_[1:]\n",
    "    y_x = np.array([y[i] * X[i, :] for i in range(n)])\n",
    "    yx_w = np.array([np.sum(y_x[i, :]*w_) for i in range(n)])\n",
    "    exp_yxw_1 = np.array([np.exp(yx_w[i]) for i in range(n)]) + 1\n",
    "    exp_neg_yxw_1 = np.array([np.exp(-yx_w[i]) for i in range(n)]) + 1\n",
    "    \n",
    "    # Compute function value\n",
    "    val = np.mean(np.log(exp_neg_yxw_1))\n",
    "    \n",
    "    if return_grad == False:\n",
    "        return val\n",
    "    else:\n",
    "        # Compute gradient\n",
    "        grad = np.mean(-np.array([y_x[i]/exp_yxw_1[i] for i in range(n)]), axis=0)\n",
    "        return val, grad\n",
    "    \n",
    "def Soft_Threshold(w, rho):\n",
    "    w_ = np.zeros_like(w)\n",
    "    w_[w > rho] = w[w > rho] - rho\n",
    "    w_[w < -rho] = w[w < -rho] + rho\n",
    "    w_[0] = w[0]\n",
    "    return w_\n",
    "\n",
    "def minimize_prox_grad_Taylor(func, f, w_, X, y, rho, a, b, tol=1e-10, max_iter=500):\n",
    "    n, p = X.shape\n",
    "    val = func(w_, X, y, rho)\n",
    "    val_f, grad_f = f(w_, X, y)\n",
    "    gamma = b / 2.\n",
    "    delta_val = tol*2\n",
    "    cnt = 0\n",
    "    while (delta_val > tol and cnt < max_iter):\n",
    "        gamma = 2*gamma\n",
    "        w_new = Soft_Threshold(w_ - gamma*grad_f, gamma*rho)\n",
    "        val_f_ = f(w_new, X, y, return_grad=False)\n",
    "        #while (val_f_ > val_f + beta*np.sum(grad_f*(w_new - w_))):\n",
    "        while (val_f_ > val_f + np.sum(grad_f*(w_new-w_)) + np.sum((w_new-w_)**2)/gamma):\n",
    "            #print val_\n",
    "            gamma = gamma*a\n",
    "            w_new = Soft_Threshold(w_ - gamma*grad_f, gamma*rho)\n",
    "            val_f_ = f(w_new, X, y, return_grad=False)\n",
    "        w_ = w_new\n",
    "        val_f, grad_f = f(w_, X, y)\n",
    "        val_ = func(w_, X, y, rho)\n",
    "        delta_val = val - val_\n",
    "        val = val_\n",
    "        cnt = cnt + 1\n",
    "    return func(w_, X, y, rho), w_, cnt\n",
    "\n",
    "t0 = time()\n",
    "rho = 0.1\n",
    "a = 0.5\n",
    "b = 1\n",
    "val_pgls, w_pgls, cnt_pgls  = minimize_prox_grad_Taylor(objective_proximal, f, 0.3*np.ones(p+1), X, y, rho, a, b, tol=1e-8, max_iter=500)\n",
    "print \"The value minimal of the objective function is: %0.12f\" % val_pgls\n",
    "t_pgls = time()-t0\n",
    "print \"Done in %0.3fs, number of iterations: %d\" % (t_pgls, cnt_pgls)\n",
    "print w_pgls"
   ]
  },
  {
   "cell_type": "code",
   "execution_count": 29,
   "metadata": {},
   "outputs": [
    {
     "name": "stdout",
     "output_type": "stream",
     "text": [
      "The value minimal of the objective function is: 0.692577339566\n",
      "Done in 0.178s, number of iterations: 21\n",
      "[-0.0567545   0.          0.          0.          0.          0.          0.\n",
      "  0.          0.          0.          0.          0.          0.          0.\n",
      "  0.          0.          0.          0.          0.          0.\n",
      "  0.01092454  0.          0.          0.0130465   0.          0.0130465   0.        ]\n"
     ]
    }
   ],
   "source": [
    "def objective_proximal(w_, X, y, rho, return_grad=True):\n",
    "    \"\"\"\n",
    "    X: matrix of size n*(p+1)\n",
    "    y: vector of size n\n",
    "    w0: real number\n",
    "    w: vector of size p\n",
    "    \"\"\"\n",
    "    # Initialize elementary intermediate variables;\n",
    "    n, p = X.shape\n",
    "    w = w_[1:]\n",
    "    y_x = np.array([y[i] * X[i, :] for i in range(n)])\n",
    "    yx_w = np.array([np.sum(y_x[i, :]*w_) for i in range(n)])\n",
    "    exp_yxw_1 = np.array([np.exp(yx_w[i]) for i in range(n)]) + 1\n",
    "    exp_neg_yxw_1 = np.array([np.exp(-yx_w[i]) for i in range(n)]) + 1\n",
    "    \n",
    "    # Compute function value\n",
    "    val = np.mean(np.log(exp_neg_yxw_1)) + rho*np.sum(np.fabs(w)) \n",
    "    \n",
    "    if return_grad == False:\n",
    "        return val\n",
    "    else:\n",
    "        # Compute gradient\n",
    "        grad = np.mean(-np.array([y_x[i]/exp_yxw_1[i] for i in range(n)]), axis=0)\n",
    "        return val, grad\n",
    "    \n",
    "def Soft_Threshold(w, rho):\n",
    "    w_ = np.zeros_like(w)\n",
    "    w_[w > rho] = w[w > rho] - rho\n",
    "    w_[w < -rho] = w[w < -rho] + rho\n",
    "    w_[0] = w[0]\n",
    "    return w_\n",
    "\n",
    "def minimize_prox_grad_Armijo(func, w_, X, y, rho, a, b, beta, tol=1e-10, max_iter=500):\n",
    "    val, grad = func(w_, X, y, rho)\n",
    "    gamma = b / 2.\n",
    "    delta_val = tol*2\n",
    "    cnt = 0\n",
    "    while (delta_val > tol and cnt < max_iter):\n",
    "        gamma = 2*gamma\n",
    "        w_new = Soft_Threshold(w_ - gamma*grad, rho)\n",
    "        val_ = func(w_new, X, y, rho, return_grad=False)\n",
    "        while (val_ > val + beta*np.sum(grad*(w_new - w_))):\n",
    "            gamma = gamma*a\n",
    "            w_new = Soft_Threshold(w_ - gamma*grad, rho)\n",
    "            val_ = func(w_new, X, y, rho, return_grad=False)\n",
    "        w_ = w_new\n",
    "        val_, grad = func(w_, X, y, rho)\n",
    "        delta_val = val - val_\n",
    "        val = val_\n",
    "        cnt = cnt + 1\n",
    "    return val, w_, cnt\n",
    "\n",
    "t0 = time()\n",
    "rho = 0.1\n",
    "a = 0.7\n",
    "b = 1\n",
    "beta = 0.5\n",
    "val_pgls, w_pgls, cnt_pgls  = minimize_prox_grad_Armijo(objective_proximal, 0.3*np.ones(p+1), X, y, rho, a, b, beta, tol=1e-6, max_iter=500)\n",
    "print \"The value minimal of the objective function is: %0.12f\" % val_pgls\n",
    "t_pgls = time()-t0\n",
    "print \"Done in %0.3fs, number of iterations: %d\" % (t_pgls, cnt_pgls)\n",
    "print w_pgls"
   ]
  },
  {
   "cell_type": "markdown",
   "metadata": {},
   "source": [
    "## Partie 3: Comparaison"
   ]
  },
  {
   "cell_type": "markdown",
   "metadata": {},
   "source": [
    "$\\textbf{Question 3.1}\\quad\\text{Comparer les propriétés des deux problèmes d’optimisation.}$"
   ]
  },
  {
   "cell_type": "markdown",
   "metadata": {},
   "source": [
    "<div class=\"alert alert-success\">\n",
    "    <p>1. Toutes les deux fonctions objectifs sont convexes, laquelle de régularisation de Tikhonov est différentible, l'autre n'est pas différentiable.</p>\n",
    "    <p>2. Selon les deux $\\omega$ qu'on obtient, la régularisation de Tiknonov utilise tous les variables explicatives, la régularisation pour la parcimoine en utilise une partie.</p>\n",
    "</div>"
   ]
  },
  {
   "cell_type": "markdown",
   "metadata": {},
   "source": [
    "$\\textbf{Question 3.2}\\quad\\text{Comparer les solutions obtenues avec les deux types de régularisation.}$"
   ]
  },
  {
   "cell_type": "code",
   "execution_count": 30,
   "metadata": {},
   "outputs": [
    {
     "name": "stdout",
     "output_type": "stream",
     "text": [
      "The chance level is: 0.514286\n",
      "The score by Newton method with line search is: 0.685714\n",
      "The score by proximal gradient method with line search is: 0.561905\n",
      "------------------------------------------------------------\n",
      "Classification report for Newton method\n",
      "             precision    recall  f1-score   support\n",
      "\n",
      "       -1.0       0.65      0.84      0.73       108\n",
      "        1.0       0.76      0.52      0.62       102\n",
      "\n",
      "avg / total       0.70      0.69      0.68       210\n",
      "\n",
      "------------------------------------------------------------\n",
      "Classification report for proximal gradient method\n",
      "             precision    recall  f1-score   support\n",
      "\n",
      "       -1.0       0.54      1.00      0.70       108\n",
      "        1.0       1.00      0.10      0.18       102\n",
      "\n",
      "avg / total       0.76      0.56      0.45       210\n",
      "\n"
     ]
    }
   ],
   "source": [
    "y_pred_nls = np.sign(X.dot(w_nls))\n",
    "y_pred_pgls = np.sign(X.dot(w_pgls))\n",
    "print \"The chance level is: %f\" % max(np.mean(y == 1), 1-np.mean(y == 1))\n",
    "print \"The score by Newton method with line search is: %f\" % np.mean(y == y_pred_nls)\n",
    "print \"The score by proximal gradient method with line search is: %f\" % np.mean(y == y_pred_pgls)\n",
    "\n",
    "print \"-\"*60\n",
    "print \"Classification report for Newton method\"\n",
    "print classification_report(y, y_pred_nls)\n",
    "print \"-\"*60\n",
    "print \"Classification report for proximal gradient method\"\n",
    "print classification_report(y, y_pred_pgls)"
   ]
  },
  {
   "cell_type": "markdown",
   "metadata": {},
   "source": [
    "<div class=\"alert alert-success\">\n",
    "    <p>En comparant les scores et les rapports de classification:</p>\n",
    "    <p>1. Le score obtenu par la méthode de Newton est meilleur que celui de la méthode de gradient proximal.</p>\n",
    "    <p>2. Selon le f1-score, la méthode de Newton est aussi meilleur.</p>\n",
    "    <p>3. Dans la méthode de gradient proximal, la «precision» pour class 1 est 1.0, de plus, la «recall» est 0.1. On peut conclure que cette méthode avandage la class 1.</p>\n",
    "</div>"
   ]
  }
 ],
 "metadata": {
  "kernelspec": {
   "display_name": "Python 3",
   "language": "python",
   "name": "python3"
  },
  "language_info": {
   "codemirror_mode": {
    "name": "ipython",
    "version": 3
   },
   "file_extension": ".py",
   "mimetype": "text/x-python",
   "name": "python",
   "nbconvert_exporter": "python",
   "pygments_lexer": "ipython3",
   "version": "3.6.3"
  },
  "latex_envs": {
   "LaTeX_envs_menu_present": true,
   "autocomplete": true,
   "bibliofile": "biblio.bib",
   "cite_by": "apalike",
   "current_citInitial": 1,
   "eqLabelWithNumbers": true,
   "eqNumInitial": 1,
   "hotkeys": {
    "equation": "Ctrl-E",
    "itemize": "Ctrl-I"
   },
   "labels_anchors": false,
   "latex_user_defs": false,
   "report_style_numbering": false,
   "user_envs_cfg": false
  },
  "toc": {
   "nav_menu": {},
   "number_sections": false,
   "sideBar": true,
   "skip_h1_title": true,
   "toc_cell": true,
   "toc_position": {},
   "toc_section_display": "block",
   "toc_window_display": false
  },
  "varInspector": {
   "cols": {
    "lenName": 16,
    "lenType": 16,
    "lenVar": 40
   },
   "kernels_config": {
    "python": {
     "delete_cmd_postfix": "",
     "delete_cmd_prefix": "del ",
     "library": "var_list.py",
     "varRefreshCmd": "print(var_dic_list())"
    },
    "r": {
     "delete_cmd_postfix": ") ",
     "delete_cmd_prefix": "rm(",
     "library": "var_list.r",
     "varRefreshCmd": "cat(var_dic_list()) "
    }
   },
   "types_to_exclude": [
    "module",
    "function",
    "builtin_function_or_method",
    "instance",
    "_Feature"
   ],
   "window_display": false
  }
 },
 "nbformat": 4,
 "nbformat_minor": 2
}
