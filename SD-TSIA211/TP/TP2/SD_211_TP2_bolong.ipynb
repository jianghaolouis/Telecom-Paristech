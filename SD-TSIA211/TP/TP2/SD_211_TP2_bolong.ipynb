{
 "cells": [
  {
   "cell_type": "markdown",
   "metadata": {
    "toc": true
   },
   "source": [
    "<h1>Table of Contents<span class=\"tocSkip\"></span></h1>\n",
    "<div class=\"toc\" style=\"margin-top: 1em;\"><ul class=\"toc-item\"></ul></div>"
   ]
  },
  {
   "cell_type": "markdown",
   "metadata": {},
   "source": [
    "# TP Régression logistique"
   ]
  },
  {
   "cell_type": "code",
   "execution_count": 2,
   "metadata": {
    "collapsed": true
   },
   "outputs": [],
   "source": [
    "import numpy as np\n",
    "import matplotlib.pyplot as plt\n",
    "from diabeticRetinopathyUtils import load_diabetic_retinopathy\n",
    "from scipy.optimize import check_grad\n",
    "from time import time\n",
    "from sklearn.metrics import classification_report"
   ]
  },
  {
   "cell_type": "code",
   "execution_count": 3,
   "metadata": {},
   "outputs": [
    {
     "name": "stdout",
     "output_type": "stream",
     "text": [
      "Before the insertion:\n",
      "(1151, 19) (1151,)\n",
      "After the insertion:\n",
      "(1151, 20) (1151,)\n"
     ]
    }
   ],
   "source": [
    "X, y = load_diabetic_retinopathy(\"diabeticRetinopathy.csv\")\n",
    "print \"Before the insertion:\"\n",
    "print X.shape, y.shape\n",
    "n, p = X.shape\n",
    "X = np.c_[np.ones(n), X]\n",
    "print \"After the insertion:\"\n",
    "print X.shape, y.shape"
   ]
  },
  {
   "cell_type": "code",
   "execution_count": 4,
   "metadata": {
    "collapsed": true
   },
   "outputs": [],
   "source": [
    "def objective(w_, X, y, rho, return_grad=True, return_H=True):\n",
    "    \"\"\"\n",
    "    X: matrix of size n*(p+1)\n",
    "    y: vector of size n\n",
    "    w0: real number\n",
    "    w: vector of size p\n",
    "    \"\"\"\n",
    "    # Initialize elementary intermediate variables;\n",
    "    n, p = X.shape\n",
    "    w = w_[1:]\n",
    "    y_x = np.array([y[i] * X[i, :] for i in range(n)])\n",
    "    yx_w = np.array([np.sum(y_x[i, :] * w_) for i in range(n)])\n",
    "    exp_yxw_1 = np.array([np.exp(yx_w[i]) for i in range(n)]) + 1\n",
    "    exp_neg_yxw_1 = np.array([np.exp(-yx_w[i]) for i in range(n)]) + 1\n",
    "\n",
    "    # Compute function value\n",
    "    val = np.mean(np.log(exp_neg_yxw_1)) + np.sum(w**2) * rho / 2.\n",
    "\n",
    "    if return_grad == False:\n",
    "        return val\n",
    "    else:\n",
    "        # Compute gradient\n",
    "        grad = np.mean(-np.array([y_x[i] / exp_yxw_1[i]\n",
    "                                  for i in range(n)]), axis=0) + rho * np.r_[0, w]\n",
    "\n",
    "        if return_H == False:\n",
    "            return val, grad\n",
    "        else:\n",
    "            # Compute the Hessian matrix\n",
    "            H = np.mean(np.array([y_x[i].reshape(-1, 1).dot(y_x[i].reshape(1, -1) / (exp_yxw_1[i] * exp_neg_yxw_1[i]))\n",
    "                                  for i in range(n)]), axis=0) + rho * np.diag(np.r_[0, np.ones(p - 1)])\n",
    "            return val, grad, H"
   ]
  },
  {
   "cell_type": "code",
   "execution_count": 5,
   "metadata": {},
   "outputs": [
    {
     "name": "stdout",
     "output_type": "stream",
     "text": [
      "The difference of gradient is: 0.000000036693\n",
      "Done in 0.341s.\n"
     ]
    }
   ],
   "source": [
    "def funcMask(w_, X, y, rho):\n",
    "    val, grad = objective(w_, X, y, rho, return_H=False)\n",
    "    return val\n",
    "\n",
    "\n",
    "def gradMask(w_, X, y, rho):\n",
    "    val, grad = objective(w_, X, y, rho, return_H=False)\n",
    "    return grad\n",
    "\n",
    "\n",
    "rho = 1. / n\n",
    "t0 = time()\n",
    "print \"The difference of gradient is: %0.12f\" % check_grad(funcMask, gradMask, np.zeros(p + 1), X, y, rho)\n",
    "print \"Done in %0.3fs.\" % (time() - t0)"
   ]
  },
  {
   "cell_type": "code",
   "execution_count": 6,
   "metadata": {},
   "outputs": [
    {
     "name": "stdout",
     "output_type": "stream",
     "text": [
      "The difference of Hessian matrix is: 0.000000144496\n",
      "Done in 0.448s.\n"
     ]
    }
   ],
   "source": [
    "def gradMask(w_, X, y, rho):\n",
    "    val, grad = objective(w_, X, y, rho, return_H=False)\n",
    "    return grad.sum()\n",
    "\n",
    "\n",
    "def hessianMask(w_, X, y, rho):\n",
    "    val, grad, H = objective(w_, X, y, rho)\n",
    "    return np.sum(H, axis=1)\n",
    "\n",
    "\n",
    "t0 = time()\n",
    "rho = 1. / n\n",
    "print \"The difference of Hessian matrix is: %0.12f\" % check_grad(gradMask, hessianMask, np.zeros(p + 1), X, y, rho)\n",
    "print \"Done in %0.3fs.\" % (time() - t0)"
   ]
  },
  {
   "cell_type": "code",
   "execution_count": 10,
   "metadata": {},
   "outputs": [
    {
     "name": "stdout",
     "output_type": "stream",
     "text": [
      "The value minimal of the objective function is: 0.686959525572\n",
      "Done in 6.463s, number of iterations: 126\n",
      "[ 0.12293998  0.          0.          0.18833666  0.          0.          0.\n",
      "  0.          0.          0.          0.          0.          0.          0.\n",
      "  0.          0.          0.          0.          0.          0.        ]\n"
     ]
    }
   ],
   "source": [
    "def val_proximal(w_, X, y, rho):\n",
    "    \"\"\"\n",
    "    X: matrix of size n*(p+1)\n",
    "    y: vector of size n\n",
    "    w: vector of size p\n",
    "    \"\"\"\n",
    "    # Initialize elementary intermediate variables;\n",
    "    n, p = X.shape\n",
    "    w = w_[1:]\n",
    "    y_x = np.array([y[i] * X[i, :] for i in range(n)])\n",
    "    yx_w = np.array([np.sum(y_x[i, :] * w_) for i in range(n)])\n",
    "    exp_neg_yx_w = np.array([np.exp(-yx_w[i]) for i in range(n)]) + 1\n",
    "\n",
    "    # Compute function value\n",
    "    val = np.mean(np.log(exp_neg_yx_w)) + rho * np.sum(np.fabs(w))\n",
    "    return val\n",
    "\n",
    "\n",
    "def func(w_, X, y, return_grad=True):\n",
    "    \"\"\"\n",
    "    X: matrix of size n*(p+1)\n",
    "    y: vector of size n\n",
    "    w: vector of size p\n",
    "    \"\"\"\n",
    "    # Initialize elementary intermediate variables;\n",
    "    n, p = X.shape\n",
    "    w = w_[1:]\n",
    "    y_x = np.array([y[i] * X[i, :] for i in range(n)])\n",
    "    yx_w = np.array([np.sum(y_x[i, :] * w_) for i in range(n)])\n",
    "    exp_yx_w = np.array([np.exp(yx_w[i]) for i in range(n)]) + 1\n",
    "    exp_neg_yx_w = np.array([np.exp(-yx_w[i]) for i in range(n)]) + 1\n",
    "\n",
    "    # Compute function value\n",
    "    val = np.mean(np.log(exp_neg_yx_w))\n",
    "\n",
    "    if return_grad == False:\n",
    "        return val\n",
    "    else:\n",
    "        # Compute gradient\n",
    "        grad = np.mean(-np.array([y_x[i] / exp_yx_w[i]\n",
    "                                  for i in range(n)]), axis=0)\n",
    "        return val, grad\n",
    "\n",
    "\n",
    "def soft_Threshold(w, rho):\n",
    "    w_ = np.zeros_like(w)\n",
    "    w_[w > rho] = w[w > rho] - rho\n",
    "    w_[w < -rho] = w[w < -rho] + rho\n",
    "    w_[0] = w[0]\n",
    "    return w_\n",
    "\n",
    "\n",
    "def minimize_prox_grad_Taylor(func,\n",
    "                              f,\n",
    "                              w_,\n",
    "                              X,\n",
    "                              y,\n",
    "                              rho,\n",
    "                              a,\n",
    "                              b,\n",
    "                              tol=1e-10,\n",
    "                              max_iter=500):\n",
    "    n, p = X.shape\n",
    "    val = func(w_, X, y, rho)\n",
    "    val_f, grad_f = f(w_, X, y)\n",
    "    gamma = b / 2.\n",
    "    delta_val = tol * 2\n",
    "    cnt = 0\n",
    "    while (delta_val > tol and cnt < max_iter):\n",
    "        gamma = 2 * gamma\n",
    "        w_new = Soft_Threshold(w_ - gamma * grad_f, gamma * rho)\n",
    "        val_f_ = f(w_new, X, y, return_grad=False)\n",
    "        # while (val_f_ > val_f + beta*np.sum(grad_f*(w_new - w_))):\n",
    "        while (val_f_ > val_f + np.sum(grad_f * (w_new - w_)) + np.sum(\n",
    "                (w_new - w_)**2) / gamma):\n",
    "            # print val_\n",
    "            gamma = gamma * a\n",
    "            w_new = soft_Threshold(w_ - gamma * grad_f, gamma * rho)\n",
    "            val_f_ = f(w_new, X, y, return_grad=False)\n",
    "        w_ = w_new\n",
    "        val_f, grad_f = f(w_, X, y)\n",
    "        val_ = func(w_, X, y, rho)\n",
    "        delta_val = val - val_\n",
    "        val = val_\n",
    "        cnt = cnt + 1\n",
    "    return func(w_, X, y, rho), w_, cnt\n",
    "\n",
    "\n",
    "t0 = time()\n",
    "rho = 0.1\n",
    "a = 0.5\n",
    "b = 1\n",
    "val_pgls, w_pgls, cnt_pgls = minimize_prox_grad_Taylor(\n",
    "    objective_proximal,\n",
    "    f,\n",
    "    0.3 * np.ones(p + 1),\n",
    "    X,\n",
    "    y,\n",
    "    rho,\n",
    "    a,\n",
    "    b,\n",
    "    tol=1e-8,\n",
    "    max_iter=500)\n",
    "print \"The value minimal of the objective function is: %0.12f\" % val_pgls\n",
    "t_pgls = time() - t0\n",
    "print \"Done in %0.3fs, number of iterations: %d\" % (t_pgls, cnt_pgls)\n",
    "print w_pgls"
   ]
  },
  {
   "cell_type": "code",
   "execution_count": null,
   "metadata": {
    "collapsed": true
   },
   "outputs": [],
   "source": []
  }
 ],
 "metadata": {
  "kernelspec": {
   "display_name": "Python 3",
   "language": "python",
   "name": "python3"
  },
  "language_info": {
   "codemirror_mode": {
    "name": "ipython",
    "version": 3
   },
   "file_extension": ".py",
   "mimetype": "text/x-python",
   "name": "python",
   "nbconvert_exporter": "python",
   "pygments_lexer": "ipython3",
   "version": "3.6.3"
  },
  "latex_envs": {
   "LaTeX_envs_menu_present": true,
   "autoclose": false,
   "autocomplete": true,
   "bibliofile": "biblio.bib",
   "cite_by": "apalike",
   "current_citInitial": 1,
   "eqLabelWithNumbers": true,
   "eqNumInitial": 1,
   "hotkeys": {
    "equation": "Ctrl-E",
    "itemize": "Ctrl-I"
   },
   "labels_anchors": false,
   "latex_user_defs": false,
   "report_style_numbering": false,
   "user_envs_cfg": false
  },
  "toc": {
   "nav_menu": {},
   "number_sections": false,
   "sideBar": true,
   "skip_h1_title": true,
   "toc_cell": true,
   "toc_position": {},
   "toc_section_display": "block",
   "toc_window_display": false
  },
  "varInspector": {
   "cols": {
    "lenName": 16,
    "lenType": 16,
    "lenVar": 40
   },
   "kernels_config": {
    "python": {
     "delete_cmd_postfix": "",
     "delete_cmd_prefix": "del ",
     "library": "var_list.py",
     "varRefreshCmd": "print(var_dic_list())"
    },
    "r": {
     "delete_cmd_postfix": ") ",
     "delete_cmd_prefix": "rm(",
     "library": "var_list.r",
     "varRefreshCmd": "cat(var_dic_list()) "
    }
   },
   "types_to_exclude": [
    "module",
    "function",
    "builtin_function_or_method",
    "instance",
    "_Feature"
   ],
   "window_display": false
  }
 },
 "nbformat": 4,
 "nbformat_minor": 2
}
