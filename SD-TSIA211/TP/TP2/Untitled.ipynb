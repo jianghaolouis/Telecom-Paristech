{
 "cells": [
  {
   "cell_type": "markdown",
   "metadata": {
    "ExecuteTime": {
     "end_time": "2017-12-18T09:10:06.492804Z",
     "start_time": "2017-12-18T09:10:06.489297Z"
    }
   },
   "source": [
    "# TP 1 Régression logistique <a class=\"tocSkip\">"
   ]
  },
  {
   "cell_type": "markdown",
   "metadata": {
    "ExecuteTime": {
     "end_time": "2017-12-18T09:10:53.440774Z",
     "start_time": "2017-12-18T09:10:53.436763Z"
    }
   },
   "source": [
    "# Régularisation de Tikhonov"
   ]
  },
  {
   "cell_type": "code",
   "execution_count": 1,
   "metadata": {
    "ExecuteTime": {
     "end_time": "2017-12-22T16:49:23.662943Z",
     "start_time": "2017-12-22T16:49:05.719414Z"
    }
   },
   "outputs": [],
   "source": [
    "import numpy as np\n",
    "from scipy.optimize import check_grad\n",
    "from  diabeticRetinopathyUtils import *\n",
    "import seaborn as sns\n",
    "import matplotlib.pyplot as plt\n",
    "from sklearn.metrics import classification_report\n",
    "from numpy import inf\n",
    "from time import time\n",
    "X,Y = load_diabetic_retinopathy(\"diabeticRetinopathy.csv\")"
   ]
  },
  {
   "cell_type": "markdown",
   "metadata": {
    "ExecuteTime": {
     "end_time": "2017-12-18T09:16:47.098082Z",
     "start_time": "2017-12-18T09:16:47.095038Z"
    }
   },
   "source": [
    "## Question 1.1"
   ]
  },
  {
   "cell_type": "markdown",
   "metadata": {
    "ExecuteTime": {
     "end_time": "2017-12-22T10:25:14.747063Z",
     "start_time": "2017-12-22T10:25:14.705950Z"
    }
   },
   "source": [
    "En posant $ \\widetilde{X} = (\\tilde{x_i}, \\tilde{x_2},\\dots, \\tilde{x_{n-1}},\\tilde{x_n} )  \\in \\mathbb R^{(p+1) \\times n }​$ ,où $ \\tilde{x_i} =\\begin{pmatrix} 1 \\\\ x_i \\end{pmatrix}  \\in R^{p+1}​$  ,  $\\tilde{\\omega} = \\begin{pmatrix} \\omega_0 \\\\ \\omega_1 \\end{pmatrix}  \\in \\mathbb R^{p+1}​$ et la matrice diagonale\n",
    "$$\n",
    "A = diag(0,1,1,\\dots, 1) = \n",
    "\\begin{pmatrix} \n",
    "0& 0& 0& \\dots &\\dots &0 \\\\\n",
    "0& 1& 0& \\dots &\\dots &0 \\\\\n",
    "\\vdots &\\vdots& \\vdots&  \\ddots & & \\vdots\\\\\n",
    "\\vdots &\\vdots &\\vdots& &\\ddots & \\vdots \\\\\n",
    "0& 0& 0& \\dots  &\\dots &1 \n",
    "\\end{pmatrix}\n",
    "$$\n",
    "\n",
    "  Alors la fonction peut être ecrits sous format ci-dessous:\n",
    "\n",
    "$$ f_1: (\\tilde{\\omega}) \\mapsto \\frac{1}{n} \\sum_{i=1}^{n} \\log(1+exp(-y_i \\tilde{x}_i^T\\tilde{\\omega})) + \\frac{\\rho}{2}\\tilde{\\omega}^ TA \\tilde{\\omega} $$\n",
    "\n",
    "  Ainsi on obtient le gradient:\n",
    "        $$\n",
    "        \\begin{aligned}\n",
    "        \\nabla{f_1}(\\tilde{\\omega}) &= \\frac{1}{n}\\sum_{i=1}^{n}\\frac{-e^{-y_i\\tilde x_i^T \\tilde \\omega}y_i\\tilde{\\mathbf{x}}_i}{1+e^{-y_i\\tilde x_i^T \\tilde \\omega}} + \\rho A\\tilde{\\mathbf{\\omega}} \\\\\n",
    "        &= \\frac{1}{n}\\sum_{i=1}^{n}\\frac{-y_i\\tilde{\\mathbf{x}}_i}{1+e^{y_i\\tilde x_i^T \\tilde \\omega}} + \n",
    "        \\rho A\\tilde{\\mathbf{\\omega}}\n",
    "        \\end{aligned}\n",
    "        $$\n",
    "    </p>\n",
    "    <p>\n",
    "        et la matrice hessienne:\n",
    "        $$\n",
    "        \\begin{aligned}\n",
    "        \\mathbf{H} = \\nabla^2f_1(\\tilde{\\omega}) &= \\frac{1}{n}\\sum_{i=1}^{n}\\frac{e^{y_i\\tilde x_i^T \\tilde \\omega}(y_i\\tilde{\\mathbf{x}}_i)(y_i\\tilde{\\mathbf{x}}_i)^T}{(1+e^{y_i\\tilde x_i^T \\tilde \\omega})^2} + \\rho A \\\\\n",
    "        & = \\frac{1}{n}\\sum_{i=1}^{n}\\frac{(y_i\\tilde{\\mathbf{x}}_i)(y_i\\tilde{\\mathbf{x}}_i)^T}{(1+e^{y_i\\tilde x_i^T \\tilde \\omega})(1+e^{-y_i\\tilde x_i^T \\tilde \\omega})} + \\rho A\n",
    "        \\end{aligned}\n",
    "        $$\n",
    "Soient $\\omega \\in \\mathbb{R}^{p+1}$, on a:\n",
    "        $$\n",
    "        \\begin{aligned}\n",
    "        \\omega^TH\\omega &= \\frac{1}{n}\\sum_{i=1}^{n}\\frac{\\omega^T (y_i\\tilde{\\mathbf{x}}_i)(y_i\\tilde{\\mathbf{x}}_i)^T \\omega}{(1+e^{y_i\\tilde x_i^T \\tilde \\omega})(1+e^{-y_i\\tilde x_i^T \\tilde \\omega})} + \\rho \\omega^T A \\omega \\\\\n",
    "        &= \\frac{1}{n}\\sum_{i=1}^{n}\\frac{(\\omega^T y_i\\tilde{\\mathbf{x}}_i)(\\omega^T y_i\\tilde{\\mathbf{x}}_i)^T}{(1+e^{y_i\\tilde x_i^T \\tilde \\omega})(1+e^{-y_i\\tilde x_i^T \\tilde \\omega})} + \\rho \\omega^T A^2 \\omega \\\\\n",
    "        &= \\frac{1}{n}\\sum_{i=1}^{n}\\frac{\\|\\omega^T y_i\\tilde{\\mathbf{x}}_i\\|_2^2}{(1+e^{y_i\\tilde x_i^T \\tilde \\omega})(1+e^{-y_i\\tilde x_i^T \\tilde \\omega})} + \\rho \\|A\\omega\\|_2^2 \\geq 0\n",
    "        \\end{aligned}\n",
    "        $$\n",
    "    </p>\n",
    "    <p>Donc, la matrice hessienne est semi-définie positive, la fonction $f_1$ est convexe.</p>"
   ]
  },
  {
   "cell_type": "markdown",
   "metadata": {
    "ExecuteTime": {
     "end_time": "2017-12-19T18:47:54.584490Z",
     "start_time": "2017-12-19T18:47:54.580479Z"
    }
   },
   "source": [
    "## Question 1.2"
   ]
  },
  {
   "cell_type": "code",
   "execution_count": 2,
   "metadata": {
    "ExecuteTime": {
     "end_time": "2017-12-22T16:49:23.750680Z",
     "start_time": "2017-12-22T16:49:23.705020Z"
    }
   },
   "outputs": [],
   "source": [
    "def objective_fun(X, Y, omega_0, omega, rho=1.0/X.shape[0]):\n",
    "    \"\"\"\n",
    "    X： matrix de taille n*p\n",
    "    Y: vecteur de taille n\n",
    "    omega: vecteur de dimension p\n",
    "    omega0 : un nombre réel \n",
    "    \"\"\"\n",
    "    \n",
    "    n,p = X.shape\n",
    "    omega_tilde = np.append(omega_0, omega)\n",
    "    X_tilde = np.c_[np.ones(n), X]\n",
    "    A = np.identity(p+1)\n",
    "    A[0][0] = 0 \n",
    "    \n",
    "    fun_value = 0\n",
    "    grad_value = np.zeros(p+1)\n",
    "    hess_value = np.zeros((p+1,p+1))\n",
    "    \n",
    "    for i in range(n):\n",
    "        item = np.exp(Y[i]*np.dot(X_tilde[i],omega_tilde))\n",
    "        fun_value = fun_value + np.log(1.0 + 1.0/item)\n",
    "        grad_value = grad_value +  (-Y[i] * X_tilde[i])/(1.0+item) \n",
    "        hess_value = hess_value + (Y[i]* Y[i] * np.outer(X_tilde[i],X_tilde[i]))/((1.+item)*(1.+1.0/item))\n",
    "\n",
    "    fun_value = fun_value/n + rho/2.0 * np.linalg.norm(omega_tilde)**2\n",
    "    grad_value = grad_value/n + rho *omega_tilde\n",
    "    hess_value = hess_value/n + rho*A\n",
    "    \n",
    "    return fun_value, grad_value, hess_value\n"
   ]
  },
  {
   "cell_type": "code",
   "execution_count": 3,
   "metadata": {
    "ExecuteTime": {
     "end_time": "2017-12-22T16:49:25.512419Z",
     "start_time": "2017-12-22T16:49:23.797609Z"
    }
   },
   "outputs": [
    {
     "name": "stdout",
     "output_type": "stream",
     "text": [
      "The difference of gradient is: 0.000005581540\n"
     ]
    }
   ],
   "source": [
    "omega = np.arange(19)\n",
    "n,p = X.shape\n",
    "obj = lambda omega: objective_fun(X, Y, omega[0],omega[1:])[0]\n",
    "grad = lambda omega: objective_fun(X, Y, omega[0], omega[1:])[1] \n",
    "\n",
    "print(\"The difference of gradient is: %0.12f\" % check_grad(obj, grad, np.zeros(20)))"
   ]
  },
  {
   "cell_type": "code",
   "execution_count": 4,
   "metadata": {
    "ExecuteTime": {
     "end_time": "2017-12-22T16:49:26.948093Z",
     "start_time": "2017-12-22T16:49:25.564564Z"
    }
   },
   "outputs": [
    {
     "name": "stdout",
     "output_type": "stream",
     "text": [
      "The difference of hessian is: 0.000868842017\n"
     ]
    }
   ],
   "source": [
    "omega = np.arange(19)\n",
    "n,p = X.shape\n",
    "grad_sum = lambda omega: objective_fun(X, Y, omega[0],omega[1:])[1].sum()\n",
    "hess = lambda omega: objective_fun(X, Y, omega[0], omega[1:])[2].sum(axis=1) \n",
    "check_grad(obj, grad, np.zeros(20))\n",
    "print(\"The difference of hessian is: %0.12f\" % check_grad(grad_sum, hess, np.zeros(20)))"
   ]
  },
  {
   "cell_type": "markdown",
   "metadata": {
    "ExecuteTime": {
     "end_time": "2017-12-22T11:15:58.208451Z",
     "start_time": "2017-12-22T11:15:58.202436Z"
    }
   },
   "source": [
    "Alors, le gradient et la matrice hessienne sont bien vérifié"
   ]
  },
  {
   "cell_type": "markdown",
   "metadata": {
    "ExecuteTime": {
     "end_time": "2017-12-20T14:13:31.815786Z",
     "start_time": "2017-12-20T14:13:31.812810Z"
    }
   },
   "source": [
    "## Question 1.3"
   ]
  },
  {
   "cell_type": "code",
   "execution_count": 56,
   "metadata": {
    "ExecuteTime": {
     "end_time": "2017-12-22T17:13:06.536886Z",
     "start_time": "2017-12-22T17:13:06.518827Z"
    }
   },
   "outputs": [],
   "source": [
    "def log(func):\n",
    "    def warpper(*args, **kw):\n",
    "        t0 = time()\n",
    "        fun_val, sln, re_list = func(*args, **kw)\n",
    "        t_nls = time()-t0\n",
    "        indice = np.arange(len(re_list))\n",
    "        plt.semilogy(indice, re_list)\n",
    "        plt.xlabel(\"Nombre d'iteration\")\n",
    "        plt.ylabel(\"Norme de gradien\")\n",
    "        plt.grid(True)\n",
    "        plt.show()\n",
    "        print(\"The value minimal of the objective function is:\",fun_val)\n",
    "        print(\"Done in %0.3fs, number of iterations: %d\" % (t_nls, len(re_list)))\n",
    "        return sln\n",
    "    return warpper"
   ]
  },
  {
   "cell_type": "code",
   "execution_count": 57,
   "metadata": {
    "ExecuteTime": {
     "end_time": "2017-12-22T17:13:06.884587Z",
     "start_time": "2017-12-22T17:13:06.860524Z"
    }
   },
   "outputs": [],
   "source": [
    "@log\n",
    "def method_newtown(omega):\n",
    "    w = omega\n",
    "    [fun_v, grad_v, hess_v] = objective_fun(X,Y, omega[0], omega[1:])\n",
    "    norme_list = list()\n",
    "    nbIt = 0\n",
    "    norm = np.linalg.norm(grad_v)\n",
    "    \n",
    "    while(  norm > 10.0e-10):\n",
    "        w = w -  np.linalg.inv(hess_v).dot(grad_v)\n",
    "        [fun_v, grad_v, hess_v] = objective_fun(X,Y, w[0], w[1:])\n",
    "        norme_list.append(norm)\n",
    "        nbIt = nbIt+1 \n",
    "        norm = np.linalg.norm(grad_v)\n",
    "       \n",
    "    return fun_v,w,norme_list"
   ]
  },
  {
   "cell_type": "code",
   "execution_count": 58,
   "metadata": {
    "ExecuteTime": {
     "end_time": "2017-12-22T17:13:08.467517Z",
     "start_time": "2017-12-22T17:13:07.661149Z"
    }
   },
   "outputs": [
    {
     "data": {
      "image/png": "[encoded data removed]",
      "text/plain": [
       "<matplotlib.figure.Figure at 0x17d877c5da0>"
      ]
     },
     "metadata": {},
     "output_type": "display_data"
    },
    {
     "name": "stdout",
     "output_type": "stream",
     "text": [
      "The value minimal of the objective function is: 0.530215418682\n",
      "Done in 0.298s, number of iterations: 9\n"
     ]
    },
    {
     "data": {
      "text/plain": [
       "array([ 0.66803037,  0.29226923, -0.24527947,  5.60379839,  0.98576632,\n",
       "       -1.82513267, -2.55300745, -1.58325344,  0.43396483,  0.48473152,\n",
       "       -0.40403518,  0.17251063, -0.57439595,  0.43769677, -0.6203335 ,\n",
       "        1.23648747,  0.71401475, -0.00590436, -0.14907897, -0.09515229])"
      ]
     },
     "execution_count": 58,
     "metadata": {},
     "output_type": "execute_result"
    }
   ],
   "source": [
    "method_newtown(np.zeros(p+1))"
   ]
  },
  {
   "cell_type": "markdown",
   "metadata": {
    "ExecuteTime": {
     "end_time": "2017-12-20T15:28:40.172625Z",
     "start_time": "2017-12-20T15:28:40.168611Z"
    }
   },
   "source": [
    "## Question 1.4"
   ]
  },
  {
   "cell_type": "code",
   "execution_count": 10,
   "metadata": {
    "ExecuteTime": {
     "end_time": "2017-12-22T16:49:42.057650Z",
     "start_time": "2017-12-22T16:49:41.374783Z"
    }
   },
   "outputs": [
    {
     "name": "stderr",
     "output_type": "stream",
     "text": [
      "D:\\ProgramData\\Anaconda3\\lib\\site-packages\\ipykernel_launcher.py:21: RuntimeWarning: divide by zero encountered in double_scalars\n",
      "D:\\ProgramData\\Anaconda3\\lib\\site-packages\\ipykernel_launcher.py:23: RuntimeWarning: divide by zero encountered in double_scalars\n",
      "D:\\ProgramData\\Anaconda3\\lib\\site-packages\\ipykernel_launcher.py:20: RuntimeWarning: overflow encountered in exp\n",
      "D:\\ProgramData\\Anaconda3\\lib\\site-packages\\ipykernel_launcher.py:21: RuntimeWarning: overflow encountered in double_scalars\n",
      "D:\\ProgramData\\Anaconda3\\lib\\site-packages\\ipykernel_launcher.py:23: RuntimeWarning: overflow encountered in double_scalars\n"
     ]
    },
    {
     "ename": "LinAlgError",
     "evalue": "Singular matrix",
     "output_type": "error",
     "traceback": [
      "\u001b[1;31m---------------------------------------------------------------------------\u001b[0m",
      "\u001b[1;31mLinAlgError\u001b[0m                               Traceback (most recent call last)",
      "\u001b[1;32m<ipython-input-10-b30ff4521b1a>\u001b[0m in \u001b[0;36m<module>\u001b[1;34m()\u001b[0m\n\u001b[1;32m----> 1\u001b[1;33m \u001b[0mmethod_newtown\u001b[0m\u001b[1;33m(\u001b[0m\u001b[0mnp\u001b[0m\u001b[1;33m.\u001b[0m\u001b[0mones\u001b[0m\u001b[1;33m(\u001b[0m\u001b[0mp\u001b[0m\u001b[1;33m+\u001b[0m\u001b[1;36m1\u001b[0m\u001b[1;33m)\u001b[0m \u001b[1;33m*\u001b[0m\u001b[1;36m0.3\u001b[0m\u001b[1;33m)\u001b[0m\u001b[1;33m\u001b[0m\u001b[0m\n\u001b[0m",
      "\u001b[1;32m<ipython-input-7-1956490cf474>\u001b[0m in \u001b[0;36mwarpper\u001b[1;34m(*args, **kw)\u001b[0m\n\u001b[0;32m      2\u001b[0m     \u001b[1;32mdef\u001b[0m \u001b[0mwarpper\u001b[0m\u001b[1;33m(\u001b[0m\u001b[1;33m*\u001b[0m\u001b[0margs\u001b[0m\u001b[1;33m,\u001b[0m \u001b[1;33m**\u001b[0m\u001b[0mkw\u001b[0m\u001b[1;33m)\u001b[0m\u001b[1;33m:\u001b[0m\u001b[1;33m\u001b[0m\u001b[0m\n\u001b[0;32m      3\u001b[0m         \u001b[0mt0\u001b[0m \u001b[1;33m=\u001b[0m \u001b[0mtime\u001b[0m\u001b[1;33m(\u001b[0m\u001b[1;33m)\u001b[0m\u001b[1;33m\u001b[0m\u001b[0m\n\u001b[1;32m----> 4\u001b[1;33m         \u001b[0mfun_val\u001b[0m\u001b[1;33m,\u001b[0m \u001b[0msln\u001b[0m\u001b[1;33m,\u001b[0m \u001b[0mre_list\u001b[0m \u001b[1;33m=\u001b[0m \u001b[0mfunc\u001b[0m\u001b[1;33m(\u001b[0m\u001b[1;33m*\u001b[0m\u001b[0margs\u001b[0m\u001b[1;33m,\u001b[0m \u001b[1;33m**\u001b[0m\u001b[0mkw\u001b[0m\u001b[1;33m)\u001b[0m\u001b[1;33m\u001b[0m\u001b[0m\n\u001b[0m\u001b[0;32m      5\u001b[0m         \u001b[0mt_nls\u001b[0m \u001b[1;33m=\u001b[0m \u001b[0mtime\u001b[0m\u001b[1;33m(\u001b[0m\u001b[1;33m)\u001b[0m\u001b[1;33m-\u001b[0m\u001b[0mt0\u001b[0m\u001b[1;33m\u001b[0m\u001b[0m\n\u001b[0;32m      6\u001b[0m         \u001b[0mindice\u001b[0m \u001b[1;33m=\u001b[0m \u001b[0mnp\u001b[0m\u001b[1;33m.\u001b[0m\u001b[0marange\u001b[0m\u001b[1;33m(\u001b[0m\u001b[0mlen\u001b[0m\u001b[1;33m(\u001b[0m\u001b[0mre_list\u001b[0m\u001b[1;33m)\u001b[0m\u001b[1;33m)\u001b[0m\u001b[1;33m\u001b[0m\u001b[0m\n",
      "\u001b[1;32m<ipython-input-8-59ae29d146d4>\u001b[0m in \u001b[0;36mmethod_newtown\u001b[1;34m(omega)\u001b[0m\n\u001b[0;32m      8\u001b[0m \u001b[1;33m\u001b[0m\u001b[0m\n\u001b[0;32m      9\u001b[0m     \u001b[1;32mwhile\u001b[0m\u001b[1;33m(\u001b[0m  \u001b[0mnorm\u001b[0m \u001b[1;33m>\u001b[0m \u001b[1;36m10.0e-10\u001b[0m\u001b[1;33m)\u001b[0m\u001b[1;33m:\u001b[0m\u001b[1;33m\u001b[0m\u001b[0m\n\u001b[1;32m---> 10\u001b[1;33m         \u001b[0mw\u001b[0m \u001b[1;33m=\u001b[0m \u001b[0mw\u001b[0m \u001b[1;33m-\u001b[0m  \u001b[0mnp\u001b[0m\u001b[1;33m.\u001b[0m\u001b[0mlinalg\u001b[0m\u001b[1;33m.\u001b[0m\u001b[0minv\u001b[0m\u001b[1;33m(\u001b[0m\u001b[0mhess_v\u001b[0m\u001b[1;33m)\u001b[0m\u001b[1;33m.\u001b[0m\u001b[0mdot\u001b[0m\u001b[1;33m(\u001b[0m\u001b[0mgrad_v\u001b[0m\u001b[1;33m)\u001b[0m\u001b[1;33m\u001b[0m\u001b[0m\n\u001b[0m\u001b[0;32m     11\u001b[0m         \u001b[1;33m[\u001b[0m\u001b[0mfun_v\u001b[0m\u001b[1;33m,\u001b[0m \u001b[0mgrad_v\u001b[0m\u001b[1;33m,\u001b[0m \u001b[0mhess_v\u001b[0m\u001b[1;33m]\u001b[0m \u001b[1;33m=\u001b[0m \u001b[0mobjective_fun\u001b[0m\u001b[1;33m(\u001b[0m\u001b[0mX\u001b[0m\u001b[1;33m,\u001b[0m\u001b[0mY\u001b[0m\u001b[1;33m,\u001b[0m \u001b[0mw\u001b[0m\u001b[1;33m[\u001b[0m\u001b[1;36m0\u001b[0m\u001b[1;33m]\u001b[0m\u001b[1;33m,\u001b[0m \u001b[0mw\u001b[0m\u001b[1;33m[\u001b[0m\u001b[1;36m1\u001b[0m\u001b[1;33m:\u001b[0m\u001b[1;33m]\u001b[0m\u001b[1;33m)\u001b[0m\u001b[1;33m\u001b[0m\u001b[0m\n\u001b[0;32m     12\u001b[0m         \u001b[0mnorme_list\u001b[0m\u001b[1;33m.\u001b[0m\u001b[0mappend\u001b[0m\u001b[1;33m(\u001b[0m\u001b[0mnorm\u001b[0m\u001b[1;33m)\u001b[0m\u001b[1;33m\u001b[0m\u001b[0m\n",
      "\u001b[1;32mD:\\ProgramData\\Anaconda3\\lib\\site-packages\\numpy\\linalg\\linalg.py\u001b[0m in \u001b[0;36minv\u001b[1;34m(a)\u001b[0m\n\u001b[0;32m    511\u001b[0m     \u001b[0msignature\u001b[0m \u001b[1;33m=\u001b[0m \u001b[1;34m'D->D'\u001b[0m \u001b[1;32mif\u001b[0m \u001b[0misComplexType\u001b[0m\u001b[1;33m(\u001b[0m\u001b[0mt\u001b[0m\u001b[1;33m)\u001b[0m \u001b[1;32melse\u001b[0m \u001b[1;34m'd->d'\u001b[0m\u001b[1;33m\u001b[0m\u001b[0m\n\u001b[0;32m    512\u001b[0m     \u001b[0mextobj\u001b[0m \u001b[1;33m=\u001b[0m \u001b[0mget_linalg_error_extobj\u001b[0m\u001b[1;33m(\u001b[0m\u001b[0m_raise_linalgerror_singular\u001b[0m\u001b[1;33m)\u001b[0m\u001b[1;33m\u001b[0m\u001b[0m\n\u001b[1;32m--> 513\u001b[1;33m     \u001b[0mainv\u001b[0m \u001b[1;33m=\u001b[0m \u001b[0m_umath_linalg\u001b[0m\u001b[1;33m.\u001b[0m\u001b[0minv\u001b[0m\u001b[1;33m(\u001b[0m\u001b[0ma\u001b[0m\u001b[1;33m,\u001b[0m \u001b[0msignature\u001b[0m\u001b[1;33m=\u001b[0m\u001b[0msignature\u001b[0m\u001b[1;33m,\u001b[0m \u001b[0mextobj\u001b[0m\u001b[1;33m=\u001b[0m\u001b[0mextobj\u001b[0m\u001b[1;33m)\u001b[0m\u001b[1;33m\u001b[0m\u001b[0m\n\u001b[0m\u001b[0;32m    514\u001b[0m     \u001b[1;32mreturn\u001b[0m \u001b[0mwrap\u001b[0m\u001b[1;33m(\u001b[0m\u001b[0mainv\u001b[0m\u001b[1;33m.\u001b[0m\u001b[0mastype\u001b[0m\u001b[1;33m(\u001b[0m\u001b[0mresult_t\u001b[0m\u001b[1;33m,\u001b[0m \u001b[0mcopy\u001b[0m\u001b[1;33m=\u001b[0m\u001b[1;32mFalse\u001b[0m\u001b[1;33m)\u001b[0m\u001b[1;33m)\u001b[0m\u001b[1;33m\u001b[0m\u001b[0m\n\u001b[0;32m    515\u001b[0m \u001b[1;33m\u001b[0m\u001b[0m\n",
      "\u001b[1;32mD:\\ProgramData\\Anaconda3\\lib\\site-packages\\numpy\\linalg\\linalg.py\u001b[0m in \u001b[0;36m_raise_linalgerror_singular\u001b[1;34m(err, flag)\u001b[0m\n\u001b[0;32m     88\u001b[0m \u001b[1;33m\u001b[0m\u001b[0m\n\u001b[0;32m     89\u001b[0m \u001b[1;32mdef\u001b[0m \u001b[0m_raise_linalgerror_singular\u001b[0m\u001b[1;33m(\u001b[0m\u001b[0merr\u001b[0m\u001b[1;33m,\u001b[0m \u001b[0mflag\u001b[0m\u001b[1;33m)\u001b[0m\u001b[1;33m:\u001b[0m\u001b[1;33m\u001b[0m\u001b[0m\n\u001b[1;32m---> 90\u001b[1;33m     \u001b[1;32mraise\u001b[0m \u001b[0mLinAlgError\u001b[0m\u001b[1;33m(\u001b[0m\u001b[1;34m\"Singular matrix\"\u001b[0m\u001b[1;33m)\u001b[0m\u001b[1;33m\u001b[0m\u001b[0m\n\u001b[0m\u001b[0;32m     91\u001b[0m \u001b[1;33m\u001b[0m\u001b[0m\n\u001b[0;32m     92\u001b[0m \u001b[1;32mdef\u001b[0m \u001b[0m_raise_linalgerror_nonposdef\u001b[0m\u001b[1;33m(\u001b[0m\u001b[0merr\u001b[0m\u001b[1;33m,\u001b[0m \u001b[0mflag\u001b[0m\u001b[1;33m)\u001b[0m\u001b[1;33m:\u001b[0m\u001b[1;33m\u001b[0m\u001b[0m\n",
      "\u001b[1;31mLinAlgError\u001b[0m: Singular matrix"
     ]
    }
   ],
   "source": [
    "method_newtown(np.ones(p+1) *0.3)"
   ]
  },
  {
   "cell_type": "markdown",
   "metadata": {},
   "source": [
    "On a vue que dans cette condition initiale, le matrix de hessian est singulier, c'est à dire son inverse n'existe pas. Donc on ne peut pas utilise cette méthode de trouver une solutions juste."
   ]
  },
  {
   "cell_type": "markdown",
   "metadata": {
    "ExecuteTime": {
     "end_time": "2017-12-20T15:46:56.651219Z",
     "start_time": "2017-12-20T15:46:56.647679Z"
    }
   },
   "source": [
    "## Question 1.5"
   ]
  },
  {
   "cell_type": "markdown",
   "metadata": {
    "ExecuteTime": {
     "end_time": "2017-12-22T11:18:03.391313Z",
     "start_time": "2017-12-22T11:18:03.371258Z"
    }
   },
   "source": [
    "Notons $h_k = -H^{-1}(x_k) \\nabla f(x_k)$, \n",
    "Notons $\\omega^+(\\gamma_k)=\\omega^k - \\gamma_k(\\nabla^2 f_1(\\omega^k))^{-1}\\nabla f_1(\\omega^k)$, soient $a \\in (0,1)$, $b>0$ et $\\beta \\in (0,1)$, on cherche le premier entier $l$ non-négatif tel que:</p>\n",
    "    $$f_1(\\omega^+(ba^l)) \\leq f_1(\\omega^k) + \\beta\\langle\\nabla_{f_1}(\\omega^k),\\,\\omega^+(ba^l)-\\omega^k\\rangle$$\n",
    "\n",
    "Ici, on prend $\\beta = 0.5$, ainsi que la recherche linéaire d'Armijo devient équicalente à la recherche linéaire de Taylor.</p>\n",
    "On fixe $b_0 = 1$ et $b_k = 2\\gamma_{k-1}$, c'est un choix classique.</p>\n",
    "On fixe $a = 0.5$, c'est pour faire un compromis entre la précision de recherche et la vitesse de convergence.</p>"
   ]
  },
  {
   "cell_type": "code",
   "execution_count": 59,
   "metadata": {
    "ExecuteTime": {
     "end_time": "2017-12-22T17:13:15.261377Z",
     "start_time": "2017-12-22T17:13:15.219233Z"
    }
   },
   "outputs": [],
   "source": [
    "@log\n",
    "def method_newtown_armijo(omega,epsilon,a,b,beta):\n",
    "    w = omega\n",
    "    [fun_v, grad_v, hess_v] = objective_fun(X,Y, w[0], w[1:])\n",
    "    norm_list = list()\n",
    "    nbIt = 0\n",
    "    norm = np.linalg.norm(grad_v)\n",
    "    gamma = beta\n",
    "\n",
    "    while(  norm > epsilon ):\n",
    "        h_k = np.linalg.inv(hess_v).dot(-grad_v)\n",
    "        gamma = gamma*2.0\n",
    "        w_plus = w + gamma * h_k\n",
    "        val_plus, grad_plus, hess_plus = objective_fun(X,Y, w_plus[0], w_plus[1:])\n",
    "        while( val_plus > fun_v + beta*gamma * h_k.dot(grad_v)):\n",
    "            gamma = gamma * a\n",
    "            w_plus = w + gamma * h_k\n",
    "            val_plus, grad_plus, hess_plus = objective_fun(X,Y, w_plus[0], w_plus[1:])\n",
    "            \n",
    "        \n",
    "        w = w_plus\n",
    "        [fun_v, grad_v, hess_v] = objective_fun(X,Y, w[0], w[1:])\n",
    "        norm_list.append(norm)\n",
    "        nbIt = nbIt+1 \n",
    "        norm = np.linalg.norm(grad_v)\n",
    "       \n",
    "    return fun_v,w,norm_list"
   ]
  },
  {
   "cell_type": "code",
   "execution_count": 60,
   "metadata": {
    "ExecuteTime": {
     "end_time": "2017-12-22T17:13:17.384704Z",
     "start_time": "2017-12-22T17:13:15.639863Z"
    }
   },
   "outputs": [
    {
     "data": {
      "image/png": "[encoded data removed]",
      "text/plain": [
       "<matplotlib.figure.Figure at 0x17d881d3358>"
      ]
     },
     "metadata": {},
     "output_type": "display_data"
    },
    {
     "name": "stdout",
     "output_type": "stream",
     "text": [
      "The value minimal of the objective function is: 0.530215418682\n",
      "Done in 1.185s, number of iterations: 14\n"
     ]
    }
   ],
   "source": [
    "w = np.ones(p+1)*0.3\n",
    "w_tik = method_newtown_armijo(w,10e-10,0.5,1.0,0.5)"
   ]
  },
  {
   "cell_type": "markdown",
   "metadata": {
    "ExecuteTime": {
     "end_time": "2017-12-20T20:42:03.711943Z",
     "start_time": "2017-12-20T20:42:03.708935Z"
    }
   },
   "source": [
    "# Régularisation pour la parcimonie"
   ]
  },
  {
   "cell_type": "markdown",
   "metadata": {
    "ExecuteTime": {
     "end_time": "2017-12-21T20:16:03.674815Z",
     "start_time": "2017-12-21T20:16:03.662773Z"
    }
   },
   "source": [
    "## Question 2.1\n",
    "Pourquoi ne peut-on pas utiliser la méthode de Newton pour résoudre ce problème?"
   ]
  },
  {
   "cell_type": "markdown",
   "metadata": {},
   "source": [
    "Comme la fonction\n",
    "$$ \\underset{\\omega \\in \\mathbb R, \\omega_0 \\in \\mathbb R^p}{\\operatorname{min}} \\frac{1}{n}\n",
    "\\sum_{i=1}^n \\log\\left(1+e^{-y_i(x_i^T\\omega + \\omega_0)}\\right) + \\rho ||\\omega||_1$$\n",
    "Il est évident que la terme $\\rho||\\omega||_1 $ n'est pas différentiable en point $\\omega = 0$. Donc cette fonction objective n'est pas différentiable. Par conséquent, on ne peut pas utilser la méthode de Newton pour résoudre ce problème."
   ]
  },
  {
   "cell_type": "markdown",
   "metadata": {
    "ExecuteTime": {
     "end_time": "2017-12-21T20:44:11.862152Z",
     "start_time": "2017-12-21T20:44:11.858100Z"
    }
   },
   "source": [
    "## Question 2.2"
   ]
  },
  {
   "cell_type": "markdown",
   "metadata": {},
   "source": [
    "La fonction objective peut être écrit sous la forme ci-dessous:\n",
    "$$\\begin{aligned} \n",
    "F_2(\\omega, \\omega_0)  &= \\frac{1}{n}\n",
    "\\sum_{i=1}^n \\log\\left(1+e^{-y_i(x_i^T\\omega + \\omega_0)}\\right) + \\rho ||\\omega||_1 \\\\\n",
    "&= f_2 + g_2 \\\\\n",
    "\\end{aligned}$$ \n",
    "où\n",
    "$$\\begin{aligned}\n",
    "f_2(\\omega, \\omega_0)  &= \\frac{1}{n}\n",
    "\\sum_{i=1}^n \\log\\left(1+e^{-y_i(x_i^T\\omega + \\omega_0)}\\right), \\\\\n",
    "g_2(\\omega) &=  \\rho ||\\omega||_1\n",
    "\\end{aligned}$$\n",
    "D'après le resultat du question précédent et ce que l'on voit sur le cours, on peut facilement déduire que $f_2$ est dérivable et l'opérateur proximal de $g_2$ est facile à calcule. "
   ]
  },
  {
   "cell_type": "markdown",
   "metadata": {},
   "source": [
    "On a l'opérateur de proximal de $g_2$:\n",
    "$$\\begin{aligned}\n",
    "prox_{\\gamma g}(x) &= \\underset{y \\in \\mathbb R^p}{\\operatorname{argmin}} g(y) + \\frac{1}{2\\gamma} || y - x||_2^2 \\\\\n",
    "& =\\underset{y \\in \\mathbb R^p}{\\operatorname{argmin}} \\rho||y||_1 + \\frac{1}{2\\gamma} || y - x||_2^2 \\\\\n",
    "& = \\underset{y \\in \\mathbb R^p}{\\operatorname{argmin}} \\rho\\sum_{i=1}^{p}|y_i| + \\frac{1}{2\\gamma} \\sum_{i=1}^p (y_i - x_i)^2 \\\\\n",
    "& = \\underset{y \\in \\mathbb R^p}{\\operatorname{argmin}} \\sum_{i=1}^{p} \\left(\\rho|y_i| + \\frac{1}{2\\gamma} (y_i - x_i)^2 \\right) \\\\\n",
    "&= y^* \\\\\n",
    "&= \\begin{pmatrix} y^*_1 \\\\ y^*_2 \\\\ y^*_3 \\\\ \\vdots \\\\ y^*_p \\end{pmatrix}\n",
    "\\end{aligned}$$\n",
    "où\n",
    "$$ y^*_i = \\underset{y_i \\in \\mathbb R}{\\operatorname{argmin}} \\rho|y_i| + \\frac{1}{2\\gamma} (y_i - x_i)^2 , i \\in [\\![1;p]\\!], \\gamma >0$$\n",
    "En posant \n",
    "$$t(y_i)= \\rho|y_i| + \\frac{1}{2\\gamma} (y_i - x)^2)$$\n",
    "Alors \n",
    "\n",
    "$$ \\frac{dt}{dy_i} = +\\rho\\frac{|y_i|}{y_i} + \\frac{1}{\\gamma}(y_i-x)$$\n",
    "En posant $\\frac{dt}{dy_i} = 0$, on peut facile d'obtenir le $y^*_i$\n",
    "$$ y_i^* = \\left\\{\n",
    "\\begin{align}\n",
    "\\,x_i-\\gamma\\rho  &,\\, si \\,& x_i > \\gamma\\rho \\\\\n",
    "\\,x_i+\\gamma\\rho\\,  &,\\, si \\, &x_i < -\\gamma\\rho \\\\\n",
    "\\,0 &,\\, sinon \\\\\n",
    "\\end{align} \\right.$$\n",
    "\n"
   ]
  },
  {
   "cell_type": "markdown",
   "metadata": {},
   "source": [
    "Pour le gradient de $f_2$, on a \n",
    "$$\n",
    "        \\begin{aligned}\n",
    "        \\nabla{f_2}(\\omega_0, \\omega) &= \\frac{1}{n}\\sum_{i=1}^{n}\\frac{-e^{-y_i\\tilde x_i^T \\tilde \\omega}y_i\\tilde{\\mathbf{x}}_i}{1+e^{-y_i\\tilde x_i^T \\tilde \\omega}} \\\\\n",
    "        &= \\frac{1}{n}\\sum_{i=1}^{n}\\frac{-y_i\\tilde{\\mathbf{x}}_i}{1+e^{y_i\\tilde x_i^T \\tilde \\omega}}\n",
    "        \\end{aligned}\n",
    "$$\n",
    "Pour lla matrix hessian, on a\n",
    " $$\n",
    "        \\begin{aligned}\n",
    "        \\mathbf{H_2} = \\nabla^2f_2(\\omega_0, \\omega) &= \\frac{1}{n}\\sum_{i=1}^{n}\\frac{e^{y_i\\tilde x_i^T \\tilde \\omega}(y_i\\tilde{\\mathbf{x}}_i)(y_i\\tilde{\\mathbf{x}}_i)^T}{(1+e^{y_i\\tilde x_i^T \\tilde \\omega})^2} \\\\\n",
    "        & = \\frac{1}{n}\\sum_{i=1}^{n}\\frac{(y_i\\tilde{\\mathbf{x}}_i)(y_i\\tilde{\\mathbf{x}}_i)^T}{(1+e^{y_i\\tilde x_i^T \\tilde \\omega})(1+e^{-y_i\\tilde x_i^T \\tilde \\omega})}\n",
    "        \\end{aligned}\n",
    "$$\n",
    "\n",
    "Soient $\\omega \\in \\mathbb{R}^{p+1}$, on a:\n",
    "$$\n",
    "\\begin{aligned}\n",
    "\\omega^TH_2\\omega &= \\frac{1}{n}\\sum_{i=1}^{n}\\frac{\\omega^T (y_i\\tilde{\\mathbf{x}}_i)(y_i\\tilde{\\mathbf{x}}_i)^T \\omega}{(1+e^{y_i\\tilde x_i^T \\tilde \\omega})(1+e^{-y_i\\tilde x_i^T \\tilde \\omega})} \\\\\n",
    "&= \\frac{1}{n}\\sum_{i=1}^{n}\\frac{(\\omega^T y_i\\tilde{\\mathbf{x}}_i)(\\omega^T y_i\\tilde{\\mathbf{x}}_i)^T}{(1+e^{y_i\\tilde x_i^T \\tilde \\omega})(1+e^{-y_i\\tilde x_i^T \\tilde \\omega})} \\\\\n",
    " &= \\frac{1}{n}\\sum_{i=1}^{n}\\frac{\\|\\omega^T y_i\\tilde{\\mathbf{x}}_i\\|_2^2}{(1+e^{y_i\\tilde x_i^T \\tilde \\omega})(1+e^{-y_i\\tilde x_i^T \\tilde \\omega})} \\geq 0\n",
    "\\end{aligned}\n",
    "$$\n",
    "\n",
    "Donc, la matrice hessienne de $f_2$ est semi-définie positive, la fonction $f_2$ est convexe.\n",
    "  $$\n",
    "        \\begin{aligned}\n",
    "        g_2(\\omega_0, \\omega) &= \\rho\\|\\omega\\|_1 \\\\\n",
    "        &= \\rho \\sum_{i=1}^{n}|\\omega_i|\n",
    "        \\end{aligned}\n",
    "    $$\n",
    "    </p>\n",
    "    <p>La fonction de valeur absolue est convexe pour chaque élément de $\\omega$, pour $\\rho \\geq 0$, $g_2$ est aussi convexe.</p>\n",
    "    <p>Donc $F_2 = f_2 + g_2$ est convexe pour $\\rho \\geq 0$.</p>\n"
   ]
  },
  {
   "cell_type": "markdown",
   "metadata": {
    "ExecuteTime": {
     "end_time": "2017-12-22T09:36:14.524535Z",
     "start_time": "2017-12-22T09:36:14.519523Z"
    }
   },
   "source": [
    "## Question 2.3"
   ]
  },
  {
   "cell_type": "code",
   "execution_count": 61,
   "metadata": {
    "ExecuteTime": {
     "end_time": "2017-12-22T17:13:32.073353Z",
     "start_time": "2017-12-22T17:13:31.913987Z"
    }
   },
   "outputs": [],
   "source": [
    "def prox_g(x, rho, gamma):\n",
    "    if(rho<0 or gamma <0):\n",
    "        raise ValueError(\"Value rho or gamma have to be positive: rho=%2.2f, gamma=%2.2f\"% (rho, gamma))\n",
    "    def prox_real(x):\n",
    "        if(x> rho*gamma):\n",
    "            return x-rho*gamma\n",
    "        elif(x <-rho*gamma):\n",
    "            return x+rho*gamma\n",
    "        else:\n",
    "            return 0.0\n",
    "    return np.array([*map(prox_real, x)])\n",
    "\n",
    "def reg_obj_fun(X, Y, omega_0, omega, rho):\n",
    "    \"\"\"\n",
    "    X： matrix de taille n*p\n",
    "    Y: vecteur de taille n\n",
    "    omega: vecteur de dimension p\n",
    "    omega0 : un nombre réel \n",
    "    \"\"\"\n",
    "    n,p = X.shape\n",
    "    omega_tilde = np.append(omega_0, omega)\n",
    "    X_tilde = np.c_[np.ones(n), X]\n",
    "    \n",
    "    fun_value = 0.0\n",
    "    \n",
    "    for i in range(n):\n",
    "        item = np.exp(-Y[i]*np.dot(X_tilde[i],omega_tilde))\n",
    "        fun_value = fun_value + np.log(1.0 + item)\n",
    "       \n",
    "    fun_value = fun_value/n + rho * np.absolute(omega_tilde).sum()\n",
    "    \n",
    "    return fun_value\n",
    "\n",
    "\n",
    "\n",
    "def f(X, Y, omega_0, omega, rho, value_only = False):\n",
    "    \"\"\"\n",
    "    X： matrix de taille n*p\n",
    "    Y: vecteur de taille n\n",
    "    omega: vecteur de dimension p\n",
    "    omega0 : un nombre réel \n",
    "    \"\"\"\n",
    "    \n",
    "    n,p = X.shape\n",
    "    omega_tilde = np.append(omega_0, omega)\n",
    "    X_tilde = np.c_[np.ones(n), X]\n",
    "\n",
    "    fun_value = 0\n",
    "    grad_value = np.zeros(p+1)\n",
    "    hess_value = np.zeros((p+1,p+1))\n",
    "    \n",
    "    for i in range(n):\n",
    "        item = np.exp(Y[i]*np.dot(X_tilde[i],omega_tilde))\n",
    "        fun_value = fun_value + np.log(1.0 + 1.0/item)\n",
    "        if(not value_only):\n",
    "            grad_value = grad_value +  (-Y[i] * X_tilde[i])/(1.0+item) \n",
    "            hess_value = hess_value + (Y[i]* Y[i] * np.outer(X_tilde[i],X_tilde[i]))/((1.+item)*(1.+1.0/item))\n",
    "\n",
    "    fun_value = fun_value/n\n",
    "    if(not value_only):\n",
    "        grad_value = grad_value/n\n",
    "        hess_value = hess_value/n\n",
    "    \n",
    "    if(not value_only):\n",
    "        return fun_value, grad_value, hess_value\n",
    "    else:\n",
    "        return fun_value"
   ]
  },
  {
   "cell_type": "code",
   "execution_count": 68,
   "metadata": {
    "ExecuteTime": {
     "end_time": "2017-12-22T17:15:29.259773Z",
     "start_time": "2017-12-22T17:15:29.212449Z"
    }
   },
   "outputs": [],
   "source": [
    "@log\n",
    "def method_proximal(omega,epsilon,a,b, rho):\n",
    "    w = omega\n",
    "    f_v, f_grad, f_hess = f(X,Y, omega[0], omega[1:], rho)\n",
    "\n",
    "    nbIt = 0\n",
    "    old_val = inf\n",
    "    changement = np.fabs(f_v - old_val)\n",
    "    deltaList = list()\n",
    "    \n",
    "    while(changement > epsilon):\n",
    "        gamma = b # initialiser la valeur de gamma\n",
    "        w_plus = prox_g(w - gamma * f_grad, rho, gamma)\n",
    "        val_plus = f(X,Y, w_plus[0], w_plus[1:],rho, value_only=True)\n",
    "\n",
    "        while( val_plus > f_v + f_grad.dot(w_plus-w)  +  1.0/gamma * np.linalg.norm(w_plus-w)**2):\n",
    "            gamma = gamma * a\n",
    "            w_plus = prox_g(w - gamma * f_grad, rho, gamma)\n",
    "            val_plus = f(X,Y,w_plus[0], w_plus[1:], rho, value_only = True )\n",
    "            \n",
    "        w = w_plus\n",
    "        old_val = f_v\n",
    "        f_v, f_grad, f_hess = f(X,Y, w[0], w[1:],rho)\n",
    "        nbIt = nbIt+1\n",
    "        changement =np.fabs(f_v - old_val)\n",
    "        deltaList.append(changement)\n",
    "        \n",
    "    return reg_obj_fun(X, Y, w[0], w[1:], rho),w, deltaList"
   ]
  },
  {
   "cell_type": "code",
   "execution_count": 71,
   "metadata": {
    "ExecuteTime": {
     "end_time": "2017-12-22T17:16:24.343798Z",
     "start_time": "2017-12-22T17:16:23.009394Z"
    }
   },
   "outputs": [
    {
     "data": {
      "image/png": "[encoded data removed]",
      "text/plain": [
       "<matplotlib.figure.Figure at 0x17d8815b470>"
      ]
     },
     "metadata": {},
     "output_type": "display_data"
    },
    {
     "name": "stdout",
     "output_type": "stream",
     "text": [
      "The value minimal of the objective function is: 0.688891074101\n",
      "Done in 1.086s, number of iterations: 29\n"
     ]
    }
   ],
   "source": [
    "w = np.ones(p+1) * 0.3\n",
    "w_prox = method_proximal(w,10e-10,0.5,2, 0.1)"
   ]
  },
  {
   "cell_type": "markdown",
   "metadata": {
    "ExecuteTime": {
     "end_time": "2017-12-22T17:14:28.907868Z",
     "start_time": "2017-12-22T17:14:28.903855Z"
    }
   },
   "source": [
    "# Comparaison"
   ]
  },
  {
   "cell_type": "markdown",
   "metadata": {
    "ExecuteTime": {
     "end_time": "2017-12-22T17:14:43.106031Z",
     "start_time": "2017-12-22T17:14:43.103022Z"
    }
   },
   "source": [
    "## Question 3.1"
   ]
  },
  {
   "cell_type": "code",
   "execution_count": null,
   "metadata": {},
   "outputs": [],
   "source": []
  },
  {
   "cell_type": "markdown",
   "metadata": {
    "ExecuteTime": {
     "end_time": "2017-12-22T17:15:04.505665Z",
     "start_time": "2017-12-22T17:15:04.502153Z"
    }
   },
   "source": [
    "## Question 3.2"
   ]
  },
  {
   "cell_type": "code",
   "execution_count": 72,
   "metadata": {
    "ExecuteTime": {
     "end_time": "2017-12-22T17:16:27.139235Z",
     "start_time": "2017-12-22T17:16:27.117176Z"
    }
   },
   "outputs": [
    {
     "name": "stdout",
     "output_type": "stream",
     "text": [
      "The chance level is: 0.530843\n",
      "The score by Newton method with line search is: 0.741095\n",
      "The score by proximal gradient method with line search is: 0.592528\n",
      "Classification report for Newton method\n",
      "             precision    recall  f1-score   support\n",
      "\n",
      "       -1.0       0.69      0.82      0.75       540\n",
      "        1.0       0.81      0.67      0.73       611\n",
      "\n",
      "avg / total       0.75      0.74      0.74      1151\n",
      "\n",
      "Classification report for proximal gradient method\n",
      "             precision    recall  f1-score   support\n",
      "\n",
      "       -1.0       0.56      0.63      0.59       540\n",
      "        1.0       0.63      0.56      0.59       611\n",
      "\n",
      "avg / total       0.60      0.59      0.59      1151\n",
      "\n"
     ]
    }
   ],
   "source": [
    "y_pred_nls = np.sign(np.c_[np.ones(n), X].dot(w_tik))\n",
    "y_pred_pgls = np.sign(np.c_[np.ones(n), X].dot(w_prox))\n",
    "print(\"The chance level is: %f\" % max(np.mean(Y == 1), 1-np.mean(Y == 1)))\n",
    "print(\"The score by Newton method with line search is: %f\" % np.mean(Y == y_pred_nls))\n",
    "print(\"The score by proximal gradient method with line search is: %f\" % np.mean(Y == y_pred_pgls))\n",
    "\n",
    "#print('-'*60)\n",
    "print(\"Classification report for Newton method\")\n",
    "print(classification_report(Y, y_pred_nls))\n",
    "#print('-'*60)\n",
    "print(\"Classification report for proximal gradient method\")\n",
    "print(classification_report(Y, y_pred_pgls))"
   ]
  },
  {
   "cell_type": "code",
   "execution_count": null,
   "metadata": {},
   "outputs": [],
   "source": []
  },
  {
   "cell_type": "code",
   "execution_count": null,
   "metadata": {},
   "outputs": [],
   "source": []
  },
  {
   "cell_type": "code",
   "execution_count": null,
   "metadata": {},
   "outputs": [],
   "source": []
  },
  {
   "cell_type": "code",
   "execution_count": null,
   "metadata": {},
   "outputs": [],
   "source": []
  }
 ],
 "metadata": {
  "author": "TP 1 Régression logistique",
  "kernelspec": {
   "display_name": "Python 3",
   "language": "python",
   "name": "python3"
  },
  "language_info": {
   "codemirror_mode": {
    "name": "ipython",
    "version": 3
   },
   "file_extension": ".py",
   "mimetype": "text/x-python",
   "name": "python",
   "nbconvert_exporter": "python",
   "pygments_lexer": "ipython3",
   "version": "3.6.3"
  },
  "latex_envs": {
   "LaTeX_envs_menu_present": true,
   "autocomplete": true,
   "bibliofile": "biblio.bib",
   "cite_by": "apalike",
   "current_citInitial": 1,
   "eqLabelWithNumbers": true,
   "eqNumInitial": 1,
   "hotkeys": {
    "equation": "Ctrl-E",
    "itemize": "Ctrl-I"
   },
   "labels_anchors": false,
   "latex_user_defs": false,
   "report_style_numbering": false,
   "user_envs_cfg": false
  },
  "notify_time": "5",
  "toc": {
   "nav_menu": {},
   "number_sections": true,
   "sideBar": true,
   "skip_h1_title": false,
   "toc_cell": false,
   "toc_position": {
    "height": "891px",
    "left": "0px",
    "right": "852.448px",
    "top": "186.003px",
    "width": "212px"
   },
   "toc_section_display": "block",
   "toc_window_display": true
  },
  "varInspector": {
   "cols": {
    "lenName": 16,
    "lenType": 16,
    "lenVar": 40
   },
   "kernels_config": {
    "python": {
     "delete_cmd_postfix": "",
     "delete_cmd_prefix": "del ",
     "library": "var_list.py",
     "varRefreshCmd": "print(var_dic_list())"
    },
    "r": {
     "delete_cmd_postfix": ") ",
     "delete_cmd_prefix": "rm(",
     "library": "var_list.r",
     "varRefreshCmd": "cat(var_dic_list()) "
    }
   },
   "position": {
    "height": "628px",
    "left": "1550px",
    "right": "20px",
    "top": "120px",
    "width": "350px"
   },
   "types_to_exclude": [
    "module",
    "function",
    "builtin_function_or_method",
    "instance",
    "_Feature"
   ],
   "window_display": true
  }
 },
 "nbformat": 4,
 "nbformat_minor": 2
}
