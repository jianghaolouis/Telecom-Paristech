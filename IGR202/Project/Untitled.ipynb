{
 "cells": [
  {
   "cell_type": "markdown",
   "metadata": {
    "toc": true
   },
   "source": [
    "<h1>Table of Contents<span class=\"tocSkip\"></span></h1>\n",
    "<div class=\"toc\" style=\"margin-top: 1em;\"><ul class=\"toc-item\"></ul></div>"
   ]
  },
  {
   "cell_type": "code",
   "execution_count": 2,
   "metadata": {
    "ExecuteTime": {
     "end_time": "2018-01-26T17:54:59.998932Z",
     "start_time": "2018-01-26T17:54:59.994921Z"
    }
   },
   "outputs": [],
   "source": [
    "import os"
   ]
  },
  {
   "cell_type": "code",
   "execution_count": 7,
   "metadata": {
    "ExecuteTime": {
     "end_time": "2018-01-26T17:58:27.846438Z",
     "start_time": "2018-01-26T17:58:27.830394Z"
    }
   },
   "outputs": [
    {
     "name": "stdout",
     "output_type": "stream",
     "text": [
      " meshFileList.push_back(\"mesh_collection/african_face.off\");\n",
      " meshFileList.push_back(\"mesh_collection/alien.off\");\n",
      " meshFileList.push_back(\"mesh_collection/armadillo.off\");\n",
      " meshFileList.push_back(\"mesh_collection/beast.off\");\n",
      " meshFileList.push_back(\"mesh_collection/beetle_tri.off\");\n",
      " meshFileList.push_back(\"mesh_collection/big_buck_bunny.off\");\n",
      " meshFileList.push_back(\"mesh_collection/bozbezbozzel.off\");\n",
      " meshFileList.push_back(\"mesh_collection/camel_head.off\");\n",
      " meshFileList.push_back(\"mesh_collection/camel_mc.off\");\n",
      " meshFileList.push_back(\"mesh_collection/capsule.off\");\n",
      " meshFileList.push_back(\"mesh_collection/chair.off.off\");\n",
      " meshFileList.push_back(\"mesh_collection/chinese_dragon.off\");\n",
      " meshFileList.push_back(\"mesh_collection/cyberware_face.off\");\n",
      " meshFileList.push_back(\"mesh_collection/dancer.off\");\n",
      " meshFileList.push_back(\"mesh_collection/dancer2.off\");\n",
      " meshFileList.push_back(\"mesh_collection/dino.off\");\n",
      " meshFileList.push_back(\"mesh_collection/double-torus.off\");\n",
      " meshFileList.push_back(\"mesh_collection/duck.off\");\n",
      " meshFileList.push_back(\"mesh_collection/fandisk.off\");\n",
      " meshFileList.push_back(\"mesh_collection/feline.off\");\n",
      " meshFileList.push_back(\"mesh_collection/fertility_tri.off\");\n",
      " meshFileList.push_back(\"mesh_collection/foot.off\");\n",
      " meshFileList.push_back(\"mesh_collection/gargoyle.off\");\n",
      " meshFileList.push_back(\"mesh_collection/genus4.off\");\n",
      " meshFileList.push_back(\"mesh_collection/goro-lowres.off\");\n",
      " meshFileList.push_back(\"mesh_collection/grog.off\");\n",
      " meshFileList.push_back(\"mesh_collection/hand_bones.off\");\n",
      " meshFileList.push_back(\"mesh_collection/hand_pierre.off\");\n",
      " meshFileList.push_back(\"mesh_collection/homer.off\");\n",
      " meshFileList.push_back(\"mesh_collection/horse.off\");\n",
      " meshFileList.push_back(\"mesh_collection/icosphere.off\");\n",
      " meshFileList.push_back(\"mesh_collection/julius-80k.off\");\n",
      " meshFileList.push_back(\"mesh_collection/knot.off\");\n",
      " meshFileList.push_back(\"mesh_collection/max.off\");\n",
      " meshFileList.push_back(\"mesh_collection/max_50K.off\");\n",
      " meshFileList.push_back(\"mesh_collection/meta_4.off\");\n",
      " meshFileList.push_back(\"mesh_collection/moai.off\");\n",
      " meshFileList.push_back(\"mesh_collection/neptune.off\");\n",
      " meshFileList.push_back(\"mesh_collection/ninja-lowres.off\");\n",
      " meshFileList.push_back(\"mesh_collection/ninjaHead_High.off\");\n",
      " meshFileList.push_back(\"mesh_collection/octahedron.off\");\n",
      " meshFileList.push_back(\"mesh_collection/octopus.off\");\n",
      " meshFileList.push_back(\"mesh_collection/octopus_toon.off\");\n",
      " meshFileList.push_back(\"mesh_collection/ogre.off\");\n",
      " meshFileList.push_back(\"mesh_collection/oil_pump.off\");\n",
      " meshFileList.push_back(\"mesh_collection/pegaso.off\");\n",
      " meshFileList.push_back(\"mesh_collection/phong_tessellation_face.off\");\n",
      " meshFileList.push_back(\"mesh_collection/polygirl.off\");\n",
      " meshFileList.push_back(\"mesh_collection/ram.off\");\n",
      " meshFileList.push_back(\"mesh_collection/raptor.off\");\n",
      " meshFileList.push_back(\"mesh_collection/rhino.off\");\n",
      " meshFileList.push_back(\"mesh_collection/robot.off\");\n",
      " meshFileList.push_back(\"mesh_collection/rockerarm_tri.off\");\n",
      " meshFileList.push_back(\"mesh_collection/screw_diver.off\");\n",
      " meshFileList.push_back(\"mesh_collection/sphere.off\");\n",
      " meshFileList.push_back(\"mesh_collection/squirrel.off\");\n",
      " meshFileList.push_back(\"mesh_collection/star_knot.off\");\n",
      " meshFileList.push_back(\"mesh_collection/temple.off\");\n",
      " meshFileList.push_back(\"mesh_collection/torus.off\");\n",
      " meshFileList.push_back(\"mesh_collection/tree.off\");\n",
      " meshFileList.push_back(\"mesh_collection/tweety.off\");\n",
      " meshFileList.push_back(\"mesh_collection/zbrush_head.off\");\n",
      " meshFileList.push_back(\"mesh_collection/zbrush_man.off\");\n"
     ]
    }
   ],
   "source": [
    "\n",
    "for name in os.listdir(\"mesh_collection/\"): \n",
    "    print( ' meshFileList.push_back(\"mesh_collection/' + name +  '\");');"
   ]
  },
  {
   "cell_type": "code",
   "execution_count": null,
   "metadata": {},
   "outputs": [],
   "source": []
  }
 ],
 "metadata": {
  "kernelspec": {
   "display_name": "Python 3",
   "language": "python",
   "name": "python3"
  },
  "language_info": {
   "codemirror_mode": {
    "name": "ipython",
    "version": 3
   },
   "file_extension": ".py",
   "mimetype": "text/x-python",
   "name": "python",
   "nbconvert_exporter": "python",
   "pygments_lexer": "ipython3",
   "version": "3.6.3"
  },
  "toc": {
   "nav_menu": {},
   "number_sections": false,
   "sideBar": true,
   "skip_h1_title": true,
   "toc_cell": true,
   "toc_position": {},
   "toc_section_display": "block",
   "toc_window_display": true
  },
  "varInspector": {
   "cols": {
    "lenName": 16,
    "lenType": 16,
    "lenVar": 40
   },
   "kernels_config": {
    "python": {
     "delete_cmd_postfix": "",
     "delete_cmd_prefix": "del ",
     "library": "var_list.py",
     "varRefreshCmd": "print(var_dic_list())"
    },
    "r": {
     "delete_cmd_postfix": ") ",
     "delete_cmd_prefix": "rm(",
     "library": "var_list.r",
     "varRefreshCmd": "cat(var_dic_list()) "
    }
   },
   "types_to_exclude": [
    "module",
    "function",
    "builtin_function_or_method",
    "instance",
    "_Feature"
   ],
   "window_display": false
  }
 },
 "nbformat": 4,
 "nbformat_minor": 2
}
