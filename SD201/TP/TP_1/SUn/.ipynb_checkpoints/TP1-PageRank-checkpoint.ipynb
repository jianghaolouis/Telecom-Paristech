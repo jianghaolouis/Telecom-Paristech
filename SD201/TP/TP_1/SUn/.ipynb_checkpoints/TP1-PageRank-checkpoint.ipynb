{
 "cells": [
  {
   "cell_type": "code",
   "execution_count": 4,
   "metadata": {
    "collapsed": true
   },
   "outputs": [],
   "source": [
    "#Exercise on Python and PageRank\n",
    "from scipy.sparse import coo_matrix\n",
    "import numpy as np\n",
    "from numpy.linalg import norm"
   ]
  },
  {
   "cell_type": "code",
   "execution_count": 16,
   "metadata": {
    "collapsed": true
   },
   "outputs": [],
   "source": [
    "def myPageRank(G_file_name, epsilon = 0.1, beta = 0.8): \n",
    "    M = preprocessor(G_file_name)[1]   \n",
    "    N = preprocessor(G_file_name)[0]\n",
    "    A = beta * M + (1 - beta) / N\n",
    "    Pi = np.array([1 / N for x in range(int(N))])\n",
    "    while True:\n",
    "        ancientPi = Pi\n",
    "        Pi = A.dot(ancientPi)\n",
    "        if norm((Pi - ancientPi), ord=1) < epsilon:\n",
    "            break\n",
    "    return Pi     \n",
    " \n",
    "\n",
    "def preprocessor(G_file_name):\n",
    "    #G is a list a lines of the kind i j denoting that there is an edge between node i and j (from j to i)   \n",
    "    with open(G_file_name, \"r\") as file:\n",
    "        lines = file.readlines()\n",
    "    file.close()\n",
    "    i_list = np.array([])\n",
    "    j_list = np.array([])\n",
    "    for line in lines:\n",
    "        i_list = np.append(i_list, int(line.split()[0]) - 1)\n",
    "    for line in lines:\n",
    "        j_list = np.append(j_list, int(line.split()[1]) - 1)\n",
    "    i_list, j_list = remove_dead_ends(i_list, j_list)\n",
    "    N = max(np.append(i_list, j_list)) + 1\n",
    "    data = [0 for x in range(len(i_list))]\n",
    "    for j in j_list:\n",
    "        k = j_list.tolist().count(j) #number of successors of the page j\n",
    "        for index in [x for x, y in enumerate(j_list) if y == j]:\n",
    "            data[index] = 1 / k\n",
    "    M = coo_matrix((data, (i_list, j_list)), shape=(N, N)).toarray()\n",
    "    return (N, M)\n",
    "\n",
    "\n",
    "def remove_dead_ends(list1, list2):\n",
    "    differences = list(set(list1.tolist()) - set(list2.tolist()))\n",
    "    indices_to_remove = [i for i, x in enumerate(list1.tolist()) if x in differences]\n",
    "    i_list = []\n",
    "    j_list = []\n",
    "    for index in range(1, len(list1) + 1):\n",
    "        if index not in indices_to_remove:\n",
    "            i_list = np.append(i_list, list1[index - 1])\n",
    "            j_list = np.append(j_list, list2[index - 1])\n",
    "    return np.array(i_list), np.array(j_list)"
   ]
  },
  {
   "cell_type": "code",
   "execution_count": 21,
   "metadata": {},
   "outputs": [
    {
     "name": "stdout",
     "output_type": "stream",
     "text": [
      "[ 0.25866667  0.17866667  0.56266667]\n",
      "[ 0.28571429  0.14285714  0.14285714  0.14285714  0.14285714  0.14285714]\n",
      "[ 0.03402667  0.03402667  0.05524148]\n",
      "[ 0.02083333  0.02083333  0.04166667]\n",
      "Dead ends problem has not yet been resolved correctly\n"
     ]
    }
   ],
   "source": [
    "print(myPageRank(\"first_matrix.txt\"))\n",
    "print(myPageRank(\"second_matrix.txt\", epsilon = 0.00000000000000000001, beta = 1))\n",
    "\n",
    "print(myPageRank(\"dead_ends_matrix.txt\"))\n",
    "result_dead_ends_matrix = myPageRank(\"dead_ends_matrix.txt\", beta = 1)\n",
    "print(result_dead_ends_matrix)\n",
    "\n",
    "if sum(result_dead_ends_matrix) == 1:\n",
    "    print(\"Dead ends problem has been resolved correctly\")\n",
    "else:\n",
    "    print(\"Dead ends problem has not yet been resolved correctly\")"
   ]
  },
  {
   "cell_type": "code",
   "execution_count": 19,
   "metadata": {
    "collapsed": true
   },
   "outputs": [],
   "source": [
    "#extract the web pages to construct a graph\n",
    "import re\n",
    "import os"
   ]
  },
  {
   "cell_type": "code",
   "execution_count": 20,
   "metadata": {
    "collapsed": true
   },
   "outputs": [],
   "source": [
    "path = \"/Users/sun-haozhe/Documents/Python workspace/SD201/TP1/toyset/\"\n",
    "dictionary = {}\n",
    "i = 1\n",
    "hyperlinks = []\n",
    "\n",
    "new_file_name = \"web_graph.txt\"\n",
    "new_file = open(new_file_name, \"w\")\n",
    "\n",
    "for file_name in os.listdir(path):\n",
    "    dictionary[file_name] = i\n",
    "    i += 1 \n",
    "    with open(path + file_name, \"r\") as file:\n",
    "        file_text = file.read()\n",
    "        hyperlinks = np.append(hyperlinks, re.findall('a href=\"([^\\'\" >]+)', file_text) )        \n",
    "    file.close()\n",
    "    \n",
    "for file_name in os.listdir(path):\n",
    "    for html in hyperlinks:\n",
    "        new_file.write(str(dictionary[html]) + \" \" + str(dictionary[file_name]) + \"\\n\")   "
   ]
  },
  {
   "cell_type": "code",
   "execution_count": 9,
   "metadata": {},
   "outputs": [
    {
     "name": "stdout",
     "output_type": "stream",
     "text": [
      "debug, page rank turn0\n",
      "debug, page rank turn1\n",
      "[ 0.03426624  0.00659118  0.01047817  0.01190282  0.0459668   0.06625482\n",
      "  0.01829174  0.01485764  0.03478509  0.01195558  0.01389908  0.01095745\n",
      "  0.01915797  0.01481807  0.01144992  0.0104518   0.0210619   0.0085083\n",
      "  0.01234254  0.01097064  0.02362976  0.01532373  0.02014291  0.02211278\n",
      "  0.01240848  0.01142354  0.04639332  0.02498846  0.00556667  0.0046213\n",
      "  0.01565793  0.02500165  0.01629548  0.01186326  0.01288776  0.01186326\n",
      "  0.00797626  0.02938112  0.01670881  0.03033968  0.01577663  0.00991976\n",
      "  0.0050742   0.04399692  0.03473233  0.01480488  0.00411564  0.01091789\n",
      "  0.00945367  0.01729361  0.0070177   0.01772013  0.02211278  0.01963725\n",
      "  0.0138727 ]\n"
     ]
    }
   ],
   "source": [
    "#run the PageRank algorithm on the web graph\n",
    "PageRankVector = myPageRank(new_file_name)\n",
    "print(PageRankVector)"
   ]
  },
  {
   "cell_type": "code",
   "execution_count": null,
   "metadata": {
    "collapsed": true
   },
   "outputs": [],
   "source": []
  }
 ],
 "metadata": {
  "kernelspec": {
   "display_name": "Python 3",
   "language": "python",
   "name": "python3"
  },
  "language_info": {
   "codemirror_mode": {
    "name": "ipython",
    "version": 3
   },
   "file_extension": ".py",
   "mimetype": "text/x-python",
   "name": "python",
   "nbconvert_exporter": "python",
   "pygments_lexer": "ipython3",
   "version": "3.6.2"
  }
 },
 "nbformat": 4,
 "nbformat_minor": 2
}
