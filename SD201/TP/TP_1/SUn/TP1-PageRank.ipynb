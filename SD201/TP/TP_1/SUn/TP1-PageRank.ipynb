{
 "cells": [
  {
   "cell_type": "code",
   "execution_count": 21,
   "metadata": {
    "collapsed": true
   },
   "outputs": [],
   "source": [
    "#Exercise on Python and PageRank\n",
    "from scipy.sparse import coo_matrix\n",
    "import numpy as np\n",
    "from numpy.linalg import norm"
   ]
  },
  {
   "cell_type": "code",
   "execution_count": 22,
   "metadata": {
    "collapsed": true
   },
   "outputs": [],
   "source": [
    "def myPageRank(G_file_name, epsilon = 0.0001, beta = 0.8): \n",
    "    M = webCrawler(G_file_name)\n",
    "    print(M)\n",
    "    N = M.shape[1]\n",
    "    A = beta * M + (1 - beta) / N\n",
    "    Pi = np.array([1 / N for x in range(int(N))])\n",
    "    while True:\n",
    "        ancientPi = Pi\n",
    "        Pi = A.dot(ancientPi)\n",
    "        if norm((Pi - ancientPi), ord=1) < epsilon:\n",
    "            break\n",
    "    return Pi     \n",
    " \n",
    "def webCrawler(path):\n",
    "    file_list = os.listdir(path)\n",
    "    print(\"Find \" + str(len(file_list)) + \" html file.\")\n",
    "    length = len(file_list)\n",
    "\n",
    "    M = np.zeros((length, length))\n",
    "\n",
    "    for index in range(0,length):\n",
    "        with open(path + file_list[index],'r', encoding = 'utf-8') as target:\n",
    "            text = target.read()\n",
    "            relative_list  = set(re.findall('a href=\\\"([^\\\"]+\\.html)\\\"', text))\n",
    "            #relative_list  = set(re.findall('a href=\"([^\\'\" >]+)', text))\n",
    "            with open(\"ZHUFile.txt\",\"a\") as file:\n",
    "                file.write(sorted(relative_list).__str__() + \"\\n\")\n",
    "            print(sorted(relative_list))\n",
    "            for target_file in relative_list:\n",
    "                if(target_file in file_list):\n",
    "                    j = file_list.index(target_file)\n",
    "                    M[j][index] = M[j][index] + 1\n",
    "\n",
    "\n",
    "    diviseur = np.sum(M, axis=0)\n",
    "    for i in range(0,length):\n",
    "        M[ : , i] = M[: , i] / diviseur[i]\n",
    "    return M\n",
    "\n"
   ]
  },
  {
   "cell_type": "code",
   "execution_count": null,
   "metadata": {},
   "outputs": [],
   "source": []
  },
  {
   "cell_type": "code",
   "execution_count": 23,
   "metadata": {
    "collapsed": true
   },
   "outputs": [],
   "source": [
    "#extract the web pages to construct a graph\n",
    "import re\n",
    "import os\n",
    "import codecs"
   ]
  },
  {
   "cell_type": "code",
   "execution_count": null,
   "metadata": {},
   "outputs": [],
   "source": []
  },
  {
   "cell_type": "code",
   "execution_count": 24,
   "metadata": {},
   "outputs": [
    {
     "name": "stdout",
     "output_type": "stream",
     "text": [
      "Find 55 html file.\n",
      "['Assembly_language.html', 'Binary_file.html', 'C++.html', 'COBOL.html', 'C_(programming_language).html', 'Comparison_of_programming_languages.html', 'Compiler.html', 'Computer.html', 'Computer_science.html', 'Dynamic_programming_language.html', 'Fortran.html', 'High-level_programming_language.html', 'Imperative_programming.html', 'Instruction_set.html', 'JavaScript.html', 'Java_(programming_language).html', 'Lisp_(programming_language).html', 'List_of_programming_languages.html', 'Logic_programming.html', 'Low-level_programming_language.html', 'Object-oriented_programming.html', 'Object_(computer_science).html', 'Operating_system.html', 'Porting.html', 'Programming_language.html', 'Python_(programming_language).html', 'Scripting_language.html', 'Software_portability.html', 'Source_code.html', 'Subroutine.html', 'Unix.html', 'Virtual_machine.html']\n",
      "['Binary_file.html', 'C++.html', 'C_(programming_language).html', 'Computer_program.html', 'Executable.html']\n",
      "['Boolean_data_type.html', 'C++.html', 'C_(programming_language).html', 'Computer_science.html', 'Control_flow.html', 'Data_type.html', 'Fortran.html', 'Integer_(computer_science).html', 'JavaScript.html', 'Java_(programming_language).html', 'Lisp_(programming_language).html', 'Memory_address.html', 'Object_(computer_science).html', 'Pointer_(computer_programming).html', 'Programming_language.html', 'Python_(programming_language).html', 'Scripting_language.html', 'Type_system.html']\n",
      "['Bytecode.html', 'Compiler.html', 'Executable.html', 'GNU_Compiler_Collection.html', 'Instruction_set.html', 'Java_(programming_language).html', 'Lisp_(programming_language).html', 'Operating_system.html', 'Programming_language.html', 'Python_(programming_language).html', 'Software_portability.html', 'Source_code.html', 'Virtual_machine.html']\n",
      "['Assembly_language.html', 'C++.html', 'COBOL.html', 'C_(programming_language).html', 'Comparison_of_programming_languages.html', 'Compiler.html', 'Fortran.html', 'GNU_Compiler_Collection.html', 'Imperative_programming.html', 'JavaScript.html', 'Java_(programming_language).html', 'Lisp_(programming_language).html', 'List_of_programming_languages.html', 'Low-level_programming_language.html', 'Object-oriented_programming.html', 'Operating_system.html', 'Programming_language.html', 'Python_(programming_language).html', 'Type_system.html', 'Unix.html']\n",
      "['Assembly_language.html', 'Boolean_data_type.html', 'C++.html', 'COBOL.html', 'C_(programming_language).html', 'Comparison_of_programming_languages.html', 'Control_flow.html', 'Fortran.html', 'Imperative_programming.html', 'JavaScript.html', 'Java_(programming_language).html', 'Lisp_(programming_language).html', 'List_of_programming_languages.html', 'Method_(computer_programming).html', 'Object-oriented_programming.html', 'Operating_system.html', 'Pointer_(computer_programming).html', 'Programming_language.html', 'Python_(programming_language).html', 'Software_portability.html', 'Type_system.html', 'Unix.html']\n",
      "['Assembly_language.html', 'C++.html', 'COBOL.html', 'C_(programming_language).html', 'Comparison_of_programming_languages.html', 'Computer.html', 'Fortran.html', 'Imperative_programming.html', 'JavaScript.html', 'Java_(programming_language).html', 'Lisp_(programming_language).html', 'List_of_programming_languages.html', 'Object-oriented_programming.html', 'Programming_language.html', 'Python_(programming_language).html', 'Virtual_machine.html']\n",
      "['Assembly_language.html', 'Bytecode.html', 'C++.html', 'COBOL.html', 'C_(programming_language).html', 'Compiler.html', 'Computer_hardware.html', 'Computer_science.html', 'Executable.html', 'Fortran.html', 'GNU_Compiler_Collection.html', 'High-level_programming_language.html', 'Java_(programming_language).html', 'Lisp_(programming_language).html', 'Object-oriented_programming.html', 'Operating_system.html', 'Programming_language.html', 'Python_(programming_language).html', 'Source_code.html', 'Type_system.html', 'Unix.html', 'Virtual_machine.html']\n",
      "['Assembly_language.html', 'C++.html', 'COBOL.html', 'C_(programming_language).html', 'Compiler.html', 'Computer.html', 'Computer_hardware.html', 'Computer_memory.html', 'Computer_program.html', 'Computer_science.html', 'Control_flow.html', 'Data_(computing).html', 'Fortran.html', 'High-level_programming_language.html', 'Instruction_set.html', 'JavaScript.html', 'Java_(programming_language).html', 'Linux.html', 'Lisp_(programming_language).html', 'List_of_programming_languages.html', 'Low-level_programming_language.html', 'Operating_system.html', 'Programming_language.html', 'Python_(programming_language).html', 'Scripting_language.html', 'Subroutine.html', 'Unix.html']\n",
      "['Computer.html', 'Computer_hardware.html', 'Computer_memory.html', 'Computer_science.html', 'Instruction_set.html', 'Operating_system.html', 'Programming_language.html', 'Software.html', 'Virtual_machine.html']\n",
      "['Computer.html', 'Computer_hardware.html', 'Computer_memory.html', 'Operating_system.html']\n",
      "['Assembly_language.html', 'Binary_file.html', 'COBOL.html', 'C_(programming_language).html', 'Compiler.html', 'Computer.html', 'Computer_hardware.html', 'Computer_program.html', 'Control_flow.html', 'Data_(computing).html', 'Data_type.html', 'Imperative_programming.html', 'Instruction_set.html', 'Lisp_(programming_language).html', 'Operating_system.html', 'Programming_language.html', 'Scripting_language.html', 'Software.html', 'Source_code.html']\n",
      "['Computer.html', 'Computer_hardware.html', 'Computer_science.html', 'Database.html', 'Object-oriented_programming.html', 'Operating_system.html', 'Programming_language.html', 'Software.html', 'Virtual_machine.html']\n",
      "['Assembly_language.html', 'C++.html', 'COBOL.html', 'C_(programming_language).html', 'Computer_program.html', 'Computer_science.html', 'Control_flow.html', 'Fortran.html', 'Imperative_programming.html', 'JavaScript.html', 'Java_(programming_language).html', 'Lexical_scope.html', 'Lisp_(programming_language).html', 'Programming_language.html', 'Python_(programming_language).html', 'Source_code.html', 'Subroutine.html']\n",
      "['Assembly_language.html', 'C++.html', 'COBOL.html', 'C_(programming_language).html', 'Comparison_of_programming_languages.html', 'Compiler.html', 'Computer_memory.html', 'Data_type.html', 'Fortran.html', 'GNU_Compiler_Collection.html', 'Imperative_programming.html', 'JavaScript.html', 'Java_(programming_language).html', 'Lisp_(programming_language).html', 'List_of_programming_languages.html', 'Object-oriented_programming.html', 'Operating_system.html', 'Pointer_(computer_programming).html', 'Porting.html', 'Programming_language.html', 'Python_(programming_language).html', 'Software_portability.html', 'Source_code.html', 'Strong_and_weak_typing.html', 'Subroutine.html', 'Type_system.html', 'Unix.html']\n",
      "['COBOL.html', 'Computer_hardware.html', 'Computer_memory.html', 'Data_(computing).html', 'Database.html', 'Kernel_(computing).html', 'Logic_programming.html', 'Object-oriented_programming.html', 'Operating_system.html', 'Software_portability.html']\n",
      "['Assembly_language.html', 'Binary_file.html', 'Compiler.html', 'Computer.html', 'Computer_memory.html', 'Computer_program.html', 'Data_(computing).html', 'Data_type.html', 'Database.html', 'Executable.html', 'Instruction_set.html', 'Memory_address.html', 'Object_(computer_science).html', 'Operating_system.html', 'Programming_language.html']\n",
      "['Boolean_data_type.html', 'C_(programming_language).html', 'Compiler.html', 'Computer_memory.html', 'Computer_science.html', 'Data_type.html', 'Instruction_set.html', 'Integer_(computer_science).html', 'Java_(programming_language).html', 'Low-level_programming_language.html', 'Memory_address.html', 'Method_(computer_programming).html', 'Object_(computer_science).html', 'Pointer_(computer_programming).html', 'Programming_language.html', 'Type_system.html']\n",
      "['Assembly_language.html', 'C++.html', 'C_(programming_language).html', 'Comparison_of_programming_languages.html', 'Compiler.html', 'Computer_science.html', 'Dynamic_programming_language.html', 'High-level_programming_language.html', 'Imperative_programming.html', 'JavaScript.html', 'Java_(programming_language).html', 'Lisp_(programming_language).html', 'Logic_programming.html', 'Low-level_programming_language.html', 'Object-oriented_programming.html', 'Object_(computer_science).html', 'Python_(programming_language).html', 'Scripting_language.html', 'Source_code.html', 'Type_system.html']\n",
      "['Assembly_language.html', 'Bytecode.html', 'Compiler.html', 'Data_(computing).html', 'Executable.html', 'GNU_Compiler_Collection.html', 'Scripting_language.html', 'Source_code.html', 'Virtual_machine.html']\n",
      "['Assembly_language.html', 'Boolean_data_type.html', 'C++.html', 'COBOL.html', 'C_(programming_language).html', 'Comparison_of_programming_languages.html', 'Compiler.html', 'Data_type.html', 'Fortran.html', 'High-level_programming_language.html', 'Imperative_programming.html', 'JavaScript.html', 'Java_(programming_language).html', 'Lisp_(programming_language).html', 'List_of_programming_languages.html', 'Object-oriented_programming.html', 'Pointer_(computer_programming).html', 'Programming_language.html', 'Python_(programming_language).html', 'Strong_and_weak_typing.html', 'Subroutine.html', 'Type_system.html']\n",
      "['C++.html', 'C_(programming_language).html', 'Compiler.html', 'Executable.html', 'Fortran.html', 'GNU_Compiler_Collection.html', 'Imperative_programming.html', 'Instruction_set.html', 'Java_(programming_language).html', 'Linux.html', 'Lisp_(programming_language).html', 'Operating_system.html', 'Porting.html', 'Programming_language.html', 'Source_code.html', 'Unix.html']\n",
      "['Assembly_language.html', 'COBOL.html', 'C_(programming_language).html', 'Compiler.html', 'Computer.html', 'Computer_science.html', 'Dynamic_programming_language.html', 'Fortran.html', 'High-level_programming_language.html', 'Imperative_programming.html', 'JavaScript.html', 'Java_(programming_language).html', 'Lexical_scope.html', 'Lisp_(programming_language).html', 'Logic_programming.html', 'Low-level_programming_language.html', 'Object-oriented_programming.html', 'Object_(computer_science).html', 'Programming_language.html', 'Python_(programming_language).html', 'Scripting_language.html', 'Virtual_machine.html']\n",
      "['Assembly_language.html', 'C++.html', 'COBOL.html', 'C_(programming_language).html', 'Computer.html', 'Computer_program.html', 'Computer_science.html', 'Dynamic_programming_language.html', 'Fortran.html', 'High-level_programming_language.html', 'Imperative_programming.html', 'JavaScript.html', 'Java_(programming_language).html', 'Logic_programming.html', 'Low-level_programming_language.html', 'Object-oriented_programming.html', 'Operating_system.html', 'Python_(programming_language).html', 'Scripting_language.html', 'Subroutine.html']\n",
      "['Assembly_language.html', 'Bytecode.html', 'Compiler.html', 'Computer.html', 'Computer_hardware.html', 'Computer_program.html', 'Control_flow.html', 'Data_type.html', 'Programming_language.html', 'Software.html', 'Subroutine.html', 'Virtual_machine.html']\n",
      "['Boolean_data_type.html', 'C++.html', 'C_(programming_language).html', 'Data_type.html', 'Integer_(computer_science).html', 'Java_(programming_language).html', 'Memory_address.html', 'Object_(computer_science).html', 'Pointer_(computer_programming).html', 'Programming_language.html', 'Python_(programming_language).html', 'Source_code.html', 'Type_system.html', 'Unix.html', 'Virtual_machine.html']\n",
      "['Assembly_language.html', 'C++.html', 'COBOL.html', 'C_(programming_language).html', 'Comparison_of_programming_languages.html', 'Computer_program.html', 'Dynamic_programming_language.html', 'Fortran.html', 'High-level_programming_language.html', 'Imperative_programming.html', 'JavaScript.html', 'Java_(programming_language).html', 'Lisp_(programming_language).html', 'List_of_programming_languages.html', 'Object-oriented_programming.html', 'Object_(computer_science).html', 'Programming_language.html', 'Python_(programming_language).html', 'Scripting_language.html', 'Source_code.html', 'Subroutine.html', 'Type_system.html']\n",
      "['Assembly_language.html', 'Boolean_data_type.html', 'C++.html', 'COBOL.html', 'C_(programming_language).html', 'Comparison_of_programming_languages.html', 'Compiler.html', 'Computer_hardware.html', 'Database.html', 'Executable.html', 'Fortran.html', 'Imperative_programming.html', 'JavaScript.html', 'Java_(programming_language).html', 'Linux.html', 'Lisp_(programming_language).html', 'List_of_programming_languages.html', 'Low-level_programming_language.html', 'Object-oriented_programming.html', 'Object_(computer_science).html', 'Operating_system.html', 'Pointer_(computer_programming).html', 'Programming_language.html', 'Python_(programming_language).html', 'Source_code.html', 'Type_system.html', 'Virtual_machine.html']\n",
      "['Bytecode.html', 'Compiler.html', 'Computer_program.html', 'Instruction_set.html', 'Linux.html', 'Operating_system.html', 'Software.html', 'Type_system.html', 'Unix.html']\n",
      "['C++.html', 'C_(programming_language).html', 'Computer_program.html', 'Control_flow.html', 'Data_type.html', 'GNU_Compiler_Collection.html', 'JavaScript.html', 'Java_(programming_language).html', 'Lisp_(programming_language).html', 'Method_(computer_programming).html', 'Object-oriented_programming.html', 'Pointer_(computer_programming).html', 'Programming_language.html', 'Subroutine.html']\n",
      "['Assembly_language.html', 'C++.html', 'C_(programming_language).html', 'Compiler.html', 'Computer_science.html', 'Dynamic_programming_language.html', 'Fortran.html', 'GNU_Compiler_Collection.html', 'Java_(programming_language).html', 'Kernel_(computing).html', 'Linux.html', 'Lisp_(programming_language).html', 'Operating_system.html', 'Porting.html', 'Programming_language.html', 'Python_(programming_language).html', 'Software.html', 'Source_code.html', 'Subroutine.html', 'Unix.html']\n",
      "['Assembly_language.html', 'Bytecode.html', 'C++.html', 'COBOL.html', 'C_(programming_language).html', 'Comparison_of_programming_languages.html', 'Compiler.html', 'Computer.html', 'Computer_science.html', 'Data_type.html', 'Fortran.html', 'High-level_programming_language.html', 'JavaScript.html', 'Java_(programming_language).html', 'Lisp_(programming_language).html', 'List_of_programming_languages.html', 'Pointer_(computer_programming).html', 'Programming_language.html', 'Python_(programming_language).html', 'Scripting_language.html', 'Source_code.html', 'Type_system.html']\n",
      "['Assembly_language.html', 'C++.html', 'COBOL.html', 'C_(programming_language).html', 'Comparison_of_programming_languages.html', 'Fortran.html', 'JavaScript.html', 'Java_(programming_language).html', 'Lisp_(programming_language).html', 'List_of_programming_languages.html', 'Programming_language.html', 'Python_(programming_language).html', 'Snowball_programming_language.html']\n",
      "['Assembly_language.html', 'Dynamic_programming_language.html', 'High-level_programming_language.html', 'Imperative_programming.html', 'Lisp_(programming_language).html', 'Logic_programming.html', 'Low-level_programming_language.html', 'Object-oriented_programming.html', 'Programming_language.html', 'Scripting_language.html']\n",
      "['Assembly_language.html', 'C_(programming_language).html', 'Dynamic_programming_language.html', 'High-level_programming_language.html', 'Imperative_programming.html', 'Instruction_set.html', 'Logic_programming.html', 'Low-level_programming_language.html', 'Memory_address.html', 'Object-oriented_programming.html', 'Programming_language.html', 'Scripting_language.html', 'Software_portability.html']\n",
      "['Boolean_data_type.html', 'Computer_hardware.html', 'Computer_memory.html', 'Computer_program.html', 'Data_(computing).html', 'Data_type.html', 'Integer_(computer_science).html', 'Low-level_programming_language.html', 'Memory_address.html', 'Object_(computer_science).html', 'Operating_system.html', 'Pointer_(computer_programming).html', 'Programming_language.html', 'Software.html', 'Type_system.html']\n",
      "['C++.html', 'C_(programming_language).html', 'Database.html', 'Java_(programming_language).html', 'Method_(computer_programming).html', 'Object-oriented_programming.html', 'Object_(computer_science).html', 'Python_(programming_language).html', 'Subroutine.html']\n",
      "['Assembly_language.html', 'C++.html', 'COBOL.html', 'C_(programming_language).html', 'Computer_science.html', 'Control_flow.html', 'Data_type.html', 'Dynamic_programming_language.html', 'Fortran.html', 'High-level_programming_language.html', 'Imperative_programming.html', 'Integer_(computer_science).html', 'JavaScript.html', 'Java_(programming_language).html', 'Lisp_(programming_language).html', 'Logic_programming.html', 'Low-level_programming_language.html', 'Object-oriented_programming.html', 'Object_(computer_science).html', 'Pointer_(computer_programming).html', 'Python_(programming_language).html', 'Scripting_language.html', 'Software.html', 'Subroutine.html', 'Unix.html']\n",
      "['Boolean_data_type.html', 'C++.html', 'Computer_science.html', 'Data_type.html', 'Database.html', 'Integer_(computer_science).html', 'Memory_address.html', 'Method_(computer_programming).html', 'Object-oriented_programming.html', 'Object_(computer_science).html', 'Operating_system.html', 'Pointer_(computer_programming).html', 'Programming_language.html', 'Software.html', 'Subroutine.html', 'Type_system.html']\n",
      "['Assembly_language.html', 'C_(programming_language).html', 'Computer_hardware.html', 'Computer_program.html', 'Computer_science.html', 'Database.html', 'Kernel_(computing).html', 'Linux.html', 'Operating_system.html', 'Programming_language.html', 'Software_portability.html', 'Unix.html', 'Virtual_machine.html']\n",
      "['Assembly_language.html', 'Boolean_data_type.html', 'C++.html', 'COBOL.html', 'C_(programming_language).html', 'Computer_memory.html', 'Computer_science.html', 'Data_type.html', 'Fortran.html', 'GNU_Compiler_Collection.html', 'Integer_(computer_science).html', 'JavaScript.html', 'Java_(programming_language).html', 'Memory_address.html', 'Method_(computer_programming).html', 'Object-oriented_programming.html', 'Object_(computer_science).html', 'Pointer_(computer_programming).html', 'Programming_language.html', 'Strong_and_weak_typing.html', 'Subroutine.html', 'Type_system.html']\n"
     ]
    },
    {
     "name": "stdout",
     "output_type": "stream",
     "text": [
      "['Assembly_language.html', 'C++.html', 'C_(programming_language).html', 'Computer_program.html', 'GNU_Compiler_Collection.html', 'High-level_programming_language.html', 'Instruction_set.html', 'Java_(programming_language).html', 'Linux.html', 'Operating_system.html', 'Porting.html', 'Programming_language.html', 'Software_portability.html', 'Virtual_machine.html']\n",
      "['Assembly_language.html', 'Bytecode.html', 'C++.html', 'COBOL.html', 'C_(programming_language).html', 'Comparison_of_programming_languages.html', 'Compiler.html', 'Computer.html', 'Computer_program.html', 'Computer_science.html', 'Control_flow.html', 'Data_type.html', 'Dynamic_programming_language.html', 'Fortran.html', 'High-level_programming_language.html', 'Imperative_programming.html', 'Instruction_set.html', 'JavaScript.html', 'Java_(programming_language).html', 'Lisp_(programming_language).html', 'List_of_programming_languages.html', 'Logic_programming.html', 'Low-level_programming_language.html', 'Object-oriented_programming.html', 'Program_(machine).html', 'Programming_language.html', 'Python_(programming_language).html', 'Scripting_language.html', 'Source_code.html', 'Subroutine.html', 'Type_system.html', 'Unix.html', 'Virtual_machine.html']\n",
      "['Computer.html', 'Computer_program.html', 'Program_(machine).html']\n",
      "['Assembly_language.html', 'Bytecode.html', 'C++.html', 'COBOL.html', 'C_(programming_language).html', 'Comparison_of_programming_languages.html', 'Data_type.html', 'Fortran.html', 'High-level_programming_language.html', 'Imperative_programming.html', 'Integer_(computer_science).html', 'JavaScript.html', 'Java_(programming_language).html', 'Lisp_(programming_language).html', 'List_of_programming_languages.html', 'Logic_programming.html', 'Object-oriented_programming.html', 'Object_(computer_science).html', 'Operating_system.html', 'Pointer_(computer_programming).html', 'Programming_language.html', 'Python_(programming_language).html', 'Scripting_language.html', 'Type_system.html', 'Unix.html', 'Virtual_machine.html']\n",
      "['Assembly_language.html', 'Bytecode.html', 'Compiler.html', 'Database.html', 'Dynamic_programming_language.html', 'High-level_programming_language.html', 'Imperative_programming.html', 'JavaScript.html', 'Java_(programming_language).html', 'Lisp_(programming_language).html', 'Logic_programming.html', 'Low-level_programming_language.html', 'Object-oriented_programming.html', 'Operating_system.html', 'Programming_language.html', 'Python_(programming_language).html', 'Scripting_language.html', 'Unix.html']\n",
      "['C_(programming_language).html', 'Data_type.html', 'Java_(programming_language).html', 'Programming_language.html']\n",
      "['Assembly_language.html', 'Compiler.html', 'Computer_hardware.html', 'Computer_memory.html', 'Computer_program.html', 'Computer_science.html', 'Control_flow.html', 'Data_(computing).html', 'High-level_programming_language.html', 'JavaScript.html', 'Java_(programming_language).html', 'Linux.html', 'Operating_system.html', 'Software.html']\n",
      "['C++.html', 'C_(programming_language).html', 'Compiler.html', 'Executable.html', 'High-level_programming_language.html', 'Instruction_set.html', 'Integer_(computer_science).html', 'JavaScript.html', 'Operating_system.html', 'Porting.html', 'Software.html', 'Software_portability.html', 'Source_code.html']\n",
      "['Assembly_language.html', 'Bytecode.html', 'C_(programming_language).html', 'Compiler.html', 'Computer_program.html', 'Executable.html', 'GNU_Compiler_Collection.html', 'High-level_programming_language.html', 'Java_(programming_language).html', 'Object-oriented_programming.html', 'Porting.html', 'Programming_language.html', 'Source_code.html', 'Virtual_machine.html']\n",
      "['Assembly_language.html', 'C_(programming_language).html', 'Comparison_of_programming_languages.html', 'Compiler.html', 'Data_type.html', 'GNU_Compiler_Collection.html', 'Java_(programming_language).html', 'Lisp_(programming_language).html', 'Pointer_(computer_programming).html', 'Programming_language.html', 'Python_(programming_language).html', 'Strong_and_weak_typing.html', 'Type_system.html']\n",
      "['Assembly_language.html', 'C++.html', 'C_(programming_language).html', 'Compiler.html', 'Data_type.html', 'Fortran.html', 'High-level_programming_language.html', 'Imperative_programming.html', 'Lisp_(programming_language).html', 'Logic_programming.html', 'Method_(computer_programming).html', 'Object-oriented_programming.html', 'Object_(computer_science).html', 'Programming_language.html', 'Subroutine.html']\n",
      "['Boolean_data_type.html', 'C++.html', 'C_(programming_language).html', 'Compiler.html', 'Computer_memory.html', 'Computer_program.html', 'Data_type.html', 'Dynamic_programming_language.html', 'Instruction_set.html', 'Integer_(computer_science).html', 'JavaScript.html', 'Java_(programming_language).html', 'Memory_address.html', 'Object_(computer_science).html', 'Pointer_(computer_programming).html', 'Programming_language.html', 'Python_(programming_language).html', 'Strong_and_weak_typing.html', 'Subroutine.html', 'Type_system.html']\n",
      "['Assembly_language.html', 'C_(programming_language).html', 'Compiler.html', 'GNU_Compiler_Collection.html', 'High-level_programming_language.html', 'Linux.html', 'Operating_system.html', 'Porting.html', 'Programming_language.html', 'Software_portability.html', 'Unix.html']\n",
      "['Bytecode.html', 'Compiler.html', 'Computer_hardware.html', 'Computer_science.html', 'Executable.html', 'GNU_Compiler_Collection.html', 'Instruction_set.html', 'Linux.html', 'Operating_system.html', 'Programming_language.html', 'Source_code.html', 'Virtual_machine.html']\n",
      "[[ 0.03125     0.          0.         ...,  0.          0.09090909  0.        ]\n",
      " [ 0.03125     0.2         0.         ...,  0.          0.          0.        ]\n",
      " [ 0.          0.          0.05555556 ...,  0.05        0.          0.        ]\n",
      " ..., \n",
      " [ 0.          0.          0.05555556 ...,  0.05        0.          0.        ]\n",
      " [ 0.03125     0.          0.         ...,  0.          0.09090909  0.        ]\n",
      " [ 0.03125     0.          0.         ...,  0.          0.          0.08333333]]\n",
      "[ 0.03514014  0.00695015  0.0108679   0.01494034  0.02836717  0.02186986\n",
      "  0.01567394  0.02988787  0.0209252   0.02138284  0.01550441  0.01979206\n",
      "  0.02368912  0.01112024  0.03707357  0.01259588  0.00917922  0.01896085\n",
      "  0.01374461  0.01380105  0.02279172  0.01645629  0.02246137  0.02186148\n",
      "  0.01754936  0.01084564  0.02352808  0.03147153  0.00726143  0.00497643\n",
      "  0.01366239  0.02631018  0.01529198  0.01426112  0.01571967  0.00976847\n",
      "  0.00871507  0.02745399  0.01617696  0.03364457  0.01531733  0.01099877\n",
      "  0.04338525  0.00639315  0.02532452  0.01731821  0.00457732  0.01476789\n",
      "  0.01424287  0.02007155  0.00735193  0.01707675  0.0194785   0.01875736\n",
      "  0.02326446]\n"
     ]
    }
   ],
   "source": [
    "#run the PageRank algorithm on the web graph\n",
    "PageRankVector = myPageRank('toyset/')\n",
    "print(PageRankVector)"
   ]
  },
  {
   "cell_type": "code",
   "execution_count": null,
   "metadata": {
    "collapsed": true
   },
   "outputs": [],
   "source": []
  }
 ],
 "metadata": {
  "kernelspec": {
   "display_name": "Python 3",
   "language": "python",
   "name": "python3"
  },
  "language_info": {
   "codemirror_mode": {
    "name": "ipython",
    "version": 3
   },
   "file_extension": ".py",
   "mimetype": "text/x-python",
   "name": "python",
   "nbconvert_exporter": "python",
   "pygments_lexer": "ipython3",
   "version": "3.6.2"
  }
 },
 "nbformat": 4,
 "nbformat_minor": 2
}
