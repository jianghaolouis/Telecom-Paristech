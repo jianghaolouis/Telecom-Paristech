{
 "cells": [
  {
   "cell_type": "code",
   "execution_count": 1,
   "metadata": {},
   "outputs": [
    {
     "name": "stdout",
     "output_type": "stream",
     "text": [
      "Done.\n"
     ]
    },
    {
     "data": {
      "text/html": [
       "<table>\n",
       "    <tr>\n",
       "        <th>timeout</th>\n",
       "    </tr>\n",
       "    <tr>\n",
       "        <td>30000</td>\n",
       "    </tr>\n",
       "</table>"
      ],
      "text/plain": [
       "[(30000,)]"
      ]
     },
     "execution_count": 1,
     "metadata": {},
     "output_type": "execute_result"
    }
   ],
   "source": [
    "%load_ext sql\n",
    "%sql sqlite://\n",
    "%sql PRAGMA busy_timeout = 30000;"
   ]
  },
  {
   "cell_type": "code",
   "execution_count": 2,
   "metadata": {},
   "outputs": [
    {
     "name": "stdout",
     "output_type": "stream",
     "text": [
      "Done.\n"
     ]
    },
    {
     "data": {
      "text/html": [
       "<table>\n",
       "    <tr>\n",
       "        <th>name</th>\n",
       "    </tr>\n",
       "</table>"
      ],
      "text/plain": [
       "[]"
      ]
     },
     "execution_count": 2,
     "metadata": {},
     "output_type": "execute_result"
    }
   ],
   "source": [
    "%sql SELECT name from sqlite_master WHERE type = \"table\""
   ]
  },
  {
   "cell_type": "code",
   "execution_count": 3,
   "metadata": {},
   "outputs": [
    {
     "name": "stdout",
     "output_type": "stream",
     "text": [
      "Done.\n",
      "Done.\n",
      "1 rows affected.\n",
      "1 rows affected.\n",
      "1 rows affected.\n",
      "1 rows affected.\n"
     ]
    },
    {
     "data": {
      "text/plain": [
       "[]"
      ]
     },
     "execution_count": 3,
     "metadata": {},
     "output_type": "execute_result"
    }
   ],
   "source": [
    "%%sql\n",
    "DROP TABLE IF EXISTS PRODUCT;\n",
    "CREATE TABLE PRODUCT(\n",
    "    PName VARCHAR(255) NOT NULL PRIMARY KEY,\n",
    "    Price FLOAT,\n",
    "    Category VARCHAR(255),\n",
    "    Manufacturer VARCHAR(255)\n",
    ");\n",
    "INSERT INTO Product values('Grzmo', 19.99, 'Gadgets', 'Gizmo Works');\n",
    "INSERT INTO Product values('Powergizmo', 29.99,'Gadgets', 'Gizmo Works');\n",
    "INSERT INTO Product values('SingleTouch', 149.99, 'Photography', 'Camon');\n",
    "INSERT INTO Product values('MultiTouch', 203.99,'Household', 'Hitachi');"
   ]
  },
  {
   "cell_type": "code",
   "execution_count": 4,
   "metadata": {},
   "outputs": [
    {
     "name": "stdout",
     "output_type": "stream",
     "text": [
      "Done.\n"
     ]
    },
    {
     "data": {
      "text/html": [
       "<table>\n",
       "    <tr>\n",
       "        <th>name</th>\n",
       "    </tr>\n",
       "    <tr>\n",
       "        <td>PRODUCT</td>\n",
       "    </tr>\n",
       "</table>"
      ],
      "text/plain": [
       "[('PRODUCT',)]"
      ]
     },
     "execution_count": 4,
     "metadata": {},
     "output_type": "execute_result"
    }
   ],
   "source": [
    "%sql SELECT name FROM sqlite_master Where type = 'table';"
   ]
  },
  {
   "cell_type": "code",
   "execution_count": 5,
   "metadata": {},
   "outputs": [
    {
     "name": "stdout",
     "output_type": "stream",
     "text": [
      "Done.\n"
     ]
    },
    {
     "data": {
      "text/html": [
       "<table>\n",
       "    <tr>\n",
       "        <th>sql</th>\n",
       "    </tr>\n",
       "    <tr>\n",
       "        <td>CREATE TABLE PRODUCT(<br>    PName VARCHAR(255) NOT NULL PRIMARY KEY,<br>    Price FLOAT,<br>    Category VARCHAR(255),<br>    Manufacturer VARCHAR(255)<br>)</td>\n",
       "    </tr>\n",
       "    <tr>\n",
       "        <td>None</td>\n",
       "    </tr>\n",
       "</table>"
      ],
      "text/plain": [
       "[('CREATE TABLE PRODUCT(\\n    PName VARCHAR(255) NOT NULL PRIMARY KEY,\\n    Price FLOAT,\\n    Category VARCHAR(255),\\n    Manufacturer VARCHAR(255)\\n)',),\n",
       " (None,)]"
      ]
     },
     "execution_count": 5,
     "metadata": {},
     "output_type": "execute_result"
    }
   ],
   "source": [
    "%sql SELECT sql FROM sqlite_master"
   ]
  },
  {
   "cell_type": "code",
   "execution_count": 6,
   "metadata": {},
   "outputs": [
    {
     "name": "stdout",
     "output_type": "stream",
     "text": [
      "Done.\n"
     ]
    },
    {
     "data": {
      "text/html": [
       "<table>\n",
       "    <tr>\n",
       "        <th>PName</th>\n",
       "        <th>Price</th>\n",
       "        <th>Category</th>\n",
       "        <th>Manufacturer</th>\n",
       "    </tr>\n",
       "    <tr>\n",
       "        <td>Grzmo</td>\n",
       "        <td>19.99</td>\n",
       "        <td>Gadgets</td>\n",
       "        <td>Gizmo Works</td>\n",
       "    </tr>\n",
       "    <tr>\n",
       "        <td>Powergizmo</td>\n",
       "        <td>29.99</td>\n",
       "        <td>Gadgets</td>\n",
       "        <td>Gizmo Works</td>\n",
       "    </tr>\n",
       "    <tr>\n",
       "        <td>SingleTouch</td>\n",
       "        <td>149.99</td>\n",
       "        <td>Photography</td>\n",
       "        <td>Camon</td>\n",
       "    </tr>\n",
       "    <tr>\n",
       "        <td>MultiTouch</td>\n",
       "        <td>203.99</td>\n",
       "        <td>Household</td>\n",
       "        <td>Hitachi</td>\n",
       "    </tr>\n",
       "</table>"
      ],
      "text/plain": [
       "[('Grzmo', 19.99, 'Gadgets', 'Gizmo Works'),\n",
       " ('Powergizmo', 29.99, 'Gadgets', 'Gizmo Works'),\n",
       " ('SingleTouch', 149.99, 'Photography', 'Camon'),\n",
       " ('MultiTouch', 203.99, 'Household', 'Hitachi')]"
      ]
     },
     "execution_count": 6,
     "metadata": {},
     "output_type": "execute_result"
    }
   ],
   "source": [
    "%%sql -- Without Where, the query returns all date in the table(s) defined in FROM\n",
    "SELECT * FROM product;"
   ]
  },
  {
   "cell_type": "code",
   "execution_count": 7,
   "metadata": {},
   "outputs": [
    {
     "name": "stdout",
     "output_type": "stream",
     "text": [
      "Done.\n"
     ]
    },
    {
     "data": {
      "text/html": [
       "<table>\n",
       "    <tr>\n",
       "        <th>PName</th>\n",
       "        <th>Price</th>\n",
       "        <th>Category</th>\n",
       "        <th>Manufacturer</th>\n",
       "    </tr>\n",
       "    <tr>\n",
       "        <td>Grzmo</td>\n",
       "        <td>19.99</td>\n",
       "        <td>Gadgets</td>\n",
       "        <td>Gizmo Works</td>\n",
       "    </tr>\n",
       "    <tr>\n",
       "        <td>Powergizmo</td>\n",
       "        <td>29.99</td>\n",
       "        <td>Gadgets</td>\n",
       "        <td>Gizmo Works</td>\n",
       "    </tr>\n",
       "</table>"
      ],
      "text/plain": [
       "[('Grzmo', 19.99, 'Gadgets', 'Gizmo Works'),\n",
       " ('Powergizmo', 29.99, 'Gadgets', 'Gizmo Works')]"
      ]
     },
     "execution_count": 7,
     "metadata": {},
     "output_type": "execute_result"
    }
   ],
   "source": [
    "%sql SELECT * FROM product where category = 'Gadgets';"
   ]
  },
  {
   "cell_type": "code",
   "execution_count": 8,
   "metadata": {},
   "outputs": [
    {
     "name": "stdout",
     "output_type": "stream",
     "text": [
      "Done.\n"
     ]
    },
    {
     "data": {
      "text/html": [
       "<table>\n",
       "    <tr>\n",
       "        <th>PName</th>\n",
       "        <th>Price</th>\n",
       "        <th>Category</th>\n",
       "        <th>Manufacturer</th>\n",
       "    </tr>\n",
       "    <tr>\n",
       "        <td>Grzmo</td>\n",
       "        <td>19.99</td>\n",
       "        <td>Gadgets</td>\n",
       "        <td>Gizmo Works</td>\n",
       "    </tr>\n",
       "    <tr>\n",
       "        <td>Powergizmo</td>\n",
       "        <td>29.99</td>\n",
       "        <td>Gadgets</td>\n",
       "        <td>Gizmo Works</td>\n",
       "    </tr>\n",
       "    <tr>\n",
       "        <td>SingleTouch</td>\n",
       "        <td>149.99</td>\n",
       "        <td>Photography</td>\n",
       "        <td>Camon</td>\n",
       "    </tr>\n",
       "    <tr>\n",
       "        <td>MultiTouch</td>\n",
       "        <td>203.99</td>\n",
       "        <td>Household</td>\n",
       "        <td>Hitachi</td>\n",
       "    </tr>\n",
       "</table>"
      ],
      "text/plain": [
       "[('Grzmo', 19.99, 'Gadgets', 'Gizmo Works'),\n",
       " ('Powergizmo', 29.99, 'Gadgets', 'Gizmo Works'),\n",
       " ('SingleTouch', 149.99, 'Photography', 'Camon'),\n",
       " ('MultiTouch', 203.99, 'Household', 'Hitachi')]"
      ]
     },
     "execution_count": 8,
     "metadata": {},
     "output_type": "execute_result"
    }
   ],
   "source": [
    "%sql SELECT * FROM Product;"
   ]
  },
  {
   "cell_type": "code",
   "execution_count": 9,
   "metadata": {},
   "outputs": [
    {
     "name": "stdout",
     "output_type": "stream",
     "text": [
      "Done.\n"
     ]
    },
    {
     "data": {
      "text/html": [
       "<table>\n",
       "    <tr>\n",
       "        <th>PName</th>\n",
       "        <th>Price</th>\n",
       "        <th>Category</th>\n",
       "        <th>Manufacturer</th>\n",
       "    </tr>\n",
       "    <tr>\n",
       "        <td>Grzmo</td>\n",
       "        <td>19.99</td>\n",
       "        <td>Gadgets</td>\n",
       "        <td>Gizmo Works</td>\n",
       "    </tr>\n",
       "    <tr>\n",
       "        <td>Powergizmo</td>\n",
       "        <td>29.99</td>\n",
       "        <td>Gadgets</td>\n",
       "        <td>Gizmo Works</td>\n",
       "    </tr>\n",
       "</table>"
      ],
      "text/plain": [
       "[('Grzmo', 19.99, 'Gadgets', 'Gizmo Works'),\n",
       " ('Powergizmo', 29.99, 'Gadgets', 'Gizmo Works')]"
      ]
     },
     "execution_count": 9,
     "metadata": {},
     "output_type": "execute_result"
    }
   ],
   "source": [
    "%sql SELECT * FROM product where price between 10 and 30;"
   ]
  },
  {
   "cell_type": "code",
   "execution_count": 10,
   "metadata": {},
   "outputs": [
    {
     "name": "stdout",
     "output_type": "stream",
     "text": [
      "Done.\n"
     ]
    },
    {
     "data": {
      "text/html": [
       "<table>\n",
       "    <tr>\n",
       "        <th>PName</th>\n",
       "        <th>Price</th>\n",
       "        <th>Category</th>\n",
       "        <th>Manufacturer</th>\n",
       "    </tr>\n",
       "    <tr>\n",
       "        <td>SingleTouch</td>\n",
       "        <td>149.99</td>\n",
       "        <td>Photography</td>\n",
       "        <td>Camon</td>\n",
       "    </tr>\n",
       "    <tr>\n",
       "        <td>MultiTouch</td>\n",
       "        <td>203.99</td>\n",
       "        <td>Household</td>\n",
       "        <td>Hitachi</td>\n",
       "    </tr>\n",
       "</table>"
      ],
      "text/plain": [
       "[('SingleTouch', 149.99, 'Photography', 'Camon'),\n",
       " ('MultiTouch', 203.99, 'Household', 'Hitachi')]"
      ]
     },
     "execution_count": 10,
     "metadata": {},
     "output_type": "execute_result"
    }
   ],
   "source": [
    "%sql SELECT * FROM product WHERE PName LIKE '%ouch%';"
   ]
  },
  {
   "cell_type": "code",
   "execution_count": 11,
   "metadata": {},
   "outputs": [
    {
     "name": "stdout",
     "output_type": "stream",
     "text": [
      "Done.\n"
     ]
    },
    {
     "data": {
      "text/html": [
       "<table>\n",
       "    <tr>\n",
       "        <th>Category</th>\n",
       "    </tr>\n",
       "    <tr>\n",
       "        <td>Gadgets</td>\n",
       "    </tr>\n",
       "    <tr>\n",
       "        <td>Gadgets</td>\n",
       "    </tr>\n",
       "    <tr>\n",
       "        <td>Photography</td>\n",
       "    </tr>\n",
       "    <tr>\n",
       "        <td>Household</td>\n",
       "    </tr>\n",
       "</table>"
      ],
      "text/plain": [
       "[('Gadgets',), ('Gadgets',), ('Photography',), ('Household',)]"
      ]
     },
     "execution_count": 11,
     "metadata": {},
     "output_type": "execute_result"
    }
   ],
   "source": [
    "%sql SELECT Category FROM Product;"
   ]
  },
  {
   "cell_type": "code",
   "execution_count": 12,
   "metadata": {},
   "outputs": [
    {
     "name": "stdout",
     "output_type": "stream",
     "text": [
      "Done.\n"
     ]
    },
    {
     "data": {
      "text/html": [
       "<table>\n",
       "    <tr>\n",
       "        <th>Category</th>\n",
       "    </tr>\n",
       "    <tr>\n",
       "        <td>Gadgets</td>\n",
       "    </tr>\n",
       "    <tr>\n",
       "        <td>Photography</td>\n",
       "    </tr>\n",
       "    <tr>\n",
       "        <td>Household</td>\n",
       "    </tr>\n",
       "</table>"
      ],
      "text/plain": [
       "[('Gadgets',), ('Photography',), ('Household',)]"
      ]
     },
     "execution_count": 12,
     "metadata": {},
     "output_type": "execute_result"
    }
   ],
   "source": [
    "%sql SELECT DISTINCT Category FROM Product;"
   ]
  },
  {
   "cell_type": "code",
   "execution_count": 13,
   "metadata": {},
   "outputs": [
    {
     "name": "stdout",
     "output_type": "stream",
     "text": [
      "Done.\n"
     ]
    },
    {
     "data": {
      "text/html": [
       "<table>\n",
       "    <tr>\n",
       "        <th>PName</th>\n",
       "        <th>Price</th>\n",
       "        <th>Category</th>\n",
       "        <th>Manufacturer</th>\n",
       "    </tr>\n",
       "    <tr>\n",
       "        <td>MultiTouch</td>\n",
       "        <td>203.99</td>\n",
       "        <td>Household</td>\n",
       "        <td>Hitachi</td>\n",
       "    </tr>\n",
       "    <tr>\n",
       "        <td>SingleTouch</td>\n",
       "        <td>149.99</td>\n",
       "        <td>Photography</td>\n",
       "        <td>Camon</td>\n",
       "    </tr>\n",
       "    <tr>\n",
       "        <td>Powergizmo</td>\n",
       "        <td>29.99</td>\n",
       "        <td>Gadgets</td>\n",
       "        <td>Gizmo Works</td>\n",
       "    </tr>\n",
       "    <tr>\n",
       "        <td>Grzmo</td>\n",
       "        <td>19.99</td>\n",
       "        <td>Gadgets</td>\n",
       "        <td>Gizmo Works</td>\n",
       "    </tr>\n",
       "</table>"
      ],
      "text/plain": [
       "[('MultiTouch', 203.99, 'Household', 'Hitachi'),\n",
       " ('SingleTouch', 149.99, 'Photography', 'Camon'),\n",
       " ('Powergizmo', 29.99, 'Gadgets', 'Gizmo Works'),\n",
       " ('Grzmo', 19.99, 'Gadgets', 'Gizmo Works')]"
      ]
     },
     "execution_count": 13,
     "metadata": {},
     "output_type": "execute_result"
    }
   ],
   "source": [
    "%sql SELECT * FROM product ORDer BY price DESC"
   ]
  },
  {
   "cell_type": "code",
   "execution_count": 14,
   "metadata": {},
   "outputs": [
    {
     "name": "stdout",
     "output_type": "stream",
     "text": [
      "Done.\n"
     ]
    },
    {
     "data": {
      "text/plain": [
       "[]"
      ]
     },
     "execution_count": 14,
     "metadata": {},
     "output_type": "execute_result"
    }
   ],
   "source": [
    "%%sql\n",
    "CREATE TABLE Company(\n",
    "    CName varchar(255) NOT NULL PRIMARY KEY,\n",
    "    StockPrice FLOAT,\n",
    "    Country varchar(255)\n",
    ");"
   ]
  },
  {
   "cell_type": "code",
   "execution_count": 15,
   "metadata": {},
   "outputs": [
    {
     "name": "stdout",
     "output_type": "stream",
     "text": [
      "Done.\n"
     ]
    },
    {
     "data": {
      "text/plain": [
       "[]"
      ]
     },
     "execution_count": 15,
     "metadata": {},
     "output_type": "execute_result"
    }
   ],
   "source": [
    "%%sql\n",
    "CREATE TABLE Purchase(\n",
    "    id varchar(255) PRIMARY KEY,\n",
    "    Product varchar(255) NOT NULL,\n",
    "    buyer VARCHAR(255) NOT NULL,\n",
    "    FOREIGN KEY (product) REFERENCES Product(PName)\n",
    ");"
   ]
  },
  {
   "cell_type": "code",
   "execution_count": 16,
   "metadata": {},
   "outputs": [
    {
     "name": "stdout",
     "output_type": "stream",
     "text": [
      "1 rows affected.\n",
      "1 rows affected.\n",
      "1 rows affected.\n",
      "1 rows affected.\n",
      "1 rows affected.\n",
      "1 rows affected.\n",
      "1 rows affected.\n",
      "1 rows affected.\n",
      "1 rows affected.\n"
     ]
    },
    {
     "data": {
      "text/plain": [
       "[]"
      ]
     },
     "execution_count": 16,
     "metadata": {},
     "output_type": "execute_result"
    }
   ],
   "source": [
    "%%sql\n",
    "INSERT INTO Company VALUES('GWorks', 25, 'USA');\n",
    "INSERT INTO Company VALUES('Canon', 65, 'Japan');\n",
    "INSERT INTO Company VALUES('Hitachi', 15, 'Japan');\n",
    "INSERT INTO Company VALUES('IBM', 140, 'USA');\n",
    "\n",
    "INSERT INTO Purchase VALUES (1, 'Gizmo', 'Joe Blow');\n",
    "INSERT INTO Purchase VALUES (2, 'Gizmo', 'Joe Blow');\n",
    "INSERT INTO Purchase VALUES (3, 'SingleTouch', 'Mr Smith');\n",
    "INSERT INTO Purchase VALUES (4, 'MultiTouch', 'Mr Smith');\n",
    "INSERT INTO Purchase VALUES (5, 'Gizmo', 'Mr Smith');"
   ]
  },
  {
   "cell_type": "code",
   "execution_count": 17,
   "metadata": {},
   "outputs": [
    {
     "name": "stdout",
     "output_type": "stream",
     "text": [
      "Done.\n"
     ]
    },
    {
     "data": {
      "text/html": [
       "<table>\n",
       "    <tr>\n",
       "        <th>cid</th>\n",
       "        <th>name</th>\n",
       "        <th>type</th>\n",
       "        <th>notnull</th>\n",
       "        <th>dflt_value</th>\n",
       "        <th>pk</th>\n",
       "    </tr>\n",
       "    <tr>\n",
       "        <td>0</td>\n",
       "        <td>PName</td>\n",
       "        <td>VARCHAR(255)</td>\n",
       "        <td>1</td>\n",
       "        <td>None</td>\n",
       "        <td>1</td>\n",
       "    </tr>\n",
       "    <tr>\n",
       "        <td>1</td>\n",
       "        <td>Price</td>\n",
       "        <td>FLOAT</td>\n",
       "        <td>0</td>\n",
       "        <td>None</td>\n",
       "        <td>0</td>\n",
       "    </tr>\n",
       "    <tr>\n",
       "        <td>2</td>\n",
       "        <td>Category</td>\n",
       "        <td>VARCHAR(255)</td>\n",
       "        <td>0</td>\n",
       "        <td>None</td>\n",
       "        <td>0</td>\n",
       "    </tr>\n",
       "    <tr>\n",
       "        <td>3</td>\n",
       "        <td>Manufacturer</td>\n",
       "        <td>VARCHAR(255)</td>\n",
       "        <td>0</td>\n",
       "        <td>None</td>\n",
       "        <td>0</td>\n",
       "    </tr>\n",
       "</table>"
      ],
      "text/plain": [
       "[(0, 'PName', 'VARCHAR(255)', 1, None, 1),\n",
       " (1, 'Price', 'FLOAT', 0, None, 0),\n",
       " (2, 'Category', 'VARCHAR(255)', 0, None, 0),\n",
       " (3, 'Manufacturer', 'VARCHAR(255)', 0, None, 0)]"
      ]
     },
     "execution_count": 17,
     "metadata": {},
     "output_type": "execute_result"
    }
   ],
   "source": [
    "%sql pragma table_info(Product);"
   ]
  },
  {
   "cell_type": "code",
   "execution_count": 18,
   "metadata": {},
   "outputs": [
    {
     "name": "stdout",
     "output_type": "stream",
     "text": [
      "Done.\n"
     ]
    },
    {
     "data": {
      "text/html": [
       "<table>\n",
       "    <tr>\n",
       "        <th>cid</th>\n",
       "        <th>name</th>\n",
       "        <th>type</th>\n",
       "        <th>notnull</th>\n",
       "        <th>dflt_value</th>\n",
       "        <th>pk</th>\n",
       "    </tr>\n",
       "    <tr>\n",
       "        <td>0</td>\n",
       "        <td>id</td>\n",
       "        <td>varchar(255)</td>\n",
       "        <td>0</td>\n",
       "        <td>None</td>\n",
       "        <td>1</td>\n",
       "    </tr>\n",
       "    <tr>\n",
       "        <td>1</td>\n",
       "        <td>Product</td>\n",
       "        <td>varchar(255)</td>\n",
       "        <td>1</td>\n",
       "        <td>None</td>\n",
       "        <td>0</td>\n",
       "    </tr>\n",
       "    <tr>\n",
       "        <td>2</td>\n",
       "        <td>buyer</td>\n",
       "        <td>VARCHAR(255)</td>\n",
       "        <td>1</td>\n",
       "        <td>None</td>\n",
       "        <td>0</td>\n",
       "    </tr>\n",
       "</table>"
      ],
      "text/plain": [
       "[(0, 'id', 'varchar(255)', 0, None, 1),\n",
       " (1, 'Product', 'varchar(255)', 1, None, 0),\n",
       " (2, 'buyer', 'VARCHAR(255)', 1, None, 0)]"
      ]
     },
     "execution_count": 18,
     "metadata": {},
     "output_type": "execute_result"
    }
   ],
   "source": [
    "%sql pragma table_info(Purchase);"
   ]
  },
  {
   "cell_type": "code",
   "execution_count": 19,
   "metadata": {},
   "outputs": [
    {
     "name": "stdout",
     "output_type": "stream",
     "text": [
      "Done.\n",
      "Done.\n",
      "Done.\n",
      "Done.\n",
      "Done.\n",
      "1 rows affected.\n",
      "1 rows affected.\n",
      "1 rows affected.\n",
      "1 rows affected.\n"
     ]
    },
    {
     "data": {
      "text/plain": [
       "[]"
      ]
     },
     "execution_count": 19,
     "metadata": {},
     "output_type": "execute_result"
    }
   ],
   "source": [
    "%%sql -- Antoher set of tables\n",
    "\n",
    "-- Create tables\n",
    "DROP TABLE IF EXISTS P;\n",
    "CREATE TABLE P (\n",
    "    A INT\n",
    ");\n",
    "\n",
    "DROP TABLE IF EXISTS Q;\n",
    "CREATE TABLE Q(\n",
    "    B INT,\n",
    "    C INT\n",
    ");\n",
    "\n",
    "-- Insert tuoleshh\n",
    "INSERT INTO P VALUES(1);\n",
    "INSERT INTO P VALUES(3);\n",
    "\n",
    "INSERT INTO Q VALUES(2,3);\n",
    "INSERT INTO Q VALUES(3,4);\n",
    "INSERT INTO Q VALUES(3,5);"
   ]
  },
  {
   "cell_type": "code",
   "execution_count": 20,
   "metadata": {},
   "outputs": [
    {
     "name": "stdout",
     "output_type": "stream",
     "text": [
      "Done.\n"
     ]
    },
    {
     "data": {
      "text/html": [
       "<table>\n",
       "    <tr>\n",
       "        <th>name</th>\n",
       "    </tr>\n",
       "    <tr>\n",
       "        <td>PRODUCT</td>\n",
       "    </tr>\n",
       "    <tr>\n",
       "        <td>Company</td>\n",
       "    </tr>\n",
       "    <tr>\n",
       "        <td>Purchase</td>\n",
       "    </tr>\n",
       "    <tr>\n",
       "        <td>P</td>\n",
       "    </tr>\n",
       "    <tr>\n",
       "        <td>Q</td>\n",
       "    </tr>\n",
       "</table>"
      ],
      "text/plain": [
       "[('PRODUCT',), ('Company',), ('Purchase',), ('P',), ('Q',)]"
      ]
     },
     "execution_count": 20,
     "metadata": {},
     "output_type": "execute_result"
    }
   ],
   "source": [
    "%sql SELECT name FROM sqlite_master where type = 'table';"
   ]
  },
  {
   "cell_type": "code",
   "execution_count": 21,
   "metadata": {},
   "outputs": [
    {
     "name": "stdout",
     "output_type": "stream",
     "text": [
      "Done.\n",
      "Done.\n"
     ]
    },
    {
     "data": {
      "text/html": [
       "<table>\n",
       "    <tr>\n",
       "        <th>PName</th>\n",
       "        <th>Price</th>\n",
       "        <th>Category</th>\n",
       "        <th>Manufacturer</th>\n",
       "    </tr>\n",
       "    <tr>\n",
       "        <td>Grzmo</td>\n",
       "        <td>19.99</td>\n",
       "        <td>Gadgets</td>\n",
       "        <td>GWorks</td>\n",
       "    </tr>\n",
       "    <tr>\n",
       "        <td>Powergizmo</td>\n",
       "        <td>29.99</td>\n",
       "        <td>Gadgets</td>\n",
       "        <td>GWorks</td>\n",
       "    </tr>\n",
       "    <tr>\n",
       "        <td>SingleTouch</td>\n",
       "        <td>149.99</td>\n",
       "        <td>Photography</td>\n",
       "        <td>Camon</td>\n",
       "    </tr>\n",
       "    <tr>\n",
       "        <td>MultiTouch</td>\n",
       "        <td>203.99</td>\n",
       "        <td>Household</td>\n",
       "        <td>Hitachi</td>\n",
       "    </tr>\n",
       "</table>"
      ],
      "text/plain": [
       "[('Grzmo', 19.99, 'Gadgets', 'GWorks'),\n",
       " ('Powergizmo', 29.99, 'Gadgets', 'GWorks'),\n",
       " ('SingleTouch', 149.99, 'Photography', 'Camon'),\n",
       " ('MultiTouch', 203.99, 'Household', 'Hitachi')]"
      ]
     },
     "execution_count": 21,
     "metadata": {},
     "output_type": "execute_result"
    }
   ],
   "source": [
    "%%sql -- Product table\n",
    "UPDATE Product SET Manufacturer = 'GWorks' WHERE Manufacturer = 'Gizmo Works';\n",
    "SELECT * FROM Product;"
   ]
  },
  {
   "cell_type": "code",
   "execution_count": 22,
   "metadata": {},
   "outputs": [
    {
     "name": "stdout",
     "output_type": "stream",
     "text": [
      "Done.\n"
     ]
    },
    {
     "data": {
      "text/html": [
       "<table>\n",
       "    <tr>\n",
       "        <th>CName</th>\n",
       "        <th>StockPrice</th>\n",
       "        <th>Country</th>\n",
       "    </tr>\n",
       "    <tr>\n",
       "        <td>GWorks</td>\n",
       "        <td>25.0</td>\n",
       "        <td>USA</td>\n",
       "    </tr>\n",
       "    <tr>\n",
       "        <td>Canon</td>\n",
       "        <td>65.0</td>\n",
       "        <td>Japan</td>\n",
       "    </tr>\n",
       "    <tr>\n",
       "        <td>Hitachi</td>\n",
       "        <td>15.0</td>\n",
       "        <td>Japan</td>\n",
       "    </tr>\n",
       "    <tr>\n",
       "        <td>IBM</td>\n",
       "        <td>140.0</td>\n",
       "        <td>USA</td>\n",
       "    </tr>\n",
       "</table>"
      ],
      "text/plain": [
       "[('GWorks', 25.0, 'USA'),\n",
       " ('Canon', 65.0, 'Japan'),\n",
       " ('Hitachi', 15.0, 'Japan'),\n",
       " ('IBM', 140.0, 'USA')]"
      ]
     },
     "execution_count": 22,
     "metadata": {},
     "output_type": "execute_result"
    }
   ],
   "source": [
    "%%sql --Company Table\n",
    "SELECT * FROM Company"
   ]
  },
  {
   "cell_type": "code",
   "execution_count": 23,
   "metadata": {},
   "outputs": [
    {
     "name": "stdout",
     "output_type": "stream",
     "text": [
      "Done.\n"
     ]
    },
    {
     "data": {
      "text/html": [
       "<table>\n",
       "    <tr>\n",
       "        <th>PName</th>\n",
       "        <th>Price</th>\n",
       "    </tr>\n",
       "    <tr>\n",
       "        <td>MultiTouch</td>\n",
       "        <td>203.99</td>\n",
       "    </tr>\n",
       "</table>"
      ],
      "text/plain": [
       "[('MultiTouch', 203.99)]"
      ]
     },
     "execution_count": 23,
     "metadata": {},
     "output_type": "execute_result"
    }
   ],
   "source": [
    "%%sql\n",
    "Select PName, Price FROM Product, Company WHERE Manufacturer = CName AND Country = 'Japan';"
   ]
  },
  {
   "cell_type": "code",
   "execution_count": 24,
   "metadata": {},
   "outputs": [
    {
     "name": "stdout",
     "output_type": "stream",
     "text": [
      "Done.\n"
     ]
    },
    {
     "data": {
      "text/html": [
       "<table>\n",
       "    <tr>\n",
       "        <th>PName</th>\n",
       "        <th>Price</th>\n",
       "    </tr>\n",
       "</table>"
      ],
      "text/plain": [
       "[]"
      ]
     },
     "execution_count": 24,
     "metadata": {},
     "output_type": "execute_result"
    }
   ],
   "source": [
    "%%sql\n",
    "SELECT PName, Price\n",
    "FROM Product, COmpany\n",
    "WHERE Manufacturer = CName\n",
    "    AND Country = 'Japan'\n",
    "    AND Price <= 200;"
   ]
  },
  {
   "cell_type": "code",
   "execution_count": 25,
   "metadata": {},
   "outputs": [
    {
     "name": "stdout",
     "output_type": "stream",
     "text": [
      "Done.\n"
     ]
    },
    {
     "data": {
      "text/html": [
       "<table>\n",
       "    <tr>\n",
       "        <th>A</th>\n",
       "    </tr>\n",
       "    <tr>\n",
       "        <td>3</td>\n",
       "    </tr>\n",
       "    <tr>\n",
       "        <td>3</td>\n",
       "    </tr>\n",
       "</table>"
      ],
      "text/plain": [
       "[(3,), (3,)]"
      ]
     },
     "execution_count": 25,
     "metadata": {},
     "output_type": "execute_result"
    }
   ],
   "source": [
    "%%sql\n",
    "SELECT P.A\n",
    "FROM P,Q\n",
    "WHERE P.A = Q.B"
   ]
  },
  {
   "cell_type": "code",
   "execution_count": 26,
   "metadata": {},
   "outputs": [
    {
     "name": "stdout",
     "output_type": "stream",
     "text": [
      "Done.\n"
     ]
    },
    {
     "data": {
      "text/html": [
       "<table>\n",
       "    <tr>\n",
       "        <th>Country</th>\n",
       "    </tr>\n",
       "    <tr>\n",
       "        <td>USA</td>\n",
       "    </tr>\n",
       "    <tr>\n",
       "        <td>USA</td>\n",
       "    </tr>\n",
       "</table>"
      ],
      "text/plain": [
       "[('USA',), ('USA',)]"
      ]
     },
     "execution_count": 26,
     "metadata": {},
     "output_type": "execute_result"
    }
   ],
   "source": [
    "%%sql\n",
    "Select Country\n",
    "FROM Product, Company\n",
    "WHERE Manufacturer = CName\n",
    "    AND Category = 'Gadgets'"
   ]
  },
  {
   "cell_type": "code",
   "execution_count": 27,
   "metadata": {},
   "outputs": [
    {
     "name": "stdout",
     "output_type": "stream",
     "text": [
      "Done.\n"
     ]
    },
    {
     "data": {
      "text/html": [
       "<table>\n",
       "    <tr>\n",
       "        <th>PName</th>\n",
       "        <th>Price</th>\n",
       "        <th>Category</th>\n",
       "        <th>Manufacturer</th>\n",
       "        <th>CName</th>\n",
       "        <th>StockPrice</th>\n",
       "        <th>Country</th>\n",
       "    </tr>\n",
       "    <tr>\n",
       "        <td>Grzmo</td>\n",
       "        <td>19.99</td>\n",
       "        <td>Gadgets</td>\n",
       "        <td>GWorks</td>\n",
       "        <td>GWorks</td>\n",
       "        <td>25.0</td>\n",
       "        <td>USA</td>\n",
       "    </tr>\n",
       "    <tr>\n",
       "        <td>Powergizmo</td>\n",
       "        <td>29.99</td>\n",
       "        <td>Gadgets</td>\n",
       "        <td>GWorks</td>\n",
       "        <td>GWorks</td>\n",
       "        <td>25.0</td>\n",
       "        <td>USA</td>\n",
       "    </tr>\n",
       "</table>"
      ],
      "text/plain": [
       "[('Grzmo', 19.99, 'Gadgets', 'GWorks', 'GWorks', 25.0, 'USA'),\n",
       " ('Powergizmo', 29.99, 'Gadgets', 'GWorks', 'GWorks', 25.0, 'USA')]"
      ]
     },
     "execution_count": 27,
     "metadata": {},
     "output_type": "execute_result"
    }
   ],
   "source": [
    "%%sql\n",
    "SELECT * FROM product, company where Manufacturer = CName AND Category = 'Gadgets';"
   ]
  },
  {
   "cell_type": "code",
   "execution_count": 28,
   "metadata": {},
   "outputs": [
    {
     "name": "stdout",
     "output_type": "stream",
     "text": [
      "Done.\n",
      "Done.\n",
      "Done.\n",
      "Done.\n",
      "Done.\n",
      "Done.\n",
      "1 rows affected.\n",
      "1 rows affected.\n",
      "1 rows affected.\n",
      "1 rows affected.\n",
      "1 rows affected.\n",
      "1 rows affected.\n",
      "1 rows affected.\n",
      "1 rows affected.\n",
      "1 rows affected.\n",
      "1 rows affected.\n",
      "1 rows affected.\n",
      "1 rows affected.\n",
      "1 rows affected.\n",
      "1 rows affected.\n"
     ]
    }
   ],
   "source": [
    "# Create tables & insert some numbers\n",
    "%sql DROP TABLE IF EXISTS R;\n",
    "%sql DROP TABLE IF EXISTS S;\n",
    "%sql DROP TABLE IF EXISTS T;\n",
    "\n",
    "%sql CREATE TABLE R (A INT);\n",
    "%sql CREATE TABLE S (A INT);\n",
    "%sql CREATE TABLE T (A INT);\n",
    "\n",
    "for i in range(1,6):\n",
    "    %sql INSERT INTO R VALUES(:i)\n",
    "\n",
    "for i in range(1,10,2):\n",
    "    %sql INSERT INTO S VALUES(:i)\n",
    "\n",
    "for i in range(1,11,3):\n",
    "    %sql INSERT INTO T VALUES(:i)"
   ]
  },
  {
   "cell_type": "code",
   "execution_count": 29,
   "metadata": {},
   "outputs": [
    {
     "name": "stdout",
     "output_type": "stream",
     "text": [
      "Done.\n"
     ]
    },
    {
     "data": {
      "text/html": [
       "<table>\n",
       "    <tr>\n",
       "        <th>A</th>\n",
       "    </tr>\n",
       "    <tr>\n",
       "        <td>1</td>\n",
       "    </tr>\n",
       "</table>"
      ],
      "text/plain": [
       "[(1,)]"
      ]
     },
     "execution_count": 29,
     "metadata": {},
     "output_type": "execute_result"
    }
   ],
   "source": [
    "%%sql\n",
    "SELECT R.A FROM R,S WHERE R.A = S.A\n",
    "INTERSECT\n",
    "SELECT R.A FROM R,T WHERE R.A = T.A;"
   ]
  },
  {
   "cell_type": "code",
   "execution_count": 30,
   "metadata": {},
   "outputs": [
    {
     "name": "stdout",
     "output_type": "stream",
     "text": [
      "Done.\n"
     ]
    },
    {
     "data": {
      "text/html": [
       "<table>\n",
       "    <tr>\n",
       "        <th>A</th>\n",
       "    </tr>\n",
       "    <tr>\n",
       "        <td>3</td>\n",
       "    </tr>\n",
       "    <tr>\n",
       "        <td>5</td>\n",
       "    </tr>\n",
       "</table>"
      ],
      "text/plain": [
       "[(3,), (5,)]"
      ]
     },
     "execution_count": 30,
     "metadata": {},
     "output_type": "execute_result"
    }
   ],
   "source": [
    "%%sql\n",
    "SELECT R.A FROM R,S WHERE R.A = S.A\n",
    "EXCEPT\n",
    "SELECT R.A FROM R,T WHERE R.A = T.A;"
   ]
  },
  {
   "cell_type": "code",
   "execution_count": 31,
   "metadata": {},
   "outputs": [
    {
     "name": "stdout",
     "output_type": "stream",
     "text": [
      "Done.\n"
     ]
    },
    {
     "data": {
      "text/html": [
       "<table>\n",
       "    <tr>\n",
       "        <th>id</th>\n",
       "        <th>Product</th>\n",
       "        <th>buyer</th>\n",
       "    </tr>\n",
       "    <tr>\n",
       "        <td>1</td>\n",
       "        <td>Gizmo</td>\n",
       "        <td>Joe Blow</td>\n",
       "    </tr>\n",
       "    <tr>\n",
       "        <td>2</td>\n",
       "        <td>Gizmo</td>\n",
       "        <td>Joe Blow</td>\n",
       "    </tr>\n",
       "    <tr>\n",
       "        <td>3</td>\n",
       "        <td>SingleTouch</td>\n",
       "        <td>Mr Smith</td>\n",
       "    </tr>\n",
       "    <tr>\n",
       "        <td>4</td>\n",
       "        <td>MultiTouch</td>\n",
       "        <td>Mr Smith</td>\n",
       "    </tr>\n",
       "    <tr>\n",
       "        <td>5</td>\n",
       "        <td>Gizmo</td>\n",
       "        <td>Mr Smith</td>\n",
       "    </tr>\n",
       "</table>"
      ],
      "text/plain": [
       "[('1', 'Gizmo', 'Joe Blow'),\n",
       " ('2', 'Gizmo', 'Joe Blow'),\n",
       " ('3', 'SingleTouch', 'Mr Smith'),\n",
       " ('4', 'MultiTouch', 'Mr Smith'),\n",
       " ('5', 'Gizmo', 'Mr Smith')]"
      ]
     },
     "execution_count": 31,
     "metadata": {},
     "output_type": "execute_result"
    }
   ],
   "source": [
    "%sql SELECT * FROM Purchase;"
   ]
  },
  {
   "cell_type": "code",
   "execution_count": 35,
   "metadata": {},
   "outputs": [
    {
     "name": "stdout",
     "output_type": "stream",
     "text": [
      "Done.\n"
     ]
    },
    {
     "data": {
      "text/html": [
       "<table>\n",
       "    <tr>\n",
       "        <th>Country</th>\n",
       "    </tr>\n",
       "</table>"
      ],
      "text/plain": [
       "[]"
      ]
     },
     "execution_count": 35,
     "metadata": {},
     "output_type": "execute_result"
    }
   ],
   "source": [
    "%%sql\n",
    "SELECT c.country\n",
    "FROM Company c\n",
    "Where CName IN (Select pr.Manufacturer\n",
    "               From Purchase p, Product pr\n",
    "               WHERE p.product = pr.PName\n",
    "               AND p.buyer = 'Joe Blow');"
   ]
  },
  {
   "cell_type": "code",
   "execution_count": 38,
   "metadata": {},
   "outputs": [
    {
     "name": "stdout",
     "output_type": "stream",
     "text": [
      "Done.\n"
     ]
    },
    {
     "data": {
      "text/html": [
       "<table>\n",
       "    <tr>\n",
       "        <th>Manufacturer</th>\n",
       "    </tr>\n",
       "</table>"
      ],
      "text/plain": [
       "[]"
      ]
     },
     "execution_count": 38,
     "metadata": {},
     "output_type": "execute_result"
    }
   ],
   "source": [
    "%%sql\n",
    "SELECT pr.Manufacturer\n",
    "                  FROM Purchase p, Product pr\n",
    "                  WHERE p.product = pr.PName\n",
    "                        AND p.buyer = 'Joe Blow'"
   ]
  },
  {
   "cell_type": "code",
   "execution_count": null,
   "metadata": {
    "collapsed": true
   },
   "outputs": [],
   "source": []
  }
 ],
 "metadata": {
  "kernelspec": {
   "display_name": "Python 3",
   "language": "python",
   "name": "python3"
  },
  "language_info": {
   "codemirror_mode": {
    "name": "ipython",
    "version": 3
   },
   "file_extension": ".py",
   "mimetype": "text/x-python",
   "name": "python",
   "nbconvert_exporter": "python",
   "pygments_lexer": "ipython3",
   "version": "3.6.2"
  }
 },
 "nbformat": 4,
 "nbformat_minor": 2
}
