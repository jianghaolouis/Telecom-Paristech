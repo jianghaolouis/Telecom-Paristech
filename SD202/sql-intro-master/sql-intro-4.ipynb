{
 "cells": [
  {
   "cell_type": "markdown",
   "metadata": {},
   "source": [
    "Create the tables for this section."
   ]
  },
  {
   "cell_type": "code",
   "execution_count": 1,
   "metadata": {},
   "outputs": [
    {
     "data": {
      "text/plain": [
       "'Connected: None@None'"
      ]
     },
     "execution_count": 1,
     "metadata": {},
     "output_type": "execute_result"
    }
   ],
   "source": [
    "%load_ext sql       \n",
    "# Connect to an empty SQLite database\n",
    "%sql sqlite://"
   ]
  },
  {
   "cell_type": "code",
   "execution_count": 2,
   "metadata": {},
   "outputs": [
    {
     "name": "stdout",
     "output_type": "stream",
     "text": [
      "Done.\n",
      "Done.\n",
      "Done.\n",
      "1 rows affected.\n",
      "1 rows affected.\n",
      "1 rows affected.\n",
      "Done.\n"
     ]
    },
    {
     "data": {
      "text/html": [
       "<table>\n",
       "    <tr>\n",
       "        <th>Product</th>\n",
       "        <th>Date</th>\n",
       "        <th>Price</th>\n",
       "        <th>Quantity</th>\n",
       "    </tr>\n",
       "    <tr>\n",
       "        <td>Bagel</td>\n",
       "        <td>10/21</td>\n",
       "        <td>1.0</td>\n",
       "        <td>20</td>\n",
       "    </tr>\n",
       "    <tr>\n",
       "        <td>Bagel</td>\n",
       "        <td>10/25</td>\n",
       "        <td>1.5</td>\n",
       "        <td>20</td>\n",
       "    </tr>\n",
       "    <tr>\n",
       "        <td>Banana</td>\n",
       "        <td>10/3</td>\n",
       "        <td>0.5</td>\n",
       "        <td>10</td>\n",
       "    </tr>\n",
       "    <tr>\n",
       "        <td>Banana</td>\n",
       "        <td>10/10</td>\n",
       "        <td>1.0</td>\n",
       "        <td>10</td>\n",
       "    </tr>\n",
       "</table>"
      ],
      "text/plain": [
       "[('Bagel', '10/21', 1.0, 20),\n",
       " ('Bagel', '10/25', 1.5, 20),\n",
       " ('Banana', '10/3', 0.5, 10),\n",
       " ('Banana', '10/10', 1.0, 10)]"
      ]
     },
     "execution_count": 2,
     "metadata": {},
     "output_type": "execute_result"
    }
   ],
   "source": [
    "%%sql\n",
    "DROP TABLE IF EXISTS Purchase;\n",
    "-- Create tables\n",
    "CREATE TABLE Purchase (\n",
    "    Product  VARCHAR(255), \n",
    "    Date     DATE, \n",
    "    Price    FLOAT,\n",
    "    Quantity INT\n",
    ");\n",
    "\n",
    "-- Insert tuples\n",
    "INSERT INTO Purchase VALUES ('Bagel', '10/21', 1, 20);\n",
    "INSERT INTO Purchase VALUES ('Bagel', '10/25', 1.5, 20);\n",
    "INSERT INTO Purchase VALUES ('Banana', '10/3', 0.5, 10);\n",
    "INSERT INTO Purchase VALUES ('Banana', '10/10', 1, 10);\n",
    "\n",
    "SELECT * FROM Purchase;"
   ]
  },
  {
   "cell_type": "markdown",
   "metadata": {},
   "source": [
    "## Aggregation Operations\n",
    "\n",
    "SQL support several __aggregation__ operations\n",
    "* SUM, COUNT, MIN, MAX, AVG\n",
    "* Except COUNT, all aggregations apply to a signle attribute"
   ]
  },
  {
   "cell_type": "markdown",
   "metadata": {},
   "source": [
    "### COUNT\n",
    "\n",
    "Syntax\n",
    "```mysql\n",
    "SELECT COUNT(column_name)\n",
    "FROM   table_name\n",
    "WHERE  condition;\n",
    "```\n",
    "  \n",
    "> __Example:__ Find the number of purchases\n",
    "\n",
    "| Product | Date  | Price | Quantity |\n",
    "|---------|-------|-------|----------|\n",
    "| Bagel   | 10/21 | 1     | 20       |\n",
    "| Bagel   | 10/25 | 1.5   | 20       |\n",
    "| Banana  | 10/3  | 0.5   | 10       |\n",
    "| Banana  | 10/10 | 1     | 10       |"
   ]
  },
  {
   "cell_type": "code",
   "execution_count": 3,
   "metadata": {},
   "outputs": [
    {
     "name": "stdout",
     "output_type": "stream",
     "text": [
      "Done.\n"
     ]
    },
    {
     "data": {
      "text/html": [
       "<table>\n",
       "    <tr>\n",
       "        <th>COUNT(Product)</th>\n",
       "    </tr>\n",
       "    <tr>\n",
       "        <td>4</td>\n",
       "    </tr>\n",
       "</table>"
      ],
      "text/plain": [
       "[(4,)]"
      ]
     },
     "execution_count": 3,
     "metadata": {},
     "output_type": "execute_result"
    }
   ],
   "source": [
    "%%sql\n",
    "SELECT COUNT(Product)\n",
    "FROM   Purchase;"
   ]
  },
  {
   "cell_type": "markdown",
   "metadata": {},
   "source": [
    "* Count applies to duplicates, unless otherwise stated\n",
    "  * Same as ```COUNT(*)```. Why?\n",
    "  \n",
    "> __Example:__ Find the number of different product purchases\n",
    "\n",
    "* Use DISTINCT"
   ]
  },
  {
   "cell_type": "code",
   "execution_count": 4,
   "metadata": {},
   "outputs": [
    {
     "name": "stdout",
     "output_type": "stream",
     "text": [
      "Done.\n"
     ]
    },
    {
     "data": {
      "text/html": [
       "<table>\n",
       "    <tr>\n",
       "        <th>COUNT(DISTINCT Product)</th>\n",
       "    </tr>\n",
       "    <tr>\n",
       "        <td>2</td>\n",
       "    </tr>\n",
       "</table>"
      ],
      "text/plain": [
       "[(2,)]"
      ]
     },
     "execution_count": 4,
     "metadata": {},
     "output_type": "execute_result"
    }
   ],
   "source": [
    "%%sql\n",
    "SELECT COUNT(DISTINCT Product)\n",
    "FROM   Purchase;"
   ]
  },
  {
   "cell_type": "markdown",
   "metadata": {},
   "source": [
    "### SUM\n",
    "\n",
    "Syntax\n",
    "```mysql\n",
    "SELECT SUM(column_name)\n",
    "FROM   table_name\n",
    "WHERE  condition;\n",
    "```\n",
    "\n",
    "> __Example:__ How many units of all products have been purchased?\n",
    "\n",
    "| Product | Date  | Price | Quantity |\n",
    "|---------|-------|-------|----------|\n",
    "| Bagel   | 10/21 | 1     | 20       |\n",
    "| Bagel   | 10/25 | 1.5   | 20       |\n",
    "| Banana  | 10/3  | 0.5   | 10       |\n",
    "| Banana  | 10/10 | 1     | 10       |"
   ]
  },
  {
   "cell_type": "code",
   "execution_count": 5,
   "metadata": {},
   "outputs": [
    {
     "name": "stdout",
     "output_type": "stream",
     "text": [
      "Done.\n"
     ]
    },
    {
     "data": {
      "text/html": [
       "<table>\n",
       "    <tr>\n",
       "        <th>SUM(Quantity)</th>\n",
       "    </tr>\n",
       "    <tr>\n",
       "        <td>60</td>\n",
       "    </tr>\n",
       "</table>"
      ],
      "text/plain": [
       "[(60,)]"
      ]
     },
     "execution_count": 5,
     "metadata": {},
     "output_type": "execute_result"
    }
   ],
   "source": [
    "%%sql\n",
    "SELECT SUM(Quantity)\n",
    "FROM   Purchase;"
   ]
  },
  {
   "cell_type": "markdown",
   "metadata": {},
   "source": [
    "> __Example:__ How many Bagels have been purchased?"
   ]
  },
  {
   "cell_type": "code",
   "execution_count": 6,
   "metadata": {},
   "outputs": [
    {
     "name": "stdout",
     "output_type": "stream",
     "text": [
      "Done.\n"
     ]
    },
    {
     "data": {
      "text/html": [
       "<table>\n",
       "    <tr>\n",
       "        <th>SUM(Quantity)</th>\n",
       "    </tr>\n",
       "    <tr>\n",
       "        <td>40</td>\n",
       "    </tr>\n",
       "</table>"
      ],
      "text/plain": [
       "[(40,)]"
      ]
     },
     "execution_count": 6,
     "metadata": {},
     "output_type": "execute_result"
    }
   ],
   "source": [
    "%%sql\n",
    "SELECT SUM(Quantity)\n",
    "FROM   Purchase\n",
    "WHERE  Product = 'Bagel'"
   ]
  },
  {
   "cell_type": "markdown",
   "metadata": {},
   "source": [
    "## AVG\n",
    "\n",
    "Syntax\n",
    "```mysql\n",
    "SELECT AVG(column_name)\n",
    "FROM   table_name\n",
    "WHERE  condition;\n",
    "```\n",
    "\n",
    "> __Example:__ What is the average sell price of Bagels?\n",
    "\n",
    "| Product | Date  | Price | Quantity |\n",
    "|---------|-------|-------|----------|\n",
    "| Bagel   | 10/21 | 1     | 20       |\n",
    "| Bagel   | 10/25 | 1.5   | 20       |\n",
    "| Banana  | 10/3  | 0.5   | 10       |\n",
    "| Banana  | 10/10 | 1     | 10       |"
   ]
  },
  {
   "cell_type": "code",
   "execution_count": 7,
   "metadata": {},
   "outputs": [
    {
     "name": "stdout",
     "output_type": "stream",
     "text": [
      "Done.\n"
     ]
    },
    {
     "data": {
      "text/html": [
       "<table>\n",
       "    <tr>\n",
       "        <th>AVG(Price)</th>\n",
       "    </tr>\n",
       "    <tr>\n",
       "        <td>1.25</td>\n",
       "    </tr>\n",
       "</table>"
      ],
      "text/plain": [
       "[(1.25,)]"
      ]
     },
     "execution_count": 7,
     "metadata": {},
     "output_type": "execute_result"
    }
   ],
   "source": [
    "%%sql\n",
    "SELECT AVG(Price)\n",
    "FROM   Purchase\n",
    "WHERE  Product = 'Bagel';"
   ]
  },
  {
   "cell_type": "markdown",
   "metadata": {},
   "source": [
    "### Simple Aggregations\n",
    "\n",
    "> __Example:__ Total earnings from Bagels sold?"
   ]
  },
  {
   "cell_type": "code",
   "execution_count": 8,
   "metadata": {},
   "outputs": [
    {
     "name": "stdout",
     "output_type": "stream",
     "text": [
      "Done.\n"
     ]
    },
    {
     "data": {
      "text/html": [
       "<table>\n",
       "    <tr>\n",
       "        <th>SUM(Price * Quantity)</th>\n",
       "    </tr>\n",
       "    <tr>\n",
       "        <td>50.0</td>\n",
       "    </tr>\n",
       "</table>"
      ],
      "text/plain": [
       "[(50.0,)]"
      ]
     },
     "execution_count": 8,
     "metadata": {},
     "output_type": "execute_result"
    }
   ],
   "source": [
    "%%sql\n",
    "SELECT SUM(Price * Quantity)\n",
    "FROM   Purchase\n",
    "WHERE  Product = 'Bagel';"
   ]
  },
  {
   "cell_type": "markdown",
   "metadata": {},
   "source": [
    "## GROUP BY\n",
    "\n",
    "Ued with aggregate functions (COUNT, MAX, MIN, SUM, AVG) to group the result-set by one or more columns.\n",
    "\n",
    "Syntax\n",
    "```mysql\n",
    "SELECT   column_name(s)\n",
    "FROM     table_name\n",
    "WHERE    condition\n",
    "GROUP BY column_name(s)\n",
    "[ORDER BY column_name(s)];\n",
    "```\n",
    "\n",
    "> __Example:__ Find total sales after 10/1 per product\n",
    "\n",
    "| Product | Date  | Price | Quantity |\n",
    "|---------|-------|-------|----------|\n",
    "| Bagel   | 10/21 | 1     | 20       |\n",
    "| Bagel   | 10/25 | 1.5   | 20       |\n",
    "| Banana  | 10/3  | 0.5   | 10       |\n",
    "| Banana  | 10/10 | 1     | 10       |"
   ]
  },
  {
   "cell_type": "code",
   "execution_count": 9,
   "metadata": {},
   "outputs": [
    {
     "name": "stdout",
     "output_type": "stream",
     "text": [
      "Done.\n"
     ]
    },
    {
     "data": {
      "text/html": [
       "<table>\n",
       "    <tr>\n",
       "        <th>Product</th>\n",
       "        <th>TotalSales</th>\n",
       "    </tr>\n",
       "    <tr>\n",
       "        <td>Bagel</td>\n",
       "        <td>50.0</td>\n",
       "    </tr>\n",
       "    <tr>\n",
       "        <td>Banana</td>\n",
       "        <td>15.0</td>\n",
       "    </tr>\n",
       "</table>"
      ],
      "text/plain": [
       "[('Bagel', 50.0), ('Banana', 15.0)]"
      ]
     },
     "execution_count": 9,
     "metadata": {},
     "output_type": "execute_result"
    }
   ],
   "source": [
    "%%sql\n",
    "SELECT   Product, SUM(price * quantity) AS TotalSales\n",
    "FROM     Purchase\n",
    "WHERE    Date > '10/1'\n",
    "GROUP BY Product;"
   ]
  },
  {
   "cell_type": "markdown",
   "metadata": {},
   "source": [
    "### Grouping and Aggregation: Semantics of the Query\n",
    "\n",
    "__1.__ Compute the FROM and WHERE clauses"
   ]
  },
  {
   "cell_type": "code",
   "execution_count": 10,
   "metadata": {},
   "outputs": [
    {
     "name": "stdout",
     "output_type": "stream",
     "text": [
      "Done.\n"
     ]
    },
    {
     "data": {
      "text/html": [
       "<table>\n",
       "    <tr>\n",
       "        <th>Product</th>\n",
       "        <th>Date</th>\n",
       "        <th>Price</th>\n",
       "        <th>Quantity</th>\n",
       "    </tr>\n",
       "    <tr>\n",
       "        <td>Bagel</td>\n",
       "        <td>10/21</td>\n",
       "        <td>1.0</td>\n",
       "        <td>20</td>\n",
       "    </tr>\n",
       "    <tr>\n",
       "        <td>Bagel</td>\n",
       "        <td>10/25</td>\n",
       "        <td>1.5</td>\n",
       "        <td>20</td>\n",
       "    </tr>\n",
       "    <tr>\n",
       "        <td>Banana</td>\n",
       "        <td>10/3</td>\n",
       "        <td>0.5</td>\n",
       "        <td>10</td>\n",
       "    </tr>\n",
       "    <tr>\n",
       "        <td>Banana</td>\n",
       "        <td>10/10</td>\n",
       "        <td>1.0</td>\n",
       "        <td>10</td>\n",
       "    </tr>\n",
       "</table>"
      ],
      "text/plain": [
       "[('Bagel', '10/21', 1.0, 20),\n",
       " ('Bagel', '10/25', 1.5, 20),\n",
       " ('Banana', '10/3', 0.5, 10),\n",
       " ('Banana', '10/10', 1.0, 10)]"
      ]
     },
     "execution_count": 10,
     "metadata": {},
     "output_type": "execute_result"
    }
   ],
   "source": [
    "%%sql\n",
    "SELECT *\n",
    "FROM   Purchase\n",
    "WHERE  Date > '10/1'"
   ]
  },
  {
   "cell_type": "markdown",
   "metadata": {},
   "source": [
    "__2.__ Group attributes according to GROUP BY\n",
    "\n",
    "|__Product__| __Date__ |__Price__|__Quantity__|\n",
    "|:-------:|:--------:|:-----:|:--------:|\n",
    "|  Bagel  | 10/21/17 |   1   |    20    |\n",
    "|         | 10/25/17 |  1.5  |    20    |\n",
    "|  Banana | 10/03/17 |  0.5  |    10    |\n",
    "|         | 10/10/17 |   1   |    10    |\n",
    "\n",
    "\n",
    "__Caution:__ SQL _only_ displays one row if no aggregation function is used"
   ]
  },
  {
   "cell_type": "code",
   "execution_count": 11,
   "metadata": {},
   "outputs": [
    {
     "name": "stdout",
     "output_type": "stream",
     "text": [
      "Done.\n"
     ]
    },
    {
     "data": {
      "text/html": [
       "<table>\n",
       "    <tr>\n",
       "        <th>Product</th>\n",
       "        <th>Date</th>\n",
       "        <th>Price</th>\n",
       "        <th>Quantity</th>\n",
       "    </tr>\n",
       "    <tr>\n",
       "        <td>Bagel</td>\n",
       "        <td>10/25</td>\n",
       "        <td>1.5</td>\n",
       "        <td>20</td>\n",
       "    </tr>\n",
       "    <tr>\n",
       "        <td>Banana</td>\n",
       "        <td>10/10</td>\n",
       "        <td>1.0</td>\n",
       "        <td>10</td>\n",
       "    </tr>\n",
       "</table>"
      ],
      "text/plain": [
       "[('Bagel', '10/25', 1.5, 20), ('Banana', '10/10', 1.0, 10)]"
      ]
     },
     "execution_count": 11,
     "metadata": {},
     "output_type": "execute_result"
    }
   ],
   "source": [
    "%%sql\n",
    "SELECT   *\n",
    "FROM     Purchase\n",
    "WHERE    Date > '10/1'\n",
    "GROUP BY Product;"
   ]
  },
  {
   "cell_type": "code",
   "execution_count": 12,
   "metadata": {},
   "outputs": [
    {
     "name": "stdout",
     "output_type": "stream",
     "text": [
      "Done.\n"
     ]
    },
    {
     "data": {
      "text/html": [
       "<table>\n",
       "    <tr>\n",
       "        <th>Product</th>\n",
       "        <th>Count(Product)</th>\n",
       "    </tr>\n",
       "    <tr>\n",
       "        <td>Bagel</td>\n",
       "        <td>2</td>\n",
       "    </tr>\n",
       "    <tr>\n",
       "        <td>Banana</td>\n",
       "        <td>2</td>\n",
       "    </tr>\n",
       "</table>"
      ],
      "text/plain": [
       "[('Bagel', 2), ('Banana', 2)]"
      ]
     },
     "execution_count": 12,
     "metadata": {},
     "output_type": "execute_result"
    }
   ],
   "source": [
    "%%sql\n",
    "SELECT   Product, Count(Product)\n",
    "FROM     Purchase\n",
    "WHERE    Date > '10/1'\n",
    "GROUP BY Product;"
   ]
  },
  {
   "cell_type": "markdown",
   "metadata": {},
   "source": [
    "__3.__ Compute the SELECT clause: grouped attributes and aggregates"
   ]
  },
  {
   "cell_type": "code",
   "execution_count": 13,
   "metadata": {},
   "outputs": [
    {
     "name": "stdout",
     "output_type": "stream",
     "text": [
      "Done.\n"
     ]
    },
    {
     "data": {
      "text/html": [
       "<table>\n",
       "    <tr>\n",
       "        <th>Product</th>\n",
       "        <th>TotalSales</th>\n",
       "    </tr>\n",
       "    <tr>\n",
       "        <td>Bagel</td>\n",
       "        <td>50.0</td>\n",
       "    </tr>\n",
       "    <tr>\n",
       "        <td>Banana</td>\n",
       "        <td>15.0</td>\n",
       "    </tr>\n",
       "</table>"
      ],
      "text/plain": [
       "[('Bagel', 50.0), ('Banana', 15.0)]"
      ]
     },
     "execution_count": 13,
     "metadata": {},
     "output_type": "execute_result"
    }
   ],
   "source": [
    "%%sql  -- Find total sales after '10/1' per product\n",
    "\n",
    "SELECT   Product, SUM(price * quantity) AS TotalSales\n",
    "FROM     Purchase\n",
    "WHERE    Date > '10/1'\n",
    "GROUP BY Product;"
   ]
  },
  {
   "cell_type": "markdown",
   "metadata": {},
   "source": [
    "### GROUP BY vs Nested Queries"
   ]
  },
  {
   "cell_type": "code",
   "execution_count": 14,
   "metadata": {},
   "outputs": [
    {
     "name": "stdout",
     "output_type": "stream",
     "text": [
      "Done.\n"
     ]
    },
    {
     "data": {
      "text/html": [
       "<table>\n",
       "    <tr>\n",
       "        <th>Product</th>\n",
       "        <th>TotalSales</th>\n",
       "    </tr>\n",
       "    <tr>\n",
       "        <td>Bagel</td>\n",
       "        <td>50.0</td>\n",
       "    </tr>\n",
       "    <tr>\n",
       "        <td>Banana</td>\n",
       "        <td>15.0</td>\n",
       "    </tr>\n",
       "</table>"
      ],
      "text/plain": [
       "[('Bagel', 50.0), ('Banana', 15.0)]"
      ]
     },
     "execution_count": 14,
     "metadata": {},
     "output_type": "execute_result"
    }
   ],
   "source": [
    "%%sql\n",
    "SELECT DISTINCT x.Product, (SELECT Sum(y.price*y.quantity)\n",
    "                                   FROM Purchase y\n",
    "                                   WHERE x.product = y.product\n",
    "                                         AND y.date > '10/1') AS TotalSales\n",
    "FROM  Purchase x\n",
    "WHERE x.date > '10/1';"
   ]
  },
  {
   "cell_type": "markdown",
   "metadata": {},
   "source": [
    "## HAVING\n",
    "\n",
    "* HAVING clauses contains conditions on __aggregates__\n",
    "* WHERE clauses condition on __individual tuples__\n",
    "\n",
    "Syntax\n",
    "```mysql\n",
    "SELECT   column_name(s)\n",
    "FROM     table_name\n",
    "WHERE    condition\n",
    "GROUP BY column_name(s)\n",
    "HAVING   condition\n",
    "[ORDER BY column_name(s)];\n",
    "```\n",
    "\n",
    "> __Example:__ Same query as before, except that we consider only products with more than 30 units sold"
   ]
  },
  {
   "cell_type": "code",
   "execution_count": 15,
   "metadata": {},
   "outputs": [
    {
     "name": "stdout",
     "output_type": "stream",
     "text": [
      "Done.\n"
     ]
    },
    {
     "data": {
      "text/html": [
       "<table>\n",
       "    <tr>\n",
       "        <th>Product</th>\n",
       "        <th>TotalSales</th>\n",
       "    </tr>\n",
       "    <tr>\n",
       "        <td>Bagel</td>\n",
       "        <td>50.0</td>\n",
       "    </tr>\n",
       "</table>"
      ],
      "text/plain": [
       "[('Bagel', 50.0)]"
      ]
     },
     "execution_count": 15,
     "metadata": {},
     "output_type": "execute_result"
    }
   ],
   "source": [
    "%%sql\n",
    "SELECT   Product, SUM(price * quantity) AS TotalSales\n",
    "FROM     Purchase\n",
    "WHERE    Date > '10/1'\n",
    "GROUP BY Product\n",
    "HAVING SUM(Quantity) > 30;"
   ]
  },
  {
   "cell_type": "markdown",
   "metadata": {},
   "source": [
    "# Advanced\\* Topics\n",
    "\n",
    "In this section\n",
    "* Relational Division is SQL\n",
    "* Nulls (revisited)\n",
    "* Outer Joins"
   ]
  },
  {
   "cell_type": "markdown",
   "metadata": {
    "collapsed": true
   },
   "source": [
    "## Relational Division in SQL\n",
    "\n",
    "* Not supported as a primitive operator, but useful for expressing queries like:\n",
    "\n",
    "> _\"Find suppliers who sell the x parts...\"_\n",
    "\n",
    "> _\"Find buyers who bught all products from a given category...\"_\n",
    "\n",
    "* Let $A$ have 2 fields, $x$ and $y$, $B$ have only field $y$\n",
    "```mysql\n",
    "A(x, y)\n",
    "B(y)\n",
    "```\n",
    "  * $A/B$ contains all $x$ tuples such that for every $y$ tuple in $B$, there is an $xy$ tuple in $A$\n",
    "  * Or: If the set of $y$ values associated with an $x$ value in $A$ contains all $y$ values in $B$, the $x$ value is in $A/B$.\n",
    "\n",
    "Classic Option 1\n",
    "```mysql\n",
    "%%sql\n",
    "SELECT T1.x\n",
    "FROM A AS T1\n",
    "WHERE NOT EXISTS( SELECT T2.y\n",
    "                  FROM B AS T2\n",
    "                  EXCEPT\n",
    "                  SELECT T3.y\n",
    "                  FROM A AS T3\n",
    "                  WHERE T3.y=T1.y);\n",
    "```\n",
    "\n",
    "Classic Option 2 (without EXCEPT)\n",
    "```mysql\n",
    "%%sql\n",
    "SELECT DISTINCT T1.x\n",
    "FROM A AS T1\n",
    "WHERE NOT EXISTS(SELECT T2.y\n",
    "                 FROM B AS T2\n",
    "                 WHERE NOT EXISTS (SELECT T3.x\n",
    "                                   FROM A AS T3\n",
    "                                   WHERE T3.x=T1.x\n",
    "                                   AND T3.y=T2.y\n",
    "                                  )\n",
    "                );\n",
    "```"
   ]
  },
  {
   "cell_type": "code",
   "execution_count": 16,
   "metadata": {},
   "outputs": [
    {
     "name": "stdout",
     "output_type": "stream",
     "text": [
      "Done.\n",
      "Done.\n",
      "Done.\n",
      "Done.\n",
      "Done.\n",
      "Done.\n",
      "Done.\n",
      "Done.\n",
      "Done.\n",
      "1 rows affected.\n",
      "1 rows affected.\n",
      "1 rows affected.\n",
      "1 rows affected.\n",
      "1 rows affected.\n",
      "1 rows affected.\n",
      "1 rows affected.\n",
      "1 rows affected.\n",
      "1 rows affected.\n",
      "1 rows affected.\n",
      "1 rows affected.\n",
      "1 rows affected.\n",
      "1 rows affected.\n",
      "1 rows affected.\n"
     ]
    },
    {
     "data": {
      "text/plain": [
       "[]"
      ]
     },
     "execution_count": 16,
     "metadata": {},
     "output_type": "execute_result"
    }
   ],
   "source": [
    "%%sql\n",
    "DROP TABLE IF EXISTS A;\n",
    "-- Create tables\n",
    "CREATE TABLE A (\n",
    "    x VARCHAR,\n",
    "    y VARCHAR);\n",
    "\n",
    "DROP TABLE IF EXISTS B1;\n",
    "-- Create tables\n",
    "CREATE TABLE B1 (\n",
    "    y VARCHAR);\n",
    "\n",
    "DROP TABLE IF EXISTS B2;\n",
    "-- Create tables\n",
    "CREATE TABLE B2 (\n",
    "    y VARCHAR);\n",
    "\n",
    "DROP TABLE IF EXISTS B3;\n",
    "-- Create tables\n",
    "CREATE TABLE B3 (\n",
    "    y VARCHAR);\n",
    "\n",
    "-- Insert tuples\n",
    "INSERT INTO A VALUES ('x1', 'y1');\n",
    "INSERT INTO A VALUES ('x1', 'y2');\n",
    "INSERT INTO A VALUES ('x1', 'y3');\n",
    "INSERT INTO A VALUES ('x1', 'y4');\n",
    "INSERT INTO A VALUES ('x2', 'y1');\n",
    "INSERT INTO A VALUES ('x2', 'y2');\n",
    "INSERT INTO A VALUES ('x3', 'y2');\n",
    "INSERT INTO A VALUES ('x4', 'y2');\n",
    "INSERT INTO A VALUES ('x4', 'y4');\n",
    "INSERT INTO B1 VALUES ('y2');\n",
    "INSERT INTO B2 VALUES ('y2');\n",
    "INSERT INTO B2 VALUES ('y4');\n",
    "INSERT INTO B3 VALUES ('y1');\n",
    "INSERT INTO B3 VALUES ('y2');\n",
    "INSERT INTO B3 VALUES ('y4');"
   ]
  },
  {
   "cell_type": "code",
   "execution_count": 17,
   "metadata": {},
   "outputs": [
    {
     "name": "stdout",
     "output_type": "stream",
     "text": [
      "Done.\n"
     ]
    },
    {
     "data": {
      "text/html": [
       "<table>\n",
       "    <tr>\n",
       "        <th>x</th>\n",
       "        <th>y</th>\n",
       "    </tr>\n",
       "    <tr>\n",
       "        <td>x1</td>\n",
       "        <td>y1</td>\n",
       "    </tr>\n",
       "    <tr>\n",
       "        <td>x1</td>\n",
       "        <td>y2</td>\n",
       "    </tr>\n",
       "    <tr>\n",
       "        <td>x1</td>\n",
       "        <td>y3</td>\n",
       "    </tr>\n",
       "    <tr>\n",
       "        <td>x1</td>\n",
       "        <td>y4</td>\n",
       "    </tr>\n",
       "    <tr>\n",
       "        <td>x2</td>\n",
       "        <td>y1</td>\n",
       "    </tr>\n",
       "    <tr>\n",
       "        <td>x2</td>\n",
       "        <td>y2</td>\n",
       "    </tr>\n",
       "    <tr>\n",
       "        <td>x3</td>\n",
       "        <td>y2</td>\n",
       "    </tr>\n",
       "    <tr>\n",
       "        <td>x4</td>\n",
       "        <td>y2</td>\n",
       "    </tr>\n",
       "    <tr>\n",
       "        <td>x4</td>\n",
       "        <td>y4</td>\n",
       "    </tr>\n",
       "</table>"
      ],
      "text/plain": [
       "[('x1', 'y1'),\n",
       " ('x1', 'y2'),\n",
       " ('x1', 'y3'),\n",
       " ('x1', 'y4'),\n",
       " ('x2', 'y1'),\n",
       " ('x2', 'y2'),\n",
       " ('x3', 'y2'),\n",
       " ('x4', 'y2'),\n",
       " ('x4', 'y4')]"
      ]
     },
     "execution_count": 17,
     "metadata": {},
     "output_type": "execute_result"
    }
   ],
   "source": [
    "%%sql\n",
    "SELECT * FROM A;"
   ]
  },
  {
   "cell_type": "code",
   "execution_count": 18,
   "metadata": {},
   "outputs": [
    {
     "name": "stdout",
     "output_type": "stream",
     "text": [
      "Done.\n"
     ]
    },
    {
     "data": {
      "text/html": [
       "<table>\n",
       "    <tr>\n",
       "        <th>y</th>\n",
       "    </tr>\n",
       "    <tr>\n",
       "        <td>y2</td>\n",
       "    </tr>\n",
       "</table>"
      ],
      "text/plain": [
       "[('y2',)]"
      ]
     },
     "execution_count": 18,
     "metadata": {},
     "output_type": "execute_result"
    }
   ],
   "source": [
    "%%sql\n",
    "SELECT * FROM B1;"
   ]
  },
  {
   "cell_type": "code",
   "execution_count": 19,
   "metadata": {},
   "outputs": [
    {
     "name": "stdout",
     "output_type": "stream",
     "text": [
      "Done.\n"
     ]
    },
    {
     "data": {
      "text/html": [
       "<table>\n",
       "    <tr>\n",
       "        <th>x</th>\n",
       "    </tr>\n",
       "    <tr>\n",
       "        <td>x1</td>\n",
       "    </tr>\n",
       "    <tr>\n",
       "        <td>x2</td>\n",
       "    </tr>\n",
       "    <tr>\n",
       "        <td>x3</td>\n",
       "    </tr>\n",
       "    <tr>\n",
       "        <td>x4</td>\n",
       "    </tr>\n",
       "</table>"
      ],
      "text/plain": [
       "[('x1',), ('x2',), ('x3',), ('x4',)]"
      ]
     },
     "execution_count": 19,
     "metadata": {},
     "output_type": "execute_result"
    }
   ],
   "source": [
    "%%sql  -- Change bellow to perform: A/B1, A/B2, A/B3\n",
    "SELECT DISTINCT T1.x\n",
    "FROM A AS T1\n",
    "WHERE NOT EXISTS(SELECT T2.y\n",
    "                 FROM B1 AS T2\n",
    "                 WHERE NOT EXISTS (SELECT T3.x\n",
    "                                   FROM A AS T3\n",
    "                                   WHERE T3.x=T1.x\n",
    "                                   AND T3.y=T2.y\n",
    "                                  )\n",
    "                );"
   ]
  },
  {
   "cell_type": "markdown",
   "metadata": {},
   "source": [
    "### Yet another option\n",
    "\n",
    "[“A Simpler (and Better) SQL Approach to Relational Division”](https://users.dcc.uchile.cl/~cgutierr/cursos/BD/divisionSQL.pdf)\n",
    "\n",
    "Journal of Information Systems Education, Vol. 13(2)"
   ]
  },
  {
   "cell_type": "markdown",
   "metadata": {},
   "source": [
    "## Null Values\n",
    "\n",
    "* For _numerical operations_, NULL -> NULL:\n",
    "  * If x is NULL then ```4*(3-x)/7``` is still NULL\n",
    "\n",
    "* For _boolean operations_, in SQL there are three values:\n",
    "\n",
    "```\n",
    "FALSE  = 0\n",
    "UNKNOWN = 0.5\n",
    "TRUE    = 1\n",
    "```\n",
    "\n",
    "* If x is NULL then ```x = “Joe”``` is UNKNOWN"
   ]
  },
  {
   "cell_type": "markdown",
   "metadata": {},
   "source": [
    "```\n",
    "C1 AND C2   = min(C1, C2)\n",
    "C1 OR C2     = max(C1, C2)\n",
    "NOT C1       = 1 – C1\n",
    "```\n",
    "\n",
    ">  __Example:__\n",
    "```mysql\n",
    "SELECT *\n",
    "FROM   Person\n",
    "WHERE  (age < 25)\n",
    "  AND  (height > 6 AND weight > 190);\n",
    "```\n",
    "Won’t return: \n",
    "age=20\n",
    "height=NULL\n",
    "weight=200\n",
    "\n",
    "__Rule in SQL:__ include only tuples that yield TRUE (1.0)"
   ]
  },
  {
   "cell_type": "markdown",
   "metadata": {},
   "source": [
    "> __Example:__ Unexpected behavior\n",
    "```mysql\n",
    "SELECT *\n",
    "FROM   Person\n",
    "WHERE  age < 25 OR age >= 25;\n",
    "```\n",
    "Some tuples from _Person_ are not included"
   ]
  },
  {
   "cell_type": "markdown",
   "metadata": {},
   "source": [
    "Test for NULL expliitly:\n",
    "* x IS NULL\n",
    "* x IS NOT NULL\n",
    "\n",
    "\n",
    ">```mysql\n",
    "SELECT *\n",
    "FROM   Person\n",
    "WHERE  age < 25 OR age >= 25 OR age IS NULL;\n",
    "```\n",
    "Now it includes all tuples in _Person_"
   ]
  },
  {
   "cell_type": "markdown",
   "metadata": {},
   "source": [
    "## Inner Joins + NULLS = Lost data?\n",
    "\n",
    "* By default, joins in SQL are __inner joins__\n",
    "\n",
    "```\n",
    "Product(name, category)\n",
    "Purchase(prodName, store)\n",
    "```\n",
    "\n",
    "Syntax 1\n",
    "```mysql\n",
    "SELECT Product.name, Purchase.store\n",
    "FROM   Product\n",
    "JOIN   Purchase ON Product.name = Purchase.prodName;\n",
    "```\n",
    "\n",
    "Syntax 2\n",
    "```mysql\n",
    "SELECT Product.name, Purchase.store\n",
    "FROM   Product, Purchase\n",
    "WHERE  Product.name = Purchase.prodName;\n",
    "```\n",
    "\n",
    "* Both equivalent, both _inner joins_\n",
    "\n",
    "* __However:__ Products that never sold (with no Purchase tuple) will be lost!"
   ]
  },
  {
   "cell_type": "markdown",
   "metadata": {},
   "source": [
    "## Outer Joins\n",
    "* An __outer join__ returns tuples from the joined relations that don’t have a corresponding tuple in the other relations\n",
    "  * i.e. If we join relations A and B on a.X = b.X, and there is an entry in A with X=5, but none in B with X=5\n",
    "  LEFT [OUTER] JOIN will return a tuple __(a, NULL)__\n",
    " \n",
    "Syntax\n",
    "```mysql\n",
    "SELECT column_name(s)\n",
    "FROM   table1\n",
    "LEFT OUTER JOIN table2 ON table1.column_name = table2.column_name;\n",
    "```"
   ]
  },
  {
   "cell_type": "code",
   "execution_count": 20,
   "metadata": {},
   "outputs": [
    {
     "name": "stdout",
     "output_type": "stream",
     "text": [
      "Done.\n",
      "Done.\n",
      "Done.\n",
      "Done.\n",
      "Done.\n",
      "1 rows affected.\n",
      "1 rows affected.\n",
      "1 rows affected.\n",
      "1 rows affected.\n",
      "1 rows affected.\n"
     ]
    },
    {
     "data": {
      "text/plain": [
       "[]"
      ]
     },
     "execution_count": 20,
     "metadata": {},
     "output_type": "execute_result"
    }
   ],
   "source": [
    "%%sql\n",
    "\n",
    "-- Create tables\n",
    "DROP TABLE IF EXISTS Product;\n",
    "CREATE TABLE Product (\n",
    "    name VARCHAR(255) PRIMARY KEY,\n",
    "    category VARCHAR(255)\n",
    ");\n",
    "\n",
    "DROP TABLE IF EXISTS Purchase;\n",
    "CREATE TABLE Purchase(\n",
    "    prodName varchar(255),\n",
    "    store varchar(255)\n",
    ");\n",
    "\n",
    "-- Insert tuples\n",
    "INSERT INTO Product VALUES ('Gizmo', 'Gadget');\n",
    "INSERT INTO Product VALUES ('Camera', 'Photo');\n",
    "INSERT INTO Product VALUES ('OneClick', 'Photo');\n",
    "\n",
    "INSERT INTO Purchase VALUES ('Gizmo', 'Wiz');\n",
    "INSERT INTO Purchase VALUES ('Camera', 'Ritz');\n",
    "INSERT INTO Purchase VALUES ('Camera', 'Wiz');"
   ]
  },
  {
   "cell_type": "code",
   "execution_count": 21,
   "metadata": {},
   "outputs": [
    {
     "name": "stdout",
     "output_type": "stream",
     "text": [
      "Done.\n"
     ]
    },
    {
     "data": {
      "text/html": [
       "<table>\n",
       "    <tr>\n",
       "        <th>name</th>\n",
       "        <th>category</th>\n",
       "    </tr>\n",
       "    <tr>\n",
       "        <td>Gizmo</td>\n",
       "        <td>Gadget</td>\n",
       "    </tr>\n",
       "    <tr>\n",
       "        <td>Camera</td>\n",
       "        <td>Photo</td>\n",
       "    </tr>\n",
       "    <tr>\n",
       "        <td>OneClick</td>\n",
       "        <td>Photo</td>\n",
       "    </tr>\n",
       "</table>"
      ],
      "text/plain": [
       "[('Gizmo', 'Gadget'), ('Camera', 'Photo'), ('OneClick', 'Photo')]"
      ]
     },
     "execution_count": 21,
     "metadata": {},
     "output_type": "execute_result"
    }
   ],
   "source": [
    "%%sql\n",
    "SELECT *\n",
    "FROM   Product;"
   ]
  },
  {
   "cell_type": "code",
   "execution_count": 22,
   "metadata": {},
   "outputs": [
    {
     "name": "stdout",
     "output_type": "stream",
     "text": [
      "Done.\n"
     ]
    },
    {
     "data": {
      "text/html": [
       "<table>\n",
       "    <tr>\n",
       "        <th>prodName</th>\n",
       "        <th>store</th>\n",
       "    </tr>\n",
       "    <tr>\n",
       "        <td>Gizmo</td>\n",
       "        <td>Wiz</td>\n",
       "    </tr>\n",
       "    <tr>\n",
       "        <td>Camera</td>\n",
       "        <td>Ritz</td>\n",
       "    </tr>\n",
       "    <tr>\n",
       "        <td>Camera</td>\n",
       "        <td>Wiz</td>\n",
       "    </tr>\n",
       "</table>"
      ],
      "text/plain": [
       "[('Gizmo', 'Wiz'), ('Camera', 'Ritz'), ('Camera', 'Wiz')]"
      ]
     },
     "execution_count": 22,
     "metadata": {},
     "output_type": "execute_result"
    }
   ],
   "source": [
    "%%sql\n",
    "SELECT *\n",
    "FROM   Purchase;"
   ]
  },
  {
   "cell_type": "code",
   "execution_count": 23,
   "metadata": {},
   "outputs": [
    {
     "name": "stdout",
     "output_type": "stream",
     "text": [
      "Done.\n"
     ]
    },
    {
     "data": {
      "text/html": [
       "<table>\n",
       "    <tr>\n",
       "        <th>name</th>\n",
       "        <th>store</th>\n",
       "    </tr>\n",
       "    <tr>\n",
       "        <td>Gizmo</td>\n",
       "        <td>Wiz</td>\n",
       "    </tr>\n",
       "    <tr>\n",
       "        <td>Camera</td>\n",
       "        <td>Ritz</td>\n",
       "    </tr>\n",
       "    <tr>\n",
       "        <td>Camera</td>\n",
       "        <td>Wiz</td>\n",
       "    </tr>\n",
       "</table>"
      ],
      "text/plain": [
       "[('Gizmo', 'Wiz'), ('Camera', 'Ritz'), ('Camera', 'Wiz')]"
      ]
     },
     "execution_count": 23,
     "metadata": {},
     "output_type": "execute_result"
    }
   ],
   "source": [
    "%%sql\n",
    "SELECT Product.name, Purchase.store\n",
    "FROM   Product\n",
    "INNER JOIN Purchase\n",
    "ON Product.name = Purchase.prodName;"
   ]
  },
  {
   "cell_type": "markdown",
   "metadata": {},
   "source": [
    "## Outer Joins\n",
    "* __Left outer join__\n",
    "  * Include the left tuple even if there is no match\n",
    "* __Right outer join__\n",
    "  * Include the right tuple even if there is no match\n",
    "* __Full outer join__\n",
    "  * Include both left and right tuples even if there is no match"
   ]
  },
  {
   "cell_type": "markdown",
   "metadata": {},
   "source": [
    "# Summary\n",
    "\n",
    "* The relational model has rigorously defined query languages that are simple and powerful.\n",
    "* Several ways of expressing a given query; a query optimizer should choose the most efficient version.\n",
    "* SQL is the lingua franca (common language) for accessing relational database systems.\n",
    "* SQL is a rich language that handles the way data is processed ___declaratively___\n",
    "  * Expresses the logic of a computation without describing its control flow"
   ]
  },
  {
   "cell_type": "markdown",
   "metadata": {},
   "source": [
    "___"
   ]
  },
  {
   "cell_type": "code",
   "execution_count": 24,
   "metadata": {},
   "outputs": [
    {
     "data": {
      "text/html": [
       "<link href='http://fonts.googleapis.com/css?family=Fenix' rel='stylesheet' type='text/css'>\n",
       "<link href='http://fonts.googleapis.com/css?family=Alegreya+Sans:100,300,400,500,700,800,900,100italic,300italic,400italic,500italic,700italic,800italic,900italic' rel='stylesheet' type='text/css'>\n",
       "<link href='http://fonts.googleapis.com/css?family=Source+Code+Pro:300,400' rel='stylesheet' type='text/css'>\n",
       "<link href=\"https://fonts.googleapis.com/css?family=Oswald|Raleway\" rel=\"stylesheet\" type='text/css'> \n",
       "<link href=\"https://fonts.googleapis.com/css?family=Nunito\" rel=\"stylesheet\" type='text/css'> \n",
       "<style>\n",
       ".prompt{\n",
       "    display: none !important;\n",
       "}\n",
       "\n",
       ".rendered_html pre {\n",
       "    border: 1px solid #f0f6f9 !important;\n",
       "}\n",
       "\n",
       ".rendered_html pre, .rendered_html code {\n",
       "    background-color: #d3d8db !important;\n",
       "    padding: 1% !important;\n",
       "    line-height: 200% !important;\n",
       "    border-radius: 10px !important;\n",
       "}\n",
       "\n",
       "div.input_area {\n",
       "    border-radius: 10px !important;\n",
       "    background-color: #e1e1e6 !important;\n",
       "}\n",
       "\n",
       "div.cell{\n",
       "        width:85% !important;\n",
       "        margin-left:5% !important;\n",
       "        /*margin-right:auto;*/\n",
       "    }\n",
       "    h1, h2, h3, h4, h5 {\n",
       "        font-family: 'Nunito', sans-serif; !important;\n",
       "        font-style: oblique !important;\n",
       "    }\n",
       "    div.text_cell_render{\n",
       "        font-family: 'Raleway', sans-serif; !important;\n",
       "        line-height: 135% !important;\n",
       "        font-size: 120% !important;\n",
       "        width:100%;/*600px;*/\n",
       "        /*margin-left:auto;*/\n",
       "        /*margin-right:auto;*/\n",
       "    }\n",
       "    .CodeMirror{\n",
       "            font-family: \"Source Code Pro\" !important;\n",
       "\t\t\tfont-size: 100% !important;\n",
       "    }\n",
       "    .text_cell_render p{\n",
       "        text-align: justify !important;\n",
       "    }\n",
       "    .text_cell_render h1 {\n",
       "        font-weight: bold !important;\n",
       "\t\tline-height: 100% !important;\n",
       "        color:#47597A !important;\n",
       "        margin-bottom: 10.em !important;\n",
       "        margin-top: 50.em !important;\n",
       "        padding-bottom: 50.em !important;\n",
       "        padding-top: 50.em !important;\n",
       "        display: block !important;\n",
       "        font-size: 300% !important;\n",
       "        text-align: center !important;\n",
       "        border-bottom: 1px solid #47597A !important;\n",
       "        border-top: 1px solid #47597A !important;\n",
       "    }\n",
       "    .text_cell_render h2 {\n",
       "        font-weight: 200 !important;\n",
       "\tline-height: 100% !important;\n",
       "        color:#47597A !important;\n",
       "        margin-bottom: 0.5em !important;\n",
       "        margin-top: 0.5em !important;\n",
       "        display: block !important;\n",
       "        font-size: 200% !important;\n",
       "        border-bottom: 1px solid #47597A !important;\n",
       "    }\n",
       "    .text_cell_render h3 {\n",
       "        font-weight: 200 !important;\n",
       "\tline-height: 100% !important;\n",
       "        color:#47597A !important;\n",
       "        margin-bottom: 0.5em !important;\n",
       "        margin-top: 0.5em !important;\n",
       "        display: block !important;\n",
       "        font-size: 200% !important;\n",
       "    }\n",
       "    .text_cell_render h4 {\n",
       "        font-style: italic !important;\n",
       "        font-weight: bold !important;\n",
       "\tline-height: 100% !important;\n",
       "        color:#47597A !important;\n",
       "        display: block !important;\n",
       "        font-size: 100% !important;\n",
       "    }\n",
       "    .text_cell_render h5 {\n",
       "        font-weight: 200 !important;\n",
       "\tline-height: 100% !important;\n",
       "        color:#47597A !important;\n",
       "        margin-bottom: 0.5em !important;\n",
       "        margin-top: 0.5em !important;\n",
       "        display: block !important;\n",
       "        font-size: 100% !important;\n",
       "    }\n",
       "    .text_cell_render ul {\n",
       "\tlist-style-type: disc !important;\n",
       "\tcolor:#47597A !important;\n",
       "    }\n",
       "    .warning{\n",
       "        color: rgb( 240, 20, 20 ) !important;\n",
       "        }\n",
       "\n",
       "    .toc-item-num {\n",
       "        display: none;\n",
       "    }\n",
       "  \n",
       "</style>\n",
       "\n",
       "<script>\n",
       "    MathJax.Hub.Config({\n",
       "                        TeX: {\n",
       "                           extensions: [\"AMSmath.js\"],\n",
       "                           },\n",
       "                tex2jax: {\n",
       "                    inlineMath: [ ['$','$'], [\"\\\\(\",\"\\\\)\"] ],\n",
       "                    displayMath: [ ['$$','$$'], [\"\\\\[\",\"\\\\]\"] ]\n",
       "                },\n",
       "                displayAlign: 'center', // Change this to 'center' to center equations.\n",
       "                \"HTML-CSS\": {\n",
       "                    styles: {'.MathJax_Display': {\"margin\": 4}}\n",
       "                }\n",
       "        });\n",
       "</script>\n"
      ],
      "text/plain": [
       "<IPython.core.display.HTML object>"
      ]
     },
     "execution_count": 24,
     "metadata": {},
     "output_type": "execute_result"
    }
   ],
   "source": [
    "# Modify the css style\n",
    "from IPython.core.display import HTML\n",
    "def css_styling():\n",
    "    styles = open(\"./style/custom.css\").read()\n",
    "    return HTML(styles)\n",
    "css_styling()"
   ]
  },
  {
   "cell_type": "code",
   "execution_count": null,
   "metadata": {
    "collapsed": true
   },
   "outputs": [],
   "source": []
  }
 ],
 "metadata": {
  "kernelspec": {
   "display_name": "Python 3",
   "language": "python",
   "name": "python3"
  },
  "language_info": {
   "codemirror_mode": {
    "name": "ipython",
    "version": 3
   },
   "file_extension": ".py",
   "mimetype": "text/x-python",
   "name": "python",
   "nbconvert_exporter": "python",
   "pygments_lexer": "ipython3",
   "version": "3.6.2"
  }
 },
 "nbformat": 4,
 "nbformat_minor": 2
}
