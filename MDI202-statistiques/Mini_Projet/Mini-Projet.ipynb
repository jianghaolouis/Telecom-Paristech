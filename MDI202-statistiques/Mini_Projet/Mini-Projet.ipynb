{
 "cells": [
  {
   "cell_type": "markdown",
   "metadata": {},
   "source": [
    "# Mini-Projet\n",
    "## ZHU Fangda\n",
    "\n",
    "## Exercice 1 (Analyse exploratoire (2pts)):"
   ]
  },
  {
   "cell_type": "code",
   "execution_count": 17,
   "metadata": {},
   "outputs": [
    {
     "name": "stdout",
     "output_type": "stream",
     "text": [
      "Nombre de fichier: 400"
     ]
    }
   ],
   "source": [
    "filesSize<-read.table(\"xn.txt\"， header = T)\n",
    "mydata = filesSize$Byte\n",
    "cat(\"Nombre de fichier：\"，nrow(filesSize))"
   ]
  },
  {
   "cell_type": "markdown",
   "metadata": {},
   "source": [
    "Sachant que il y a 400 tailles de fichers dans le jeu de donnée. On peut supposer que le taille de chaque ficher est un variable aléatoire i.i.d. On a alors construire un espace d'observation $\\chi \\subset \\mathbb R^{400}_+$. Donc les observation venant du jeu de donnée est éctit par  $X =(X_1,X_2,...，X_n  )$.Dans le reste de partie, on utilise le $x$ pour exprimer le taille de ficher. On peut tout d'abord tracer le histogramme de logarithme népérien de la taille de ficher en échelle logarithmique."
   ]
  },
  {
   "cell_type": "code",
   "execution_count": 18,
   "metadata": {},
   "outputs": [
    {
     "data": {
      "image/png": "[encoded data removed]",
      "text/plain": [
       "Plot with title \"Histogramme de la taille des fichiers en échelle logarithmique\""
      ]
     },
     "metadata": {},
     "output_type": "display_data"
    }
   ],
   "source": [
    "h = hist(log(mydata), breaks = 15, probability= TRUE, xlab = \"log(file size)\",\n",
    "      main=\"Histogramme de la taille des fichiers en échelle logarithmique\")\n",
    "\n",
    "x <- seq(min(log(mydata)), max(log(mydata)), length = 100)\n",
    "y <- dnorm( x, mean = mean(log(mydata)), sd = sd(log(mydata)))\n",
    "lines(x, y, col = \"blue\", lwd = 2)"
   ]
  },
  {
   "cell_type": "markdown",
   "metadata": {
    "collapsed": true
   },
   "source": [
    "## Exercice 2 (Estimation ponctuelle(7 pts))"
   ]
  },
  {
   "cell_type": "markdown",
   "metadata": {},
   "source": [
    "__1.__ Calculer la densité par rapport à la mesure de Lebesgue de la loi log-normale de paramètre $$\\theta = (\\mu,\\sigma^2)$$, en utilisant un changement de variables approprié."
   ]
  },
  {
   "cell_type": "markdown",
   "metadata": {},
   "source": [
    "__Réponse:__\n",
    "    Sachant que la variable $Y = \\ln(x) $ aléatoire suit une loi Normal.Alors on a la fonction désité de probabilité:\n",
    "    $$ P(Y \\leqslant y) = \\int_{-\\infty}^{y} \\frac{1}{\\sqrt{2\\pi\\sigma^2}} e^{-\\frac{(y-\\mu)^2}{2\\sigma^2}} \\mathrm dy$$\n",
    "Car $Y = \\ln(X)$, on fait le changement de variable et obtient\n",
    "$$ P(X \\leqslant x) = P(Y \\leqslant \\ln(x) )= \\int_{-\\infty}^{\\ln(x)} \\frac{1}{x\\sqrt{2\\pi\\sigma^2}} e^{-\\frac{(\\ln(x)-\\mu)^2}{2\\sigma^2}} \\mathrm dx$$\n",
    "en outre, on a $f(x) = \\frac{\\mathrm dP(x)}{dx}$, on a alors\n",
    "$$ f(X = x) = \\frac{1}{x\\sqrt{2\\pi\\sigma^2}} \\exp\\left(-\\frac{(\\ln(x)-\\mu)^2}{2\\sigma^2}\\right) $$\n"
   ]
  },
  {
   "cell_type": "markdown",
   "metadata": {},
   "source": [
    "__2.__ Calculer l’estimateur du maximum de vraisemblance $\\hat{\\theta} = (\\hat{\\mu}, \\hat{\\sigma^2})$ de $\\theta$. Cet estimateur\n",
    "est-il biaisé ? Si oui, ce biais est-il significatif pour ce jeu de données ?"
   ]
  },
  {
   "cell_type": "markdown",
   "metadata": {},
   "source": [
    "Pour ce modèle, dans le cas d'un $n-$échantillon i.i.d $X = (X_1, X_2,...,X_n)$, la log-vraisemblance s'écrit\n",
    "$$ L(X,t) = -\\sum_{i=1}^{n}\\ln(x_i) \n",
    "            - \\frac{n}{2}\\ln(2\\pi\\sigma^2)\n",
    "            - \\frac{1}{2\\sigma^2}\\sum_{i=1}^{n}(\\ln(x_i)-\\mu)^2 $$\n",
    "Il suffit de resoudre le système ci-dessous:\n",
    "\n",
    "$$\\begin{eqnarray} \n",
    "\\frac{\\mathrm d}{\\mathrm d\\mu} L(X,t) &=& \\frac{1}{\\sigma^2}\\sum_{i=1}^{n}(\\ln(x_i)-\\mu) &=& 0\\\\\n",
    "\\frac{\\mathrm d}{\\mathrm d\\sigma^2} L(X,t) &=& -\\frac{n}{2\\sigma^2}  + \\frac{1}{2\\sigma^4}\\sum_{i=1}^{n}(\\ln(x)-\\mu)^2 &=& 0\\\\\n",
    "\\end{eqnarray}$$\n",
    "\n",
    "Il en déduit que\n",
    "\n",
    "$$\\begin{eqnarray} \n",
    "\\hat{\\mu} &=& \\frac{1}{n} \\sum_{i=1}^{n}\\ln(x_i) \\\\ \n",
    "\\widehat{\\sigma^2} &=& \\frac{1}{n} \\sum_{i=1}^{n}\\left(\\ln(x_i)-\\hat\\mu\\right)^2\n",
    "\\end{eqnarray}$$\n"
   ]
  },
  {
   "cell_type": "markdown",
   "metadata": {},
   "source": [
    "Sachant que, $\\forall i \\in \\{1,2,...,n\\}$, on a \n",
    "$$ \n",
    "\\begin{eqnarray}\n",
    "    \\mathbb E\\left(\\ln(X_i)\\right) &=& \\mu \\\\\n",
    "    \\mathbb Var\\left(\\ln(X_i)\\right) &=& \\sigma^2 \\\\\n",
    "\\end{eqnarray}\n",
    "$$\n",
    "Pour $\\hat{\\mu}$, il est évident que \n",
    "$$\n",
    "E(\\hat{\\mu}) = \\frac{1}{n} \\sum_{i=1}^n E(\\ln X) = \\mu \\\\\n",
    "$$\n",
    "Donc $\\hat{\\mu}$ est un estimateur sans biaisé de $\\mu$.Pour $\\widehat{\\sigma^2}$, On a"
   ]
  },
  {
   "cell_type": "markdown",
   "metadata": {},
   "source": [
    "\n",
    "$$\n",
    "\\begin{eqnarray}\n",
    "\\widehat{\\sigma^2} &=& \\frac{1}{n} \\sum_{i=1}^n ( ln(X_i) - \\hat{\\mu})^2 \\\\\n",
    "                   &=& \\frac{1}{n} \\sum_{i=1}^n \\left( (ln(X_i) - \\mu) + (\\mu - \\hat{\\mu})  \\right)^2 \\\\\n",
    "                   &=& \\frac{1}{n} \\sum_{i=1}^n \\left( (ln(X_i) - \\mu)^2 + 2(ln(X_i) - \\mu)(\\mu - \\hat{\\mu}) + (\\mu - \\hat{\\mu}) ^2 \\right) \\\\\n",
    "                   &=& \\frac{1}{n} \\left( \n",
    "                                   \\sum_{i=1}^n (ln(X_i) - \\mu)^2  \n",
    "                                 + 2(\\mu - \\hat{\\mu}) \\sum_{i=1}^n  (ln(X_i) - \\mu) \n",
    "                                 + n(\\mu - \\hat{\\mu}) ^2 \n",
    "                                 \\right)\\\\      \n",
    "                   &=& \\frac{1}{n} \\left( \n",
    "                                           \\sum_{i=1}^n (ln(X_i) - \\mu)^2  \n",
    "                                         - 2n(\\hat{\\mu} - \\mu)^2 \n",
    "                                         + n(\\mu - \\hat{\\mu}) ^2 \n",
    "                                    \\right)\\\\   \n",
    "                   &=& \\frac{1}{n} \\left( \n",
    "                       \\sum_{i=1}^n (ln(X_i) - \\mu)^2  \n",
    "                     - n(\\hat{\\mu} - \\mu)^2 \n",
    "                \\right)\\\\  \n",
    "\\end{eqnarray}\n",
    "$$"
   ]
  },
  {
   "cell_type": "markdown",
   "metadata": {},
   "source": [
    "D'ou"
   ]
  },
  {
   "cell_type": "markdown",
   "metadata": {},
   "source": [
    "$$\\begin{eqnarray}\n",
    "\\mathbb E \\left(\\widehat{\\sigma^2} \\right)  \n",
    "                   &=& \\frac{1}{n} \\left( \n",
    "                   \\sum_{i=1}^n \\mathbb E\\left((ln(X_i) - \\mu)^2\\right)\n",
    "                     - n\\mathbb E\\left((\\hat{\\mu} - \\mu)^2\\right) \n",
    "                \\right)\\\\\n",
    "                &=& \\frac{1}{n} \\left( \n",
    "                   \\sum_{i=1}^n \\mathbb Var\\left(ln(X_i)\\right)\n",
    "                     - n\\mathbb Var\\left(\\hat{\\mu}\\right) \n",
    "                \\right)\\\\\n",
    "                &=& \\frac{n-1}{n}\\sigma^2 \\neq \\sigma^2\n",
    "\\end{eqnarray}$$"
   ]
  },
  {
   "cell_type": "markdown",
   "metadata": {},
   "source": [
    "Donc cette estimateur est biaisé.  Comme on a 400 observations dans ce jeu de donnée.\n",
    "La différence de estimateur biaisé et celle de sans biaisé $$\\frac{n}{n-1} \\hat{\\sigma} - \\hat{\\sigma}= 0.214 $$\n",
    "est négligable devant le l'ordre de $\\sigma^2 \\approx 8.583$. On peut alors dit que ce biaisé n'est pas significatif."
   ]
  },
  {
   "cell_type": "code",
   "execution_count": 11,
   "metadata": {},
   "outputs": [
    {
     "data": {
      "text/html": [
       "0.0214588201942956"
      ],
      "text/latex": [
       "0.0214588201942956"
      ],
      "text/markdown": [
       "0.0214588201942956"
      ],
      "text/plain": [
       "[1] 0.02145882"
      ]
     },
     "metadata": {},
     "output_type": "display_data"
    }
   ],
   "source": [
    "400/399 * sd(log(mydata))^2 - sd(log(mydata))^2"
   ]
  },
  {
   "cell_type": "markdown",
   "metadata": {},
   "source": [
    "__3.__ Représenter la loi associée pour le jeu de données considéré sur le même graphique que\n",
    "la loi empirique (toujours en échelle logarithmique)."
   ]
  },
  {
   "cell_type": "code",
   "execution_count": 12,
   "metadata": {
    "scrolled": false
   },
   "outputs": [
    {
     "data": {
      "image/png": "[encoded data removed]",
      "text/plain": [
       "Plot with title \"Histogramme de la taille des fichiers en échelle logarithmique\""
      ]
     },
     "metadata": {},
     "output_type": "display_data"
    }
   ],
   "source": [
    "h = hist(log(mydata), breaks = 50, probability= TRUE,\n",
    "      main=\"Histogramme de la taille des fichiers en échelle logarithmique\")\n",
    "\n",
    "log_x <- seq(-2, max(log(mydata)), length = 1000)\n",
    "y_normal <- dnorm( log_x, mean = mean(log(mydata)), sd = sd(log(mydata)))\n",
    "lines(log_x, y_normal, col = \"blue\", lwd = 2)\n",
    "\n",
    "densité_lnorm <- function(x, mean, sd){\n",
    "    return (1.0/(x*sqrt(2*pi*sd^2)) * exp(-(log(x)-mean)^2/(2*sd^2)))\n",
    "}\n",
    "\n",
    "\n",
    "#yfit_2 <- densité_lnorm(exp(xfit_2), mean(log(x)), sd(log(x)))\n",
    "y_dlnorme <- dlnorm(exp(log_x), meanlog = mean(log(mydata)), sdlog = sd(log(mydata)))\n",
    "\n",
    "\n",
    "par(new = TRUE)\n",
    "plot(log_x, y_dlnorme, type = \"l\", axes = FALSE, bty = \"n\", xlab = \"\", ylab = \"\", col='red')\n",
    "axis(4, ylim=c(0,max(y_dlnorme)), col=\"red\",col.axis=\"red\")\n",
    "\n",
    "## Add Legend\n",
    "legend(\"topright\",legend=c(\"Densité de ln(x) suivant lois normal\",\"Densité de X suivant loi log-Nromal\"),\n",
    "  text.col=c(\"black\",\"red\"),pch=c(16,15),col=c(\"black\",\"red\"))"
   ]
  },
  {
   "cell_type": "markdown",
   "metadata": {},
   "source": [
    "On peut constater que le courbe de loi log-normal et le courbe antérieur ne sont pas bien superposition. Car le queue de la courbe de la densité de loi log-normal est très grand, donc son la valeur maximum de log-mormal est très petit devant celle de loi normal. Donc ici, on utilise axe longitudinal différent afin de les mettre dans le meme figure."
   ]
  },
  {
   "cell_type": "markdown",
   "metadata": {},
   "source": [
    "__4.__ Calculer le risque quadratique associé à l’estimateur $\\hat{\\mu}$ de $\\mu$. Cet estimateur est-il efficace\n",
    "?"
   ]
  },
  {
   "cell_type": "markdown",
   "metadata": {},
   "source": [
    "D'après la définition de risque quadratique, on a\n",
    "$$\n",
    "EQM(\\mu, \\sigma^2; \\hat{\\mu}) = (b(\\mu,\\sigma^2;\\hat{\\mu}))^2 + \\mathbb Var_{\\mu,\\sigma^2}(\\hat{\\mu})\n",
    "$$\n",
    "Comme cet estimateur est non-biasi, alors $ b(\\mu,\\sigma^2;\\hat{\\mu})$ = 0\n",
    "Par conséquence, on a \n",
    "$$\\begin{eqnarray}\n",
    "EQM(\\mu, \\sigma^2; \\hat{\\mu}) &=& \\mathbb Var_{\\mu,\\sigma^2}(\\hat{\\mu}) \\\\ \n",
    "    &=& \\mathbb Var_{\\mu,\\sigma^2}(\\frac{1}{n}\\sum_{i=1}^{n}\\ln(x_i)) \\\\\n",
    "    &=& \\frac{1}{n^2} \\sum_{i=1}^{n}\\mathbb Var_{\\mu,\\sigma^2}(\\ln(x_i)) \\\\\n",
    "    &=& \\frac{\\sigma^2}{n} \\\\\n",
    "\\end{eqnarray}\n",
    "$$"
   ]
  },
  {
   "cell_type": "markdown",
   "metadata": {},
   "source": [
    "Afin de savoir sa efficacité, il faut tout d'abord calcul la quantité de'information de Fisher:\n",
    "$$ I(\\mu) = - \\mathbb E_{(\\mu,\\sigma^2)} \\left(\\frac{\\partial^2 L}{\\partial \\mu^2} \\left(X;\\mu,\\sigma^2\\right)\\right)\n",
    "          = \\frac{n}{\\sigma^2}$$\n",
    "          Comme $$\\mathbb Var_{\\mu,\\sigma^2}(\\hat{\\mu}) = \\frac{1}{I(\\mu)},$$ alors on dit ce cette estimateur est efficace."
   ]
  },
  {
   "cell_type": "markdown",
   "metadata": {},
   "source": [
    "### 5 "
   ]
  },
  {
   "cell_type": "markdown",
   "metadata": {},
   "source": [
    "Dans ce question, on utilise $g(\\hat{\\mu}) = e^{\\hat{\\mu}}$ estime le médian de population $e^{\\hat{\\mu}}$. Comme le statistique  $ g(\\hat{\\mu})$ est un variable aléatoir suivant un lois dont on supposons le densité  est $f(x)$.\n",
    "Ainsi la fonction exponentielle est une fonction convexe, d'après Inégalité de Jensen, on a \n",
    "$$ \\mathbb E(e^{\\hat{\\mu}}) \\geqslant e^{\\mathbb E(\\hat{\\mu})}  = e^{\\mu}.$$ Les deux membres de cette inégalité sont égaux (si et) seulement si la désité de $\\hat{\\mu}$ est constante μ-presque partout, autrement dit, $\\hat{\\mu}$ suit le loi uniforme. Mais d'après la théorème central limite, on sait que $\\hat{\\mu} \\sim \\mathcal N(\\mu, \\frac{\\sigma^2}{n})$. \n",
    "Donc les deux membres ne sont pas égale. \n",
    "\n",
    "Par conséquence, Cet estimateur est biaisé, dont il n'est pas efficace.\n",
    "\n",
    " Calcul numérique pour la médian empirique:"
   ]
  },
  {
   "cell_type": "code",
   "execution_count": 23,
   "metadata": {},
   "outputs": [
    {
     "data": {
      "text/html": [
       "9688"
      ],
      "text/latex": [
       "9688"
      ],
      "text/markdown": [
       "9688"
      ],
      "text/plain": [
       "[1] 9688"
      ]
     },
     "metadata": {},
     "output_type": "display_data"
    }
   ],
   "source": [
    "median(mydata)"
   ]
  },
  {
   "cell_type": "markdown",
   "metadata": {},
   "source": [
    "Calcul numérique pour la valeur obtenue pour ce jeu de données:"
   ]
  },
  {
   "cell_type": "code",
   "execution_count": 1,
   "metadata": {},
   "outputs": [
    {
     "data": {
      "text/html": [
       "9072.52452266556"
      ],
      "text/latex": [
       "9072.52452266556"
      ],
      "text/markdown": [
       "9072.52452266556"
      ],
      "text/plain": [
       "[1] 9072.525"
      ]
     },
     "metadata": {},
     "output_type": "display_data"
    }
   ],
   "source": [
    "exp(mean(log(mydata)))"
   ]
  },
  {
   "cell_type": "markdown",
   "metadata": {},
   "source": [
    "### 6 "
   ]
  },
  {
   "cell_type": "markdown",
   "metadata": {
    "collapsed": true
   },
   "source": [
    "Comme $ \\ln(X) \\sim \\mathcal N(\\mu,\\sigma^2) $. Donc $\\frac{\\ln(x) - \\mu}{\\sigma^2} \\sim \\mathcal N(0,1)$. \n",
    "$$\\begin{eqnarray}\n",
    " & P_{\\theta}\\left(X \\leq q(\\theta)\\right) &=& 0.95 \\\\\n",
    "\\iff & P_{\\theta}\\left(\\frac{\\ln(x) - \\mu}{\\sigma} \\leq \\frac{\\ln(q(\\theta)) - \\mu}{\\sigma^2}\\right)  &=& 0.95 \\\\\n",
    "\\implies & Q(0.95) = \\frac{\\ln(q(\\theta)) - \\mu}{\\sigma}\\\\\n",
    "\\end{eqnarray}$$\n",
    "$Q(x)$ est la fonction qantile de la loi normal standard. On peut alors utilise $\\hat \\ln(q(X)) =  \\hat\\sigma Q(0.95) + \\hat{\\mu}$ estime le $ log(q(\\theta))$.\n",
    "D'après Inégalité de Jensen, on a \n",
    "$$\\begin{eqnarray}\n",
    "\\mathbb E(\\ln(q(\\theta)) &=& Q(0.95)\\mathbb E(\\sqrt{\\widehat\\sigma^2}) + \\mathbb E(\\hat\\mu) \\\\\n",
    "                       &\\leq& Q(0.95)\\sqrt{\\mathbb E(\\widehat\\sigma^2）}) + \\mathbb E(\\hat\\mu) \\\\\n",
    "                       &\\leq& Q(0.95)\\sigma + \\mu \\\\\n",
    "\\end{eqnarray}$$\n",
    "Comme $\\widehat{\\sigma^2} \\sim \\mathcal\\chi(n-1)$, alors on ne prend pas l'égalité dans ce l'inéqualité. En conclusion, cet estimateur est baisé."
   ]
  },
  {
   "cell_type": "markdown",
   "metadata": {},
   "source": [
    "Calcul numérique de $q(\\theta)$ pour la loi empirique:"
   ]
  },
  {
   "cell_type": "code",
   "execution_count": 4,
   "metadata": {},
   "outputs": [
    {
     "data": {
      "text/html": [
       "1116840.53026346"
      ],
      "text/latex": [
       "1116840.53026346"
      ],
      "text/markdown": [
       "1116840.53026346"
      ],
      "text/plain": [
       "[1] 1116841"
      ]
     },
     "metadata": {},
     "output_type": "display_data"
    }
   ],
   "source": [
    "qlnorm(p=0.95, mean=mean(log(mydata)),sd=sd(log(mydata)))"
   ]
  },
  {
   "cell_type": "markdown",
   "metadata": {},
   "source": [
    "Calcul numérique de $q(\\theta)$ pour la valeur obtenue pour ce jeu de données:"
   ]
  },
  {
   "cell_type": "code",
   "execution_count": 8,
   "metadata": {},
   "outputs": [
    {
     "data": {
      "text/html": [
       "1110137.31884893"
      ],
      "text/latex": [
       "1110137.31884893"
      ],
      "text/markdown": [
       "1110137.31884893"
      ],
      "text/plain": [
       "[1] 1110137"
      ]
     },
     "metadata": {},
     "output_type": "display_data"
    }
   ],
   "source": [
    "exp(sqrt(399/400)*sd(log(mydata))*qnorm(p=0.95, mean=0, sd=1)+mean(log(mydata)))"
   ]
  },
  {
   "cell_type": "markdown",
   "metadata": {
    "collapsed": true
   },
   "source": [
    "## Exercice 3  Taille de fichiers et modélisation Bayésienne (7 pts)"
   ]
  },
  {
   "cell_type": "markdown",
   "metadata": {},
   "source": [
    "### 1 A faire"
   ]
  },
  {
   "cell_type": "code",
   "execution_count": 12,
   "metadata": {},
   "outputs": [
    {
     "data": {
      "text/html": [
       "9.11300584205029"
      ],
      "text/latex": [
       "9.11300584205029"
      ],
      "text/markdown": [
       "9.11300584205029"
      ],
      "text/plain": [
       "[1] 9.113006"
      ]
     },
     "metadata": {},
     "output_type": "display_data"
    }
   ],
   "source": [
    "mean(log(mydata))"
   ]
  },
  {
   "cell_type": "markdown",
   "metadata": {
    "collapsed": true
   },
   "source": [
    "### 2"
   ]
  },
  {
   "cell_type": "markdown",
   "metadata": {},
   "source": [
    "Comme  $\\lambda \\sim \\mathcal{\\Gamma}(a,b)$, alors\n",
    "$$\n",
    "\\begin{cases}\n",
    "    \\mathbb E_\\pi(\\lambda) &=& \\frac{a}{b}&=&1 \\\\\n",
    "    \\mathbb Var_\\pi(\\lambda) &=& \\frac{a}{b^2} &=&10 \\\\\n",
    "\\end{cases}\n",
    "$$\n",
    "Il en déduit que\n",
    "$$\n",
    "\\begin{cases}\n",
    "    a &=& 0.1 \\\\\n",
    "    b &=& 0.1 \\\\\n",
    "\\end{cases}\n",
    "$$"
   ]
  },
  {
   "cell_type": "markdown",
   "metadata": {
    "collapsed": true
   },
   "source": [
    "### 3"
   ]
  },
  {
   "cell_type": "markdown",
   "metadata": {},
   "source": [
    "Sachant que $\\lambda \\sim \\mathcal{Gamma}(a,b) $ et $ Y=\\ln(X)\\sim \\mathcal N(\\mu, \\frac{1}{\\lambda})$, alors on a\n",
    "\n",
    "$$\\begin{cases}\n",
    "    \\pi(\\lambda) &=& \\frac{\\lambda^{a-1} \\exp(-b\\lambda)}{\\Gamma(a)b^a}\\\\\n",
    "    f(Y_1 = y_1, Y_2 = y_2..., Y_n = y_n|\\lambda) &=& \\prod_{i=1}^{n} \\sqrt{\\frac{\\lambda }{2\\pi}} exp(-\\frac{\\lambda(y_i-\\mu)^2}{2})\\\\\n",
    "    &=& {\\frac{\\lambda^{n/2} }{\\sqrt{2\\pi}^n}} \\exp\\left(-\\frac{\\lambda}{2}\\sum_{i=1}^{n}(x_i-\\mu)^2\\right)\n",
    "\\end{cases}$$\n",
    "\n",
    "On a donc\n",
    "$$\\begin{eqnarray}\n",
    "    p(\\lambda | Y_1 = y_1, Y_2 = y_2..., Y_n = y_n) \n",
    "    &\\propto& f(Y_1 = y_1, Y_2 = y_2..., Y_n = y_n | \\lambda)\\pi(\\lambda)  \\\\\n",
    "    &\\propto& \\lambda^{a-1+\\frac{n}{2}}exp(-\\lambda(\\frac{1}{2}\\sum_{i=1}^n(y_i-\\mu)^2+b))\n",
    "\\end{eqnarray}\n",
    "$$\n",
    "Il en déduit que\n",
    "$$\n",
    "\\lambda|(X_1,...,X_n)\\sim\\mathcal{G}amma(a+\\frac{n}{2},b+\\frac{1}{2}\\sum_{i=1}^n(log(X_i)-\\mu)^2)\n",
    "$$"
   ]
  },
  {
   "cell_type": "markdown",
   "metadata": {},
   "source": [
    "Calcule numerique:"
   ]
  },
  {
   "cell_type": "code",
   "execution_count": 69,
   "metadata": {},
   "outputs": [
    {
     "name": "stdout",
     "output_type": "stream",
     "text": [
      "[1] 200.1\n"
     ]
    }
   ],
   "source": [
    "print(0.1+400/2)"
   ]
  },
  {
   "cell_type": "code",
   "execution_count": 70,
   "metadata": {},
   "outputs": [
    {
     "data": {
      "text/html": [
       "1708.23281687606"
      ],
      "text/latex": [
       "1708.23281687606"
      ],
      "text/markdown": [
       "1708.23281687606"
      ],
      "text/plain": [
       "[1] 1708.233"
      ]
     },
     "metadata": {},
     "output_type": "display_data"
    }
   ],
   "source": [
    "mu = mean(log(mydata))\n",
    "0.1 + 0.5 * sum((log(mydata) - mu)^2)"
   ]
  },
  {
   "cell_type": "markdown",
   "metadata": {},
   "source": [
    "$$\n",
    "\\begin{eqnarray}\n",
    "a+\\frac{n}{2} &=& 200.1 \\\\\n",
    "b+\\frac{1}{2}\\sum_{i=1}^n(log(X_i)-\\mu)^2) &=& 1708.23\n",
    "\\end{eqnarray}\n",
    "$$"
   ]
  },
  {
   "cell_type": "markdown",
   "metadata": {},
   "source": [
    "$$\n",
    "\\lambda|(X_1,...,X_n)\\sim\\mathcal Gamma(200.1,1708.23)\n",
    "$$"
   ]
  },
  {
   "cell_type": "markdown",
   "metadata": {},
   "source": [
    "### 4"
   ]
  },
  {
   "cell_type": "markdown",
   "metadata": {},
   "source": [
    "$$\n",
    "\\begin{eqnarray}\n",
    "\\mathbb{E}[\\lambda|X_1=x_1,...,X_n &=& x_n]&=&\\frac{a+\\frac{n}{2}}{b+\\frac{1}{2}\\sum_{i=1}^n(ln(x_i)-\\mu)^2} &&\\\\\n",
    "\\lim_{n\\rightarrow+\\infty} \\mathbb{E}[\\lambda|X_1=x_1,...,X_n &=& x_n] &=& \n",
    "\\frac{n}{\\sum_{i=1}^n(ln(x_i)-\\mu)^2} &=&\\mathbb{E}[\\hat{\\lambda}]\n",
    "\\end{eqnarray}\n",
    "$$"
   ]
  },
  {
   "cell_type": "markdown",
   "metadata": {},
   "source": [
    "### 5"
   ]
  },
  {
   "cell_type": "code",
   "execution_count": 71,
   "metadata": {},
   "outputs": [
    {
     "data": {
      "image/png": "[encoded data removed]",
      "text/plain": [
       "Plot with title \"Densité de loi\""
      ]
     },
     "metadata": {},
     "output_type": "display_data"
    }
   ],
   "source": [
    "margin = seq(0,1,length=5000)  \n",
    "apriori = dgamma(margin, shape=0.1, scale=10) \n",
    "\n",
    "plot(x=margin,y=apriori,col=\"red\",type=\"l\",ylim=c(0,40),main=\"Densité de loi\",xlab=\"Valeur\",ylab=\"Densité\")\n",
    "\n",
    "posteriori = dgamma(margin, shape=200.1, scale=1/1708.3) \n",
    "lines(x=margin,y=posteriori,col=\"orange\",type=\"l\")\n",
    "\n",
    "abline(v=200.1/1708.3, col=\"green\", lwd = \"4\")\n",
    "abline(v=400/399/var(log(mydata)), col=\"blue\", lwd = \"2\", lty = 2)\n",
    "\n",
    "\n",
    "legend(\"topright\",legend=c(\"Densité à priori\",\"Densité à posteriori\",\"Espérance à posteriori\",\"Espérance MV\"),col=c(\"red\",\"orange\",\"green\",\"blue\"),lty=c(1,1,1,2), cex=0.8)\n"
   ]
  },
  {
   "cell_type": "markdown",
   "metadata": {},
   "source": [
    "### 6"
   ]
  },
  {
   "cell_type": "markdown",
   "metadata": {},
   "source": [
    "## Exercice 4"
   ]
  },
  {
   "cell_type": "markdown",
   "metadata": {},
   "source": [
    "### 1."
   ]
  },
  {
   "cell_type": "markdown",
   "metadata": {},
   "source": [
    "On sais que $\\frac{1}{\\sigma^2}\\varphi(X_1,X_2,...,X_n) \\sim \\chi^2(n-1) $"
   ]
  },
  {
   "cell_type": "markdown",
   "metadata": {},
   "source": [
    "$$\n",
    "\\begin{eqnarray}\n",
    "H_0 &:\\sigma^2\\leq8;\\\\\n",
    "H_1 &:\\sigma^2>8;\\\\\n",
    "\\end{eqnarray}\n",
    "$$"
   ]
  },
  {
   "cell_type": "markdown",
   "metadata": {},
   "source": [
    "La région de refusé est donc\n",
    "$$\n",
    "D =\\{\\varphi :  \\frac{1}{8}\\varphi  > \\chi^2_{(n-1)}(1-\\alpha)\\}\n",
    "$$ \n",
    "Donc la region de acception est \n",
    "$$\n",
    "D_a = \\left[0,8\\chi^2_{(n-1)}(0.95)\\right]\n",
    "$$\n"
   ]
  },
  {
   "cell_type": "markdown",
   "metadata": {},
   "source": [
    "### 2"
   ]
  },
  {
   "cell_type": "markdown",
   "metadata": {},
   "source": [
    "Dans le jeu de données considéré, on accepte $H_0$."
   ]
  },
  {
   "cell_type": "code",
   "execution_count": 72,
   "metadata": {},
   "outputs": [
    {
     "data": {
      "text/html": [
       "TRUE"
      ],
      "text/latex": [
       "TRUE"
      ],
      "text/markdown": [
       "TRUE"
      ],
      "text/plain": [
       "[1] TRUE"
      ]
     },
     "metadata": {},
     "output_type": "display_data"
    }
   ],
   "source": [
    "L = 8 * qchisq(p=0.95, df = 399)\n",
    "Accepte = sd(log(mydata))^2*400 <= L\n",
    "Accepte"
   ]
  },
  {
   "cell_type": "markdown",
   "metadata": {},
   "source": [
    "D'après exo 4.1,\n",
    "$$\n",
    "$$\n",
    "\\begin{eqnarray}\n",
    "H_0 &:\\sigma^2\\leq \\sigma^2_{max};\\\\\n",
    "H_1 &:\\sigma^2>\\sigma^2_{max}\\\\\n",
    "\\end{eqnarray}\n",
    "$$\n",
    "la région d'acception\n",
    "\n",
    "$$\n",
    "D_a = \\left[0,\\sigma^2_{max}\\chi^2_{(n-1)}(1-\\alpha)\\right]\n",
    "$$\n"
   ]
  },
  {
   "cell_type": "markdown",
   "metadata": {},
   "source": [
    "$$\\sigma_{\\max}\\leq\\sqrt{\\frac{\\varphi\\left(X_1,...,X_n\\right)}{Q(1-\\alpha)}}$$"
   ]
  },
  {
   "cell_type": "markdown",
   "metadata": {},
   "source": [
    "Donc le seuil minimal \n",
    "$$\n",
    "\\sigma_0 = \\sqrt{\\frac{\\varphi\\left(X_1,...,X_n\\right)}{Q(1-\\alpha)}}\n",
    "$$"
   ]
  },
  {
   "cell_type": "code",
   "execution_count": 73,
   "metadata": {},
   "outputs": [
    {
     "data": {
      "text/html": [
       "2.76931609150385"
      ],
      "text/latex": [
       "2.76931609150385"
      ],
      "text/markdown": [
       "2.76931609150385"
      ],
      "text/plain": [
       "[1] 2.769316"
      ]
     },
     "metadata": {},
     "output_type": "display_data"
    }
   ],
   "source": [
    "seuil = sqrt(sd(log(mydata))^2 * 400 / qchisq(p=0.95,df = 399))\n",
    "seuil"
   ]
  },
  {
   "cell_type": "code",
   "execution_count": null,
   "metadata": {
    "collapsed": true
   },
   "outputs": [],
   "source": []
  }
 ],
 "metadata": {
  "kernelspec": {
   "display_name": "R",
   "language": "R",
   "name": "ir"
  },
  "language_info": {
   "codemirror_mode": "r",
   "file_extension": ".r",
   "mimetype": "text/x-r-source",
   "name": "R",
   "pygments_lexer": "r",
   "version": "3.4.1"
  }
 },
 "nbformat": 4,
 "nbformat_minor": 2
}
