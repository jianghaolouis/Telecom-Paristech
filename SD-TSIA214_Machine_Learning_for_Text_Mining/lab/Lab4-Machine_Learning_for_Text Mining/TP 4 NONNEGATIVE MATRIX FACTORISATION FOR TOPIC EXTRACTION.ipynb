{
 "cells": [
  {
   "cell_type": "markdown",
   "metadata": {
    "collapsed": true
   },
   "source": [
    "ZHU Fangda & ZHANG Bolong"
   ]
  },
  {
   "cell_type": "code",
   "execution_count": 1,
   "metadata": {
    "ExecuteTime": {
     "end_time": "2018-06-19T12:00:16.697019Z",
     "start_time": "2018-06-19T12:00:12.420449Z"
    }
   },
   "outputs": [],
   "source": [
    "from time import time\n",
    "from sklearn.feature_extraction.text import TfidfVectorizer, CountVectorizer\n",
    "from sklearn.decomposition import NMF, LatentDirichletAllocation\n",
    "from sklearn.datasets import fetch_20newsgroups\n",
    "import numpy as np\n",
    "import scipy.sparse as sp"
   ]
  },
  {
   "cell_type": "markdown",
   "metadata": {},
   "source": [
    "# TOPIC EXTRACTION FROM DOCUMENTS"
   ]
  },
  {
   "cell_type": "markdown",
   "metadata": {},
   "source": [
    "The goal is to study the use of nonnegative matrix factorisation (NMF) for topic extraction from a dataset of text documents. The rationale is to interpret each extracted NMF component as being associated with a specific topic.\n",
    "\n",
    "Study and test the following script (introduced on http://scikit-learn.org/stable/auto_examples/applications/plot_topics_extraction_with_nmf_lda.html) :"
   ]
  },
  {
   "cell_type": "code",
   "execution_count": 2,
   "metadata": {
    "ExecuteTime": {
     "end_time": "2018-06-19T12:00:16.702009Z",
     "start_time": "2018-06-19T12:00:16.698013Z"
    }
   },
   "outputs": [],
   "source": [
    "n_samples = 2000\n",
    "n_features = 1000\n",
    "n_components = 10\n",
    "n_top_words = 20"
   ]
  },
  {
   "cell_type": "code",
   "execution_count": 3,
   "metadata": {
    "ExecuteTime": {
     "end_time": "2018-06-19T12:00:16.716964Z",
     "start_time": "2018-06-19T12:00:16.703997Z"
    }
   },
   "outputs": [],
   "source": [
    "def print_top_words(model, feature_names, n_top_words):\n",
    "    for topic_idx, topic in enumerate(model.components_):\n",
    "        message = \"Topic #%d: \" % topic_idx\n",
    "        message += \" \".join([feature_names[i]\n",
    "                             for i in topic.argsort()[:-n_top_words - 1:-1]])\n",
    "        print(message)\n",
    "    print()"
   ]
  },
  {
   "cell_type": "code",
   "execution_count": 4,
   "metadata": {
    "ExecuteTime": {
     "end_time": "2018-06-19T12:00:16.753864Z",
     "start_time": "2018-06-19T12:00:16.718959Z"
    }
   },
   "outputs": [],
   "source": [
    "def preprocess(vectorizer='tf_idf', verbose=False):\n",
    "    print(\"Loading dataset...\")\n",
    "    t0 = time()\n",
    "    dataset = fetch_20newsgroups(shuffle=True, random_state=1,\n",
    "                                 remove=('headers', 'footers', 'quotes'))\n",
    "    data_samples = dataset.data[:n_samples]\n",
    "    if(verbose):\n",
    "        print(\"Loading dataset done in %0.3fs.\" % (time() - t0))\n",
    "\n",
    "    if vectorizer == 'tf_idf':\n",
    "        # Use tf-idf features for NMF.\n",
    "        _vectorizer = TfidfVectorizer(input = \"content\", max_df=0.95,                                            max_features=n_features,\n",
    "                                           stop_words='english')\n",
    "    elif vectorizer == 'tf':\n",
    "        # Use tf features for NMF.\n",
    "        _vectorizer = CountVectorizer(input = \"content\", max_df=0.95,\n",
    "                                max_features=n_features,\n",
    "                                stop_words='english')\n",
    "    else:\n",
    "        raise ValueError(\"Excepted value of vectorizer is tf_idf or tf.\")\n",
    "        \n",
    "    t0 = time()\n",
    "    features = _vectorizer.fit_transform(data_samples)\n",
    "    feature_names = _vectorizer.get_feature_names()\n",
    "    if(verbose):\n",
    "        print(\" for LDA...\")\n",
    "        print(\"Extracting\" + vectorizer +  \"features done in %0.3fs.\" % (time() - t0))\n",
    "    return features, feature_names"
   ]
  },
  {
   "cell_type": "code",
   "execution_count": 5,
   "metadata": {
    "ExecuteTime": {
     "end_time": "2018-06-19T12:00:16.772815Z",
     "start_time": "2018-06-19T12:00:16.755858Z"
    }
   },
   "outputs": [],
   "source": [
    "def NMF_SK(features, _vectorizerName=None, W=None, H=None, K = None\n",
    "             ,random_state=None\n",
    "             ,solver= 'cd', beta_loss = 'frobenius', init='random',verbose = False ):\n",
    "\n",
    "    t0 = time()\n",
    "    nmf = NMF(n_components, init, solver, beta_loss, \n",
    "                  random_state=random_state,\n",
    "                  alpha=.1, l1_ratio=.5, verbose = verbose).fit(features)\n",
    "    if init =='random':\n",
    "        nmf = nmf.fit(features)\n",
    "    else:\n",
    "        nmf = nmf.fit_transform(features, W=_W, H=_H)\n",
    "\n",
    "    if(verbose):\n",
    "         print(\"NMF done in %0.3fs.\" % (time() - t0))\n",
    "    return nmf, n_top_words"
   ]
  },
  {
   "cell_type": "markdown",
   "metadata": {},
   "source": [
    "## Test and comment on the effect of varying the initialisation, especially using random\n",
    "nonnegative values as initial guesses (for W and H coefficients, using the notations introduced during the lecture)"
   ]
  },
  {
   "cell_type": "code",
   "execution_count": 6,
   "metadata": {
    "ExecuteTime": {
     "end_time": "2018-06-19T12:00:19.386825Z",
     "start_time": "2018-06-19T12:00:16.774810Z"
    },
    "scrolled": true
   },
   "outputs": [
    {
     "name": "stdout",
     "output_type": "stream",
     "text": [
      "Loading dataset...\n",
      "Topic #0: just people don think like know time good make way really say ve right want did use ll new years\n",
      "Topic #1: god jesus bible faith christian christ christians does heaven sin believe lord life church mary atheism love belief human religion\n",
      "Topic #2: drive drives hard disk software floppy card mac 00 power computer scsi controller apple mb pc sale rom monitor memory\n",
      "Topic #3: car cars tires miles new engine insurance 00 price condition oil speed power 000 good brake models bought year used\n",
      "Topic #4: game team games year win play season players nhl runs goal toronto hockey division flyers player defense leafs bad teams\n",
      "Topic #5: edu soon send com university internet mit ftp mail cc article pub information hope email contact home blood mac program\n",
      "Topic #6: thanks know does mail advance hi info interested email anybody looking card help like appreciated information list send video need\n",
      "Topic #7: windows file dos files program use using window problem help os running drivers application pc ftp ms version screen available\n",
      "Topic #8: key chip clipper keys encryption government public use secure enforcement phone nsa law communications security privacy clinton used user legal\n",
      "Topic #9: bike insurance recommend live good course contact 250 dog open 500 org turn ground buy costs rights driving work start\n",
      "\n"
     ]
    }
   ],
   "source": [
    "features, feature_names = preprocess()\n",
    "nmf, n_top_words = NMF_SK(features)\n",
    "print_top_words(nmf, feature_names, n_top_words)"
   ]
  },
  {
   "cell_type": "code",
   "execution_count": 7,
   "metadata": {
    "ExecuteTime": {
     "end_time": "2018-06-19T12:00:21.849242Z",
     "start_time": "2018-06-19T12:00:19.388820Z"
    },
    "scrolled": true
   },
   "outputs": [
    {
     "name": "stdout",
     "output_type": "stream",
     "text": [
      "Loading dataset...\n",
      "Topic #0: just people don think like know time good way make really say ve right did ll new want going years\n",
      "Topic #1: god jesus bible faith christian christ christians does heaven sin believe lord life church mary atheism love belief human religion\n",
      "Topic #2: car cars tires miles new engine insurance price 00 oil condition power speed good 000 brake year models bought used\n",
      "Topic #3: windows file dos files program using problem window os help running drivers ftp ms version pc application screen work available\n",
      "Topic #4: key chip clipper keys encryption government public enforcement secure phone law nsa communications security privacy clinton used message user going\n",
      "Topic #5: thanks know does mail advance hi info interested email anybody looking card help like appreciated information list send video need\n",
      "Topic #6: drive drives disk hard software card floppy 00 mac computer power scsi controller apple pc mb sale monitor rom memory\n",
      "Topic #7: game team games year win play season players nhl runs goal hockey toronto division flyers player defense leafs bad teams\n",
      "Topic #8: use want window hardware need standard windows using good encryption available doing used power stuff access 30 data let database\n",
      "Topic #9: edu soon send com university internet mit ftp mail cc article pub hope information email home contact blood mac program\n",
      "\n"
     ]
    }
   ],
   "source": [
    "features, feature_names = preprocess()\n",
    "nmf, n_top_words = NMF_SK(features, random_state = 26)\n",
    "print_top_words(nmf, feature_names, n_top_words)"
   ]
  },
  {
   "cell_type": "markdown",
   "metadata": {},
   "source": [
    "According to the result, we can find the initial value of W and H have a influence to the final results. So we can find the alogo is not stable. The result depends on the initialisation, we may say that the results are similar, the order of topic is different with different initial value."
   ]
  },
  {
   "cell_type": "markdown",
   "metadata": {},
   "source": [
    "## Compare and comment on the difference between the results obtained with $l_2$ cost compared to the generalised Kullback-Liebler cost"
   ]
  },
  {
   "cell_type": "code",
   "execution_count": 8,
   "metadata": {
    "ExecuteTime": {
     "end_time": "2018-06-19T12:00:35.112784Z",
     "start_time": "2018-06-19T12:00:21.851238Z"
    }
   },
   "outputs": [
    {
     "name": "stdout",
     "output_type": "stream",
     "text": [
      "Loading dataset...\n"
     ]
    },
    {
     "name": "stderr",
     "output_type": "stream",
     "text": [
      "D:\\ProgramData\\Anaconda3\\lib\\site-packages\\sklearn\\decomposition\\nmf.py:1035: ConvergenceWarning: Maximum number of iteration 200 reached. Increase it to improve convergence.\n",
      "  \" improve convergence.\" % max_iter, ConvergenceWarning)\n"
     ]
    },
    {
     "name": "stdout",
     "output_type": "stream",
     "text": [
      "Topic #0: thanks using windows need use know help hi does file software problem work advance version info pc mail drive video\n",
      "Topic #1: work people heard state small different write going able news tell unless gets idea order common law given right look\n",
      "Topic #2: want time make sure things let got good hard stuff real like way look need nice long just new pretty\n",
      "Topic #3: used use guess public general wouldn years key using light government course rest currently second control times national doing nasa\n",
      "Topic #4: wrong support way believe usually people says did matter reason set word far com time instead fact said god called\n",
      "Topic #5: year post won mail send working thanks said posting check number don reply runs lot mentioned case net bad edu\n",
      "Topic #6: years team new 20 ago states play women 11 possible 40 13 second started jewish 1993 total 10 white day\n",
      "Topic #7: looking interested new world price sale university good sell couple buy offer cost weeks edu source email 10 bike phone\n",
      "Topic #8: think does say read thought just don trying yes know like true people question mean god example person point correct\n",
      "Topic #9: just don really like right thing think know maybe little probably remember way edu try hope kind soon mind quite\n",
      "\n"
     ]
    }
   ],
   "source": [
    "features, feature_names = preprocess()\n",
    "nmf, n_top_words = NMF_SK(features,solver = 'mu', beta_loss='kullback-leibler')\n",
    "print_top_words(nmf, feature_names, n_top_words)"
   ]
  },
  {
   "cell_type": "markdown",
   "metadata": {},
   "source": [
    "The topics found seem similar, but not exactly, for example, there is no topic about religion for Kullback-Liebler cost which may not be very precise. Also, l2 cost may be more efficient, it extracts more information regarding the topics. And l2 cost converge more fast, the results of kullback-leibler is very larger. So with kullback-leibler, we can get WH which are more close to V for the same number of steps. "
   ]
  },
  {
   "cell_type": "markdown",
   "metadata": {},
   "source": [
    "## Test and comment on the results obtained using a simpler term-frequency representation as input (as opposed to the TF-IDF representation considered in the code above) when considering the Kullback-Liebler cost."
   ]
  },
  {
   "cell_type": "code",
   "execution_count": 9,
   "metadata": {
    "ExecuteTime": {
     "end_time": "2018-06-19T12:00:44.928542Z",
     "start_time": "2018-06-19T12:00:35.114778Z"
    }
   },
   "outputs": [
    {
     "name": "stdout",
     "output_type": "stream",
     "text": [
      "Loading dataset...\n",
      "Topic #0: don just like think people know good make way ve want really say going sure ll doesn right need things\n",
      "Topic #1: didn car people said just know went like did time don came going home old got come right started bike\n",
      "Topic #2: edu com mail graphics send pub file ftp server files code faq list message image cs format mit available xfree86\n",
      "Topic #3: government key use law state public israel encryption clipper chip keys section gun used security weapons person military insurance enforcement\n",
      "Topic #4: 10 drive 55 disk 16 11 hard drives 25 15 17 controller 18 12 rom 21 card 20 23 13\n",
      "Topic #5: space year game team play years earth points moon surface probe season games flyers lunar players new mission orbit 10\n",
      "Topic #6: god does people jesus bible law believe true church point fact life christian time did jews say world book religion\n",
      "Topic #7: people 000 new hiv health children research president 1993 said aids april national states turkish program information care year jobs\n",
      "Topic #8: use using thanks time problem does windows used need work know bit scsi speed help window high card color memory\n",
      "Topic #9: software version pc contact price computer thanks dos 00 type available new machines university edu vs gm mac comments ibm\n",
      "\n"
     ]
    }
   ],
   "source": [
    "features, feature_names = preprocess('tf')\n",
    "nmf, n_top_words = NMF_SK(features,solver = 'mu', beta_loss='kullback-leibler')\n",
    "print_top_words(nmf, feature_names, n_top_words)"
   ]
  },
  {
   "cell_type": "markdown",
   "metadata": {},
   "source": [
    "Neither the simple Term Frequency representation and the simple Count of tokens has a better result. For example, topic 4, there is no effective or much useful information/word. With tf_idf, it is more easy to distinguish the similar topic."
   ]
  },
  {
   "cell_type": "markdown",
   "metadata": {},
   "source": [
    "# Custom NMF Implementation"
   ]
  },
  {
   "cell_type": "code",
   "execution_count": 10,
   "metadata": {
    "ExecuteTime": {
     "end_time": "2018-06-19T12:00:44.939513Z",
     "start_time": "2018-06-19T12:00:44.930537Z"
    }
   },
   "outputs": [],
   "source": [
    "def _special_sparse_dot(W, H, X):\n",
    "    \"\"\"Computes np.dot(W, H), only where X is non zero.\"\"\"\n",
    "    if sp.issparse(X):\n",
    "        ii, jj = X.nonzero()\n",
    "        dot_vals = np.multiply(W[ii, :], H.T[jj, :]).sum(axis=1)\n",
    "        WH = sp.coo_matrix((dot_vals, (ii, jj)), shape=X.shape)\n",
    "        return WH.tocsr()\n",
    "    else:\n",
    "        return np.dot(W, H)"
   ]
  },
  {
   "cell_type": "code",
   "execution_count": 11,
   "metadata": {
    "ExecuteTime": {
     "end_time": "2018-06-19T12:00:45.083129Z",
     "start_time": "2018-06-19T12:00:44.940511Z"
    }
   },
   "outputs": [],
   "source": [
    "def _beta_divergence(X, Y, beta):\n",
    "    if beta == 0:\n",
    "        return np.sum(X/Y - np.ma.log(X/Y) - 1)\n",
    "    elif beta == 1:\n",
    "        item = np.ma.log( np.ma.divide(X,Y))\n",
    "        item = item.filled(0)\n",
    "        return np.sum(np.multiply(X,item) - X + Y)\n",
    "    else:\n",
    "        term1 = X**beta\n",
    "        term2 = (beta - 1) * Y**beta\n",
    "        term3 = beta * np.multiply(X,Y**(beta-1))\n",
    "        term = (term1 + term2 - term3) / (beta*(beta-1))\n",
    "        return np.sum(term)\n",
    "    \n",
    "def custom_NMF(V, K, W=None, H=None, beta = 1, steps=50, show_loss=False):\n",
    "    if (V.ndim != 2):\n",
    "        raise ValueError('The dim of V should be 2 but found ' + str(V.ndim))\n",
    "    if (K < 2):\n",
    "        raise ValueError('The K should a integer bigger then 2 but found ' +\n",
    "                         str(K))\n",
    "    \n",
    "    F, N = V.shape\n",
    "    if (W == None):\n",
    "        W = np.random.rand(F, K)\n",
    "    if (H == None):\n",
    "        H = np.random.rand(K, N)\n",
    "     \n",
    "    pre_error = 0\n",
    "    error = 0\n",
    "    for step in range(steps):\n",
    "        WH = W.dot(H)\n",
    "        H_num = W.T.dot(np.multiply( np.power(WH,beta-2),V))\n",
    "        H_den =  W.T.dot(np.power(W.dot(H), beta-1))\n",
    "        H = np.multiply(H, np.ma.divide(H_num, H_den))\n",
    "        WH = W.dot(H)\n",
    "        W_num = np.multiply(WH**(beta-2),V).dot(H.T) \n",
    "        W_den =  np.dot(WH**(beta-1), H.T)\n",
    "        W = np.multiply(W, np.ma.divide(W_num, W_den))\n",
    "        \n",
    "        H = np.clip(H, 10**-150, None)\n",
    "        W = np.clip(W, 10**-150, None)\n",
    "        \n",
    "        if(show_loss and (step+1) %25 == 0):\n",
    "            pre_error = error\n",
    "            WH = _special_sparse_dot(W, H, V)\n",
    "            error = _beta_divergence(V, W.dot(H), beta)\n",
    "            \n",
    "            print(\"Iteration %d Error: %.3f\" % (step + 1,error) )\n",
    "            print(\"Iteration %d Relative Error: %.3f\" % (step,pre_error - error) )\n",
    "     \n",
    "    return np.asarray(W), np.asarray(H)"
   ]
  },
  {
   "cell_type": "code",
   "execution_count": 12,
   "metadata": {
    "ExecuteTime": {
     "end_time": "2018-06-19T12:00:47.291229Z",
     "start_time": "2018-06-19T12:00:45.084130Z"
    }
   },
   "outputs": [
    {
     "name": "stdout",
     "output_type": "stream",
     "text": [
      "Loading dataset...\n"
     ]
    }
   ],
   "source": [
    "features, feature_names = preprocess()"
   ]
  },
  {
   "cell_type": "code",
   "execution_count": 13,
   "metadata": {
    "ExecuteTime": {
     "end_time": "2018-06-19T12:01:50.674048Z",
     "start_time": "2018-06-19T12:00:47.293220Z"
    }
   },
   "outputs": [
    {
     "name": "stdout",
     "output_type": "stream",
     "text": [
      "Iteration 25 Error: 0.430\n",
      "Iteration 24 Relative Error: -0.430\n",
      "Iteration 50 Error: 0.403\n",
      "Iteration 49 Relative Error: 0.027\n",
      "Iteration 75 Error: 0.402\n",
      "Iteration 74 Relative Error: 0.001\n",
      "Iteration 100 Error: 0.402\n",
      "Iteration 99 Relative Error: 0.000\n"
     ]
    }
   ],
   "source": [
    "W, H = custom_NMF(features.toarray(), 10, beta = 10, show_loss=True, steps = 100)"
   ]
  },
  {
   "cell_type": "code",
   "execution_count": 14,
   "metadata": {
    "ExecuteTime": {
     "end_time": "2018-06-19T12:07:00.455568Z",
     "start_time": "2018-06-19T12:01:50.676033Z"
    }
   },
   "outputs": [
    {
     "name": "stdout",
     "output_type": "stream",
     "text": [
      "Iteration 25 Error: 887.589\n",
      "Iteration 24 Relative Error: -887.589\n",
      "Iteration 50 Error: 885.227\n",
      "Iteration 49 Relative Error: 2.362\n",
      "Iteration 75 Error: 884.746\n",
      "Iteration 74 Relative Error: 0.481\n",
      "Iteration 100 Error: 884.470\n",
      "Iteration 99 Relative Error: 0.276\n",
      "Iteration 125 Error: 884.352\n",
      "Iteration 124 Relative Error: 0.117\n",
      "Iteration 150 Error: 884.294\n",
      "Iteration 149 Relative Error: 0.058\n",
      "Iteration 175 Error: 884.276\n",
      "Iteration 174 Relative Error: 0.018\n",
      "Iteration 200 Error: 884.257\n",
      "Iteration 199 Relative Error: 0.019\n",
      "Iteration 225 Error: 884.245\n",
      "Iteration 224 Relative Error: 0.012\n",
      "Iteration 250 Error: 884.239\n",
      "Iteration 249 Relative Error: 0.006\n",
      "Iteration 275 Error: 884.236\n",
      "Iteration 274 Relative Error: 0.003\n",
      "Iteration 300 Error: 884.232\n",
      "Iteration 299 Relative Error: 0.004\n",
      "Iteration 325 Error: 884.230\n",
      "Iteration 324 Relative Error: 0.002\n",
      "Iteration 350 Error: 884.227\n",
      "Iteration 349 Relative Error: 0.002\n",
      "Iteration 375 Error: 884.225\n",
      "Iteration 374 Relative Error: 0.002\n",
      "Iteration 400 Error: 884.221\n",
      "Iteration 399 Relative Error: 0.004\n",
      "Iteration 425 Error: 884.220\n",
      "Iteration 424 Relative Error: 0.002\n",
      "Iteration 450 Error: 884.218\n",
      "Iteration 449 Relative Error: 0.002\n",
      "Iteration 475 Error: 884.217\n",
      "Iteration 474 Relative Error: 0.001\n",
      "Iteration 500 Error: 884.216\n",
      "Iteration 499 Relative Error: 0.001\n",
      "Iteration 525 Error: 884.215\n",
      "Iteration 524 Relative Error: 0.001\n",
      "Iteration 550 Error: 884.214\n",
      "Iteration 549 Relative Error: 0.001\n",
      "Iteration 575 Error: 884.213\n",
      "Iteration 574 Relative Error: 0.001\n",
      "Iteration 600 Error: 884.212\n",
      "Iteration 599 Relative Error: 0.001\n",
      "Iteration 625 Error: 884.211\n",
      "Iteration 624 Relative Error: 0.001\n",
      "Iteration 650 Error: 884.209\n",
      "Iteration 649 Relative Error: 0.001\n",
      "Iteration 675 Error: 884.207\n",
      "Iteration 674 Relative Error: 0.002\n",
      "Iteration 700 Error: 884.205\n",
      "Iteration 699 Relative Error: 0.002\n",
      "Iteration 725 Error: 884.201\n",
      "Iteration 724 Relative Error: 0.005\n",
      "Iteration 750 Error: 884.193\n",
      "Iteration 749 Relative Error: 0.007\n",
      "Iteration 775 Error: 884.183\n",
      "Iteration 774 Relative Error: 0.010\n",
      "Iteration 800 Error: 884.166\n",
      "Iteration 799 Relative Error: 0.017\n",
      "Iteration 825 Error: 884.140\n",
      "Iteration 824 Relative Error: 0.027\n",
      "Iteration 850 Error: 884.109\n",
      "Iteration 849 Relative Error: 0.031\n",
      "Iteration 875 Error: 884.084\n",
      "Iteration 874 Relative Error: 0.024\n",
      "Iteration 900 Error: 884.065\n",
      "Iteration 899 Relative Error: 0.019\n",
      "Iteration 925 Error: 884.047\n",
      "Iteration 924 Relative Error: 0.018\n",
      "Iteration 950 Error: 884.023\n",
      "Iteration 949 Relative Error: 0.024\n",
      "Iteration 975 Error: 883.995\n",
      "Iteration 974 Relative Error: 0.028\n",
      "Iteration 1000 Error: 883.968\n",
      "Iteration 999 Relative Error: 0.027\n"
     ]
    }
   ],
   "source": [
    "W, H = custom_NMF(features.toarray(), 10, beta = 2, show_loss=True, steps = 1000)"
   ]
  },
  {
   "cell_type": "code",
   "execution_count": 15,
   "metadata": {
    "ExecuteTime": {
     "end_time": "2018-06-19T12:07:00.471632Z",
     "start_time": "2018-06-19T12:07:00.458563Z"
    }
   },
   "outputs": [
    {
     "name": "stdout",
     "output_type": "stream",
     "text": [
      "Custome MNF:\n",
      "Topic #0: windows file dos using program use window files problem help os application running drivers version screen ms ftp available work\n",
      "Topic #1: god jesus bible faith does christian christians christ believe heaven life sin lord church mary religion love true atheism human\n",
      "Topic #2: people just don know like say time right did make ve really said law government things israel way let want\n",
      "Topic #3: think don just use good like need pretty extra make yes sure bible early try reading going wasn course wrong\n",
      "Topic #4: key chip clipper keys encryption government use public phone secure enforcement data law nsa security used communications going standard privacy\n",
      "Topic #5: drive drives hard disk card software floppy pc mac apple power scsi computer controller memory problem board monitor mb video\n",
      "Topic #6: car new 00 10 bike price good year sale cars space power engine years cost miles condition like used 12\n",
      "Topic #7: thanks know does mail advance hi info interested anybody like email looking help appreciated card don list information need send\n",
      "Topic #8: game team year games play win season ll players nhl just runs toronto flyers division won great hockey better bad\n",
      "Topic #9: edu soon com send university internet ftp mail mit information article pub cc email address hope mac program contact blood\n",
      "\n"
     ]
    }
   ],
   "source": [
    "print(\"Custome MNF:\")\n",
    "for topic_idx in range(n_components):\n",
    "        message = \"Topic #%d: \" % topic_idx\n",
    "        message += \" \".join([feature_names[i]\n",
    "                             for i in H[topic_idx,:].argsort()[:-n_top_words - 1:-1]])\n",
    "        print(message)\n",
    "print()"
   ]
  },
  {
   "cell_type": "code",
   "execution_count": 16,
   "metadata": {
    "ExecuteTime": {
     "end_time": "2018-06-19T12:07:03.525400Z",
     "start_time": "2018-06-19T12:07:00.474831Z"
    }
   },
   "outputs": [
    {
     "name": "stdout",
     "output_type": "stream",
     "text": [
      "sklearn MNF:\n",
      "Loading dataset...\n"
     ]
    }
   ],
   "source": [
    "print(\"sklearn MNF:\")\n",
    "features, feature_names = preprocess()"
   ]
  },
  {
   "cell_type": "code",
   "execution_count": 17,
   "metadata": {
    "ExecuteTime": {
     "end_time": "2018-06-19T12:07:20.096059Z",
     "start_time": "2018-06-19T12:07:03.528354Z"
    }
   },
   "outputs": [
    {
     "name": "stdout",
     "output_type": "stream",
     "text": [
      "Epoch 10 reached after 0.421 seconds, error: 218.052710\n",
      "Epoch 20 reached after 0.846 seconds, error: 214.712050\n",
      "Epoch 30 reached after 1.272 seconds, error: 213.776898\n",
      "Epoch 40 reached after 1.701 seconds, error: 213.329420\n",
      "Epoch 50 reached after 2.145 seconds, error: 213.059091\n",
      "Epoch 60 reached after 2.588 seconds, error: 212.872114\n",
      "Epoch 70 reached after 3.033 seconds, error: 212.729480\n",
      "Epoch 80 reached after 3.469 seconds, error: 212.608326\n",
      "Epoch 90 reached after 3.903 seconds, error: 212.508895\n",
      "Epoch 100 reached after 4.334 seconds, error: 212.448747\n",
      "Epoch 110 reached after 4.778 seconds, error: 212.385838\n",
      "Epoch 120 reached after 5.227 seconds, error: 212.313436\n",
      "Epoch 130 reached after 5.642 seconds, error: 212.263410\n",
      "Epoch 140 reached after 6.078 seconds, error: 212.226382\n",
      "Epoch 150 reached after 6.508 seconds, error: 212.190192\n",
      "Epoch 160 reached after 6.937 seconds, error: 212.148670\n",
      "Epoch 170 reached after 7.384 seconds, error: 212.115660\n",
      "Epoch 180 reached after 7.824 seconds, error: 212.084777\n",
      "Epoch 190 reached after 8.257 seconds, error: 212.058514\n",
      "Epoch 200 reached after 8.689 seconds, error: 212.033088\n"
     ]
    },
    {
     "name": "stderr",
     "output_type": "stream",
     "text": [
      "D:\\ProgramData\\Anaconda3\\lib\\site-packages\\sklearn\\decomposition\\nmf.py:1035: ConvergenceWarning: Maximum number of iteration 200 reached. Increase it to improve convergence.\n",
      "  \" improve convergence.\" % max_iter, ConvergenceWarning)\n"
     ]
    },
    {
     "name": "stdout",
     "output_type": "stream",
     "text": [
      "Epoch 10 reached after 0.455 seconds, error: 218.389820\n",
      "Epoch 20 reached after 0.890 seconds, error: 214.904369\n",
      "Epoch 30 reached after 1.309 seconds, error: 213.869140\n",
      "Epoch 40 reached after 1.740 seconds, error: 213.353410\n",
      "Epoch 50 reached after 2.184 seconds, error: 213.074355\n",
      "Epoch 60 reached after 2.613 seconds, error: 212.886821\n",
      "Epoch 70 reached after 3.048 seconds, error: 212.752822\n",
      "Epoch 80 reached after 3.486 seconds, error: 212.647430\n",
      "Epoch 90 reached after 3.929 seconds, error: 212.544264\n",
      "Epoch 100 reached after 4.355 seconds, error: 212.481188\n",
      "Epoch 110 reached after 4.793 seconds, error: 212.412379\n",
      "Epoch 120 reached after 5.209 seconds, error: 212.360674\n",
      "Epoch 130 reached after 5.649 seconds, error: 212.296555\n",
      "Epoch 140 reached after 6.068 seconds, error: 212.246282\n",
      "Epoch 150 reached after 6.501 seconds, error: 212.206117\n",
      "Epoch 160 reached after 6.931 seconds, error: 212.165737\n",
      "Epoch 170 reached after 7.369 seconds, error: 212.129729\n",
      "Epoch 180 reached after 7.815 seconds, error: 212.107796\n",
      "NMF done in 16.559s.\n",
      "Topic #0: year probably people don tell going given really job money general weeks lot free parts certainly mean numbers getting time\n",
      "Topic #1: like years just stuff ago doing things working good run runs really sounds new speed white way red got home\n",
      "Topic #2: used time using new wouldn simple mind course use second way light low yes uses currently quite high body long\n",
      "Topic #3: thanks windows mail using hi software need help file advance does pc email card program video available memory version window\n",
      "Topic #4: said people heard think come thing right person simply making seen law hear ve started better death based went did\n",
      "Topic #5: know want wrong work does need try looking use don think similar help questions thought old trying science type knows\n",
      "Topic #6: think problem make use just remember work problems support number sure set little drive good mac fine hard didn ll\n",
      "Topic #7: say world read god true people usually don yes really makes agree way says actually things just different point mean\n",
      "Topic #8: look maybe times right kind way guess got news ve small check game just point good little thought team far\n",
      "Topic #9: edu interested subject write sale source good university 20 following posting 11 1993 new 15 case 17 mail soon 30\n",
      "\n"
     ]
    }
   ],
   "source": [
    "nmf, n_top_words = NMF_SK(features, solver='mu',  beta_loss='kullback-leibler', verbose = True)\n",
    "print_top_words(nmf, feature_names, n_top_words)"
   ]
  },
  {
   "cell_type": "markdown",
   "metadata": {},
   "source": [
    "The result of our custome MNF is pretty good. Comparing the implementation with the one offered by scikit-learn, the sklearn MNF seems better and fastern the beta_loss is smaller and converge fast. It extracts more effective topics and information."
   ]
  },
  {
   "cell_type": "code",
   "execution_count": null,
   "metadata": {},
   "outputs": [],
   "source": []
  }
 ],
 "metadata": {
  "kernelspec": {
   "display_name": "Python 3",
   "language": "python",
   "name": "python3"
  },
  "language_info": {
   "codemirror_mode": {
    "name": "ipython",
    "version": 3
   },
   "file_extension": ".py",
   "mimetype": "text/x-python",
   "name": "python",
   "nbconvert_exporter": "python",
   "pygments_lexer": "ipython3",
   "version": "3.6.4"
  },
  "toc": {
   "base_numbering": 1,
   "nav_menu": {},
   "number_sections": true,
   "sideBar": true,
   "skip_h1_title": false,
   "title_cell": "Table of Contents",
   "title_sidebar": "Contents",
   "toc_cell": false,
   "toc_position": {},
   "toc_section_display": true,
   "toc_window_display": false
  },
  "varInspector": {
   "cols": {
    "lenName": 16,
    "lenType": 16,
    "lenVar": 40
   },
   "kernels_config": {
    "python": {
     "delete_cmd_postfix": "",
     "delete_cmd_prefix": "del ",
     "library": "var_list.py",
     "varRefreshCmd": "print(var_dic_list())"
    },
    "r": {
     "delete_cmd_postfix": ") ",
     "delete_cmd_prefix": "rm(",
     "library": "var_list.r",
     "varRefreshCmd": "cat(var_dic_list()) "
    }
   },
   "types_to_exclude": [
    "module",
    "function",
    "builtin_function_or_method",
    "instance",
    "_Feature"
   ],
   "window_display": false
  }
 },
 "nbformat": 4,
 "nbformat_minor": 2
}
