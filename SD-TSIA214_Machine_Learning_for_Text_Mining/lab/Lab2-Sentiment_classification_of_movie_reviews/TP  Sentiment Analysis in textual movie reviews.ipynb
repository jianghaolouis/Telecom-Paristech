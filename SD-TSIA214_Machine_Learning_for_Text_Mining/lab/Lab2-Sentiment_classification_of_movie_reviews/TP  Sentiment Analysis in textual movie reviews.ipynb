{
 "cells": [
  {
   "cell_type": "markdown",
   "metadata": {},
   "source": [
    "# Set up"
   ]
  },
  {
   "cell_type": "code",
   "execution_count": 1,
   "metadata": {
    "ExecuteTime": {
     "end_time": "2018-05-30T09:18:22.893457Z",
     "start_time": "2018-05-30T09:18:21.801340Z"
    }
   },
   "outputs": [],
   "source": [
    "import os.path as op\n",
    "import numpy as np\n",
    "from sklearn.base import BaseEstimator, ClassifierMixin\n",
    "from glob import glob\n",
    "import re\n",
    "import pandas as pd\n",
    "import operator\n",
    "import unittest\n",
    "import sys\n",
    "import operator\n",
    "from sklearn.model_selection import *\n",
    "import matplotlib.pyplot as plt\n",
    "\n",
    "from sklearn.svm import LinearSVC\n",
    "from sklearn.naive_bayes import MultinomialNB\n",
    "from sklearn.feature_extraction.text import CountVectorizer\n",
    "from sklearn.pipeline import Pipeline\n",
    "from sklearn.linear_model import LogisticRegression\n",
    "\n",
    "plt.style.use('ggplot')\n",
    "%load_ext line_profiler\n",
    "%matplotlib inline"
   ]
  },
  {
   "cell_type": "code",
   "execution_count": 2,
   "metadata": {
    "ExecuteTime": {
     "end_time": "2018-05-30T09:18:33.243760Z",
     "start_time": "2018-05-30T09:18:22.895414Z"
    }
   },
   "outputs": [
    {
     "name": "stdout",
     "output_type": "stream",
     "text": [
      "Loading dataset\n",
      "2000 documents\n"
     ]
    }
   ],
   "source": [
    "# Load data\n",
    "print(\"Loading dataset\")\n",
    "\n",
    "filenames_neg = sorted(glob(op.join('.', 'data', 'imdb1', 'neg', '*.txt')))\n",
    "filenames_pos = sorted(glob(op.join('.', 'data', 'imdb1', 'pos', '*.txt')))\n",
    "\n",
    "texts_neg = [open(f).read() for f in filenames_neg]\n",
    "texts_pos = [open(f).read() for f in filenames_pos]\n",
    "texts = texts_neg + texts_pos\n",
    "y = np.ones(len(texts), dtype=np.int)\n",
    "y[:len(texts_neg)] = 0.\n",
    "\n",
    "print(\"%d documents\" %len(texts))"
   ]
  },
  {
   "cell_type": "markdown",
   "metadata": {},
   "source": [
    "# Implementation of the classifier\n",
    "## Question 1\n",
    "Complete the <code>count_words</code> function that will count the number of occurrences of each distinct\n",
    "word in a list of string and return vocabulary (the python dictionary. The dictionary keys are the\n",
    "different words and the values are their number of occurences)."
   ]
  },
  {
   "cell_type": "code",
   "execution_count": 3,
   "metadata": {
    "ExecuteTime": {
     "end_time": "2018-05-30T09:18:33.270659Z",
     "start_time": "2018-05-30T09:18:33.246725Z"
    }
   },
   "outputs": [],
   "source": [
    "def count_words(texts):\n",
    "    \"\"\"Vectorize text : return count of each word in the text snippets\n",
    "\n",
    "    Parameters\n",
    "    ----------\n",
    "    texts : list of str\n",
    "        The texts\n",
    "\n",
    "    Returns\n",
    "    -------\n",
    "    vocabulary : dict\n",
    "        A dictionary that points to an index in counts for each word.\n",
    "    counts : ndarray, shape (n_samples, n_features)\n",
    "        The counts of each word in each text.\n",
    "        n_samples == number of documents.\n",
    "        n_features == number of words in vocabulary.\n",
    "    \"\"\"  \n",
    "    \n",
    "    wordList = re.subn('\\W', ' ', ' '.join(texts).lower())[0].split(' ')\n",
    "    words = set(wordList)\n",
    "    vocabulary = dict(zip(words, range(len(words))))\n",
    "              \n",
    "    n_features = len(words)\n",
    "    counts = np.zeros( (len(texts), n_features))\n",
    "    \n",
    "    for l, text in enumerate(texts, 0):\n",
    "        wordList = re.subn('\\W', ' ', text.lower())[0].split(' ')\n",
    "        for word in wordList:\n",
    "            if(word == ''): continue\n",
    "            counts[l][vocabulary[word]] = counts[l][vocabulary[word]] + 1   \n",
    "    return vocabulary, counts"
   ]
  },
  {
   "cell_type": "markdown",
   "metadata": {},
   "source": [
    "## Question 2\n",
    "Explain how positive and negative classes have been assigned to movie reviews (see poldata.README.2.0 file)\n",
    "\n",
    "According to the poldata.README.2.0 file, movie reviews may not have an explicit note. In the case where there is a note, this one can appear to different place of the file and in different forms. In the case of our data we focus only on the most explicit notations, resulting from an ad-hoc set of rules. The classification of a file is thus established from the first note of which one is able to identify.\n",
    "\n",
    "- With a five-star system (or equivalent digital system), more than 3.5 stars lead to positive reviews, and fewer than 2 stars lead to negative reviews.\n",
    "- With a four-star system (or equivalent digital system), more than 3 stars lead to positive reviews, and fewer than 1.5 stars lead to negative reviews.\n",
    "- With a system consisting of letters, B or above leads to a positive critique, and C- or below is considered negative.\n"
   ]
  },
  {
   "cell_type": "markdown",
   "metadata": {},
   "source": [
    "## Question 3\n",
    "Complete the NB class to implement the Naive Bayes classifier."
   ]
  },
  {
   "cell_type": "code",
   "execution_count": 4,
   "metadata": {
    "ExecuteTime": {
     "end_time": "2018-05-30T09:18:33.349518Z",
     "start_time": "2018-05-30T09:18:33.273652Z"
    }
   },
   "outputs": [],
   "source": [
    "class NB(BaseEstimator, ClassifierMixin):\n",
    "    def __init__(self):\n",
    "        pass\n",
    "\n",
    "        \n",
    "    def fit(self, X, y):\n",
    "        N = X.shape[0]\n",
    "        val, counter = np.unique(y, return_counts=True)\n",
    "        self.class_counter = dict(zip(val, counter))\n",
    "        nb_word = X.shape[1]\n",
    "        nb_class = val.shape[0]\n",
    "        \n",
    "        self.condprob = dict()\n",
    "        self.prior = np.zeros(nb_class)\n",
    "        T = {c:np.sum(X[y==c, :], axis=0) for c in self.class_counter}\n",
    "        \n",
    "        for c,Nc in self.class_counter.items():\n",
    "            self.prior[c] = Nc/N\n",
    "            self.condprob[c] = (T[c] +1) / ( np.sum(T[c] + 1))\n",
    "\n",
    "        return self\n",
    "\n",
    "    def predict(self, X):\n",
    "        X = np.array(X)\n",
    "        y = [self.apply(vec) for vec in X]\n",
    "        return np.array(y)\n",
    "    \n",
    "    def apply(self, vector):\n",
    "        vector = np.array(vector)\n",
    "        score = dict()\n",
    "        for c in self.class_counter:\n",
    "            score[c] = np.log(self.prior[c])\n",
    "            score[c] += np.log(self.condprob[c][vector >0.0]).sum()\n",
    "        return max(score.items(), key=operator.itemgetter(1))[0]\n",
    "    \n",
    "    \n",
    "    def score(self, X, y):\n",
    "        return np.mean(self.predict(X) == y)"
   ]
  },
  {
   "cell_type": "code",
   "execution_count": 5,
   "metadata": {
    "ExecuteTime": {
     "end_time": "2018-05-30T09:18:37.348755Z",
     "start_time": "2018-05-30T09:18:33.351447Z"
    }
   },
   "outputs": [
    {
     "data": {
      "text/plain": [
       "0.822"
      ]
     },
     "execution_count": 5,
     "metadata": {},
     "output_type": "execute_result"
    }
   ],
   "source": [
    "# Count words in text\n",
    "vocabulary, X = count_words(texts)\n",
    "\n",
    "# Try to fit, predict and score\n",
    "nb = NB()\n",
    "nb.fit(X[::2], y[::2])\n",
    "score = nb.score(X[1::2], y[1::2])\n",
    "score"
   ]
  },
  {
   "cell_type": "markdown",
   "metadata": {},
   "source": [
    "## Question 4 \n",
    "Evaluate the performance of your classifier in cross-validation 5-folds"
   ]
  },
  {
   "cell_type": "code",
   "execution_count": 6,
   "metadata": {
    "ExecuteTime": {
     "end_time": "2018-05-30T09:18:45.150886Z",
     "start_time": "2018-05-30T09:18:37.351754Z"
    }
   },
   "outputs": [
    {
     "name": "stderr",
     "output_type": "stream",
     "text": [
      "D:\\ProgramData\\Anaconda3\\lib\\site-packages\\sklearn\\utils\\deprecation.py:122: FutureWarning: You are accessing a training score ('train_score'), which will not be available by default any more in 0.21. If you need training scores, please set return_train_score=True\n",
      "  warnings.warn(*warn_args, **warn_kwargs)\n"
     ]
    },
    {
     "data": {
      "text/plain": [
       "{'fit_time': array([0.7490356 , 0.75698948, 0.80385447, 0.78589773, 0.85076666]),\n",
       " 'score_time': array([0.14162755, 0.13062   , 0.13367033, 0.14165926, 0.1475637 ]),\n",
       " 'test_score': array([0.8225, 0.8325, 0.815 , 0.8325, 0.8175]),\n",
       " 'train_score': array([0.985   , 0.9825  , 0.984375, 0.98375 , 0.98    ])}"
      ]
     },
     "execution_count": 6,
     "metadata": {},
     "output_type": "execute_result"
    }
   ],
   "source": [
    "# Try to fit, predict and score\n",
    "nb = NB()\n",
    "my_nb_res = cross_validate(nb, X, y, cv=5)\n",
    "my_nb_res"
   ]
  },
  {
   "cell_type": "markdown",
   "metadata": {},
   "source": [
    "##  Stop word"
   ]
  },
  {
   "cell_type": "code",
   "execution_count": 7,
   "metadata": {
    "ExecuteTime": {
     "end_time": "2018-05-30T09:18:45.188778Z",
     "start_time": "2018-05-30T09:18:45.153872Z"
    }
   },
   "outputs": [],
   "source": [
    "def count_words(texts, stop_word = False):\n",
    "    \"\"\"Vectorize text : return count of each word in the text snippets\n",
    "\n",
    "    Parameters\n",
    "    ----------\n",
    "    texts : list of str\n",
    "        The texts\n",
    "\n",
    "    Returns\n",
    "    -------\n",
    "    vocabulary : dict\n",
    "        A dictionary that points to an index in counts for each word.\n",
    "    counts : ndarray, shape (n_samples, n_features)\n",
    "        The counts of each word in each text.\n",
    "        n_samples == number of documents.\n",
    "        n_features == number of words in vocabulary.\n",
    "    \"\"\"\n",
    "    wordList = re.subn('\\W', ' ', ' '.join(texts).lower())[0].split(' ')\n",
    "    words = set(wordList)\n",
    "    \n",
    "    \n",
    "    \n",
    "    if stop_word:\n",
    "        with open(\"./data/english.stop\", 'r') as file:\n",
    "            stop_words = set(file.read())\n",
    "        words = words - stop_words    \n",
    "    vocabulary = dict(zip(words, range(len(words))))    \n",
    "            \n",
    "    n_features = len(words)\n",
    "    counts = np.zeros( (len(texts), n_features))\n",
    "    \n",
    "    for l, text in enumerate(texts, 0):\n",
    "        wordList = re.subn('\\W', ' ', text.lower())[0].split(' ')\n",
    "        for word in wordList:\n",
    "            if(word not in words): continue\n",
    "            counts[l][vocabulary[word]] = counts[l][vocabulary[word]] + 1   \n",
    "    return vocabulary, counts"
   ]
  },
  {
   "cell_type": "code",
   "execution_count": 8,
   "metadata": {
    "ExecuteTime": {
     "end_time": "2018-05-30T09:18:49.973501Z",
     "start_time": "2018-05-30T09:18:45.190773Z"
    }
   },
   "outputs": [
    {
     "data": {
      "text/plain": [
       "0.841"
      ]
     },
     "execution_count": 8,
     "metadata": {},
     "output_type": "execute_result"
    }
   ],
   "source": [
    "# Count words in text\n",
    "vocabulary, X = count_words(texts, stop_word = True)\n",
    "\n",
    "# Try to fit, predict and score\n",
    "nb = NB()\n",
    "nb.fit(X[::2], y[::2])\n",
    "score_no_stop_word = nb.score(X[1::2], y[1::2])\n",
    "score_no_stop_word"
   ]
  },
  {
   "cell_type": "code",
   "execution_count": 9,
   "metadata": {
    "ExecuteTime": {
     "end_time": "2018-05-30T09:18:58.347703Z",
     "start_time": "2018-05-30T09:18:49.976470Z"
    }
   },
   "outputs": [
    {
     "name": "stderr",
     "output_type": "stream",
     "text": [
      "D:\\ProgramData\\Anaconda3\\lib\\site-packages\\sklearn\\utils\\deprecation.py:122: FutureWarning: You are accessing a training score ('train_score'), which will not be available by default any more in 0.21. If you need training scores, please set return_train_score=True\n",
      "  warnings.warn(*warn_args, **warn_kwargs)\n"
     ]
    },
    {
     "data": {
      "text/plain": [
       "{'fit_time': array([0.71308947, 0.80085826, 0.85471487, 0.93749118, 0.89072847]),\n",
       " 'score_time': array([0.14560866, 0.16955829, 0.17752314, 0.19448066, 0.13965583]),\n",
       " 'test_score': array([0.8275, 0.83  , 0.8275, 0.8525, 0.825 ]),\n",
       " 'train_score': array([0.98875 , 0.98375 , 0.984375, 0.98125 , 0.980625])}"
      ]
     },
     "execution_count": 9,
     "metadata": {},
     "output_type": "execute_result"
    }
   ],
   "source": [
    "# Try to fit, predict and score\n",
    "nb = NB()\n",
    "my_nb_res_stop_word = cross_validate(nb, X, y, cv=5)\n",
    "my_nb_res_stop_word"
   ]
  },
  {
   "cell_type": "code",
   "execution_count": 10,
   "metadata": {
    "ExecuteTime": {
     "end_time": "2018-05-30T09:20:34.679318Z",
     "start_time": "2018-05-30T09:18:58.349697Z"
    }
   },
   "outputs": [],
   "source": [
    "v, X_stop_word = count_words(texts, stop_word = True)\n",
    "v, X = count_words(texts, stop_word = False)\n",
    "scores = []\n",
    "no_sw_scores = []\n",
    "nb = NB()\n",
    "\n",
    "for cv in range(2,10):\n",
    "    scores.append(cross_val_score(nb, X, y, cv=cv).mean())\n",
    "    no_sw_scores.append(cross_val_score(nb, X_stop_word, y, cv=cv).mean())"
   ]
  },
  {
   "cell_type": "code",
   "execution_count": 11,
   "metadata": {
    "ExecuteTime": {
     "end_time": "2018-05-30T09:20:35.129138Z",
     "start_time": "2018-05-30T09:20:34.682303Z"
    }
   },
   "outputs": [
    {
     "data": {
      "image/png": "[encoded data removed]",
      "text/plain": [
       "<matplotlib.figure.Figure at 0x1a4a09ccc50>"
      ]
     },
     "metadata": {},
     "output_type": "display_data"
    },
    {
     "name": "stdout",
     "output_type": "stream",
     "text": [
      "Score with stop words :  0.822\n",
      "Score without stop words :  0.841\n"
     ]
    }
   ],
   "source": [
    "# Plot all# Plot a \n",
    "plt.plot(np.arange(2,10), scores, linewidth=4, alpha=0.6, \n",
    "         marker='o', color=\"mediumseagreen\", label='With stop word')\n",
    "\n",
    "plt.plot(np.arange(2,10), no_sw_scores, linewidth=4, alpha=0.6, \n",
    "         marker='o', color=\"orange\", label='Withuot stop words')\n",
    "plt.title(\"Average score of crossing validation\")\n",
    "plt.ylabel('Score')\n",
    "plt.xlabel('Number of folds')\n",
    "plt.legend()\n",
    "plt.show()\n",
    "\n",
    "\n",
    "print(\"Score with stop words : \", score)\n",
    "print(\"Score without stop words : \", score_no_stop_word)"
   ]
  },
  {
   "cell_type": "markdown",
   "metadata": {},
   "source": [
    "Accroding to the score, we find when we remove the stop-words in the texts, we can improve the performence of the estimator. But when we change the number of folds. The performences are not always improved when we remove the stop word. It's means that the stop words don't always have a significant influence on the results of classification."
   ]
  },
  {
   "cell_type": "markdown",
   "metadata": {},
   "source": [
    "# SCIKIT-LEARN USE"
   ]
  },
  {
   "cell_type": "markdown",
   "metadata": {},
   "source": [
    "## Question 1:\n",
    "Compare your implementation with scikitlearn"
   ]
  },
  {
   "cell_type": "code",
   "execution_count": 12,
   "metadata": {
    "ExecuteTime": {
     "end_time": "2018-05-30T09:27:47.066750Z",
     "start_time": "2018-05-30T09:20:35.131100Z"
    }
   },
   "outputs": [],
   "source": [
    "nb_pipline = Pipeline([('count', CountVectorizer()), ('nb', MultinomialNB())])\n",
    "\n",
    "nb_res = cross_validate(nb_pipline.set_params(\n",
    "    count__analyzer='word'), texts, y, cv=5)\n",
    "\n",
    "nb_bigram_res = cross_validate(nb_pipline.set_params(\n",
    "    count__analyzer='word', count__ngram_range=(2, 2)), texts, y, cv=5)\n",
    "\n",
    "nb_char_res = cross_validate(nb_pipline.set_params(\n",
    "    count__analyzer='char', count__ngram_range=(1, 1), count__stop_words=None), texts, y, cv=5)\n",
    "\n",
    "\n",
    "nb_res_stop_word = cross_validate(nb_pipline.set_params(\n",
    "    count__analyzer='word', count__ngram_range=(3,6), count__stop_words='english'), texts, y, cv=5)\n",
    "\n",
    "nb_bigram_res_stop_word = cross_validate(nb_pipline.set_params(\n",
    "    count__analyzer='word', count__ngram_range=(2, 2), count__stop_words='english'), texts, y, cv=5)\n",
    "\n",
    "\n",
    "nb_char_res_stop_word = cross_validate(nb_pipline.set_params(\n",
    "    count__analyzer='char', count__ngram_range=(3, 6), count__stop_words='english'), texts, y, cv=5)"
   ]
  },
  {
   "cell_type": "code",
   "execution_count": 13,
   "metadata": {
    "ExecuteTime": {
     "end_time": "2018-05-30T09:27:47.073694Z",
     "start_time": "2018-05-30T09:27:47.068706Z"
    }
   },
   "outputs": [],
   "source": [
    "nb_score = np.mean(nb_res['test_score'])"
   ]
  },
  {
   "cell_type": "code",
   "execution_count": 14,
   "metadata": {
    "ExecuteTime": {
     "end_time": "2018-05-30T09:27:47.338995Z",
     "start_time": "2018-05-30T09:27:47.076687Z"
    }
   },
   "outputs": [
    {
     "data": {
      "text/plain": [
       "[]"
      ]
     },
     "execution_count": 14,
     "metadata": {},
     "output_type": "execute_result"
    },
    {
     "data": {
      "image/png": "[encoded data removed]",
      "text/plain": [
       "<matplotlib.figure.Figure at 0x1a4a277c080>"
      ]
     },
     "metadata": {},
     "output_type": "display_data"
    }
   ],
   "source": [
    "label = ['Homemade NB', 'NB','NB/bigram', 'NB/char'  \n",
    "         ,'Homemade NB/stop word'\n",
    "         , 'NB/stop word' , 'NB/bigram/stop word'\n",
    "        , 'NB/char/stop word']\n",
    "data = [my_nb_res\n",
    "           ,nb_res\n",
    "           ,nb_bigram_res\n",
    "           ,nb_char_res\n",
    "           , my_nb_res_stop_word\n",
    "           ,nb_res_stop_word \n",
    "           ,nb_bigram_res_stop_word\n",
    "          ,nb_char_res_stop_word]\n",
    "\n",
    "fig,ax = plt.subplots(figsize=(16,9))\n",
    "\n",
    "x = [np.mean(res['test_score']) for res in data]\n",
    "rect = ax.bar(range(len(label)),x, tick_label =label)\n",
    "plt.ylim(min(x) -0.01, max(x) + 0.01)\n",
    "plt.title(\"Test Score\")\n",
    "def autolabel(rects):\n",
    "    \"\"\"\n",
    "    Attach a text label above each bar displaying its height\n",
    "    \"\"\"\n",
    "    for rect in rects:\n",
    "        height = rect.get_height()\n",
    "        ax.text(rect.get_x() + rect.get_width()/2., 1.01*height,\n",
    "                '%.3f' % height,\n",
    "                ha='center', va='bottom')\n",
    "\n",
    "autolabel(rect)\n",
    "\n",
    "plt.plot()"
   ]
  },
  {
   "cell_type": "markdown",
   "metadata": {},
   "source": [
    "According to the results above, we can find that the the performence of homemade implementation is enough good. \n",
    "This the bigram not work well for our samples.\n",
    "With the bigram, we can improve the performence. And we also find that removing the stop word can not always improve the performences.\n",
    "\n",
    "Influcenc about \n",
    "When we work on substrings of characters, we get the lowest scores."
   ]
  },
  {
   "cell_type": "markdown",
   "metadata": {},
   "source": [
    "## Question 2\n",
    "Test another classification method scikitlearn (ex : LinearSVC, LogisticRegression).\n",
    "\n"
   ]
  },
  {
   "cell_type": "markdown",
   "metadata": {},
   "source": [
    "### Setup"
   ]
  },
  {
   "cell_type": "code",
   "execution_count": 15,
   "metadata": {
    "ExecuteTime": {
     "end_time": "2018-05-30T09:27:47.362919Z",
     "start_time": "2018-05-30T09:27:47.341975Z"
    }
   },
   "outputs": [],
   "source": [
    "def test_score(estimator, texts = texts):\n",
    "    lable = [\"Word\", \"Bigram\", \"Char\"\n",
    "         ,\"Word/Stop Word\", \"Bigram/Stop Word\", \"Char/Stop Word\"]\n",
    "    res = cross_validate(estimator, texts, y, cv=5)\n",
    "\n",
    "    bigram_res = cross_validate(estimator.set_params(\n",
    "        count__analyzer='word', count__ngram_range=(2, 2), count__stop_words=None), texts, y, cv=5)\n",
    "\n",
    "    char_res = cross_validate(estimator.set_params(\n",
    "        count__analyzer='char', count__ngram_range=(1, 1), count__stop_words=None), texts, y, cv=5)\n",
    "\n",
    "    res_stop_word = cross_validate(estimator.set_params(\n",
    "        count__analyzer='word', count__ngram_range=(3,6), count__stop_words='english'), texts, y, cv=5)\n",
    "\n",
    "    bigram_res_stop_word = cross_validate(estimator.set_params(\n",
    "        count__analyzer='word', count__ngram_range=(2, 2), count__stop_words='english'), texts, y, cv=5)\n",
    "\n",
    "    char_res_stop_word = cross_validate(estimator.set_params(\n",
    "        count__analyzer='char', count__ngram_range=(3, 6), count__stop_words='english'), texts, y, cv=5)\n",
    "    \n",
    "    return label, [res, bigram_res,char_res, res_stop_word, bigram_res_stop_word,char_res_stop_word]"
   ]
  },
  {
   "cell_type": "markdown",
   "metadata": {},
   "source": [
    "### Linear SVC"
   ]
  },
  {
   "cell_type": "code",
   "execution_count": 16,
   "metadata": {
    "ExecuteTime": {
     "end_time": "2018-05-30T09:42:18.681523Z",
     "start_time": "2018-05-30T09:27:47.364915Z"
    }
   },
   "outputs": [
    {
     "name": "stdout",
     "output_type": "stream",
     "text": [
      "Wall time: 14min 31s\n"
     ]
    }
   ],
   "source": [
    "%%time\n",
    "svc_pipline = Pipeline([('count', CountVectorizer()), ('svc', LinearSVC())])\n",
    "label_svc, data_svc = test_score(svc_pipline)\n",
    "svc_score = np.mean(data_svc[0]['test_score'])"
   ]
  },
  {
   "cell_type": "markdown",
   "metadata": {},
   "source": [
    "### Logistic regression"
   ]
  },
  {
   "cell_type": "code",
   "execution_count": 17,
   "metadata": {
    "ExecuteTime": {
     "end_time": "2018-05-30T21:14:19.715523Z",
     "start_time": "2018-05-30T09:42:18.684491Z"
    }
   },
   "outputs": [
    {
     "name": "stdout",
     "output_type": "stream",
     "text": [
      "Wall time: 11h 32min 1s\n"
     ]
    }
   ],
   "source": [
    "%%time\n",
    "lr_pipline = Pipeline([('count', CountVectorizer()),\n",
    "                       ('lr', LogisticRegression())])\n",
    "label_lr, data_lr = test_score(lr_pipline)\n",
    "lr_score = np.mean(data_svc[0]['test_score'])"
   ]
  },
  {
   "cell_type": "markdown",
   "metadata": {},
   "source": [
    "### Comparaison"
   ]
  },
  {
   "cell_type": "code",
   "execution_count": 18,
   "metadata": {
    "ExecuteTime": {
     "end_time": "2018-05-30T21:14:20.070616Z",
     "start_time": "2018-05-30T21:14:19.719511Z"
    }
   },
   "outputs": [
    {
     "name": "stdout",
     "output_type": "stream",
     "text": [
      "[0.812, 0.8305000000000001, 0.6094999999999999, 0.6885, 0.7835, 0.8215]\n"
     ]
    },
    {
     "data": {
      "image/png": "[encoded data removed]",
      "text/plain": [
       "<matplotlib.figure.Figure at 0x1a4a0c4d0f0>"
      ]
     },
     "metadata": {},
     "output_type": "display_data"
    }
   ],
   "source": [
    "label = [\"Word\", \"Bigram\", \"Char\"\n",
    "         ,\"Word/Stop Word\", \"Bigram/Stop Word\", \"Char/Stop Word\"]\n",
    "data_nb = [nb_res\n",
    "           ,nb_bigram_res\n",
    "           ,nb_char_res\n",
    "           ,nb_res_stop_word \n",
    "           ,nb_bigram_res_stop_word\n",
    "          ,nb_char_res_stop_word]\n",
    "\n",
    "\n",
    "fig, ax = plt.subplots(figsize=(16,9))\n",
    "width = 0.2\n",
    "alp = 0.8\n",
    "ind = np.arange(6)\n",
    "print([np.mean(l['test_score']) for l in data_nb])\n",
    "    \n",
    "rects1 = ax.bar(ind, [np.mean(l['test_score']) for l in data_nb], \n",
    "                width = width,label='MultinomialNB', color='skyblue' ,\n",
    "                yerr=[np.std(l['test_score']) for l in data_nb]\n",
    "               )\n",
    "\n",
    "rects2 = ax.bar(ind + width, [np.mean(l['test_score']) for l in data_lr], \n",
    "                width, alpha=alp, label='LinearSVC', color='gold'\n",
    "   ,yerr=[np.std(l['test_score']) for l in data_svc])\n",
    "#              \n",
    "rects3 = ax.bar(ind + 2 * width, [np.mean(l['test_score']) for l in data_svc], \n",
    "                width, alpha=alp, label='LogisticRegression', color='lightpink' \n",
    "                , yerr=[np.std(l['test_score']) for l in data_lr]\n",
    "                )\n",
    "\n",
    "# add some text for labels, title and axes ticks\n",
    "ax.set_ylabel('Scores')\n",
    "ax.set_title('Mean Scores by preprocessing for MultinomialNB')\n",
    "ax.set_xticks(ind + 2 * width / 2)\n",
    "ax.set_xticklabels(label)\n",
    "ax.set_ylim(0.4,0.9)\n",
    "plt.legend(loc=\"lower right\")\n",
    "def autolabel(rects):\n",
    "    \"\"\"\n",
    "    Attach a text label above each bar displaying its height\n",
    "    \"\"\"\n",
    "    for rect in rects:\n",
    "        height = rect.get_height()\n",
    "        ax.text(rect.get_x() + rect.get_width()/2., 1.02*height,\n",
    "                '%.3f' % height,\n",
    "                ha='center', va='bottom')\n",
    "\n",
    "autolabel(rects1)\n",
    "autolabel(rects2)\n",
    "autolabel(rects3)\n",
    "\n",
    "plt.show()\n"
   ]
  },
  {
   "cell_type": "markdown",
   "metadata": {},
   "source": [
    "With this figure, the performence of SVC is best when we work on word and keep the stop word. When we rmove the stop word from our texts, the performence about word and bigram decline for the three algorithms. \n",
    "When we segement the texts by character, the performence is so bad, but when we remove the stop word, the perfomence significantly enhance, the score even is higher than the segmentation by word. \n",
    "In ours sample, the bigram don't bring benefit for our clasification."
   ]
  },
  {
   "cell_type": "markdown",
   "metadata": {},
   "source": [
    "## Question 3 NLTK\n",
    "Use NLTK library in order to process a stemming. You will used the class\n",
    "SnowballStemmer."
   ]
  },
  {
   "cell_type": "code",
   "execution_count": 19,
   "metadata": {
    "ExecuteTime": {
     "end_time": "2018-05-30T21:14:22.070827Z",
     "start_time": "2018-05-30T21:14:20.073566Z"
    }
   },
   "outputs": [],
   "source": [
    "from nltk import SnowballStemmer\n",
    "\n",
    "stemmer = SnowballStemmer(\"english\")\n",
    "class StemmedCountVectorizer(CountVectorizer):\n",
    "    def build_analyzer(self):\n",
    "        analyzer = super(StemmedCountVectorizer, self).build_analyzer()\n",
    "        return lambda doc: ([stemmer.stem(w) for w in analyzer(doc)])       "
   ]
  },
  {
   "cell_type": "code",
   "execution_count": 20,
   "metadata": {
    "ExecuteTime": {
     "end_time": "2018-05-30T21:15:57.259248Z",
     "start_time": "2018-05-30T21:14:22.073810Z"
    }
   },
   "outputs": [
    {
     "name": "stdout",
     "output_type": "stream",
     "text": [
      "Wall time: 1min 35s\n"
     ]
    }
   ],
   "source": [
    "%%time\n",
    "## MultinamialNB with stem\n",
    "nb_stem_pipline = Pipeline([('count', StemmedCountVectorizer()),\n",
    "                      ('mnb', MultinomialNB())])\n",
    "nb_stem_score = np.mean(cross_val_score(nb_stem_pipline, texts, y, cv=5))"
   ]
  },
  {
   "cell_type": "code",
   "execution_count": 21,
   "metadata": {
    "ExecuteTime": {
     "end_time": "2018-05-30T21:17:36.745487Z",
     "start_time": "2018-05-30T21:15:57.262237Z"
    }
   },
   "outputs": [
    {
     "name": "stdout",
     "output_type": "stream",
     "text": [
      "Wall time: 1min 39s\n"
     ]
    }
   ],
   "source": [
    "%%time\n",
    "## SVC with stem\n",
    "svc_stem_pipline = Pipeline([('count', StemmedCountVectorizer()),\n",
    "                      ('svc', LinearSVC())])\n",
    "svc_stem_score = np.mean(cross_val_score(svc_stem_pipline, texts, y, cv=5))"
   ]
  },
  {
   "cell_type": "code",
   "execution_count": 22,
   "metadata": {
    "ExecuteTime": {
     "end_time": "2018-05-30T21:19:12.955238Z",
     "start_time": "2018-05-30T21:17:36.748473Z"
    }
   },
   "outputs": [
    {
     "name": "stdout",
     "output_type": "stream",
     "text": [
      "Wall time: 1min 36s\n"
     ]
    }
   ],
   "source": [
    "%%time\n",
    "## LogisticRegression with sem\n",
    "lr_stem_pipline = Pipeline([('count', StemmedCountVectorizer()),\n",
    "                      ('lr', LogisticRegression())])\n",
    "lr_stem_score = np.mean(cross_val_score(lr_stem_pipline, texts, y, cv=5))  "
   ]
  },
  {
   "cell_type": "markdown",
   "metadata": {},
   "source": [
    "We will discribe the results in next part."
   ]
  },
  {
   "cell_type": "markdown",
   "metadata": {},
   "source": [
    "## Question 4\n",
    "Filter words by grammatical category (POS : Part Of Speech) and keep only nouns,\n",
    "verbs, adverbs and adjectives for classification."
   ]
  },
  {
   "cell_type": "code",
   "execution_count": 23,
   "metadata": {
    "ExecuteTime": {
     "end_time": "2018-05-30T21:19:12.975154Z",
     "start_time": "2018-05-30T21:19:12.957202Z"
    }
   },
   "outputs": [],
   "source": [
    "from nltk import pos_tag\n",
    "from nltk import word_tokenize\n",
    "\n",
    "def filter_pos(texts=texts):\n",
    "    filtered = [list(filter(lambda x: (x[1] == 'NOUN') \n",
    "                         or (x[1] == 'VERB') \n",
    "                         or (x[1] == 'ADV') \n",
    "                         or (x[1] == 'ADJ'), pos_tag(word_tokenize(txt), tagset='universal'))) for txt in texts]\n",
    "    return filtered\n",
    "\n",
    "def apply_pos_tag(filtered):\n",
    "    postagged = []\n",
    "    for i, tuples in enumerate(filtered, 0):\n",
    "        postagged.append('')\n",
    "        for t in tuples:\n",
    "            postagged[i] += t[0] + ' '\n",
    "    return postagged"
   ]
  },
  {
   "cell_type": "code",
   "execution_count": 24,
   "metadata": {
    "ExecuteTime": {
     "end_time": "2018-05-30T21:19:13.443573Z",
     "start_time": "2018-05-30T21:19:12.978224Z"
    }
   },
   "outputs": [
    {
     "ename": "LookupError",
     "evalue": "\n**********************************************************************\n  Resource \u001b[93mpunkt\u001b[0m not found.\n  Please use the NLTK Downloader to obtain the resource:\n\n  \u001b[31m>>> import nltk\n  >>> nltk.download('punkt')\n  \u001b[0m\n  Searched in:\n    - 'C:\\\\Users\\\\zhufa/nltk_data'\n    - 'C:\\\\nltk_data'\n    - 'D:\\\\nltk_data'\n    - 'E:\\\\nltk_data'\n    - 'D:\\\\ProgramData\\\\Anaconda3\\\\nltk_data'\n    - 'D:\\\\ProgramData\\\\Anaconda3\\\\lib\\\\nltk_data'\n    - 'C:\\\\Users\\\\zhufa\\\\AppData\\\\Roaming\\\\nltk_data'\n    - ''\n**********************************************************************\n",
     "output_type": "error",
     "traceback": [
      "\u001b[1;31m---------------------------------------------------------------------------\u001b[0m",
      "\u001b[1;31mLookupError\u001b[0m                               Traceback (most recent call last)",
      "\u001b[1;32m<ipython-input-24-bb59f5c3a986>\u001b[0m in \u001b[0;36m<module>\u001b[1;34m()\u001b[0m\n\u001b[1;32m----> 1\u001b[1;33m \u001b[0mpostText\u001b[0m \u001b[1;33m=\u001b[0m \u001b[0mapply_pos_tag\u001b[0m\u001b[1;33m(\u001b[0m\u001b[0mfilter_pos\u001b[0m\u001b[1;33m(\u001b[0m\u001b[1;33m)\u001b[0m\u001b[1;33m)\u001b[0m\u001b[1;33m\u001b[0m\u001b[0m\n\u001b[0m",
      "\u001b[1;32m<ipython-input-23-0c7045bfc7ac>\u001b[0m in \u001b[0;36mfilter_pos\u001b[1;34m(texts)\u001b[0m\n\u001b[0;32m      6\u001b[0m                          \u001b[1;32mor\u001b[0m \u001b[1;33m(\u001b[0m\u001b[0mx\u001b[0m\u001b[1;33m[\u001b[0m\u001b[1;36m1\u001b[0m\u001b[1;33m]\u001b[0m \u001b[1;33m==\u001b[0m \u001b[1;34m'VERB'\u001b[0m\u001b[1;33m)\u001b[0m\u001b[1;33m\u001b[0m\u001b[0m\n\u001b[0;32m      7\u001b[0m                          \u001b[1;32mor\u001b[0m \u001b[1;33m(\u001b[0m\u001b[0mx\u001b[0m\u001b[1;33m[\u001b[0m\u001b[1;36m1\u001b[0m\u001b[1;33m]\u001b[0m \u001b[1;33m==\u001b[0m \u001b[1;34m'ADV'\u001b[0m\u001b[1;33m)\u001b[0m\u001b[1;33m\u001b[0m\u001b[0m\n\u001b[1;32m----> 8\u001b[1;33m                          or (x[1] == 'ADJ'), pos_tag(word_tokenize(txt), tagset='universal'))) for txt in texts]\n\u001b[0m\u001b[0;32m      9\u001b[0m     \u001b[1;32mreturn\u001b[0m \u001b[0mfiltered\u001b[0m\u001b[1;33m\u001b[0m\u001b[0m\n\u001b[0;32m     10\u001b[0m \u001b[1;33m\u001b[0m\u001b[0m\n",
      "\u001b[1;32m<ipython-input-23-0c7045bfc7ac>\u001b[0m in \u001b[0;36m<listcomp>\u001b[1;34m(.0)\u001b[0m\n\u001b[0;32m      6\u001b[0m                          \u001b[1;32mor\u001b[0m \u001b[1;33m(\u001b[0m\u001b[0mx\u001b[0m\u001b[1;33m[\u001b[0m\u001b[1;36m1\u001b[0m\u001b[1;33m]\u001b[0m \u001b[1;33m==\u001b[0m \u001b[1;34m'VERB'\u001b[0m\u001b[1;33m)\u001b[0m\u001b[1;33m\u001b[0m\u001b[0m\n\u001b[0;32m      7\u001b[0m                          \u001b[1;32mor\u001b[0m \u001b[1;33m(\u001b[0m\u001b[0mx\u001b[0m\u001b[1;33m[\u001b[0m\u001b[1;36m1\u001b[0m\u001b[1;33m]\u001b[0m \u001b[1;33m==\u001b[0m \u001b[1;34m'ADV'\u001b[0m\u001b[1;33m)\u001b[0m\u001b[1;33m\u001b[0m\u001b[0m\n\u001b[1;32m----> 8\u001b[1;33m                          or (x[1] == 'ADJ'), pos_tag(word_tokenize(txt), tagset='universal'))) for txt in texts]\n\u001b[0m\u001b[0;32m      9\u001b[0m     \u001b[1;32mreturn\u001b[0m \u001b[0mfiltered\u001b[0m\u001b[1;33m\u001b[0m\u001b[0m\n\u001b[0;32m     10\u001b[0m \u001b[1;33m\u001b[0m\u001b[0m\n",
      "\u001b[1;32mD:\\ProgramData\\Anaconda3\\lib\\site-packages\\nltk\\tokenize\\__init__.py\u001b[0m in \u001b[0;36mword_tokenize\u001b[1;34m(text, language, preserve_line)\u001b[0m\n\u001b[0;32m    126\u001b[0m     \u001b[1;33m:\u001b[0m\u001b[0mtype\u001b[0m \u001b[0mpreserver_line\u001b[0m\u001b[1;33m:\u001b[0m \u001b[0mbool\u001b[0m\u001b[1;33m\u001b[0m\u001b[0m\n\u001b[0;32m    127\u001b[0m     \"\"\"\n\u001b[1;32m--> 128\u001b[1;33m     \u001b[0msentences\u001b[0m \u001b[1;33m=\u001b[0m \u001b[1;33m[\u001b[0m\u001b[0mtext\u001b[0m\u001b[1;33m]\u001b[0m \u001b[1;32mif\u001b[0m \u001b[0mpreserve_line\u001b[0m \u001b[1;32melse\u001b[0m \u001b[0msent_tokenize\u001b[0m\u001b[1;33m(\u001b[0m\u001b[0mtext\u001b[0m\u001b[1;33m,\u001b[0m \u001b[0mlanguage\u001b[0m\u001b[1;33m)\u001b[0m\u001b[1;33m\u001b[0m\u001b[0m\n\u001b[0m\u001b[0;32m    129\u001b[0m     return [token for sent in sentences\n\u001b[0;32m    130\u001b[0m             for token in _treebank_word_tokenizer.tokenize(sent)]\n",
      "\u001b[1;32mD:\\ProgramData\\Anaconda3\\lib\\site-packages\\nltk\\tokenize\\__init__.py\u001b[0m in \u001b[0;36msent_tokenize\u001b[1;34m(text, language)\u001b[0m\n\u001b[0;32m     92\u001b[0m     \u001b[1;33m:\u001b[0m\u001b[0mparam\u001b[0m \u001b[0mlanguage\u001b[0m\u001b[1;33m:\u001b[0m \u001b[0mthe\u001b[0m \u001b[0mmodel\u001b[0m \u001b[0mname\u001b[0m \u001b[1;32min\u001b[0m \u001b[0mthe\u001b[0m \u001b[0mPunkt\u001b[0m \u001b[0mcorpus\u001b[0m\u001b[1;33m\u001b[0m\u001b[0m\n\u001b[0;32m     93\u001b[0m     \"\"\"\n\u001b[1;32m---> 94\u001b[1;33m     \u001b[0mtokenizer\u001b[0m \u001b[1;33m=\u001b[0m \u001b[0mload\u001b[0m\u001b[1;33m(\u001b[0m\u001b[1;34m'tokenizers/punkt/{0}.pickle'\u001b[0m\u001b[1;33m.\u001b[0m\u001b[0mformat\u001b[0m\u001b[1;33m(\u001b[0m\u001b[0mlanguage\u001b[0m\u001b[1;33m)\u001b[0m\u001b[1;33m)\u001b[0m\u001b[1;33m\u001b[0m\u001b[0m\n\u001b[0m\u001b[0;32m     95\u001b[0m     \u001b[1;32mreturn\u001b[0m \u001b[0mtokenizer\u001b[0m\u001b[1;33m.\u001b[0m\u001b[0mtokenize\u001b[0m\u001b[1;33m(\u001b[0m\u001b[0mtext\u001b[0m\u001b[1;33m)\u001b[0m\u001b[1;33m\u001b[0m\u001b[0m\n\u001b[0;32m     96\u001b[0m \u001b[1;33m\u001b[0m\u001b[0m\n",
      "\u001b[1;32mD:\\ProgramData\\Anaconda3\\lib\\site-packages\\nltk\\data.py\u001b[0m in \u001b[0;36mload\u001b[1;34m(resource_url, format, cache, verbose, logic_parser, fstruct_reader, encoding)\u001b[0m\n\u001b[0;32m    832\u001b[0m \u001b[1;33m\u001b[0m\u001b[0m\n\u001b[0;32m    833\u001b[0m     \u001b[1;31m# Load the resource.\u001b[0m\u001b[1;33m\u001b[0m\u001b[1;33m\u001b[0m\u001b[0m\n\u001b[1;32m--> 834\u001b[1;33m     \u001b[0mopened_resource\u001b[0m \u001b[1;33m=\u001b[0m \u001b[0m_open\u001b[0m\u001b[1;33m(\u001b[0m\u001b[0mresource_url\u001b[0m\u001b[1;33m)\u001b[0m\u001b[1;33m\u001b[0m\u001b[0m\n\u001b[0m\u001b[0;32m    835\u001b[0m \u001b[1;33m\u001b[0m\u001b[0m\n\u001b[0;32m    836\u001b[0m     \u001b[1;32mif\u001b[0m \u001b[0mformat\u001b[0m \u001b[1;33m==\u001b[0m \u001b[1;34m'raw'\u001b[0m\u001b[1;33m:\u001b[0m\u001b[1;33m\u001b[0m\u001b[0m\n",
      "\u001b[1;32mD:\\ProgramData\\Anaconda3\\lib\\site-packages\\nltk\\data.py\u001b[0m in \u001b[0;36m_open\u001b[1;34m(resource_url)\u001b[0m\n\u001b[0;32m    950\u001b[0m \u001b[1;33m\u001b[0m\u001b[0m\n\u001b[0;32m    951\u001b[0m     \u001b[1;32mif\u001b[0m \u001b[0mprotocol\u001b[0m \u001b[1;32mis\u001b[0m \u001b[1;32mNone\u001b[0m \u001b[1;32mor\u001b[0m \u001b[0mprotocol\u001b[0m\u001b[1;33m.\u001b[0m\u001b[0mlower\u001b[0m\u001b[1;33m(\u001b[0m\u001b[1;33m)\u001b[0m \u001b[1;33m==\u001b[0m \u001b[1;34m'nltk'\u001b[0m\u001b[1;33m:\u001b[0m\u001b[1;33m\u001b[0m\u001b[0m\n\u001b[1;32m--> 952\u001b[1;33m         \u001b[1;32mreturn\u001b[0m \u001b[0mfind\u001b[0m\u001b[1;33m(\u001b[0m\u001b[0mpath_\u001b[0m\u001b[1;33m,\u001b[0m \u001b[0mpath\u001b[0m \u001b[1;33m+\u001b[0m \u001b[1;33m[\u001b[0m\u001b[1;34m''\u001b[0m\u001b[1;33m]\u001b[0m\u001b[1;33m)\u001b[0m\u001b[1;33m.\u001b[0m\u001b[0mopen\u001b[0m\u001b[1;33m(\u001b[0m\u001b[1;33m)\u001b[0m\u001b[1;33m\u001b[0m\u001b[0m\n\u001b[0m\u001b[0;32m    953\u001b[0m     \u001b[1;32melif\u001b[0m \u001b[0mprotocol\u001b[0m\u001b[1;33m.\u001b[0m\u001b[0mlower\u001b[0m\u001b[1;33m(\u001b[0m\u001b[1;33m)\u001b[0m \u001b[1;33m==\u001b[0m \u001b[1;34m'file'\u001b[0m\u001b[1;33m:\u001b[0m\u001b[1;33m\u001b[0m\u001b[0m\n\u001b[0;32m    954\u001b[0m         \u001b[1;31m# urllib might not use mode='rb', so handle this one ourselves:\u001b[0m\u001b[1;33m\u001b[0m\u001b[1;33m\u001b[0m\u001b[0m\n",
      "\u001b[1;32mD:\\ProgramData\\Anaconda3\\lib\\site-packages\\nltk\\data.py\u001b[0m in \u001b[0;36mfind\u001b[1;34m(resource_name, paths)\u001b[0m\n\u001b[0;32m    671\u001b[0m     \u001b[0msep\u001b[0m \u001b[1;33m=\u001b[0m \u001b[1;34m'*'\u001b[0m \u001b[1;33m*\u001b[0m \u001b[1;36m70\u001b[0m\u001b[1;33m\u001b[0m\u001b[0m\n\u001b[0;32m    672\u001b[0m     \u001b[0mresource_not_found\u001b[0m \u001b[1;33m=\u001b[0m \u001b[1;34m'\\n%s\\n%s\\n%s\\n'\u001b[0m \u001b[1;33m%\u001b[0m \u001b[1;33m(\u001b[0m\u001b[0msep\u001b[0m\u001b[1;33m,\u001b[0m \u001b[0mmsg\u001b[0m\u001b[1;33m,\u001b[0m \u001b[0msep\u001b[0m\u001b[1;33m)\u001b[0m\u001b[1;33m\u001b[0m\u001b[0m\n\u001b[1;32m--> 673\u001b[1;33m     \u001b[1;32mraise\u001b[0m \u001b[0mLookupError\u001b[0m\u001b[1;33m(\u001b[0m\u001b[0mresource_not_found\u001b[0m\u001b[1;33m)\u001b[0m\u001b[1;33m\u001b[0m\u001b[0m\n\u001b[0m\u001b[0;32m    674\u001b[0m \u001b[1;33m\u001b[0m\u001b[0m\n\u001b[0;32m    675\u001b[0m \u001b[1;33m\u001b[0m\u001b[0m\n",
      "\u001b[1;31mLookupError\u001b[0m: \n**********************************************************************\n  Resource \u001b[93mpunkt\u001b[0m not found.\n  Please use the NLTK Downloader to obtain the resource:\n\n  \u001b[31m>>> import nltk\n  >>> nltk.download('punkt')\n  \u001b[0m\n  Searched in:\n    - 'C:\\\\Users\\\\zhufa/nltk_data'\n    - 'C:\\\\nltk_data'\n    - 'D:\\\\nltk_data'\n    - 'E:\\\\nltk_data'\n    - 'D:\\\\ProgramData\\\\Anaconda3\\\\nltk_data'\n    - 'D:\\\\ProgramData\\\\Anaconda3\\\\lib\\\\nltk_data'\n    - 'C:\\\\Users\\\\zhufa\\\\AppData\\\\Roaming\\\\nltk_data'\n    - ''\n**********************************************************************\n"
     ]
    }
   ],
   "source": [
    "postText = apply_pos_tag(filter_pos())"
   ]
  },
  {
   "cell_type": "code",
   "execution_count": null,
   "metadata": {
    "ExecuteTime": {
     "end_time": "2018-05-30T21:19:13.444567Z",
     "start_time": "2018-05-30T09:18:21.537Z"
    }
   },
   "outputs": [],
   "source": [
    "%%time\n",
    "## MultinomialNB\n",
    "nb_pipline = Pipeline([('count', CountVectorizer()), ('svc', MultinomialNB())])\n",
    "nb_pos_tag_score = np.mean(cross_val_score(nb_pipline, postText, y))"
   ]
  },
  {
   "cell_type": "code",
   "execution_count": null,
   "metadata": {
    "ExecuteTime": {
     "end_time": "2018-05-30T21:19:13.446563Z",
     "start_time": "2018-05-30T09:18:21.543Z"
    }
   },
   "outputs": [],
   "source": [
    "%%time\n",
    "## SVC\n",
    "svc_pipline = Pipeline([('count', CountVectorizer()),\n",
    "                      ('svc', LinearSVC())])\n",
    "svc_pos_tag_score = np.mean(cross_val_score(svc_pipline, postText, y))"
   ]
  },
  {
   "cell_type": "code",
   "execution_count": null,
   "metadata": {
    "ExecuteTime": {
     "end_time": "2018-05-30T21:19:13.448558Z",
     "start_time": "2018-05-30T09:18:21.549Z"
    }
   },
   "outputs": [],
   "source": [
    "%%time\n",
    "## LogisticRegression\n",
    "lr_pipline = Pipeline([('count', CountVectorizer()),\n",
    "                      ('lr', LogisticRegression())])\n",
    "lr_pos_tag_score = np.mean(cross_val_score(lr_pipline, postText, y))  "
   ]
  },
  {
   "cell_type": "code",
   "execution_count": null,
   "metadata": {
    "ExecuteTime": {
     "end_time": "2018-05-30T21:19:13.449552Z",
     "start_time": "2018-05-30T09:18:21.555Z"
    }
   },
   "outputs": [],
   "source": [
    "nb_res_score = [nb_score, ]\n",
    "label = ['MultinomialNB', 'LinearSVC', 'LogisticRegression']\n",
    "ori_scores = [nb_score, svc_score, lr_score]\n",
    "stem_scores = [nb_stem_score, svc_stem_score, lr_stem_score]\n",
    "pos_tag_scores = [nb_pos_tag_score, svc_pos_tag_score, lr_pos_tag_score]"
   ]
  },
  {
   "cell_type": "code",
   "execution_count": null,
   "metadata": {
    "ExecuteTime": {
     "end_time": "2018-05-30T21:19:13.451547Z",
     "start_time": "2018-05-30T09:18:21.561Z"
    }
   },
   "outputs": [],
   "source": [
    "label = [\"MultinomialNB\", \"LinearSVC\", \"LogisticRegression\"]\n",
    "\n",
    "fig, ax = plt.subplots(figsize=(16,9))\n",
    "width = 0.2\n",
    "alp = 0.8\n",
    "ind = np.arange(3)\n",
    "    \n",
    "rects1 = ax.bar(ind, ori_scores, \n",
    "                width = width,label='Model', color='skyblue')\n",
    "\n",
    "rects2 = ax.bar(ind + width, stem_scores, \n",
    "                width, alpha=alp, label='Model + stem', color='gold')\n",
    "#              \n",
    "rects3 = ax.bar(ind + 2 * width, pos_tag_scores, \n",
    "                width, alpha=alp, label='Model + pos_tag', color='lightpink')\n",
    "\n",
    "# add some text for labels, title and axes ticks\n",
    "ax.set_ylabel('Scores')\n",
    "ax.set_title('Mean Scores by preprocessing for MultinomialNB')\n",
    "ax.set_xticks(ind + 2 * width / 2)\n",
    "ax.set_xticklabels(label)\n",
    "ax.set_ylim(0.4,0.9)\n",
    "plt.legend(loc=\"lower right\")\n",
    "def autolabel(rects):\n",
    "    \"\"\"\n",
    "    Attach a text label above each bar displaying its height\n",
    "    \"\"\"\n",
    "    for rect in rects:\n",
    "        height = rect.get_height()\n",
    "        ax.text(rect.get_x() + rect.get_width()/2., 1.02*height,\n",
    "                '%.3f' % height,\n",
    "                ha='center', va='bottom')\n",
    "\n",
    "autolabel(rects1)\n",
    "autolabel(rects2)\n",
    "autolabel(rects3)\n",
    "\n",
    "plt.show()"
   ]
  },
  {
   "cell_type": "markdown",
   "metadata": {},
   "source": [
    "With this figure, we can find, the Stem and pos-tag don't have a significant influence on the classification of document with our samples."
   ]
  }
 ],
 "metadata": {
  "kernelspec": {
   "display_name": "Python 3",
   "language": "python",
   "name": "python3"
  },
  "language_info": {
   "codemirror_mode": {
    "name": "ipython",
    "version": 3
   },
   "file_extension": ".py",
   "mimetype": "text/x-python",
   "name": "python",
   "nbconvert_exporter": "python",
   "pygments_lexer": "ipython3",
   "version": "3.6.4"
  },
  "toc": {
   "base_numbering": 1,
   "nav_menu": {},
   "number_sections": true,
   "sideBar": true,
   "skip_h1_title": false,
   "title_cell": "Table of Contents",
   "title_sidebar": "Contents",
   "toc_cell": false,
   "toc_position": {
    "height": "calc(100% - 180px)",
    "left": "10px",
    "top": "150px",
    "width": "338px"
   },
   "toc_section_display": true,
   "toc_window_display": true
  },
  "varInspector": {
   "cols": {
    "lenName": 16,
    "lenType": 16,
    "lenVar": 40
   },
   "kernels_config": {
    "python": {
     "delete_cmd_postfix": "",
     "delete_cmd_prefix": "del ",
     "library": "var_list.py",
     "varRefreshCmd": "print(var_dic_list())"
    },
    "r": {
     "delete_cmd_postfix": ") ",
     "delete_cmd_prefix": "rm(",
     "library": "var_list.r",
     "varRefreshCmd": "cat(var_dic_list()) "
    }
   },
   "types_to_exclude": [
    "module",
    "function",
    "builtin_function_or_method",
    "instance",
    "_Feature"
   ],
   "window_display": false
  }
 },
 "nbformat": 4,
 "nbformat_minor": 2
}
