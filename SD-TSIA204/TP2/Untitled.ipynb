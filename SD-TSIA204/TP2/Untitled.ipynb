{
 "cells": [
  {
   "cell_type": "markdown",
   "metadata": {
    "toc": true
   },
   "source": [
    "<h1>Table of Contents<span class=\"tocSkip\"></span></h1>\n",
    "<div class=\"toc\" style=\"margin-top: 1em;\"><ul class=\"toc-item\"><li><span><a href=\"#Exercice-1-(Linear-algebra)\" data-toc-modified-id=\"Exercice-1-(Linear-algebra)-1\"><span class=\"toc-item-num\">1&nbsp;&nbsp;</span>Exercice 1 (Linear algebra)</a></span><ul class=\"toc-item\"><li><span><a href=\"#Vérifiction\" data-toc-modified-id=\"Vérifiction-1.1\"><span class=\"toc-item-num\">1.1&nbsp;&nbsp;</span>Vérifiction</a></span></li><li><span><a href=\"#Compare-the-time-efficient\" data-toc-modified-id=\"Compare-the-time-efficient-1.2\"><span class=\"toc-item-num\">1.2&nbsp;&nbsp;</span>Compare the time efficient</a></span></li></ul></li><li><span><a href=\"#Exercice-2-Random-matrix-spectrum\" data-toc-modified-id=\"Exercice-2-Random-matrix-spectrum-2\"><span class=\"toc-item-num\">2&nbsp;&nbsp;</span>Exercice 2 Random matrix spectrum</a></span><ul class=\"toc-item\"><li><span><a href=\"#3)\" data-toc-modified-id=\"3)-2.1\"><span class=\"toc-item-num\">2.1&nbsp;&nbsp;</span>3)</a></span></li><li><span><a href=\"#4)\" data-toc-modified-id=\"4)-2.2\"><span class=\"toc-item-num\">2.2&nbsp;&nbsp;</span>4)</a></span></li><li><span><a href=\"#5)\" data-toc-modified-id=\"5)-2.3\"><span class=\"toc-item-num\">2.3&nbsp;&nbsp;</span>5)</a></span></li></ul></li><li><span><a href=\"#Exercice-3-(Power-Method)\" data-toc-modified-id=\"Exercice-3-(Power-Method)-3\"><span class=\"toc-item-num\">3&nbsp;&nbsp;</span>Exercice 3 (Power Method)</a></span><ul class=\"toc-item\"><li><span><a href=\"#6)\" data-toc-modified-id=\"6)-3.1\"><span class=\"toc-item-num\">3.1&nbsp;&nbsp;</span>6)</a></span></li><li><span><a href=\"#7)\" data-toc-modified-id=\"7)-3.2\"><span class=\"toc-item-num\">3.2&nbsp;&nbsp;</span>7)</a></span></li><li><span><a href=\"#8\" data-toc-modified-id=\"8-3.3\"><span class=\"toc-item-num\">3.3&nbsp;&nbsp;</span>8</a></span></li><li><span><a href=\"#9)-Largest-singluar-value\" data-toc-modified-id=\"9)-Largest-singluar-value-3.4\"><span class=\"toc-item-num\">3.4&nbsp;&nbsp;</span>9) Largest singluar value</a></span></li><li><span><a href=\"#10)\" data-toc-modified-id=\"10)-3.5\"><span class=\"toc-item-num\">3.5&nbsp;&nbsp;</span>10)</a></span></li></ul></li><li><span><a href=\"#Exercice-4.-(PCA)\" data-toc-modified-id=\"Exercice-4.-(PCA)-4\"><span class=\"toc-item-num\">4&nbsp;&nbsp;</span>Exercice 4. (PCA)</a></span><ul class=\"toc-item\"><li><span><a href=\"#11)-import-data\" data-toc-modified-id=\"11)-import-data-4.1\"><span class=\"toc-item-num\">4.1&nbsp;&nbsp;</span>11) import data</a></span></li><li><span><a href=\"#12)-Center-and-standard-the-dataset\" data-toc-modified-id=\"12)-Center-and-standard-the-dataset-4.2\"><span class=\"toc-item-num\">4.2&nbsp;&nbsp;</span>12) Center and standard the dataset</a></span></li><li><span><a href=\"#13)\" data-toc-modified-id=\"13)-4.3\"><span class=\"toc-item-num\">4.3&nbsp;&nbsp;</span>13)</a></span></li><li><span><a href=\"#14)\" data-toc-modified-id=\"14)-4.4\"><span class=\"toc-item-num\">4.4&nbsp;&nbsp;</span>14)</a></span></li><li><span><a href=\"#15)\" data-toc-modified-id=\"15)-4.5\"><span class=\"toc-item-num\">4.5&nbsp;&nbsp;</span>15)</a></span></li><li><span><a href=\"#16)\" data-toc-modified-id=\"16)-4.6\"><span class=\"toc-item-num\">4.6&nbsp;&nbsp;</span>16)</a></span></li></ul></li><li><span><a href=\"#Exerice-5-(Logistic-regression-for-face-classification)\" data-toc-modified-id=\"Exerice-5-(Logistic-regression-for-face-classification)-5\"><span class=\"toc-item-num\">5&nbsp;&nbsp;</span>Exerice 5 (Logistic regression for face classification)</a></span><ul class=\"toc-item\"><li><span><a href=\"#16)--Description-of-features\" data-toc-modified-id=\"16)--Description-of-features-5.1\"><span class=\"toc-item-num\">5.1&nbsp;&nbsp;</span>16)  Description of features</a></span></li><li><span><a href=\"#17)-reduction-of-feature-and-Logistic-regression\" data-toc-modified-id=\"17)-reduction-of-feature-and-Logistic-regression-5.2\"><span class=\"toc-item-num\">5.2&nbsp;&nbsp;</span>17) reduction of feature and Logistic regression</a></span><ul class=\"toc-item\"><li><span><a href=\"#a)-PCA-with-an-explained-variance-percentage-of-95%-+-logistic-regression-step\" data-toc-modified-id=\"a)-PCA-with-an-explained-variance-percentage-of-95%-+-logistic-regression-step-5.2.1\"><span class=\"toc-item-num\">5.2.1&nbsp;&nbsp;</span>a) PCA with an explained variance percentage of 95% + logistic regression step</a></span></li><li><span><a href=\"#b)-PCA-+-CV\" data-toc-modified-id=\"b)-PCA-+-CV-5.2.2\"><span class=\"toc-item-num\">5.2.2&nbsp;&nbsp;</span>b) PCA + CV</a></span></li></ul></li></ul></li></ul></div>"
   ]
  },
  {
   "cell_type": "code",
   "execution_count": 88,
   "metadata": {
    "ExecuteTime": {
     "end_time": "2018-01-17T20:10:59.038492Z",
     "start_time": "2018-01-17T20:10:59.013908Z"
    }
   },
   "outputs": [],
   "source": [
    "import pandas as pd\n",
    "import numpy as np\n",
    "import time\n",
    "import pandas as pd\n",
    "import matplotlib.pyplot as plt\n",
    "from mpl_toolkits.mplot3d import Axes3D\n",
    "from functools import*\n",
    "from sklearn import preprocessing\n",
    "from sklearn.decomposition import PCA\n",
    "from sklearn.decomposition import TruncatedSVD\n",
    "from sklearn.linear_model import LogisticRegression\n",
    "from sklearn.model_selection import GridSearchCV\n",
    "from sklearn.pipeline import Pipeline\n",
    "from sklearn.pipeline import make_pipeline\n",
    "from sklearn.datasets import fetch_lfw_people\n",
    "from functools import reduce\n",
    "from time import time\n",
    "from IPython.display import display\n",
    "from datetime import datetime\n",
    "plt.style.use('seaborn')"
   ]
  },
  {
   "cell_type": "markdown",
   "metadata": {
    "ExecuteTime": {
     "end_time": "2018-01-10T14:13:51.774771Z",
     "start_time": "2018-01-10T14:13:51.771765Z"
    }
   },
   "source": [
    "## Exercice 1 (Linear algebra)"
   ]
  },
  {
   "cell_type": "markdown",
   "metadata": {
    "ExecuteTime": {
     "end_time": "2018-01-10T16:02:36.010243Z",
     "start_time": "2018-01-10T16:02:36.006103Z"
    }
   },
   "source": [
    "### Vérifiction "
   ]
  },
  {
   "cell_type": "code",
   "execution_count": 2,
   "metadata": {
    "ExecuteTime": {
     "end_time": "2018-01-17T09:33:17.407544Z",
     "start_time": "2018-01-17T09:33:17.396481Z"
    }
   },
   "outputs": [],
   "source": [
    "def LHS_kernel_trick(X, Y, n, p, labda):\n",
    "    A_left = np.linalg.solve(X.dot(X.T) + labda * np.identity(n), Y)\n",
    "    return X.T.dot(A_left)\n",
    "\n",
    "\n",
    "def RHS_kernel_trick(X, Y, n, p, labda):\n",
    "    A_right = np.linalg.solve(X.T.dot(X) + labda * np.identity(p), X.T)\n",
    "    return A_right.dot(Y)"
   ]
  },
  {
   "cell_type": "markdown",
   "metadata": {
    "ExecuteTime": {
     "end_time": "2018-01-10T14:15:49.291202Z",
     "start_time": "2018-01-10T14:15:49.287668Z"
    }
   },
   "source": [
    "a) n = 100 and p = 2000"
   ]
  },
  {
   "cell_type": "code",
   "execution_count": 3,
   "metadata": {
    "ExecuteTime": {
     "end_time": "2018-01-17T09:33:18.737531Z",
     "start_time": "2018-01-17T09:33:17.409516Z"
    }
   },
   "outputs": [
    {
     "name": "stdout",
     "output_type": "stream",
     "text": [
      "Verify the equility when n = 100, p = 2000: True\n"
     ]
    }
   ],
   "source": [
    "n = 100\n",
    "p = 2000\n",
    "labda = 10e-5\n",
    "X = np.random.normal(0, 5, (n, p))\n",
    "Y = np.random.uniform(-1, 1, n)\n",
    "\n",
    "U_left = LHS_kernel_trick(X, Y, n, p, labda)\n",
    "U_right = RHS_kernel_trick(X, Y, n, p, labda)\n",
    "print(\"Verify the equility when n = 100, p = 2000:\",\n",
    "      np.allclose(U_left, U_right))"
   ]
  },
  {
   "cell_type": "markdown",
   "metadata": {
    "ExecuteTime": {
     "end_time": "2018-01-10T15:26:51.698061Z",
     "start_time": "2018-01-10T15:26:51.684012Z"
    }
   },
   "source": [
    "b) n = 2000, p=100"
   ]
  },
  {
   "cell_type": "code",
   "execution_count": 4,
   "metadata": {
    "ExecuteTime": {
     "end_time": "2018-01-17T09:33:19.023346Z",
     "start_time": "2018-01-17T09:33:18.739536Z"
    }
   },
   "outputs": [
    {
     "name": "stdout",
     "output_type": "stream",
     "text": [
      "Verify the equility when n = 2000, p = 100: True\n"
     ]
    }
   ],
   "source": [
    "n = 2000\n",
    "p = 100\n",
    "labda = 10e-5\n",
    "X = np.random.normal(0, 5, (n, p))\n",
    "Y = np.random.uniform(-1, 1, n)\n",
    "U_left = LHS_kernel_trick(X, Y, n, p, labda)\n",
    "U_right = RHS_kernel_trick(X, Y, n, p, labda)\n",
    "\n",
    "print(\"Verify the equility when n = 2000, p = 100:\", np.allclose(U_left, U_right))"
   ]
  },
  {
   "cell_type": "markdown",
   "metadata": {
    "ExecuteTime": {
     "end_time": "2018-01-10T16:36:53.434483Z",
     "start_time": "2018-01-10T16:36:53.429466Z"
    }
   },
   "source": [
    "###  Compare the time efficient"
   ]
  },
  {
   "cell_type": "code",
   "execution_count": 76,
   "metadata": {
    "ExecuteTime": {
     "end_time": "2018-01-17T14:13:41.562878Z",
     "start_time": "2018-01-17T14:13:41.533258Z"
    }
   },
   "outputs": [
    {
     "ename": "NameError",
     "evalue": "name 'LHS_kernel_trick' is not defined",
     "output_type": "error",
     "traceback": [
      "\u001b[1;31m---------------------------------------------------------------------------\u001b[0m",
      "\u001b[1;31mNameError\u001b[0m                                 Traceback (most recent call last)",
      "\u001b[1;32m<ipython-input-76-0af1f2ba6c35>\u001b[0m in \u001b[0;36m<module>\u001b[1;34m()\u001b[0m\n\u001b[0;32m      7\u001b[0m \u001b[1;33m\u001b[0m\u001b[0m\n\u001b[0;32m      8\u001b[0m     \u001b[0mleft_time\u001b[0m \u001b[1;33m=\u001b[0m \u001b[0mtime\u001b[0m\u001b[1;33m(\u001b[0m\u001b[1;33m)\u001b[0m\u001b[1;33m\u001b[0m\u001b[0m\n\u001b[1;32m----> 9\u001b[1;33m     \u001b[0mU_left\u001b[0m \u001b[1;33m=\u001b[0m \u001b[0mLHS_kernel_trick\u001b[0m\u001b[1;33m(\u001b[0m\u001b[0mX\u001b[0m\u001b[1;33m,\u001b[0m \u001b[0mY\u001b[0m\u001b[1;33m,\u001b[0m \u001b[0mn\u001b[0m\u001b[1;33m,\u001b[0m \u001b[0mp\u001b[0m\u001b[1;33m,\u001b[0m \u001b[0mlabda\u001b[0m\u001b[1;33m)\u001b[0m\u001b[1;33m\u001b[0m\u001b[0m\n\u001b[0m\u001b[0;32m     10\u001b[0m     \u001b[0mleft_time\u001b[0m \u001b[1;33m=\u001b[0m \u001b[0mtime\u001b[0m\u001b[1;33m.\u001b[0m\u001b[0mtime\u001b[0m\u001b[1;33m(\u001b[0m\u001b[1;33m)\u001b[0m \u001b[1;33m-\u001b[0m \u001b[0mleft_time\u001b[0m\u001b[1;33m\u001b[0m\u001b[0m\n\u001b[0;32m     11\u001b[0m     \u001b[0mleft_times\u001b[0m\u001b[1;33m.\u001b[0m\u001b[0mappend\u001b[0m\u001b[1;33m(\u001b[0m\u001b[0mleft_time\u001b[0m\u001b[1;33m)\u001b[0m\u001b[1;33m\u001b[0m\u001b[0m\n",
      "\u001b[1;31mNameError\u001b[0m: name 'LHS_kernel_trick' is not defined"
     ]
    }
   ],
   "source": [
    "left_times = []\n",
    "right_times = []\n",
    "labda = 10e-5\n",
    "for n, p in zip(range(100, 2001, 100), range(100, 2001, 100)):\n",
    "    X = np.random.normal(0, 5, (n, p))\n",
    "    Y = np.random.uniform(-1, 1, n)\n",
    "\n",
    "    left_time = time()\n",
    "    U_left = LHS_kernel_trick(X, Y, n, p, labda)\n",
    "    left_time = time.time() - left_time\n",
    "    left_times.append(left_time)\n",
    "\n",
    "    right_time = time()\n",
    "    U_right = RHS_kernel_trick(X, Y, n, p, labda)\n",
    "    right_time = time.time() - right_time\n",
    "    right_times.append(right_time)"
   ]
  },
  {
   "cell_type": "code",
   "execution_count": null,
   "metadata": {
    "ExecuteTime": {
     "end_time": "2018-01-17T09:33:19.264534Z",
     "start_time": "2018-01-17T09:33:00.464Z"
    }
   },
   "outputs": [],
   "source": [
    "fig = plt.figure()\n",
    "\n",
    "\n",
    "x = np.arange(100, 2001, 100)\n",
    "y = np.arange(100, 2001, 100)\n",
    "z1 = np.reshape(left_times, (20, 20))\n",
    "z2 = np.reshape(right_times, (20, 20))\n",
    "x, y = np.meshgrid(x, y)\n",
    "\n",
    "plt.contourf(x, y, z2 - z1, alpha=.75)\n",
    "C = plt.contour(x, y, z2 - z1, alpha=.75)\n",
    "plt.clabel(C, inline=True, fontsize=10)\n",
    "\n",
    "plt.show()"
   ]
  },
  {
   "cell_type": "code",
   "execution_count": null,
   "metadata": {
    "ExecuteTime": {
     "end_time": "2018-01-17T09:33:19.265536Z",
     "start_time": "2018-01-17T09:33:00.468Z"
    }
   },
   "outputs": [],
   "source": [
    "//TODO"
   ]
  },
  {
   "cell_type": "markdown",
   "metadata": {
    "ExecuteTime": {
     "end_time": "2018-01-10T18:24:38.040810Z",
     "start_time": "2018-01-10T18:23:05.157Z"
    }
   },
   "source": [
    "## Exercice 2 Random matrix spectrum"
   ]
  },
  {
   "cell_type": "markdown",
   "metadata": {
    "ExecuteTime": {
     "end_time": "2018-01-10T19:24:06.529156Z",
     "start_time": "2018-01-10T19:15:27.857Z"
    }
   },
   "source": [
    "### 3)"
   ]
  },
  {
   "cell_type": "code",
   "execution_count": 82,
   "metadata": {
    "ExecuteTime": {
     "end_time": "2018-01-17T17:54:16.649996Z",
     "start_time": "2018-01-17T17:54:16.635950Z"
    }
   },
   "outputs": [],
   "source": [
    "def createMatrixLaPlace(n, p):\n",
    "    return np.random.laplace(0, 1, (n, p))\n",
    "\n",
    "\n",
    "def createMatrixT(n, p):\n",
    "    return np.random.standard_t(4, (n, p))\n",
    "\n",
    "\n",
    "def createMatrixUni(n, p):\n",
    "    return np.random.uniform(-np.sqrt(6), np.sqrt(6), (n, p))"
   ]
  },
  {
   "cell_type": "markdown",
   "metadata": {
    "ExecuteTime": {
     "end_time": "2018-01-10T19:24:06.543194Z",
     "start_time": "2018-01-10T19:22:19.235Z"
    }
   },
   "source": [
    "### 4)"
   ]
  },
  {
   "cell_type": "code",
   "execution_count": 83,
   "metadata": {
    "ExecuteTime": {
     "end_time": "2018-01-17T17:54:24.882326Z",
     "start_time": "2018-01-17T17:54:18.520378Z"
    }
   },
   "outputs": [],
   "source": [
    "p_list = [200, 500, 1000, 2000]\n",
    "n = 1000\n",
    "\n",
    "sv_laplace = [np.linalg.svd(createMatrixLaPlace(\n",
    "    n, p), compute_uv=False) for p in p_list]\n",
    "sv_t = [np.linalg.svd(createMatrixT(n, p), compute_uv=False) for p in p_list]\n",
    "sv_uni = [np.linalg.svd(createMatrixUni(n, p), compute_uv=False)\n",
    "          for p in p_list]rrrrrrrrrrrrrrrrrrrrrrrrrrrrrrrrrrrrrrrrrrrrrrrrrrrrrrrrrrrrrrrrrrrrrrrrrrrrrrrrttttttttttttttttt(((((())))))"
   ]
  },
  {
   "cell_type": "code",
   "execution_count": 85,
   "metadata": {
    "ExecuteTime": {
     "end_time": "2018-01-17T17:57:04.742866Z",
     "start_time": "2018-01-17T17:57:04.730823Z"
    }
   },
   "outputs": [],
   "source": [
    "x_laplace = np.concatenate(list(map(lambda element: np.ones_like(\n",
    "    element[1]) * element[0], zip(p_list, sv_laplace))))\n",
    "x_t = np.concatenate(list(map(lambda element: np.ones_like(\n",
    "    element[1]) * element[0], zip(p_list, sv_t))))\n",
    "x_uni = np.concatenate(list(map(lambda element: np.ones_like(\n",
    "    element[1]) * element[0], zip(p_list, sv_uni))))\n",
    "\n",
    "y_laplace = np.concatenate(sv_laplace)\n",
    "y_t = np.concatenate(sv_t)\n",
    "y_uni = np.concatenate(sv_uni)"
   ]
  },
  {
   "cell_type": "code",
   "execution_count": 86,
   "metadata": {
    "ExecuteTime": {
     "end_time": "2018-01-17T17:57:06.853749Z",
     "start_time": "2018-01-17T17:57:06.584075Z"
    }
   },
   "outputs": [
    {
     "data": {
      "image/png": "[encoded data removed]",
      "text/plain": [
       "<matplotlib.figure.Figure at 0x248b23ea0b8>"
      ]
     },
     "metadata": {},
     "output_type": "display_data"
    }
   ],
   "source": [
    "plt.scatter(x_laplace, y_laplace)\n",
    "plt.scatter(x_t, y_t)\n",
    "plt.scatter(x_uni, y_uni)\n",
    "plt.show()"
   ]
  },
  {
   "cell_type": "markdown",
   "metadata": {
    "ExecuteTime": {
     "end_time": "2018-01-10T20:33:33.320925Z",
     "start_time": "2018-01-10T20:33:33.316912Z"
    }
   },
   "source": [
    "### 5)"
   ]
  },
  {
   "cell_type": "code",
   "execution_count": 87,
   "metadata": {
    "ExecuteTime": {
     "end_time": "2018-01-17T18:57:45.642752Z",
     "start_time": "2018-01-17T18:57:45.382546Z"
    }
   },
   "outputs": [
    {
     "data": {
      "image/png": "[encoded data removed]",
      "text/plain": [
       "<matplotlib.figure.Figure at 0x248b275acf8>"
      ]
     },
     "metadata": {},
     "output_type": "display_data"
    }
   ],
   "source": [
    "n = 1000\n",
    "y_laplace_ = y_laplace**2 / n\n",
    "y_t_ = y_t**2 / n\n",
    "y_uni_ = y_uni**2 / n\n",
    "plt.scatter(x_laplace, y_laplace_)\n",
    "plt.scatter(x_t, y_t_)\n",
    "plt.scatter(x_uni, y_uni_)\n",
    "plt.show()"
   ]
  },
  {
   "cell_type": "markdown",
   "metadata": {
    "ExecuteTime": {
     "end_time": "2018-01-10T20:36:54.716029Z",
     "start_time": "2018-01-10T20:36:54.712018Z"
    }
   },
   "source": [
    "## Exercice 3 (Power Method)"
   ]
  },
  {
   "cell_type": "markdown",
   "metadata": {},
   "source": [
    "### 6)"
   ]
  },
  {
   "cell_type": "code",
   "execution_count": null,
   "metadata": {
    "ExecuteTime": {
     "end_time": "2018-01-17T09:33:19.274605Z",
     "start_time": "2018-01-17T09:33:01.598Z"
    }
   },
   "outputs": [],
   "source": [
    "def power_method(X, n, u, v):\n",
    "    for j in range(n):\n",
    "        u = np.dot(X,v)\n",
    "        v = np.dot(np.transpose(X),u)\n",
    "        v = 1.0 * v / np.linalg.norm(v)\n",
    "        u = 1.0 * u / np.linalg.norm(u)\n",
    "    return u, v"
   ]
  },
  {
   "cell_type": "markdown",
   "metadata": {
    "ExecuteTime": {
     "end_time": "2018-01-10T20:43:31.456213Z",
     "start_time": "2018-01-10T20:43:31.453204Z"
    }
   },
   "source": [
    "### 7)"
   ]
  },
  {
   "cell_type": "code",
   "execution_count": null,
   "metadata": {
    "ExecuteTime": {
     "end_time": "2018-01-17T09:33:19.277567Z",
     "start_time": "2018-01-17T09:33:01.827Z"
    }
   },
   "outputs": [],
   "source": [
    "n, p = 10, 20\n",
    "u = np.random.uniform(-10, 10, size=n)\n",
    "v = np.random.uniform(-10, 10, size=p)\n",
    "X = createMatrixLaPlace(n, p)\n",
    "\n",
    "u_svd, sigma, v_svd = np.linalg.svd(X)\n",
    "us_theta = []\n",
    "vs_theta = []\n",
    "\n",
    "\n",
    "for n in range(0, 100):\n",
    "    oldU, oldV = u, v\n",
    "    u, v = power_method(X, 1, u, v)\n",
    "    if(n > 2):\n",
    "        us_theta.append(np.linalg.norm(u - oldU))\n",
    "        vs_theta.append(np.linalg.norm(v - oldV))\n",
    "\n",
    "\n",
    "x_ite = np.arange(2, len(us_theta) + 2)\n",
    "plt.plot(x_ite, us_theta, label=\"$||u - largest left singlular vector||$\", lw=3)\n",
    "plt.plot(x_ite, vs_theta, '--',\n",
    "         label=\"$||v - largest right singluar vector||$\", lw=3)\n",
    "plt.legend()\n",
    "plt.show()"
   ]
  },
  {
   "cell_type": "markdown",
   "metadata": {},
   "source": [
    "In most case, the output $u,v$ from the algorithm converge to the singular vector associated to the largest singular values of X. Although, in theory, if the initial value of u is perpendicular to the singluar vector,  the output will converge to zero."
   ]
  },
  {
   "cell_type": "markdown",
   "metadata": {
    "ExecuteTime": {
     "end_time": "2018-01-16T19:01:58.466638Z",
     "start_time": "2018-01-16T19:01:58.462626Z"
    }
   },
   "source": [
    "### 8 "
   ]
  },
  {
   "cell_type": "markdown",
   "metadata": {},
   "source": [
    "If we take a vector u(v) which are respectively perpendicular to the left singular vector(the right singluar vector) as the initial vector. The output of vector will converge to the seconde largest sigular vector. For example:\n",
    "We take \n",
    "$$ A =\n",
    "\\begin{pmatrix}\n",
    "40. &&    0.&   0. &\\\\\n",
    "0. && 108.&   0. &\\\\\n",
    "0.&   0.& 210.\\\\\n",
    "0.&   0.&   0. &\\\\ \n",
    "\\end{pmatrix}\n",
    "$$\n",
    "We apply the SVD decomposition and get \n",
    "$$ \n",
    "U = \n",
    "\\begin{pmatrix}\n",
    "0. & 0. & 1. & 0.\\\\\n",
    " 0. & 1. & 0. & 0.\\\\\n",
    " 1. & 0. & 0. & 0.\\\\\n",
    " 0. & 0. & 0. & 1. \\\\\n",
    "\\end{pmatrix}\n",
    "$$\n",
    "\n",
    "$$\n",
    "V = \n",
    " \\begin{pmatrix}\n",
    " 1. & 0. & 0.\\\\\n",
    " 0. & 1. & 0.\\\\\n",
    " 0. & 0. & 1.\n",
    " \\end{pmatrix}\n",
    "$$\n",
    "\n",
    "so the left singluar vector and right singular vector associed to lagest singluar value are $u_1 = [0,0,1,0]^T$ and $v_1 = [1,0,0]^T$\n",
    "But with the power method, we get"
   ]
  },
  {
   "cell_type": "code",
   "execution_count": null,
   "metadata": {
    "ExecuteTime": {
     "end_time": "2018-01-17T09:33:19.279573Z",
     "start_time": "2018-01-17T09:33:02.440Z"
    }
   },
   "outputs": [],
   "source": [
    "X = np.array([[40.,    0.,    0.],\n",
    "              [0.,  108.,    0.],\n",
    "              [0.,    0.,  210.],\n",
    "              [0.,    0.,    0.]])\n",
    "u_init = [6, 0, 0, 0]\n",
    "v_init = [0, 1, 0]\n",
    "\n",
    "us_diff = []\n",
    "vs_diff = []\n",
    "\n",
    "for n in range(0, 100):\n",
    "    u, v = power_method(A, 1, u_init, v_init)\n",
    "    if(n > 2):\n",
    "        us_diff.append(np.linalg.norm(u - U_svd[:, 0]))\n",
    "        vs_diff.append(np.linalg.norm(v - V_svd[0, :]))\n",
    "\n",
    "x_ite = np.arange(2, len(us_diff) + 2)\n",
    "plt.plot(x_ite, us_diff, label=\"$||\\Delta u||$\", lw=3)\n",
    "plt.plot(x_ite, vs_diff, '--', label=\"$||\\Delta v||$\", lw=3)\n",
    "plt.legend()\n",
    "plt.show()"
   ]
  },
  {
   "cell_type": "markdown",
   "metadata": {},
   "source": [
    "If we take u which $ <v , v_1> < 0 $, then the output converge to $-u_1$. For example"
   ]
  },
  {
   "cell_type": "code",
   "execution_count": null,
   "metadata": {
    "ExecuteTime": {
     "end_time": "2018-01-17T09:33:19.280575Z",
     "start_time": "2018-01-17T09:33:02.630Z"
    }
   },
   "outputs": [],
   "source": [
    "n, p = 10, 20\n",
    "u = np.random.randn(0, 10, n)\n",
    "v = np.random.uniform(-10, 10, size=p)\n",
    "X = createMatrixLaPlace(n, p)\n",
    "u_svd, sigma, v_svd = np.linalg.svd(X)\n",
    "\n",
    "if(v.dot(v_svd[0, :]) > 0):\n",
    "    v = -1 * v\n",
    "\n",
    "us_theta = []\n",
    "vs_theta = []\n",
    "\n",
    "for n in range(0, 100):\n",
    "    oldU, oldV = u, v\n",
    "    u, v = power_method(X, 1, u, v)\n",
    "    if(n > 2):\n",
    "        us_theta.append(np.linalg.norm(u - u_svd[:, 0]))\n",
    "        vs_theta.append(np.linalg.norm(v - v_svd[0, :]))\n",
    "\n",
    "\n",
    "x_ite = np.arange(2, len(us_theta) + 2)\n",
    "plt.plot(x_ite, us_theta, label=\"$||u - largest left singlular vector||$\", lw=3)\n",
    "plt.plot(x_ite, vs_theta, '--',\n",
    "         label=\"$||v - largest right singluar vector||$\", lw=3)\n",
    "plt.legend()\n",
    "plt.show()"
   ]
  },
  {
   "cell_type": "markdown",
   "metadata": {},
   "source": [
    "### 9) Largest singluar value\n",
    "We can use the following formular to get the singular value:\n",
    "$$\n",
    "u_1 = \\frac{i}{\\sigma_1} Xv_i \n",
    "$$\n",
    "So\n",
    "$$\n",
    "||\\sigma_i u_i|| = ||Av_i||\n",
    "$$\n",
    "We can get \n",
    "$$\n",
    "\\sigma_i =\\frac{ ||Av_i||_2 }{||u_i||_2}\n",
    "$$\n"
   ]
  },
  {
   "cell_type": "code",
   "execution_count": null,
   "metadata": {
    "ExecuteTime": {
     "end_time": "2018-01-17T09:33:19.282580Z",
     "start_time": "2018-01-17T09:33:02.818Z"
    }
   },
   "outputs": [],
   "source": [
    "n, p = 20, 60\n",
    "X = createMatrixLaPlace(n, p)\n",
    "v = np.random.randn(p)\n",
    "u = np.random.randn(n)\n",
    "\n",
    "u, v = power_method(X, 200, u, v)\n",
    "sing_value = np.linalg.norm(X.dot(v))\n",
    "u_svd, sigma, v_svd = np.linalg.svd(X)\n",
    "\n",
    "np.isclose(sing_value, sigma[0])"
   ]
  },
  {
   "cell_type": "markdown",
   "metadata": {
    "ExecuteTime": {
     "end_time": "2018-01-16T21:02:06.766879Z",
     "start_time": "2018-01-16T21:02:06.758858Z"
    }
   },
   "source": [
    "### 10)"
   ]
  },
  {
   "cell_type": "code",
   "execution_count": null,
   "metadata": {
    "ExecuteTime": {
     "end_time": "2018-01-17T09:33:19.284585Z",
     "start_time": "2018-01-17T09:33:03.044Z"
    }
   },
   "outputs": [],
   "source": [
    "def power_method_first(X, v, n_max):\n",
    "    \"\"\" Singular Value Decomposition.\n",
    "\n",
    "    This function returns the left singular vector,\n",
    "    right singluar vector associated to the largest\n",
    "    singluar value, and its largest singular value\n",
    "    by power method.\n",
    "\n",
    "    Args:\n",
    "        X: A  real matrix to decompose\n",
    "        u: initial right singular vector\n",
    "        n_max: max number of iteration\n",
    "    Returns:\n",
    "        u_2: the largest left singular vector\n",
    "        val: the largest value\n",
    "        v_2: the largest right singular vector\n",
    "    \"\"\"\n",
    "    X, v = np.matrix(X), np.matrix(v).T\n",
    "    n = 0\n",
    "    old_v = v * 20\n",
    "    u = 0\n",
    "    while(n < n_max and not np.allclose(old_v, v, rtol=1e-08, atol=1e-10)):\n",
    "        old_v = v\n",
    "        u = X * v\n",
    "        v = X.T * u\n",
    "        v = 1.0 * v / np.linalg.norm(v)\n",
    "        u = 1.0 * u / np.linalg.norm(u)\n",
    "        n += 1\n",
    "\n",
    "    sing_val = np.linalg.norm(X.dot(v))\n",
    "\n",
    "    return u, sing_val, v\n",
    "\n",
    "\n",
    "def power_method_second(X, v, n_max):\n",
    "    \"\"\" Singular Value Decomposition.\n",
    "\n",
    "    This function returns the left singular vector,\n",
    "    right singluar vector associated to the second largest\n",
    "    singluar value, and its second largest singular value\n",
    "    by power method.\n",
    "\n",
    "    Args:\n",
    "        X: A  real matrix to decompose\n",
    "        u: initial right singular vector\n",
    "        n_max: max number of iteration\n",
    "    Returns:\n",
    "        u_2: the second largest left singular vector\n",
    "        val: the second largest value\n",
    "        v_2: the second largest right singular vector\n",
    "    \"\"\"\n",
    "    u_1, sigma, v_1 = power_method_first(X, v, n_max)\n",
    "\n",
    "    X = X - sigma * u_1 * v_1.T\n",
    "\n",
    "    return power_method_first(X, v, n_max)\n",
    "\n",
    "def isclose(v1,v2):\n",
    "    ''' Returns True if two vector are parallel and have equal length.\n",
    "    \n",
    "    Args:\n",
    "        v1,v2: Input unitary vectors to compare.\n",
    "    Returns:\n",
    "        allclose : \n",
    "            Returns True if the two vector are parallel \n",
    "            within the given tolerance; \n",
    "            False otherwise.\n",
    "    '''\n",
    "    \n",
    "    v1, v2 = np.array(v1).ravel(), np.array(v2).ravel()\n",
    "    return np.isclose(np.abs(v1.dot(v2)),1)"
   ]
  },
  {
   "cell_type": "code",
   "execution_count": null,
   "metadata": {
    "ExecuteTime": {
     "end_time": "2018-01-17T09:33:19.286591Z",
     "start_time": "2018-01-17T09:33:03.048Z"
    }
   },
   "outputs": [],
   "source": [
    "n,p = 20,50\n",
    "X = createMatrixLaPlace(n,p)\n",
    "U, Sigma, V = np.linalg.svd(X)\n",
    "\n",
    "v = np.random.randn(p)\n",
    "u_1, sigma_1, v_1 = power_method_first(X, v, 1000)\n",
    "u_2, sigma_2, v_2 = power_method_second(X,v, 1000)\n",
    "\n",
    "print(isclose(u_1,np.matrix(U[:,0]).T), np.isclose( sigma_1,Sigma[0]))\n",
    "print(isclose(u_2,U[:,1]), np.isclose(sigma_2,Sigma[1]))"
   ]
  },
  {
   "cell_type": "markdown",
   "metadata": {},
   "source": [
    "## Exercice 4. (PCA)"
   ]
  },
  {
   "cell_type": "markdown",
   "metadata": {},
   "source": [
    "### 11) import data"
   ]
  },
  {
   "cell_type": "code",
   "execution_count": null,
   "metadata": {
    "ExecuteTime": {
     "end_time": "2018-01-17T09:33:19.287594Z",
     "start_time": "2018-01-17T09:33:03.462Z"
    }
   },
   "outputs": [],
   "source": [
    "url = \"http://josephsalmon.eu/enseignement/TELECOM/SD204/defra_consumption.csv\" \n",
    "data = pd.read_csv(url, sep=';', index_col=0)\n",
    "data.head()"
   ]
  },
  {
   "cell_type": "markdown",
   "metadata": {},
   "source": [
    "### 12) Center and standard the dataset"
   ]
  },
  {
   "cell_type": "code",
   "execution_count": null,
   "metadata": {
    "ExecuteTime": {
     "end_time": "2018-01-17T09:33:19.288597Z",
     "start_time": "2018-01-17T09:33:03.652Z"
    }
   },
   "outputs": [],
   "source": [
    "X = preprocessing.scale(data)"
   ]
  },
  {
   "cell_type": "markdown",
   "metadata": {
    "ExecuteTime": {
     "end_time": "2018-01-11T13:34:37.013806Z",
     "start_time": "2018-01-11T13:34:37.009795Z"
    }
   },
   "source": [
    "### 13) "
   ]
  },
  {
   "cell_type": "code",
   "execution_count": null,
   "metadata": {
    "ExecuteTime": {
     "end_time": "2018-01-17T09:33:19.289600Z",
     "start_time": "2018-01-17T09:33:03.972Z"
    }
   },
   "outputs": [],
   "source": [
    "%time pca = PCA(n_components=2, copy=True)\n",
    "%time pca_2d= pca.fit_transform(X)\n",
    "plt.scatter(pca_2d[:,0], pca_2d[:,1])\n",
    "plt.show()"
   ]
  },
  {
   "cell_type": "markdown",
   "metadata": {
    "ExecuteTime": {
     "end_time": "2018-01-11T15:03:45.899256Z",
     "start_time": "2018-01-11T15:03:45.894252Z"
    }
   },
   "source": [
    "### 14)"
   ]
  },
  {
   "cell_type": "code",
   "execution_count": null,
   "metadata": {
    "ExecuteTime": {
     "end_time": "2018-01-17T09:33:19.290604Z",
     "start_time": "2018-01-17T09:33:04.186Z"
    }
   },
   "outputs": [],
   "source": [
    "pca = PCA(n_components=3, copy=True)\n",
    "pca_3d = pca.fit_transform(X)\n",
    "\n",
    "fig = plt.figure()\n",
    "ax = fig.add_subplot(111, projection=\"3d\")\n",
    "ax.scatter(pca_3d[:,0], pca_3d[:,1], pca_3d[:,2])\n",
    "plt.show()"
   ]
  },
  {
   "cell_type": "markdown",
   "metadata": {},
   "source": [
    "### 15)\n",
    "(a)"
   ]
  },
  {
   "cell_type": "code",
   "execution_count": null,
   "metadata": {
    "ExecuteTime": {
     "end_time": "2018-01-17T09:33:19.291606Z",
     "start_time": "2018-01-17T09:33:04.380Z"
    }
   },
   "outputs": [],
   "source": [
    "eig_time = time()\n",
    "\n",
    "eigenvalues, eigenvectors = np.linalg.eig(X.T.dot(X))\n",
    "x_diag = np.diag(eigenvalues)\n",
    "sorted_index = np.argsort(-eigenvalues)\n",
    "basis_vecs = eigenvectors[:, sorted_index]\n",
    "\n",
    "eig_pro_2d = X.dot(basis_vecs[:, :2])\n",
    "eig_pro_3d = X.dot(basis_vecs[:, :3])\n",
    "eig_time = time() - eig_time"
   ]
  },
  {
   "cell_type": "code",
   "execution_count": null,
   "metadata": {
    "ExecuteTime": {
     "end_time": "2018-01-17T09:33:19.292609Z",
     "start_time": "2018-01-17T09:33:04.383Z"
    }
   },
   "outputs": [],
   "source": [
    "fig = plt.figure(figsize=(16, 16))\n",
    "\n",
    "ax = fig.add_subplot(2, 2, 1)\n",
    "ax.scatter(eig_pro_2d[:, 0], -eig_pro_2d[:, 1])\n",
    "ax.set_title(\"Engivector 2D\")\n",
    "ax = fig.add_subplot(2, 2, 2)\n",
    "ax.scatter(pca_2d[:, 0], pca_2d[:, 1])\n",
    "ax.set_title(\"PCA 2D\")\n",
    "ax = fig.add_subplot(2, 2, 3, projection='3d')\n",
    "ax.scatter(eig_pro_3d[:, 0], -eig_pro_3d[:, 1], eig_pro_3d[:, 2])\n",
    "ax.set_title(\"Engivector 3D\")\n",
    "ax = fig.add_subplot(2, 2, 4, projection='3d')\n",
    "ax.scatter(pca_3d[:, 0], pca_3d[:, 1], pca_3d[:, 2])\n",
    "ax.set_title(\"PCA 3D\")\n",
    "plt.show()"
   ]
  },
  {
   "cell_type": "markdown",
   "metadata": {
    "ExecuteTime": {
     "end_time": "2018-01-17T08:47:10.975331Z",
     "start_time": "2018-01-17T08:47:10.971321Z"
    }
   },
   "source": [
    "### 16)"
   ]
  },
  {
   "cell_type": "code",
   "execution_count": null,
   "metadata": {
    "ExecuteTime": {
     "end_time": "2018-01-17T09:33:19.293613Z",
     "start_time": "2018-01-17T09:33:04.584Z"
    }
   },
   "outputs": [],
   "source": [
    "# 2D\n",
    "svd_2d = TruncatedSVD(n_components=2)\n",
    "svd_2d.fit(X.T)\n",
    "svd_2d_pro = svd_2d.components_\n",
    "# 3D\n",
    "svd_3d = TruncatedSVD(n_components=3)\n",
    "svd_3d.fit(X.T)\n",
    "svd_3d_pro = svd_3d.components_"
   ]
  },
  {
   "cell_type": "code",
   "execution_count": null,
   "metadata": {
    "ExecuteTime": {
     "end_time": "2018-01-17T09:33:19.295615Z",
     "start_time": "2018-01-17T09:33:04.588Z"
    }
   },
   "outputs": [],
   "source": [
    "fig = plt.figure(figsize=(16, 16))\n",
    "\n",
    "ax = fig.add_subplot(2, 2, 1)\n",
    "ax.scatter(svd_2d_pro[0], -svd_2d_pro[1])\n",
    "ax.set_title(\"Engivector 2D\")\n",
    "ax = fig.add_subplot(2, 2, 2)\n",
    "ax.scatter(pca_2d[:, 0], pca_2d[:, 1])\n",
    "ax.set_title(\"PCA 2D\")\n",
    "ax = fig.add_subplot(2, 2, 3, projection='3d')\n",
    "ax.scatter(svd_3d_pro[0], -svd_3d_pro[1], svd_3d_pro[2])\n",
    "ax.set_title(\"Engivector 3D\")\n",
    "ax = fig.add_subplot(2, 2, 4, projection='3d')\n",
    "ax.scatter(pca_3d[:, 0], pca_3d[:, 1], pca_3d[:, 2])\n",
    "ax.set_title(\"PCA 3D\")\n",
    "plt.show()"
   ]
  },
  {
   "cell_type": "markdown",
   "metadata": {},
   "source": [
    "## Exerice 5 (Logistic regression for face classification)"
   ]
  },
  {
   "cell_type": "code",
   "execution_count": 78,
   "metadata": {
    "ExecuteTime": {
     "end_time": "2018-01-17T14:14:34.888718Z",
     "start_time": "2018-01-17T14:14:34.780387Z"
    }
   },
   "outputs": [
    {
     "name": "stdout",
     "output_type": "stream",
     "text": [
      "Total dataset size:\n",
      "n_samples: 1288\n",
      "n_features: 1850\n",
      "n_classes: 7\n"
     ]
    }
   ],
   "source": [
    "# Download the data, if not already on disk and load it as numpy arrays\n",
    "lfw_people = fetch_lfw_people(min_faces_per_person=70, resize=0.4)\n",
    "# introspect the images arrays to find the shapes (for plotting)\n",
    "n_samples, h, w = lfw_people.images.shape\n",
    "X = lfw_people.data\n",
    "n_features = X.shape[1]\n",
    "# the label to predict is the id of the person\n",
    "y = lfw_people.target\n",
    "target_names = lfw_people.target_names\n",
    "n_classes = target_names.shape[0]\n",
    "print(\"Total dataset size:\")\n",
    "print(\"n_samples: %d\" % n_samples)\n",
    "print(\"n_features: %d\" % n_features)\n",
    "print(\"n_classes: %d\" % n_classes)"
   ]
  },
  {
   "cell_type": "markdown",
   "metadata": {},
   "source": [
    "### 16)  Description of features\n",
    "This dataset contains 1288 samples. Each sample is a black-white picture who was centered on a single face. The features of each samples are the gray scale of each pixel of the sample picture."
   ]
  },
  {
   "cell_type": "markdown",
   "metadata": {
    "ExecuteTime": {
     "end_time": "2018-01-17T13:20:04.166591Z",
     "start_time": "2018-01-17T13:20:04.163582Z"
    }
   },
   "source": [
    "### 17) reduction of feature and Logistic regression"
   ]
  },
  {
   "cell_type": "markdown",
   "metadata": {
    "ExecuteTime": {
     "end_time": "2018-01-17T13:31:46.293155Z",
     "start_time": "2018-01-17T13:31:46.286143Z"
    }
   },
   "source": [
    "#### a) PCA with an explained variance percentage of 95% + logistic regression step"
   ]
  },
  {
   "cell_type": "code",
   "execution_count": 53,
   "metadata": {
    "ExecuteTime": {
     "end_time": "2018-01-17T13:30:18.747102Z",
     "start_time": "2018-01-17T13:30:11.372465Z"
    }
   },
   "outputs": [
    {
     "data": {
      "text/plain": [
       "0.97437888198757761"
      ]
     },
     "execution_count": 53,
     "metadata": {},
     "output_type": "execute_result"
    }
   ],
   "source": [
    "pca = PCA(n_components= 0.95)\n",
    "X_reduce = pca.fit_transform(X)\n",
    "log = LogisticRegression()\n",
    "log.fit(X_reduce, y)\n",
    "log.score(X_reduce,y)"
   ]
  },
  {
   "cell_type": "markdown",
   "metadata": {},
   "source": [
    "#### b) PCA + CV"
   ]
  },
  {
   "cell_type": "code",
   "execution_count": 80,
   "metadata": {
    "ExecuteTime": {
     "end_time": "2018-01-17T14:22:11.106680Z",
     "start_time": "2018-01-17T14:17:54.517065Z"
    }
   },
   "outputs": [
    {
     "name": "stdout",
     "output_type": "stream",
     "text": [
      "The attribute 'n_components' for the best estimator: 112.000000\n"
     ]
    }
   ],
   "source": [
    "n_components = range(105,120,1)\n",
    "\n",
    "pca = PCA()\n",
    "pipeline = make_pipeline(PCA(), LogisticRegression()) \n",
    "\n",
    "estimator = GridSearchCV(estimator=pipeline, param_grid=dict(pca__n_components=n_components), cv=5)\n",
    "estimator.fit(X, y)\n",
    "\n",
    "\n",
    "print(\"The attribute \\'n_components\\' for the best estimator: %f\" %(estimator.best_estimator_.named_steps['pca'].n_components))"
   ]
  },
  {
   "cell_type": "code",
   "execution_count": 65,
   "metadata": {
    "ExecuteTime": {
     "end_time": "2018-01-17T13:53:03.713367Z",
     "start_time": "2018-01-17T13:53:03.706331Z"
    }
   },
   "outputs": [
    {
     "data": {
      "text/plain": [
       "[100,\n",
       " 105,\n",
       " 110,\n",
       " 115,\n",
       " 120,\n",
       " 125,\n",
       " 130,\n",
       " 135,\n",
       " 140,\n",
       " 145,\n",
       " 150,\n",
       " 155,\n",
       " 160,\n",
       " 165,\n",
       " 170,\n",
       " 175,\n",
       " 180,\n",
       " 185,\n",
       " 190,\n",
       " 195,\n",
       " 200,\n",
       " 205,\n",
       " 210,\n",
       " 215,\n",
       " 220,\n",
       " 225,\n",
       " 230,\n",
       " 235,\n",
       " 240,\n",
       " 245]"
      ]
     },
     "execution_count": 65,
     "metadata": {},
     "output_type": "execute_result"
    }
   ],
   "source": [
    "list(range(100,250,5))"
   ]
  },
  {
   "cell_type": "code",
   "execution_count": null,
   "metadata": {},
   "outputs": [],
   "source": []
  }
 ],
 "metadata": {
  "kernelspec": {
   "display_name": "Python 3",
   "language": "python",
   "name": "python3"
  },
  "language_info": {
   "codemirror_mode": {
    "name": "ipython",
    "version": 3
   },
   "file_extension": ".py",
   "mimetype": "text/x-python",
   "name": "python",
   "nbconvert_exporter": "python",
   "pygments_lexer": "ipython3",
   "version": "3.6.3"
  },
  "toc": {
   "nav_menu": {},
   "number_sections": true,
   "sideBar": true,
   "skip_h1_title": true,
   "toc_cell": true,
   "toc_position": {},
   "toc_section_display": "block",
   "toc_window_display": true
  },
  "varInspector": {
   "cols": {
    "lenName": 16,
    "lenType": 16,
    "lenVar": 40
   },
   "kernels_config": {
    "python": {
     "delete_cmd_postfix": "",
     "delete_cmd_prefix": "del ",
     "library": "var_list.py",
     "varRefreshCmd": "print(var_dic_list())"
    },
    "r": {
     "delete_cmd_postfix": ") ",
     "delete_cmd_prefix": "rm(",
     "library": "var_list.r",
     "varRefreshCmd": "cat(var_dic_list()) "
    }
   },
   "position": {
    "height": "383px",
    "left": "1630.32px",
    "right": "20px",
    "top": "370.99px",
    "width": "350px"
   },
   "types_to_exclude": [
    "module",
    "function",
    "builtin_function_or_method",
    "instance",
    "_Feature"
   ],
   "window_display": true
  }
 },
 "nbformat": 4,
 "nbformat_minor": 2
}
