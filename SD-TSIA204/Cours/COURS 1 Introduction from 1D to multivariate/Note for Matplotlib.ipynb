{
 "cells": [
  {
   "cell_type": "markdown",
   "metadata": {},
   "source": [
    "# Python 学习笔记"
   ]
  },
  {
   "cell_type": "code",
   "execution_count": 1,
   "metadata": {},
   "outputs": [],
   "source": [
    "import matplotlib.pyplot as plt\n",
    "import numpy as np"
   ]
  },
  {
   "cell_type": "markdown",
   "metadata": {},
   "source": [
    "## <code>Line2D</code> 基本属性"
   ]
  },
  {
   "cell_type": "markdown",
   "metadata": {},
   "source": [
    "|Property|Value Type|Description|\n",
    "|:-------|:--------:|:---------:|\n",
    "|alpha|float|透明度|\n",
    "|antialiased|\\[True or False\\]|抗锯齿|\n",
    "|linestyle or ls|see table|线形|\n",
    "|linewidth or lw|float value in points|线宽|\n",
    "|marker|see table|标记符|\n",
    "|markersize or ms |\tfloat| 标记符大小|\n",
    "|markeredgewidth of mew| flot value in point |标记符边缘线宽\n",
    "|markerfacecolor or mfc| any matplotlib color|标记颜色\n",
    "|markerfacecoloralt or mfcalt| any matplotlib color|标记可选颜色\n",
    "|markeredgecolor or mec| any matplotlib color|标记边缘颜色\n",
    "|xdata|1D array|x轴坐标|\n",
    "|ydata|1D array|y轴坐标|\n"
   ]
  },
  {
   "cell_type": "markdown",
   "metadata": {},
   "source": [
    "| Linestyle   | Description| \n",
    "|:-------------|:-------:|\n",
    "| '-'   or 'solide'   |  solid line |\n",
    "| '--'  or 'dashed'   |  dashed line |\n",
    "| '-.'  or 'dashdot'  | dash_doted line|\n",
    "| '.'   or 'dotted'   | dotted line | \n",
    "| 'None'or ' ' or ''  | draw nothing |\n",
    "\n",
    "| marker | Description      ||marker|Description \n",
    "|--------|--------      ||-------|-----------|\n",
    "|'.'     | point            ||','| 'pixel'|\n",
    "|'o'     | circle           ||'v'| 'triangle_down'|\n",
    "|'^'     | 'triangle_up'    ||'<'| 'triangle_left'|\n",
    "|'>'     | 'triangle_right' ||'1'     | 'tri_down'|\n",
    "|'2'     | 'tri_up'         ||'3'     | 'tri_left'|\n",
    "|'4'     | 'tri_right'      ||'8'     | 'octagon'|\n",
    "|'s'     | 'square'         ||'p'     | 'pentagon'|\n",
    "|'*'     | 'star'           ||'h'     | 'hexagon1'|\n",
    "|'H'     | 'hexagon2'       ||'+'     | 'plus'|\n",
    "|'x'     | 'x'              ||'D'     | 'diamond'|\n",
    "|'d'     | 'thin_diamond'   ||'&brvbar;'     | 'vline'|\n",
    "|'_'     | 'hline'          ||'P'      | 'plus_filled'| \n",
    "|'X'     | 'x_filled'       ||0       | 'tickleft'       | \n",
    "|1       | 'tickright'      ||2       | 'tickup'         | \n",
    "|3       | 'tickdown'       ||4       | 'caretleft'      | \n",
    "|5       | 'caretright'     ||6       | 'caretup'        | \n",
    "|7       | 'caretdown'      ||8       | 'caretleftbase'  | \n",
    "|9       | 'caretrightbase' ||10      | 'caretupbase'    | \n",
    "|11      | 'caretdownbase'  ||'None'  | 'nothing'        | \n",
    "|None    | 'nothing'        ||' '     | 'nothing'        | \n",
    "|''      | 'nothing'        |"
   ]
  },
  {
   "cell_type": "markdown",
   "metadata": {},
   "source": [
    "## puplot.legend 用法\n",
    "函数原型\n",
    "<code> legend(handles, labels,**kwargs)</code>\n",
    "\n",
    "功能： 为图像增加legend(图例)\n",
    "参数：\n",
    "- handlers 由line组成的数组或者元组，用来设置图例中显示的线形\n",
    "- labels 字符串数组，用来设置与线对应的文字\n",
    "- kwargs 参数列表\n",
    "\n",
    "- numpoints: int类型，如果线形有marker，该参数用于设置图例中显示的marker个数\n",
    "- loc: legend 的位置， 可能数值\n",
    "<table>\n",
    "<thead>\n",
    "<tr>\n",
    "<th>位置字符串</th>\n",
    "<th>位置代码</th>\n",
    "</tr>\n",
    "</thead>\n",
    "<tbody>\n",
    "<tr>\n",
    "<td><code>'best'</code></td>\n",
    "<td><code>0</code></td>\n",
    "</tr>\n",
    "<tr>\n",
    "<td><code>'upper right'</code></td>\n",
    "<td><code>1</code></td>\n",
    "</tr>\n",
    "<tr>\n",
    "<td><code>'upper left'</code></td>\n",
    "<td><code>2</code></td>\n",
    "</tr>\n",
    "<tr>\n",
    "<td><code>'lower left'</code></td>\n",
    "<td><code>3</code></td>\n",
    "</tr>\n",
    "<tr>\n",
    "<td><code>'lower right'</code></td>\n",
    "<td><code>4</code></td>\n",
    "</tr>\n",
    "<tr>\n",
    "<td><code>'right'</code></td>\n",
    "<td><code>5</code></td>\n",
    "</tr>\n",
    "<tr>\n",
    "<td><code>'center left'</code></td>\n",
    "<td><code>6</code></td>\n",
    "</tr>\n",
    "<tr>\n",
    "<td><code>'center right'</code></td>\n",
    "<td><code>7</code></td>\n",
    "</tr>\n",
    "<tr>\n",
    "<td><code>'lower center'</code></td>\n",
    "<td><code>8</code></td>\n",
    "</tr>\n",
    "<tr>\n",
    "<td><code>'upper center'</code></td>\n",
    "<td><code>9</code></td>\n",
    "</tr>\n",
    "<tr>\n",
    "<td><code>'center'</code></td>\n",
    "<td><code>10</code></td>\n",
    "</tr>\n",
    "</tbody>\n",
    "</table>\n",
    "\n"
   ]
  },
  {
   "cell_type": "markdown",
   "metadata": {},
   "source": [
    "## <code>pyplot.stem</code> 用法"
   ]
  },
  {
   "cell_type": "markdown",
   "metadata": {},
   "source": [
    "### 函数原型"
   ]
  },
  {
   "cell_type": "raw",
   "metadata": {},
   "source": [
    "stem(y| linefmt='b-'| markerfmt='bo'| basefmt='r-') \n",
    "stem(x| y| linefmt='b-'| markerfmt='bo'| basefmt='r-')"
   ]
  },
  {
   "cell_type": "markdown",
   "metadata": {},
   "source": [
    "功能： 在基线上，从x坐标对应点画从基线到对应y坐标值得垂线段，并在线段末端放置标记图形. \n",
    "\n",
    "参数：\n",
    "- <code>linefmt</code> 决定垂直线段的颜色形状\n",
    "- <code>markerfmt</code> 决定标记的颜色形状\n",
    "- <code>basefmt</code> 决定基线的颜色形状\n",
    "    "
   ]
  },
  {
   "cell_type": "code",
   "execution_count": 3,
   "metadata": {},
   "outputs": [
    {
     "data": {
      "image/png": "[encoded data removed]",
      "text/plain": [
       "<matplotlib.figure.Figure at 0x1d70e54b438>"
      ]
     },
     "metadata": {},
     "output_type": "display_data"
    }
   ],
   "source": [
    "x = np.linspace(0.1, 2 * np.pi, 10)\n",
    "markerline, stemlines, baseline = plt.stem(x, np.cos(x), markerfmt = 'ro',linefmt ='-.' )\n",
    "plt.show()"
   ]
  },
  {
   "cell_type": "markdown",
   "metadata": {},
   "source": [
    "返回值：\n",
    "- markerline 由标志点组成的线段对象(上图红点组成的线段)\n",
    "- stemlines 该返回值为一个由<code>Line2D</code>对象组成的<code>list</code>，每个<code>Line2D</code>对象代表上图的一条垂直线段\n",
    "- baseline 该数组返回一个<code>Line2D</code>对象，该对象保存基线信息\n",
    "我们可以通过<code>pyplot.setp()</code>设置各个线段的样式"
   ]
  },
  {
   "cell_type": "code",
   "execution_count": 4,
   "metadata": {},
   "outputs": [
    {
     "data": {
      "image/png": "[encoded data removed]",
      "text/plain": [
       "<matplotlib.figure.Figure at 0x1d70e886780>"
      ]
     },
     "metadata": {},
     "output_type": "display_data"
    }
   ],
   "source": [
    "x = np.linspace(0.1, 2 * np.pi, 10)\n",
    "markerline, stemlines, baseline = plt.stem(x, np.cos(x), markerfmt = 'ro',linefmt ='-.' )\n",
    "plt.setp(markerline, linestyle=':', markeredgewidth=2, marker = 'o', markersize = 10,\n",
    "        markeredgecolor = 'red', markerfacecolor= 'orange', markerfacecoloralt = 'green')\n",
    "plt.show()"
   ]
  },
  {
   "cell_type": "code",
   "execution_count": null,
   "metadata": {},
   "outputs": [],
   "source": []
  }
 ],
 "metadata": {
  "kernelspec": {
   "display_name": "Python 3",
   "language": "python",
   "name": "python3"
  },
  "language_info": {
   "codemirror_mode": {
    "name": "ipython",
    "version": 3
   },
   "file_extension": ".py",
   "mimetype": "text/x-python",
   "name": "python",
   "nbconvert_exporter": "python",
   "pygments_lexer": "ipython3",
   "version": "3.6.3"
  }
 },
 "nbformat": 4,
 "nbformat_minor": 2
}
